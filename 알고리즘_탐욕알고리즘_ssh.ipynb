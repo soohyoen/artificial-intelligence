{
  "nbformat": 4,
  "nbformat_minor": 0,
  "metadata": {
    "colab": {
      "name": "알고리즘_탐욕알고리즘_ssh.ipynb",
      "provenance": [],
      "collapsed_sections": [],
      "authorship_tag": "ABX9TyNFrw+tcRDjfrfe4M33SrNM",
      "include_colab_link": true
    },
    "kernelspec": {
      "name": "python3",
      "display_name": "Python 3"
    },
    "language_info": {
      "name": "python"
    }
  },
  "cells": [
    {
      "cell_type": "markdown",
      "metadata": {
        "id": "view-in-github",
        "colab_type": "text"
      },
      "source": [
        "<a href=\"https://colab.research.google.com/github/soohyoen/artificial-intelligence/blob/main/%EC%95%8C%EA%B3%A0%EB%A6%AC%EC%A6%98_%ED%83%90%EC%9A%95%EC%95%8C%EA%B3%A0%EB%A6%AC%EC%A6%98_ssh.ipynb\" target=\"_parent\"><img src=\"https://colab.research.google.com/assets/colab-badge.svg\" alt=\"Open In Colab\"/></a>"
      ]
    },
    {
      "cell_type": "code",
      "metadata": {
        "colab": {
          "base_uri": "https://localhost:8080/"
        },
        "id": "9jkjVAA2dUnb",
        "outputId": "e6278320-2c54-4e1e-b452-47225a678ada"
      },
      "source": [
        "general = [500,100,50,10,5,1]\n",
        "\n",
        "cost = int(input('물건의 가격'))\n",
        "\n",
        "i = 0\n",
        "\n",
        "else_cost = 0\n",
        "\n",
        "general_count = 0\n",
        "\n",
        "for j in range(len(general)):\n",
        "  if cost // general[i] >= 0 :\n",
        "    general_count += cost//general[i]\n",
        "    cost - (general_count*general[i])\n",
        "  elif cost // general[i] == 0 :\n",
        "    i += 1\n",
        "\n",
        "print(general_count)\n"
      ],
      "execution_count": null,
      "outputs": [
        {
          "output_type": "stream",
          "text": [
            "물건의 가격380\n",
            "0\n"
          ],
          "name": "stdout"
        }
      ]
    },
    {
      "cell_type": "code",
      "metadata": {
        "colab": {
          "base_uri": "https://localhost:8080/"
        },
        "id": "lvrkoNywfsCs",
        "outputId": "aab38ef0-b2b4-4432-d7c3-82c01f6b4871"
      },
      "source": [
        "general = [500,100,50,10,5,1]\n",
        "\n",
        "cost = int(input('물건의 가격: '))\n",
        "cost = 1000 - cost\n",
        "\n",
        "general_count = 0\n",
        "\n",
        "general_count_2 = 0\n",
        "\n",
        "for i in range(len(general)):\n",
        "  if cost// general[i] >= 1 :\n",
        "    general_count += cost// general[i]\n",
        "    general_count_2 = cost// general[i]\n",
        "    cost = cost - (general_count_2 * general[i])\n",
        "  elif cost// general[i] == 0 :\n",
        "    pass\n",
        "print(general_count)\n"
      ],
      "execution_count": null,
      "outputs": [
        {
          "output_type": "stream",
          "text": [
            "물건의 가격380\n",
            "4\n"
          ],
          "name": "stdout"
        }
      ]
    },
    {
      "cell_type": "code",
      "metadata": {
        "colab": {
          "base_uri": "https://localhost:8080/"
        },
        "id": "p81nElttih5u",
        "outputId": "5c714b80-a93f-4ab6-b9bb-69a8f269fc74"
      },
      "source": [
        "general = []\n",
        "\n",
        "a, cost = map(int, input('숫자 두 개를 입력하세요: ').split())\n",
        "\n",
        "\n",
        "for i in range(a):\n",
        "  c = int(input())\n",
        "  general.append(c)\n",
        "\n",
        "general.sort(reverse=True)\n",
        "\n",
        "general_count = 0\n",
        "\n",
        "general_count_2 = 0\n",
        "\n",
        "for i in range(len(general)):\n",
        "  if cost// general[i] >= 1 :\n",
        "    general_count += cost// general[i]\n",
        "    general_count_2 = cost// general[i]\n",
        "    cost = cost - (general_count_2 * general[i])\n",
        "  elif cost// general[i] == 0 :\n",
        "    pass\n",
        "\n",
        "print(general_count)"
      ],
      "execution_count": null,
      "outputs": [
        {
          "output_type": "stream",
          "text": [
            "숫자 두 개를 입력하세요: 10 4790\n",
            "1\n",
            "5\n",
            "10\n",
            "50\n",
            "100\n",
            "500\n",
            "1000\n",
            "5000\n",
            "10000\n",
            "50000\n",
            "12\n"
          ],
          "name": "stdout"
        }
      ]
    },
    {
      "cell_type": "code",
      "metadata": {
        "colab": {
          "base_uri": "https://localhost:8080/"
        },
        "id": "MFNSPnFylqbc",
        "outputId": "30eb07ec-5c21-4660-e46a-17e82f615779"
      },
      "source": [
        "a = int(input('회의의 갯수를 입력하시오.: '))\n",
        "\n",
        "meeting_time_list = []\n",
        "start_time_list = []\n",
        "finish_time_list = []\n",
        "\n",
        "for i in range(a):\n",
        "  start , finish = map(int, input('시작 시간과 끝나는 시간을 입력하시오. : ').split())\n",
        "  meeting_time_list.append([start,finish])\n",
        "  start_time_list.append(start)\n",
        "  finish_time_list.append(finish)\n",
        "\n",
        "print(meeting_time_list)"
      ],
      "execution_count": null,
      "outputs": [
        {
          "output_type": "stream",
          "text": [
            "회의의 갯수를 입력하시오.: 11\n",
            "시작 시간과 끝나는 시간을 입력하시오. : 1 4\n",
            "시작 시간과 끝나는 시간을 입력하시오. : 3 5\n",
            "시작 시간과 끝나는 시간을 입력하시오. : 0 6\n",
            "시작 시간과 끝나는 시간을 입력하시오. : 5 7\n",
            "시작 시간과 끝나는 시간을 입력하시오. : 3 8\n",
            "시작 시간과 끝나는 시간을 입력하시오. : 5 9\n",
            "시작 시간과 끝나는 시간을 입력하시오. : 6 10\n",
            "시작 시간과 끝나는 시간을 입력하시오. : 8 11\n",
            "시작 시간과 끝나는 시간을 입력하시오. : 8 12\n",
            "시작 시간과 끝나는 시간을 입력하시오. : 2 13\n",
            "시작 시간과 끝나는 시간을 입력하시오. : 12 14\n",
            "[[1, 4], [3, 5], [0, 6], [5, 7], [3, 8], [5, 9], [6, 10], [8, 11], [8, 12], [2, 13], [12, 14]]\n"
          ],
          "name": "stdout"
        }
      ]
    },
    {
      "cell_type": "code",
      "metadata": {
        "id": "bzl96bCDtw7G",
        "colab": {
          "base_uri": "https://localhost:8080/"
        },
        "outputId": "fb5845d2-3e1c-4a62-a315-abe21354b132"
      },
      "source": [
        "fin_min = min(finish_time_list)\n",
        "fin_min_index = finish_time_list.index(fin_min)\n",
        "fin_min_list = meeting_time_list[fin_min_index]\n",
        "\n",
        "\n",
        "count = 1\n",
        "\n",
        "for i,j in meeting_time_list:\n",
        "  if fin_min_list[1] <= i:\n",
        "    next_list.append([i,j])\n",
        "\n",
        "\n",
        "\n"
      ],
      "execution_count": null,
      "outputs": [
        {
          "output_type": "stream",
          "text": [
            "[[12, 14], [5, 7], [5, 9], [6, 10], [8, 11], [8, 12], [12, 14], [5, 7], [5, 9], [6, 10], [8, 11], [8, 12], [12, 14], [5, 7], [5, 9], [6, 10], [8, 11], [8, 12], [12, 14]]\n"
          ],
          "name": "stdout"
        }
      ]
    },
    {
      "cell_type": "code",
      "metadata": {
        "colab": {
          "base_uri": "https://localhost:8080/"
        },
        "id": "j1Kgd-eXC3zl",
        "outputId": "1873adb8-d26b-4463-9495-e380523dfefc"
      },
      "source": [
        "a = [[1,3],[1,4]]\n",
        "min(a)"
      ],
      "execution_count": null,
      "outputs": [
        {
          "output_type": "execute_result",
          "data": {
            "text/plain": [
              "[1, 3]"
            ]
          },
          "metadata": {},
          "execution_count": 20
        }
      ]
    },
    {
      "cell_type": "code",
      "metadata": {
        "id": "PZeFkNAvKEva"
      },
      "source": [
        "# 11\n",
        "# 1 4\n",
        "# 3 5\n",
        "# 0 6\n",
        "# 5 7\n",
        "# 3 8\n",
        "# 5 9\n",
        "# 6 10\n",
        "# 8 12\n",
        "# 8 11\n",
        "# 2 13\n",
        "# 12 14\n",
        "\n",
        "n = int(input())\n",
        "meet_times = []\n",
        "\n",
        "for _ in range(n):\n",
        "    start_time, end_time = map(int, input().split())\n",
        "    \n",
        "    # meet_times.append((start_time, end_time))\n",
        "    # meet_times.append({\"start\":start_time, \"end\":end_time})\n",
        "    meet_times.append((end_time, start_time))\n",
        "\n",
        "print(meet_times)\n",
        "# meet_times.sort(key=lambda x: [x[1], x[0]])\n",
        "# meet_times.sort(key=lambda x: [x[\"end\"], x[\"start\"]])\n",
        "meet_times.sort()\n",
        "print(meet_times)\n",
        "\n",
        "result_meet_cnt = 1\n",
        "last_meet_end_time = meet_times[0][0]\n",
        "# print(meet_times[0][::-1])\n",
        "\n",
        "for meet in meet_times[1:]:\n",
        "    end_time, start_time = meet\n",
        "\n",
        "    if last_meet_end_time <= start_time:\n",
        "        result_meet_cnt += 1\n",
        "        last_meet_end_time = end_time\n",
        "        # print(meet[::-1])\n",
        "    \n",
        "print(result_meet_cnt)"
      ],
      "execution_count": null,
      "outputs": []
    }
  ]
}