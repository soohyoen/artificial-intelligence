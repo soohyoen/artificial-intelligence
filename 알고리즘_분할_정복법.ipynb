{
  "nbformat": 4,
  "nbformat_minor": 0,
  "metadata": {
    "colab": {
      "name": "알고리즘_분할 정복법.ipynb",
      "provenance": [],
      "collapsed_sections": [],
      "authorship_tag": "ABX9TyMFw43a381yd2v3kT5Hrwtn",
      "include_colab_link": true
    },
    "kernelspec": {
      "name": "python3",
      "display_name": "Python 3"
    },
    "language_info": {
      "name": "python"
    }
  },
  "cells": [
    {
      "cell_type": "markdown",
      "metadata": {
        "id": "view-in-github",
        "colab_type": "text"
      },
      "source": [
        "<a href=\"https://colab.research.google.com/github/soohyoen/artificial-intelligence/blob/main/%EC%95%8C%EA%B3%A0%EB%A6%AC%EC%A6%98_%EB%B6%84%ED%95%A0_%EC%A0%95%EB%B3%B5%EB%B2%95.ipynb\" target=\"_parent\"><img src=\"https://colab.research.google.com/assets/colab-badge.svg\" alt=\"Open In Colab\"/></a>"
      ]
    },
    {
      "cell_type": "code",
      "metadata": {
        "colab": {
          "base_uri": "https://localhost:8080/"
        },
        "id": "5318yDGJa2tP",
        "outputId": "6cc31833-7291-48dd-b0d6-c13df60513ce"
      },
      "source": [
        "a_number = int(input())\n",
        "a = list(map(int,input().split()))\n",
        "b_number = int(input())\n",
        "b = list(map(int,input().split()))\n",
        "\n",
        "a.sort()"
      ],
      "execution_count": null,
      "outputs": [
        {
          "output_type": "stream",
          "text": [
            "5\n",
            "1 2 3 4 5\n",
            "5\n",
            "1 2 3 1 2\n"
          ],
          "name": "stdout"
        }
      ]
    },
    {
      "cell_type": "code",
      "metadata": {
        "colab": {
          "base_uri": "https://localhost:8080/"
        },
        "id": "icrTD28tb2T6",
        "outputId": "5b75d04a-3dec-49fb-afd6-b7a8ebee01bd"
      },
      "source": [
        "a_number = int(input())\n",
        "a = list(map(int,input().split()))\n",
        "b_number = int(input())\n",
        "b = list(map(int,input().split()))\n",
        "\n",
        "a.sort()\n",
        "\n",
        "def binary(target):\n",
        "  left = 0\n",
        "  right = b_number-1\n",
        "  while left>=right :\n",
        "      middle = (left+right)//2\n",
        "      if a[middle] == target:\n",
        "        return True\n",
        "      elif a[middle] > target:\n",
        "        right = middle -1\n",
        "      elif a[middle] < target:\n",
        "        left = middle + 1\n",
        "\n",
        "for i in range(b_number):\n",
        "    if binary(b[i]):\n",
        "        print(1)\n",
        "    else:\n",
        "        print(0)"
      ],
      "execution_count": null,
      "outputs": [
        {
          "output_type": "stream",
          "text": [
            "5\n",
            "1 4 5 3 2\n",
            "5\n",
            "1 0 2 3 5\n",
            "0\n",
            "0\n",
            "0\n",
            "0\n",
            "0\n"
          ],
          "name": "stdout"
        }
      ]
    },
    {
      "cell_type": "markdown",
      "metadata": {
        "id": "osexV3rzMIWl"
      },
      "source": [
        "강사님 풀이"
      ]
    },
    {
      "cell_type": "code",
      "metadata": {
        "id": "8QI-RgjwfNOO"
      },
      "source": [
        "# 5\n",
        "# 4 1 5 2 3\n",
        "# 5\n",
        "# 1 3 7 9 5\n",
        "\n",
        "n = int(input())\n",
        "num_list = list(map(int, input().split()))\n",
        "num_list.sort() # n log n => 100000 log 100000 => 1660964...\n",
        "\n",
        "m = int(input())\n",
        "\n",
        "for target_num in map(int, input().split()): # 100000\n",
        "    # 0 1 2 3 4 5 6\n",
        "    # 0 1 2 3\n",
        "\n",
        "    find_result = 0\n",
        "    start_idx = 0\n",
        "    end_idx = n-1\n",
        "\n",
        "    while start_idx <= end_idx:\n",
        "        mid_idx = (start_idx+end_idx) // 2\n",
        "\n",
        "        if num_list[mid_idx] > target_num:\n",
        "            end_idx = mid_idx-1\n",
        "        elif num_list[mid_idx] < target_num:\n",
        "            start_idx = mid_idx+1\n",
        "        else:\n",
        "            find_result = 1 # print(mid_idx)\n",
        "            break\n",
        "    \n",
        "    print(find_result)"
      ],
      "execution_count": null,
      "outputs": []
    },
    {
      "cell_type": "markdown",
      "metadata": {
        "id": "Npx4LCU5MNOd"
      },
      "source": [
        "병합 정렬(mergy sort)"
      ]
    },
    {
      "cell_type": "code",
      "metadata": {
        "id": "uZo-gAe7MMqe"
      },
      "source": [
        "def merge_sort(unsorted_list):\n",
        "  if len(unsorted_list) <= 1:\n",
        "    return unsorted_list\n",
        "\n",
        "  mid = len(unsorted_list)//2\n",
        "  left = unsorted_list[:mid]\n",
        "  right = unsorted_list[mid:]\n",
        "\n",
        "  left1 =merge_sort(left)\n",
        "  right1 = merge_sort(right)\n",
        "  return merge(left1,right1)"
      ],
      "execution_count": 3,
      "outputs": []
    },
    {
      "cell_type": "code",
      "metadata": {
        "id": "e8KrYLbgR75F"
      },
      "source": [
        "def merge(left,right):\n",
        "  i = 0\n",
        "  j = 0\n",
        "  sorted_list = []\n",
        "\n",
        "  while (i<len(left)) and (j<len(right)):\n",
        "    if left[i]<right[j]:\n",
        "      sorted_list.append(left[i])\n",
        "      i += 1\n",
        "    else:\n",
        "      sorted_list.append(right[j])\n",
        "      j += 1\n",
        "\n",
        "  while (i<len(left)):\n",
        "    sorted_list.append(left[i])\n",
        "    i += 1\n",
        "  \n",
        "  while (j<len(left)):\n",
        "    sorted_list.append(left[j])\n",
        "    j += 1\n",
        "\n",
        "  return sorted_list"
      ],
      "execution_count": 7,
      "outputs": []
    },
    {
      "cell_type": "code",
      "metadata": {
        "colab": {
          "base_uri": "https://localhost:8080/"
        },
        "id": "PoqmIUTsStpr",
        "outputId": "0208ef47-0132-47c8-e890-adbb76cc9b79"
      },
      "source": [
        "print(merge_sort([5,5,4,3,2,1]))"
      ],
      "execution_count": 8,
      "outputs": [
        {
          "output_type": "stream",
          "text": [
            "[1]\n"
          ],
          "name": "stdout"
        }
      ]
    },
    {
      "cell_type": "code",
      "metadata": {
        "id": "HpJ0H3OxS1eS"
      },
      "source": [
        ""
      ],
      "execution_count": null,
      "outputs": []
    }
  ]
}