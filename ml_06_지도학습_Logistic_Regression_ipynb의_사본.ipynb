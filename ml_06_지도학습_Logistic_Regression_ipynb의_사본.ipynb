{
  "nbformat": 4,
  "nbformat_minor": 0,
  "metadata": {
    "colab": {
      "name": "ml_06_지도학습_Logistic_Regression.ipynb의 사본",
      "provenance": [],
      "collapsed_sections": [],
      "include_colab_link": true
    },
    "kernelspec": {
      "name": "python3",
      "display_name": "Python 3"
    }
  },
  "cells": [
    {
      "cell_type": "markdown",
      "metadata": {
        "id": "view-in-github",
        "colab_type": "text"
      },
      "source": [
        "<a href=\"https://colab.research.google.com/github/soohyoen/artificial-intelligence/blob/main/ml_06_%EC%A7%80%EB%8F%84%ED%95%99%EC%8A%B5_Logistic_Regression_ipynb%EC%9D%98_%EC%82%AC%EB%B3%B8.ipynb\" target=\"_parent\"><img src=\"https://colab.research.google.com/assets/colab-badge.svg\" alt=\"Open In Colab\"/></a>"
      ]
    },
    {
      "cell_type": "code",
      "metadata": {
        "id": "uehYfWPRpIeE",
        "colab": {
          "base_uri": "https://localhost:8080/"
        },
        "outputId": "feb121c3-1fa9-4c0a-8fba-69d4c2ddb9b9"
      },
      "source": [
        "!pip install mglearn"
      ],
      "execution_count": 1,
      "outputs": [
        {
          "output_type": "stream",
          "text": [
            "Collecting mglearn\n",
            "  Downloading mglearn-0.1.9.tar.gz (540 kB)\n",
            "\u001b[?25l\r\u001b[K     |▋                               | 10 kB 13.2 MB/s eta 0:00:01\r\u001b[K     |█▏                              | 20 kB 14.9 MB/s eta 0:00:01\r\u001b[K     |█▉                              | 30 kB 18.2 MB/s eta 0:00:01\r\u001b[K     |██▍                             | 40 kB 20.7 MB/s eta 0:00:01\r\u001b[K     |███                             | 51 kB 23.6 MB/s eta 0:00:01\r\u001b[K     |███▋                            | 61 kB 23.8 MB/s eta 0:00:01\r\u001b[K     |████▎                           | 71 kB 21.9 MB/s eta 0:00:01\r\u001b[K     |████▉                           | 81 kB 13.2 MB/s eta 0:00:01\r\u001b[K     |█████▌                          | 92 kB 14.2 MB/s eta 0:00:01\r\u001b[K     |██████                          | 102 kB 15.3 MB/s eta 0:00:01\r\u001b[K     |██████▊                         | 112 kB 15.3 MB/s eta 0:00:01\r\u001b[K     |███████▎                        | 122 kB 15.3 MB/s eta 0:00:01\r\u001b[K     |███████▉                        | 133 kB 15.3 MB/s eta 0:00:01\r\u001b[K     |████████▌                       | 143 kB 15.3 MB/s eta 0:00:01\r\u001b[K     |█████████                       | 153 kB 15.3 MB/s eta 0:00:01\r\u001b[K     |█████████▊                      | 163 kB 15.3 MB/s eta 0:00:01\r\u001b[K     |██████████▎                     | 174 kB 15.3 MB/s eta 0:00:01\r\u001b[K     |███████████                     | 184 kB 15.3 MB/s eta 0:00:01\r\u001b[K     |███████████▌                    | 194 kB 15.3 MB/s eta 0:00:01\r\u001b[K     |████████████▏                   | 204 kB 15.3 MB/s eta 0:00:01\r\u001b[K     |████████████▊                   | 215 kB 15.3 MB/s eta 0:00:01\r\u001b[K     |█████████████▍                  | 225 kB 15.3 MB/s eta 0:00:01\r\u001b[K     |██████████████                  | 235 kB 15.3 MB/s eta 0:00:01\r\u001b[K     |██████████████▋                 | 245 kB 15.3 MB/s eta 0:00:01\r\u001b[K     |███████████████▏                | 256 kB 15.3 MB/s eta 0:00:01\r\u001b[K     |███████████████▊                | 266 kB 15.3 MB/s eta 0:00:01\r\u001b[K     |████████████████▍               | 276 kB 15.3 MB/s eta 0:00:01\r\u001b[K     |█████████████████               | 286 kB 15.3 MB/s eta 0:00:01\r\u001b[K     |█████████████████▋              | 296 kB 15.3 MB/s eta 0:00:01\r\u001b[K     |██████████████████▏             | 307 kB 15.3 MB/s eta 0:00:01\r\u001b[K     |██████████████████▉             | 317 kB 15.3 MB/s eta 0:00:01\r\u001b[K     |███████████████████▍            | 327 kB 15.3 MB/s eta 0:00:01\r\u001b[K     |████████████████████            | 337 kB 15.3 MB/s eta 0:00:01\r\u001b[K     |████████████████████▋           | 348 kB 15.3 MB/s eta 0:00:01\r\u001b[K     |█████████████████████▎          | 358 kB 15.3 MB/s eta 0:00:01\r\u001b[K     |█████████████████████▉          | 368 kB 15.3 MB/s eta 0:00:01\r\u001b[K     |██████████████████████▌         | 378 kB 15.3 MB/s eta 0:00:01\r\u001b[K     |███████████████████████         | 389 kB 15.3 MB/s eta 0:00:01\r\u001b[K     |███████████████████████▋        | 399 kB 15.3 MB/s eta 0:00:01\r\u001b[K     |████████████████████████▎       | 409 kB 15.3 MB/s eta 0:00:01\r\u001b[K     |████████████████████████▉       | 419 kB 15.3 MB/s eta 0:00:01\r\u001b[K     |█████████████████████████▌      | 430 kB 15.3 MB/s eta 0:00:01\r\u001b[K     |██████████████████████████      | 440 kB 15.3 MB/s eta 0:00:01\r\u001b[K     |██████████████████████████▊     | 450 kB 15.3 MB/s eta 0:00:01\r\u001b[K     |███████████████████████████▎    | 460 kB 15.3 MB/s eta 0:00:01\r\u001b[K     |████████████████████████████    | 471 kB 15.3 MB/s eta 0:00:01\r\u001b[K     |████████████████████████████▌   | 481 kB 15.3 MB/s eta 0:00:01\r\u001b[K     |█████████████████████████████▏  | 491 kB 15.3 MB/s eta 0:00:01\r\u001b[K     |█████████████████████████████▊  | 501 kB 15.3 MB/s eta 0:00:01\r\u001b[K     |██████████████████████████████▍ | 512 kB 15.3 MB/s eta 0:00:01\r\u001b[K     |███████████████████████████████ | 522 kB 15.3 MB/s eta 0:00:01\r\u001b[K     |███████████████████████████████▌| 532 kB 15.3 MB/s eta 0:00:01\r\u001b[K     |████████████████████████████████| 540 kB 15.3 MB/s \n",
            "\u001b[?25hRequirement already satisfied: numpy in /usr/local/lib/python3.7/dist-packages (from mglearn) (1.19.5)\n",
            "Requirement already satisfied: matplotlib in /usr/local/lib/python3.7/dist-packages (from mglearn) (3.2.2)\n",
            "Requirement already satisfied: scikit-learn in /usr/local/lib/python3.7/dist-packages (from mglearn) (0.22.2.post1)\n",
            "Requirement already satisfied: pandas in /usr/local/lib/python3.7/dist-packages (from mglearn) (1.1.5)\n",
            "Requirement already satisfied: pillow in /usr/local/lib/python3.7/dist-packages (from mglearn) (7.1.2)\n",
            "Requirement already satisfied: cycler in /usr/local/lib/python3.7/dist-packages (from mglearn) (0.10.0)\n",
            "Requirement already satisfied: imageio in /usr/local/lib/python3.7/dist-packages (from mglearn) (2.4.1)\n",
            "Requirement already satisfied: joblib in /usr/local/lib/python3.7/dist-packages (from mglearn) (1.0.1)\n",
            "Requirement already satisfied: six in /usr/local/lib/python3.7/dist-packages (from cycler->mglearn) (1.15.0)\n",
            "Requirement already satisfied: python-dateutil>=2.1 in /usr/local/lib/python3.7/dist-packages (from matplotlib->mglearn) (2.8.1)\n",
            "Requirement already satisfied: kiwisolver>=1.0.1 in /usr/local/lib/python3.7/dist-packages (from matplotlib->mglearn) (1.3.1)\n",
            "Requirement already satisfied: pyparsing!=2.0.4,!=2.1.2,!=2.1.6,>=2.0.1 in /usr/local/lib/python3.7/dist-packages (from matplotlib->mglearn) (2.4.7)\n",
            "Requirement already satisfied: pytz>=2017.2 in /usr/local/lib/python3.7/dist-packages (from pandas->mglearn) (2018.9)\n",
            "Requirement already satisfied: scipy>=0.17.0 in /usr/local/lib/python3.7/dist-packages (from scikit-learn->mglearn) (1.4.1)\n",
            "Building wheels for collected packages: mglearn\n",
            "  Building wheel for mglearn (setup.py) ... \u001b[?25l\u001b[?25hdone\n",
            "  Created wheel for mglearn: filename=mglearn-0.1.9-py2.py3-none-any.whl size=582638 sha256=74ba87b08ad0a6c6e16506ac088a678438cc57315d66f3bb44c80e55b4dbd1ed\n",
            "  Stored in directory: /root/.cache/pip/wheels/f1/17/e1/1720d6dcd70187b6b6c3750cb3508798f2b1d57c9d3214b08b\n",
            "Successfully built mglearn\n",
            "Installing collected packages: mglearn\n",
            "Successfully installed mglearn-0.1.9\n"
          ],
          "name": "stdout"
        }
      ]
    },
    {
      "cell_type": "markdown",
      "metadata": {
        "id": "fqtThQICqqv7"
      },
      "source": [
        "# Logistic Regression\n"
      ]
    },
    {
      "cell_type": "markdown",
      "metadata": {
        "id": "nX5PtcYjFCja"
      },
      "source": [
        "선형 회귀로 풀리지 않는 문제 -> 독립변수와 종속변수가 비선형 관계인 경우\n",
        "\n",
        " <img src=\"https://www.geogebra.org/resource/SYzqYk7Y/xIOqFXlBGbAVa8OG/material-SYzqYk7Y.png\" alt=\"비선형1\" width=\"40%\" />\n",
        "\n",
        "  <img src=\"https://upload.wikimedia.org/wikipedia/commons/thumb/5/55/Polynomialdeg5.svg/1200px-Polynomialdeg5.svg.png\" alt=\"비선형2\" width=\"40%\" />\n",
        "\n",
        "\n"
      ]
    },
    {
      "cell_type": "markdown",
      "metadata": {
        "id": "lzDa8SSNOgnE"
      },
      "source": [
        "공부시간과 합격률의 관계 -> 연속적으로 변하는 공부시간의 결과에 대해 “합격했다” 또는\n",
        "“합격하지 않았다?”의 결과만 필요\n",
        "\n",
        "분류방법 1 -> 선형분류\n",
        "\n",
        "더 나은 분류 방법은?"
      ]
    },
    {
      "cell_type": "markdown",
      "metadata": {
        "id": "5UwPI9RxNGwG"
      },
      "source": [
        "- 1958년 D.R.Cox가 제안한 확률 모델로 <font  color=yellow>독립변수의 선형 결합을 이용하여 종속변수 (사건의 발생 가능성)을 예측</font>하는데 사용되는 통계 기법 \n",
        " - 종속 변수가 <font  color=yellow>범주형 데이터를 대상</font> -> 분류\n",
        "\n",
        "- 선형 회귀는 독립변수 x가 변화할 때 종속변수 y가 어떻게 변하는 지 예측하는 것\n",
        "- 선형 회귀에서 x와 y의 범위 : [-∞, ∞]\n",
        "\n",
        "- 연속적으로 변하는 2개의 결과만을 확인하는 경우\n",
        " - 조사회수가 많아지면 종속 변수 y는 확률로 표현됨\n",
        " - 독립변수의 범위는 [-∞, ∞], 종속변수의 범위는 [0, 1]\n",
        " - 선형회귀를 적용하면 종속변수의 값 범위를 넘어가는 문제가 발생 \n",
        " - 예측정확도 하락 \n",
        " - <font  color=yellow>로지스틱 모형</font> 적용"
      ]
    },
    {
      "cell_type": "markdown",
      "metadata": {
        "id": "-iAwjMWU5vIZ"
      },
      "source": [
        "로지스틱 회귀는 선형 회귀 분석과 유사하지만 종속 변수(y)가 범주형 데이터를 대상으로 하며, 입력 데이터(x)가 주어졌을 때 해당 데이터의 결과가 특정 분류로 나뉘기 때문에 일종의 분류모델 기법으로 사용"
      ]
    },
    {
      "cell_type": "markdown",
      "metadata": {
        "id": "QSnIysMhwS3b"
      },
      "source": [
        "합격을 1, 불합격을 0으로 하는 1과 0사이의 직선은 그리기 어렵움\n",
        " - 참(1)과 거짓(0) 사이를 구분하는 S자 형태의 곡선이면 편리\n",
        "\n",
        "로지스틱 회귀는 선형 회귀와 마찬가지로 적절한 선을 그려가는 과정\n",
        "\n",
        "시그모이드 함수 e(자연상수)는 무리수 값 2.71828...\n",
        " - 파이처럼 상수로 고정된 값"
      ]
    },
    {
      "cell_type": "markdown",
      "metadata": {
        "id": "YNl8I500bhLT"
      },
      "source": [
        "#### 로지스틱 함수 (sigmoid 함수)"
      ]
    },
    {
      "cell_type": "markdown",
      "metadata": {
        "id": "a0rNMSTFRpJN"
      },
      "source": [
        "오즈 (odds) : 성공확률이 실패확률에 비해 몇 배 높은가를 나타냄, 범위 [0, 1]\n",
        "\n",
        "> \\\\( odds=\\frac { p(y) }{ 1-p(y) }  \\\\)\n",
        "\n",
        "로짓 변환 : 오즈에 자연로그를 취한 것으로 입력 값의 범위가 [0, 1] 일 때 출력 값의 범위를 [-∞, ∞]\n",
        "로 조정\n",
        "\n",
        "> \\\\( \\log _{ e } {\\frac { p(y) }{ 1-p(y) }} =\\ln { \\frac { p(y) }{ 1-p(y) }  }  \\\\)\n",
        "\n",
        "로지스틱 함수 (sigmoid 함수) : 독립변수 x가 어느 숫자이든 상관없이 종속 변수의 값의 범위가 항\n",
        "상 [0, 1] 범위에 있도록 함\n",
        "\n",
        "> \\\\( \\ln { \\frac { p(y) }{ 1-p(y) }  }  = z  \\\\) <br>\n",
        "\n",
        "> -> \\\\(  \\frac { p(y) }{ 1-p(y) }   = { e }^{ z  }  \\\\) <br>\n",
        "\n",
        "> -> $ \\\\ \\begin{align}\n",
        "p & = \\frac {  { e }^{ z  }  }{ 1 +  { e }^{ z  }  } \\\\\n",
        "& = \\frac {  1  }{ 1 +  { e }^{(- z)  }  } \n",
        "\\end{align} \\\\ $"
      ]
    },
    {
      "cell_type": "markdown",
      "metadata": {
        "id": "0hZ-mwVKgNlj"
      },
      "source": [
        "#### 로지스틱 회귀 (Logistic Regression)\n",
        "\n",
        "- 간단하면서도 파라미터의 수가 적어서 빠르게 예측\n",
        " - 다른 알고리즘과의 비교 기준점으로 사용\n",
        "- 로지스틱 함수를 사용하여 확률을 추정하며 2 클래스 및 다중 클래스 분류를 위한 강력한 통계 방법으로 빠르고 단순\n",
        "- 직선 대신 S 모양 곡선을 사용한다는 사실 때문에 데이터를 그룹으로 나누는 데 적합\n",
        "- 용도 : 신용 점수, 마케팅 캠페인의 성공률 측정, 특정 제품의 매출 예측률, 특정 날에 지진이 발생할 확률 등\n",
        "\n"
      ]
    },
    {
      "cell_type": "markdown",
      "metadata": {
        "id": "9BRDAd-JSl-S"
      },
      "source": [
        "- 선형 회귀 방식을 분류에 적용한 알고리즘 (선형 회귀 계열)\n",
        "\n",
        "- Linear Regression와 매우 비슷하지만 가중치(w) 합을 사용하는 대신 예측한 값을 임계치 0 과 비교\n",
        "- 계산한 값이 0보다 작은 클래스는 -1, 0보다 크면 +1이라고 예측(분류)\n",
        "\n",
        "- 이 규칙은 Classifier에 쓰이는 모든 Linear model에서 동일\n",
        "- 가장 널리 알려진 두 개의 linear classifier algorithm\n",
        "  1. Logistic Regression\n",
        "  1. Support Vector Classifier의 Linear SVC"
      ]
    },
    {
      "cell_type": "markdown",
      "metadata": {
        "id": "MEb4VcspUvE-"
      },
      "source": [
        "[LogisticRegression()](https://scikit-learn.org/stable/modules/generated/sklearn.linear_model.LogisticRegression.html)\n",
        "```\n",
        "LogisticRegression(penalty, dual, tol, C, fit_intercept, intercept_scaling, class_weight, random_state, solver, max_iter, multi_class, verbose, warm_start, n_jobs, l1_ratio)\n",
        "```\n",
        "- <font  color=yellow> penalty : 규제에 사용 된 기준을 지정 (l1, l2, elasticnet, none) – default : l2 </font>\n",
        "- dual : 이중 또는 초기 공식\n",
        "- tol : 정밀도\n",
        "- <font  color=yellow> C : 규제 강도 </font>\n",
        "- fit_intercept : 모형에 상수항 (절편)이 있는가 없는가를 결정하는 인수 (default : True)\n",
        "- intercept_scaling : 정규화 효과 정도\n",
        "- class_weight : 클래스의 가중치\n",
        "- random_state : 난수 seed 설정\n",
        "- solver : 최적화 문제에 사용하는 알고리즘\n",
        "- max_iter : 계산에 사용할 작업 수\n",
        "- multi_class : 다중 분류 시에 (ovr, multinomial, auto)로 설정\n",
        "- verbose : 동작 과정에 대한 출력 메시지\n",
        "- warm_start : 이전 모델을 초기화로 적합하게 사용할 것인지 여부\n",
        "- n_jobs : 병렬 처리 할 때 사용되는 CPU 코어 수\n",
        "- <font  color=yellow> l1_ratio : L1 규제의 비율(Elastic-Net 믹싱 파라미터 경우에만 사용) </font>"
      ]
    },
    {
      "cell_type": "markdown",
      "metadata": {
        "id": "J_VcBZepHMe8"
      },
      "source": [
        "#### LogisticRegression 실습 01\n",
        "\n",
        "학습시간 대비 합격분류 적용\n"
      ]
    },
    {
      "cell_type": "code",
      "metadata": {
        "id": "eikRZub76Nn5"
      },
      "source": [
        "import numpy as np\n",
        "import pandas as pd\n",
        "import matplotlib.pyplot as plt\n",
        "from sklearn.linear_model import LogisticRegression\n",
        "%matplotlib inline\n",
        "%config InlineBackend.figure_format = 'retina'"
      ],
      "execution_count": null,
      "outputs": []
    },
    {
      "cell_type": "code",
      "metadata": {
        "id": "7y3NizqI6Nn8"
      },
      "source": [
        "# 학습시간 대비 합격 데이터\n",
        "pass_time = [8,9, 9, 9.5, 10, 12, 14, 14.5, 15, 16, 16, 16.5, 17, 17, 17, 17.5,20, 20, 20]\n",
        "fail_time = [1, 2, 2.1,2.6,2.7,2.8,2.9, 3,3.2,3.4,3.5,3.6,3, 5,5.2,5.4]"
      ],
      "execution_count": null,
      "outputs": []
    },
    {
      "cell_type": "code",
      "metadata": {
        "id": "9qXGwqSW6Nn-",
        "colab": {
          "base_uri": "https://localhost:8080/"
        },
        "outputId": "ed46c4e6-a518-41f2-bad1-6d8fa42d458c"
      },
      "source": [
        "# X\n",
        "X = np.hstack((pass_time, fail_time))\n",
        "X"
      ],
      "execution_count": null,
      "outputs": [
        {
          "output_type": "execute_result",
          "data": {
            "text/plain": [
              "array([ 8. ,  9. ,  9. ,  9.5, 10. , 12. , 14. , 14.5, 15. , 16. , 16. ,\n",
              "       16.5, 17. , 17. , 17. , 17.5, 20. , 20. , 20. ,  1. ,  2. ,  2.1,\n",
              "        2.6,  2.7,  2.8,  2.9,  3. ,  3.2,  3.4,  3.5,  3.6,  3. ,  5. ,\n",
              "        5.2,  5.4])"
            ]
          },
          "metadata": {
            "tags": []
          },
          "execution_count": 4
        }
      ]
    },
    {
      "cell_type": "code",
      "metadata": {
        "id": "5oT6X99C6NoB",
        "colab": {
          "base_uri": "https://localhost:8080/"
        },
        "outputId": "d235709a-ef51-4d9a-c2a1-39922b1c2f59"
      },
      "source": [
        "# y\n",
        "y1 = [1] * len(pass_time) # 합격 1\n",
        "y0 = [0] * len(fail_time) # 불합격 0\n",
        "y = np.hstack((y1,y0))\n",
        "y"
      ],
      "execution_count": null,
      "outputs": [
        {
          "output_type": "execute_result",
          "data": {
            "text/plain": [
              "array([1, 1, 1, 1, 1, 1, 1, 1, 1, 1, 1, 1, 1, 1, 1, 1, 1, 1, 1, 0, 0, 0,\n",
              "       0, 0, 0, 0, 0, 0, 0, 0, 0, 0, 0, 0, 0])"
            ]
          },
          "metadata": {
            "tags": []
          },
          "execution_count": 5
        }
      ]
    },
    {
      "cell_type": "code",
      "metadata": {
        "id": "mkfrfY_i6NoD",
        "colab": {
          "base_uri": "https://localhost:8080/",
          "height": 265
        },
        "outputId": "a5af8493-c16c-43dd-95e2-ae6b33ca7d5d"
      },
      "source": [
        "# 시각화\n",
        "plt.scatter(X,y)\n",
        "plt.grid()"
      ],
      "execution_count": null,
      "outputs": [
        {
          "output_type": "display_data",
          "data": {
            "image/png": "[encoded data removed]",
            "text/plain": [
              "<Figure size 432x288 with 1 Axes>"
            ]
          },
          "metadata": {
            "tags": [],
            "image/png": {
              "width": 372,
              "height": 248
            },
            "needs_background": "light"
          }
        }
      ]
    },
    {
      "cell_type": "code",
      "metadata": {
        "id": "_vwnmIBv6NoF",
        "colab": {
          "base_uri": "https://localhost:8080/"
        },
        "outputId": "3eecdafb-dfe5-46b9-981a-26b5adef2646"
      },
      "source": [
        "# 모델학습\n",
        "model = LogisticRegression()\n",
        "model.fit(X.reshape(-1,1),y)\n",
        "model.coef_, model.intercept_"
      ],
      "execution_count": null,
      "outputs": [
        {
          "output_type": "execute_result",
          "data": {
            "text/plain": [
              "(array([[1.32952239]]), array([-9.1854821]))"
            ]
          },
          "metadata": {
            "tags": []
          },
          "execution_count": 7
        }
      ]
    },
    {
      "cell_type": "code",
      "metadata": {
        "id": "wQo67AvN6NoH",
        "colab": {
          "base_uri": "https://localhost:8080/"
        },
        "outputId": "89f7164e-1bd8-4eec-825d-457afac34b95"
      },
      "source": [
        "# 예측 분류 \n",
        "model.predict([[7.0],[6.9]])"
      ],
      "execution_count": null,
      "outputs": [
        {
          "output_type": "execute_result",
          "data": {
            "text/plain": [
              "array([1, 0])"
            ]
          },
          "metadata": {
            "tags": []
          },
          "execution_count": 8
        }
      ]
    },
    {
      "cell_type": "code",
      "metadata": {
        "id": "nlR-0D5yclyR",
        "colab": {
          "base_uri": "https://localhost:8080/"
        },
        "outputId": "76694c56-3740-49a0-da6c-411a94fb5668"
      },
      "source": [
        "# 예측 분류 -> 왼쪽은 0이 될 확률, 오른쪽은 1이 될 확률\n",
        "model.predict_proba([[7.0],[13.0]])"
      ],
      "execution_count": null,
      "outputs": [
        {
          "output_type": "execute_result",
          "data": {
            "text/plain": [
              "array([[4.69743358e-01, 5.30256642e-01],\n",
              "       [3.03960452e-04, 9.99696040e-01]])"
            ]
          },
          "metadata": {
            "tags": []
          },
          "execution_count": 9
        }
      ]
    },
    {
      "cell_type": "code",
      "metadata": {
        "colab": {
          "base_uri": "https://localhost:8080/",
          "height": 265
        },
        "id": "R2Ztrjq-aLXK",
        "outputId": "815f3b98-5eb2-425b-b117-bd018e7f9775"
      },
      "source": [
        "# 모델 시각화\n",
        "\n",
        "def logreg(z):\n",
        "  return 1 / (1 + np.exp(-z))\n",
        "\n",
        "xx = np.linspace(1,21,100)\n",
        "yy = logreg(model.coef_ * xx + model.intercept_)\n",
        "plt.plot(xx,yy[0], c='r')\n",
        "plt.scatter(X,y)\n",
        "plt.grid()"
      ],
      "execution_count": null,
      "outputs": [
        {
          "output_type": "display_data",
          "data": {
            "image/png": "[encoded data removed]",
            "text/plain": [
              "<Figure size 432x288 with 1 Axes>"
            ]
          },
          "metadata": {
            "tags": [],
            "image/png": {
              "width": 372,
              "height": 248
            },
            "needs_background": "light"
          }
        }
      ]
    },
    {
      "cell_type": "code",
      "metadata": {
        "colab": {
          "base_uri": "https://localhost:8080/",
          "height": 282
        },
        "id": "EMvi-cL5b_QH",
        "outputId": "43048db7-d954-4ab2-dfb5-939eac870dd7"
      },
      "source": [
        "# 가중치(기울기)의 변화에 따른 시각화 --> 확률에 변화가있음\n",
        "w_list = [0.3, 0.5 , 1.0] # 가중치\n",
        "b_list = [0] # 편향(절편)\n",
        "xx = np.linspace(-10,10,100)\n",
        "for w in w_list:\n",
        "  for b in b_list:\n",
        "    yy = logreg(w*xx + b)\n",
        "    plt.plot(xx,yy,label =f'{w}')\n",
        "\n",
        "plt.legend()"
      ],
      "execution_count": null,
      "outputs": [
        {
          "output_type": "execute_result",
          "data": {
            "text/plain": [
              "<matplotlib.legend.Legend at 0x7fd346393ed0>"
            ]
          },
          "metadata": {
            "tags": []
          },
          "execution_count": 11
        },
        {
          "output_type": "display_data",
          "data": {
            "image/png": "[encoded data removed]",
            "text/plain": [
              "<Figure size 432x288 with 1 Axes>"
            ]
          },
          "metadata": {
            "tags": [],
            "image/png": {
              "width": 372,
              "height": 248
            },
            "needs_background": "light"
          }
        }
      ]
    },
    {
      "cell_type": "code",
      "metadata": {
        "colab": {
          "base_uri": "https://localhost:8080/",
          "height": 265
        },
        "id": "CzbaRuRndPaa",
        "outputId": "65a9fbeb-ac8a-4692-b04a-cfa33f92e1bc"
      },
      "source": [
        "# 편향(절편)의 변화에 따른 시각화 ---> 값의 기준이 바뀌어짐\n",
        "w_list = [0.8] # 가중치\n",
        "b_list = [-2,0,2] # 편향(절편)\n",
        "xx = np.linspace(-10,10,100)\n",
        "for w in w_list:\n",
        "  for b in b_list:\n",
        "    yy = logreg(w*xx + b)\n",
        "    plt.plot(xx,yy,label =f'{b}')\n",
        "\n",
        "plt.legend()\n",
        "plt.grid()\n",
        "plt.show()"
      ],
      "execution_count": null,
      "outputs": [
        {
          "output_type": "display_data",
          "data": {
            "image/png": "[encoded data removed]",
            "text/plain": [
              "<Figure size 432x288 with 1 Axes>"
            ]
          },
          "metadata": {
            "tags": [],
            "image/png": {
              "width": 372,
              "height": 248
            },
            "needs_background": "light"
          }
        }
      ]
    },
    {
      "cell_type": "markdown",
      "metadata": {
        "id": "OJdPnWu05u4p"
      },
      "source": [
        "* 로지스틱회귀를 퍼셉트론 방식으로 표현\n",
        "\n",
        "<center>\n",
        " <img src=\"https://thebook.io/img/080228/100.jpg\" alt=\"퍼셉트론\" width=\"40%\" />\n",
        "\n",
        "</center>\n"
      ]
    },
    {
      "cell_type": "markdown",
      "metadata": {
        "id": "OOKLfknKl6o9"
      },
      "source": [
        "#### LogisticRegression 실습 02\n",
        "\n",
        "forge 데이터 셋을 이용"
      ]
    },
    {
      "cell_type": "code",
      "metadata": {
        "id": "DNQGHKE9gGye"
      },
      "source": [
        "from mglearn.datasets import make_forge\n",
        "import matplotlib.pyplot as plt\n",
        "import numpy as np\n",
        "import mglearn\n",
        "from sklearn.linear_model import LogisticRegression\n",
        "%matplotlib inline"
      ],
      "execution_count": 2,
      "outputs": []
    },
    {
      "cell_type": "code",
      "metadata": {
        "id": "q-Bb3N52mkFL",
        "colab": {
          "base_uri": "https://localhost:8080/"
        },
        "outputId": "572e7c85-aee7-497c-c6e8-c2cd0c063d1a"
      },
      "source": [
        "X, y = make_forge()\n"
      ],
      "execution_count": 3,
      "outputs": [
        {
          "output_type": "stream",
          "text": [
            "/usr/local/lib/python3.7/dist-packages/sklearn/utils/deprecation.py:87: FutureWarning: Function make_blobs is deprecated; Please import make_blobs directly from scikit-learn\n",
            "  warnings.warn(msg, category=FutureWarning)\n"
          ],
          "name": "stderr"
        }
      ]
    },
    {
      "cell_type": "code",
      "metadata": {
        "id": "Cx4B3B4Um8uF",
        "colab": {
          "base_uri": "https://localhost:8080/",
          "height": 287
        },
        "outputId": "54a5a51f-c44c-4b67-cf81-44adecaa4ed4"
      },
      "source": [
        "# C 값을 변경해가면서 결정경계가 어떻게 변하는지 확인해보자 \n",
        "# --> C가 커지면 이상치에 가깝게 된다, C값을 내리면 모델이 단순화된다.(이상치 영향을 적게 받게됨,과대적합이 일어날 수 있음), c는 0을 줄 수 없다\n",
        "\n",
        "model = LogisticRegression(C=1,max_iter=10000).fit(X,y)\n",
        "\n",
        "mglearn.plots.plot_2d_separator(model,X)\n",
        "mglearn.discrete_scatter(X[:,0],X[:,1],y)"
      ],
      "execution_count": 4,
      "outputs": [
        {
          "output_type": "execute_result",
          "data": {
            "text/plain": [
              "[<matplotlib.lines.Line2D at 0x7f0c21d92c90>,\n",
              " <matplotlib.lines.Line2D at 0x7f0c19b139d0>]"
            ]
          },
          "metadata": {
            "tags": []
          },
          "execution_count": 4
        },
        {
          "output_type": "display_data",
          "data": {
            "image/png": "[encoded data removed]",
            "text/plain": [
              "<Figure size 432x288 with 1 Axes>"
            ]
          },
          "metadata": {
            "tags": []
          }
        }
      ]
    },
    {
      "cell_type": "markdown",
      "metadata": {
        "id": "Ms1xL0bOstF0"
      },
      "source": [
        "#### LogisticRegression 실습 03\n",
        "\n",
        "유방암 데이터를 이용한 분석 - 1"
      ]
    },
    {
      "cell_type": "code",
      "metadata": {
        "id": "I3unK7CYHMSD",
        "colab": {
          "base_uri": "https://localhost:8080/"
        },
        "outputId": "4bd68759-7702-4e3b-f891-7854b19385b6"
      },
      "source": [
        "from sklearn.model_selection import train_test_split\n",
        "from sklearn.datasets import load_breast_cancer\n",
        "\n",
        "cancer = load_breast_cancer()\n",
        "cancer.keys()\n",
        "cancer.data.shape\n",
        "cancer.target\n",
        "cancer.target_names\n",
        "cancer.feature_names\n",
        "# 정규분포를 그려야함(y값을)"
      ],
      "execution_count": 5,
      "outputs": [
        {
          "output_type": "execute_result",
          "data": {
            "text/plain": [
              "array(['mean radius', 'mean texture', 'mean perimeter', 'mean area',\n",
              "       'mean smoothness', 'mean compactness', 'mean concavity',\n",
              "       'mean concave points', 'mean symmetry', 'mean fractal dimension',\n",
              "       'radius error', 'texture error', 'perimeter error', 'area error',\n",
              "       'smoothness error', 'compactness error', 'concavity error',\n",
              "       'concave points error', 'symmetry error',\n",
              "       'fractal dimension error', 'worst radius', 'worst texture',\n",
              "       'worst perimeter', 'worst area', 'worst smoothness',\n",
              "       'worst compactness', 'worst concavity', 'worst concave points',\n",
              "       'worst symmetry', 'worst fractal dimension'], dtype='<U23')"
            ]
          },
          "metadata": {
            "tags": []
          },
          "execution_count": 5
        }
      ]
    },
    {
      "cell_type": "code",
      "metadata": {
        "colab": {
          "base_uri": "https://localhost:8080/"
        },
        "id": "Dndk9ZrXzMyE",
        "outputId": "29c5c124-a0fb-47fe-cda5-13b648b31714"
      },
      "source": [
        "X = cancer.data\n",
        "y = cancer.target\n",
        "X_train,X_test,y_train,y_test = train_test_split(X,y,random_state=0)\n",
        "X_train.shape"
      ],
      "execution_count": 6,
      "outputs": [
        {
          "output_type": "execute_result",
          "data": {
            "text/plain": [
              "(426, 30)"
            ]
          },
          "metadata": {
            "tags": []
          },
          "execution_count": 6
        }
      ]
    },
    {
      "cell_type": "code",
      "metadata": {
        "id": "Tq7rmODnHxIk",
        "colab": {
          "base_uri": "https://localhost:8080/"
        },
        "outputId": "5b05383f-5869-4a13-d3fa-3f436c3db6db"
      },
      "source": [
        "# C=100, C=0.01 등으로 변경하면서 학습 점수의 결과를 비교\n",
        "model = LogisticRegression(C=1, max_iter=10000).fit(X_train, y_train)\n",
        "model.score(X_train, y_train), model.score(X_test, y_test)"
      ],
      "execution_count": 7,
      "outputs": [
        {
          "output_type": "execute_result",
          "data": {
            "text/plain": [
              "(0.960093896713615, 0.951048951048951)"
            ]
          },
          "metadata": {
            "tags": []
          },
          "execution_count": 7
        }
      ]
    },
    {
      "cell_type": "markdown",
      "metadata": {
        "id": "0aH-LpU4IWZC"
      },
      "source": [
        "(실습)  C=100, C=0.01 등으로 변경하면서 학습 점수의 결과를 비교"
      ]
    },
    {
      "cell_type": "code",
      "metadata": {
        "id": "psjgzjQPdDfK",
        "colab": {
          "base_uri": "https://localhost:8080/"
        },
        "outputId": "46c389d5-4d2d-45c0-b7bc-a2c97f4cda12"
      },
      "source": [
        "model = LogisticRegression(C=100, max_iter=10000).fit(X_train, y_train)\n",
        "model.score(X_train, y_train), model.score(X_test, y_test)\n",
        "# 학습 스코어, 테스트 스코어 "
      ],
      "execution_count": 8,
      "outputs": [
        {
          "output_type": "execute_result",
          "data": {
            "text/plain": [
              "(0.9812206572769953, 0.958041958041958)"
            ]
          },
          "metadata": {
            "tags": []
          },
          "execution_count": 8
        }
      ]
    },
    {
      "cell_type": "code",
      "metadata": {
        "colab": {
          "base_uri": "https://localhost:8080/"
        },
        "id": "8yRr4EO00b3B",
        "outputId": "14ed8700-d9ac-4bb9-af2b-c9ac67b63390"
      },
      "source": [
        "model = LogisticRegression(C=0.01, max_iter=10000).fit(X_train, y_train)\n",
        "model.score(X_train, y_train), model.score(X_test, y_test)"
      ],
      "execution_count": 9,
      "outputs": [
        {
          "output_type": "execute_result",
          "data": {
            "text/plain": [
              "(0.9530516431924883, 0.9440559440559441)"
            ]
          },
          "metadata": {
            "tags": []
          },
          "execution_count": 9
        }
      ]
    },
    {
      "cell_type": "code",
      "metadata": {
        "colab": {
          "base_uri": "https://localhost:8080/"
        },
        "id": "NnxAnvIP1T5P",
        "outputId": "5c404a13-94d6-4c56-c4a0-62f8811e245e"
      },
      "source": [
        "model = LogisticRegression(C=0.0000000000000000001, max_iter=10000).fit(X_train, y_train)\n",
        "model.score(X_train, y_train), model.score(X_test, y_test)"
      ],
      "execution_count": 10,
      "outputs": [
        {
          "output_type": "execute_result",
          "data": {
            "text/plain": [
              "(0.3732394366197183, 0.3706293706293706)"
            ]
          },
          "metadata": {
            "tags": []
          },
          "execution_count": 10
        }
      ]
    },
    {
      "cell_type": "markdown",
      "metadata": {
        "id": "oLNRqf3V0ooY"
      },
      "source": [
        "C를 높힐수록 학습스코어와 테스트 스코어가 올라감 \n",
        "\n",
        "어느수준까지 올라가면 학습은 올라가는데 테스트는 고정된다 --> 과대적합\n",
        "\n",
        "\n",
        "C를 낮힐수록 값이 떨어지고 과소적합이 걸린다.(학습스코어 보다 테스트 스코어 값이 커진다)"
      ]
    },
    {
      "cell_type": "markdown",
      "metadata": {
        "id": "XF_embijIpuC"
      },
      "source": [
        "규제 매개변수 C 설정을 다르게 하여 학습 시킨 모델의 계수(가중치) 표시"
      ]
    },
    {
      "cell_type": "code",
      "metadata": {
        "colab": {
          "base_uri": "https://localhost:8080/"
        },
        "id": "rqKutWqv7GVP",
        "outputId": "ab04ed00-c56f-485b-8136-e1e903a93a1b"
      },
      "source": [
        "model = LogisticRegression(C=1, max_iter=10000).fit(X_train, y_train)\n",
        "model.score(X_train, y_train), model.score(X_test, y_test)"
      ],
      "execution_count": 11,
      "outputs": [
        {
          "output_type": "execute_result",
          "data": {
            "text/plain": [
              "(0.960093896713615, 0.951048951048951)"
            ]
          },
          "metadata": {
            "tags": []
          },
          "execution_count": 11
        }
      ]
    },
    {
      "cell_type": "code",
      "metadata": {
        "id": "Ss9gh04jIjzb",
        "colab": {
          "base_uri": "https://localhost:8080/",
          "height": 374
        },
        "outputId": "386c155b-e0d7-4b92-a92a-bdb59e8e9bcd"
      },
      "source": [
        "# 다른 C 값의 결과 추가\n",
        "\n",
        "# y축은 들어있는 갯수 , x축에 다양해야함 \n",
        "# 행이 하나이기 때문에 가로를 세로로 바꾸는 것 (전치행렬)을 해줘야함\n",
        "plt.plot(model.coef_.T,'o')\n",
        "plt.xticks(range(30),cancer.feature_names,rotation=90)\n",
        "plt.grid()\n",
        "plt.show()"
      ],
      "execution_count": 12,
      "outputs": [
        {
          "output_type": "display_data",
          "data": {
            "image/png": "[encoded data removed]",
            "text/plain": [
              "<Figure size 432x288 with 1 Axes>"
            ]
          },
          "metadata": {
            "tags": [],
            "needs_background": "light"
          }
        }
      ]
    },
    {
      "cell_type": "markdown",
      "metadata": {
        "id": "cx7E29rOJ3Fs"
      },
      "source": [
        "(실습) C=100, C=0.01 등으로 변경하면서 학습시킨 학습모델의 계수를 위의 그래프에 표시"
      ]
    },
    {
      "cell_type": "code",
      "metadata": {
        "colab": {
          "base_uri": "https://localhost:8080/",
          "height": 374
        },
        "id": "8V1ntcZD8Yif",
        "outputId": "81410205-a396-44b7-b87b-426a89e1c1d0"
      },
      "source": [
        "for C,marker in zip([100,1,0.01],['^','o','v']):\n",
        "  model = LogisticRegression(C=C, max_iter=10000).fit(X_train, y_train)\n",
        "  model.score(X_train, y_train), model.score(X_test, y_test)\n",
        "  plt.plot(model.coef_.T,marker)\n",
        "  \n",
        "plt.xticks(range(30),cancer.feature_names,rotation=90)\n",
        "plt.grid()\n",
        "plt.show()"
      ],
      "execution_count": 13,
      "outputs": [
        {
          "output_type": "display_data",
          "data": {
            "image/png": "[encoded data removed]",
            "text/plain": [
              "<Figure size 432x288 with 1 Axes>"
            ]
          },
          "metadata": {
            "tags": [],
            "needs_background": "light"
          }
        }
      ]
    },
    {
      "cell_type": "markdown",
      "metadata": {
        "id": "KNu9my41Kd5I"
      },
      "source": [
        "C를 L1규제로 사용할 경우 분류 정확도와 계수 그래프를 표시\n",
        "\n",
        "- Regularization에서 모든 특성을 이용할지 일부 특성만을 사용할지 결정하는 주요 parameter는 'penalty'"
      ]
    },
    {
      "cell_type": "code",
      "metadata": {
        "id": "KtY8a_1pdINP",
        "colab": {
          "base_uri": "https://localhost:8080/"
        },
        "outputId": "a8e94628-60b3-405d-8e09-50834186fb63"
      },
      "source": [
        "model_l1 = LogisticRegression(C=10000, penalty='l1', solver='liblinear', max_iter=10000)\n",
        "model_l1.fit(X_train, y_train)\n",
        "\n",
        "print('사용한 특성 수:' ,np.sum(model_l1.coef_ != 0) )\n",
        "model_l1.score(X_train, y_train), model_l1.score(X_test, y_test)\n",
        "\n",
        "# c가 100 이상이 되면 test.score이 낮아짐으로 과대적합이 생긴다.\n",
        "# c가 낮아지면 특성이 낮아져서 과소적합이 걸린다."
      ],
      "execution_count": 14,
      "outputs": [
        {
          "output_type": "stream",
          "text": [
            "사용한 특성 수: 30\n"
          ],
          "name": "stdout"
        },
        {
          "output_type": "execute_result",
          "data": {
            "text/plain": [
              "(1.0, 0.9440559440559441)"
            ]
          },
          "metadata": {
            "tags": []
          },
          "execution_count": 14
        }
      ]
    },
    {
      "cell_type": "code",
      "metadata": {
        "colab": {
          "base_uri": "https://localhost:8080/",
          "height": 392
        },
        "id": "RsxbwaOI_PXf",
        "outputId": "cc537edf-7f7e-424c-8628-2ae5ad9ac191"
      },
      "source": [
        "# 실습 c값에 따른 가중치 변화 시각화\n",
        "\n",
        "model_l1 = LogisticRegression(C=10000, penalty='l1', solver='liblinear', max_iter=10000)\n",
        "model_l1.fit(X_train, y_train)\n",
        "\n",
        "print('사용한 특성 수:' ,np.sum(model_l1.coef_ != 0) )\n",
        "model_l1.score(X_train, y_train), model_l1.score(X_test, y_test)\n",
        "plt.plot(model_l1.coef_.T,'o')\n",
        "  \n",
        "plt.xticks(range(30),cancer.feature_names,rotation=90)\n",
        "plt.grid()\n",
        "plt.show()\n"
      ],
      "execution_count": 15,
      "outputs": [
        {
          "output_type": "stream",
          "text": [
            "사용한 특성 수: 30\n"
          ],
          "name": "stdout"
        },
        {
          "output_type": "display_data",
          "data": {
            "image/png": "[encoded data removed]",
            "text/plain": [
              "<Figure size 432x288 with 1 Axes>"
            ]
          },
          "metadata": {
            "tags": [],
            "needs_background": "light"
          }
        }
      ]
    },
    {
      "cell_type": "markdown",
      "metadata": {
        "id": "vCUwtDvNZ0hu"
      },
      "source": [
        "#### LogisticRegression 실습 04\n",
        "\n",
        "와인 데이터를 이용한 분류"
      ]
    },
    {
      "cell_type": "code",
      "metadata": {
        "id": "f4khqYNQaBx-",
        "colab": {
          "base_uri": "https://localhost:8080/"
        },
        "outputId": "81e47650-9074-478c-d123-d7359f240bc8"
      },
      "source": [
        "from sklearn.datasets import load_wine\n",
        "from sklearn.model_selection import train_test_split\n",
        "from sklearn.linear_model import LogisticRegression\n",
        "import pandas as pd\n",
        "\n",
        "wine = load_wine()\n",
        "wine.keys()\n",
        "wine.data.shape\n",
        "wine.target\n",
        "wine.target_names\n",
        "# wine.feature_names\n"
      ],
      "execution_count": 16,
      "outputs": [
        {
          "output_type": "execute_result",
          "data": {
            "text/plain": [
              "array(['class_0', 'class_1', 'class_2'], dtype='<U7')"
            ]
          },
          "metadata": {
            "tags": []
          },
          "execution_count": 16
        }
      ]
    },
    {
      "cell_type": "code",
      "metadata": {
        "colab": {
          "base_uri": "https://localhost:8080/"
        },
        "id": "oTOw26SDAUld",
        "outputId": "a8f99ed7-cc18-4afc-c842-96dee0edfb81"
      },
      "source": [
        "df = pd.DataFrame(wine.data , columns = wine.feature_names)\n",
        "df['등급'] = wine.target\n",
        "df.head(3)\n",
        "df.info()"
      ],
      "execution_count": 17,
      "outputs": [
        {
          "output_type": "stream",
          "text": [
            "<class 'pandas.core.frame.DataFrame'>\n",
            "RangeIndex: 178 entries, 0 to 177\n",
            "Data columns (total 14 columns):\n",
            " #   Column                        Non-Null Count  Dtype  \n",
            "---  ------                        --------------  -----  \n",
            " 0   alcohol                       178 non-null    float64\n",
            " 1   malic_acid                    178 non-null    float64\n",
            " 2   ash                           178 non-null    float64\n",
            " 3   alcalinity_of_ash             178 non-null    float64\n",
            " 4   magnesium                     178 non-null    float64\n",
            " 5   total_phenols                 178 non-null    float64\n",
            " 6   flavanoids                    178 non-null    float64\n",
            " 7   nonflavanoid_phenols          178 non-null    float64\n",
            " 8   proanthocyanins               178 non-null    float64\n",
            " 9   color_intensity               178 non-null    float64\n",
            " 10  hue                           178 non-null    float64\n",
            " 11  od280/od315_of_diluted_wines  178 non-null    float64\n",
            " 12  proline                       178 non-null    float64\n",
            " 13  등급                            178 non-null    int64  \n",
            "dtypes: float64(13), int64(1)\n",
            "memory usage: 19.6 KB\n"
          ],
          "name": "stdout"
        }
      ]
    },
    {
      "cell_type": "code",
      "metadata": {
        "colab": {
          "base_uri": "https://localhost:8080/"
        },
        "id": "eCnndrn9A6if",
        "outputId": "10facb80-3fdd-483e-da16-ae47129e2dc7"
      },
      "source": [
        "# 학습데이터와 평가데이터 준비\n",
        "X = df.iloc[:,:-1]\n",
        "y = df.iloc[:,-1]\n",
        "X_train,X_test,y_train,y_test = train_test_split(X,y,random_state=0)\n",
        "X_train.shape"
      ],
      "execution_count": 18,
      "outputs": [
        {
          "output_type": "execute_result",
          "data": {
            "text/plain": [
              "(133, 13)"
            ]
          },
          "metadata": {
            "tags": []
          },
          "execution_count": 18
        }
      ]
    },
    {
      "cell_type": "code",
      "metadata": {
        "colab": {
          "base_uri": "https://localhost:8080/"
        },
        "id": "SZBiv3PnBZ0a",
        "outputId": "7c47740f-7d9f-4b89-9782-85434ada86ea"
      },
      "source": [
        "# 모델 선택과 학습 그리고 평가\n",
        "model = LogisticRegression(C=1, max_iter=10000).fit(X_train, y_train)\n",
        "\n",
        "model.score(X_train,y_train),model.score(X_test,y_test)"
      ],
      "execution_count": 19,
      "outputs": [
        {
          "output_type": "execute_result",
          "data": {
            "text/plain": [
              "(0.9924812030075187, 0.9777777777777777)"
            ]
          },
          "metadata": {
            "tags": []
          },
          "execution_count": 19
        }
      ]
    },
    {
      "cell_type": "markdown",
      "metadata": {
        "id": "G-1-fCwAB1af"
      },
      "source": [
        "#### 데이터 값이 작고 특성값이 많기 때문에 결과가 잘나온다 --> 과적합 , 과소적합도 잘나온다"
      ]
    },
    {
      "cell_type": "code",
      "metadata": {
        "colab": {
          "base_uri": "https://localhost:8080/"
        },
        "id": "DZu8iJEcBvDQ",
        "outputId": "11459236-f442-4c32-d0d0-8e8d7fc89bba"
      },
      "source": [
        "# 틀린것 확인 (예측)\n",
        "\n",
        "y_pred = model.predict(X_test)\n",
        "print(y_test.values)\n",
        "print(y_pred)"
      ],
      "execution_count": 20,
      "outputs": [
        {
          "output_type": "stream",
          "text": [
            "[0 2 1 0 1 1 0 2 1 1 2 2 0 1 2 1 0 0 1 0 1 0 0 1 1 1 1 1 1 2 0 0 1 0 0 0 2\n",
            " 1 1 2 0 0 1 1 1]\n",
            "[0 2 1 0 1 1 0 2 1 1 2 2 0 1 2 1 0 0 2 0 1 0 0 1 1 1 1 1 1 2 0 0 1 0 0 0 2\n",
            " 1 1 2 0 0 1 1 1]\n"
          ],
          "name": "stdout"
        }
      ]
    },
    {
      "cell_type": "markdown",
      "metadata": {
        "id": "1NM77qUnmVPi"
      },
      "source": [
        "#### LogisticRegression 실습 05\n",
        "\n",
        "wave 데이터를 이용한 다중 분류"
      ]
    },
    {
      "cell_type": "code",
      "metadata": {
        "id": "TyluSGr7mZeJ",
        "colab": {
          "base_uri": "https://localhost:8080/",
          "height": 265
        },
        "outputId": "1125dd1c-b071-4aba-c65a-715417b5b457"
      },
      "source": [
        "# 데이터 생성 및 시각화\n",
        "from sklearn.datasets import make_blobs\n",
        "import matplotlib.pyplot as plt\n",
        "import numpy as np\n",
        "\n",
        "X, y = make_blobs(random_state=42)\n",
        "mglearn.discrete_scatter(X[:,0],X[:,1],y)\n",
        "plt.show()"
      ],
      "execution_count": 22,
      "outputs": [
        {
          "output_type": "display_data",
          "data": {
            "image/png": "[encoded data removed]",
            "text/plain": [
              "<Figure size 432x288 with 1 Axes>"
            ]
          },
          "metadata": {
            "tags": [],
            "needs_background": "light"
          }
        }
      ]
    },
    {
      "cell_type": "code",
      "metadata": {
        "id": "zeUoPumkmsyA",
        "colab": {
          "base_uri": "https://localhost:8080/"
        },
        "outputId": "3eac92f1-8008-46e7-9c47-4e263822aa0e"
      },
      "source": [
        "# 훈련셋 및 테스트셋 분리 및 LogisticRegression 실행  --> random_state가 바뀔수록 학습률 테스트률이 달라짐\n",
        "from sklearn.linear_model import LogisticRegression\n",
        "\n",
        "X_train,X_test,y_train,y_test = train_test_split(X,y,random_state=0)\n",
        "\n",
        "model = LogisticRegression(C=1, max_iter=10000).fit(X_train, y_train)\n",
        "# 평가하기\n",
        "model.score(X_train,y_train),model.score(X_test,y_test)"
      ],
      "execution_count": 32,
      "outputs": [
        {
          "output_type": "execute_result",
          "data": {
            "text/plain": [
              "(1.0, 1.0)"
            ]
          },
          "metadata": {
            "tags": []
          },
          "execution_count": 32
        }
      ]
    },
    {
      "cell_type": "code",
      "metadata": {
        "id": "dWmAPzvgn4Ca",
        "colab": {
          "base_uri": "https://localhost:8080/"
        },
        "outputId": "aea9970d-3370-454a-9647-3b5abeb74da9"
      },
      "source": [
        "# 예측하기\n",
        "y_pred = model.predict(X_test)\n",
        "print(y_test)\n",
        "print(y_pred)\n",
        "print(y_test in y_pred)"
      ],
      "execution_count": 33,
      "outputs": [
        {
          "output_type": "stream",
          "text": [
            "[1 0 0 2 2 1 2 0 2 0 2 0 1 0 1 2 2 0 2 1 0 2 1 2 1]\n",
            "[1 0 0 2 2 1 2 0 2 0 2 0 1 0 1 2 2 0 2 1 0 2 1 2 1]\n",
            "True\n"
          ],
          "name": "stdout"
        }
      ]
    },
    {
      "cell_type": "code",
      "metadata": {
        "id": "PQhV-rdGm6f5",
        "colab": {
          "base_uri": "https://localhost:8080/",
          "height": 269
        },
        "outputId": "8fed9122-90bb-4857-fbba-dce21fa2660f"
      },
      "source": [
        "# 실행 결과 시각화\n",
        "# w0*x0 + w1*x1 = 0\n",
        "# x1 = -(w0 * x0 + b) /w1\n",
        "# w = model.coef_[0]\n",
        "# b = model.intercept_[0]\n",
        "\n",
        "xx = np.linspace(-10,10,50)\n",
        "for w,b in zip(model.coef_, model.intercept_):\n",
        "  yy =  -(w[0] * xx + b) / w[1]  # yy = x1\n",
        "  plt.plot(xx,yy)\n",
        "\n",
        "mglearn.discrete_scatter(X[:,0],X[:,1],y)\n",
        "plt.ylim(-20,20)\n",
        "plt.show()"
      ],
      "execution_count": 34,
      "outputs": [
        {
          "output_type": "display_data",
          "data": {
            "image/png": "[encoded data removed]",
            "text/plain": [
              "<Figure size 432x288 with 1 Axes>"
            ]
          },
          "metadata": {
            "tags": [],
            "needs_background": "light"
          }
        }
      ]
    },
    {
      "cell_type": "markdown",
      "metadata": {
        "id": "s76LC2gwYZmN"
      },
      "source": [
        "#### LogisticRegression 실습 06\n",
        "\n",
        "붓꽃 데이터 셋을 이용한 다중 분류"
      ]
    },
    {
      "cell_type": "code",
      "metadata": {
        "id": "8Gy-AWHRYiXw",
        "colab": {
          "base_uri": "https://localhost:8080/"
        },
        "outputId": "fb9f9c74-9918-49ab-88b0-fe465a39592b"
      },
      "source": [
        "# 데이터 로드\n",
        "from sklearn.datasets import load_iris\n",
        "from sklearn.linear_model import LogisticRegression\n",
        "\n",
        "iris_dataset = load_iris()\n",
        "iris_dataset.feature_names"
      ],
      "execution_count": 39,
      "outputs": [
        {
          "output_type": "execute_result",
          "data": {
            "text/plain": [
              "['sepal length (cm)',\n",
              " 'sepal width (cm)',\n",
              " 'petal length (cm)',\n",
              " 'petal width (cm)']"
            ]
          },
          "metadata": {
            "tags": []
          },
          "execution_count": 39
        }
      ]
    },
    {
      "cell_type": "code",
      "metadata": {
        "id": "6M1XY5vQYy6_",
        "colab": {
          "base_uri": "https://localhost:8080/"
        },
        "outputId": "e42bebdb-8fd1-426c-d28a-68aeb20300d8"
      },
      "source": [
        "# 데이터 분리\n",
        "from sklearn.model_selection import train_test_split\n",
        "X = iris_dataset.data[:, 2:]\n",
        "y = iris_dataset.target\n",
        "X_train, X_test, y_train, y_test = train_test_split(X,y,random_state=0)\n",
        "X_train.shape"
      ],
      "execution_count": 42,
      "outputs": [
        {
          "output_type": "execute_result",
          "data": {
            "text/plain": [
              "(112, 2)"
            ]
          },
          "metadata": {
            "tags": []
          },
          "execution_count": 42
        }
      ]
    },
    {
      "cell_type": "code",
      "metadata": {
        "id": "YSpWyJMfZBrc",
        "colab": {
          "base_uri": "https://localhost:8080/"
        },
        "outputId": "4edf0f56-aa38-4d73-f888-8e307ccb7942"
      },
      "source": [
        "# LogisticRegression 수행\n",
        "model = LogisticRegression(C=1,max_iter=10000).fit(X_train,y_train)\n",
        "model.score(X_train,y_train), model.score(X_test,y_test)"
      ],
      "execution_count": 43,
      "outputs": [
        {
          "output_type": "execute_result",
          "data": {
            "text/plain": [
              "(0.9732142857142857, 0.9736842105263158)"
            ]
          },
          "metadata": {
            "tags": []
          },
          "execution_count": 43
        }
      ]
    },
    {
      "cell_type": "code",
      "metadata": {
        "id": "fm2KPDMhi6MF",
        "colab": {
          "base_uri": "https://localhost:8080/",
          "height": 305
        },
        "outputId": "b3e1899a-c7bd-4acf-8ba2-965c9fa0b366"
      },
      "source": [
        "# 결정경계 시각화 \n",
        "mglearn.plots.plot_2d_classification(model,X_train)\n",
        "mglearn.discrete_scatter(X_train[:,0],X_train[:,1],y_train)"
      ],
      "execution_count": 45,
      "outputs": [
        {
          "output_type": "execute_result",
          "data": {
            "text/plain": [
              "[<matplotlib.lines.Line2D at 0x7f0c142ddb90>,\n",
              " <matplotlib.lines.Line2D at 0x7f0c142f31d0>,\n",
              " <matplotlib.lines.Line2D at 0x7f0c142f3710>]"
            ]
          },
          "metadata": {
            "tags": []
          },
          "execution_count": 45
        },
        {
          "output_type": "display_data",
          "data": {
            "image/png": "[encoded data removed]",
            "text/plain": [
              "<Figure size 432x288 with 1 Axes>"
            ]
          },
          "metadata": {
            "tags": []
          }
        }
      ]
    },
    {
      "cell_type": "code",
      "metadata": {
        "id": "h9aPNhoI5aPT",
        "colab": {
          "base_uri": "https://localhost:8080/"
        },
        "outputId": "4b82b473-b5c7-41e8-c97b-a6ad1b4dead2"
      },
      "source": [
        "from sklearn.svm import LinearSVC\n",
        "# data는 똑같지만 그림그리는 기준이 다르기 때문에 정확도가 떨어진다.\n",
        "# 중앙으로부터 해서 섹션을 나누기때문에 데이터에 따라 방법에 따라 다르게 나타난다.\n",
        "\n",
        "model = LinearSVC(C=1,max_iter=10000).fit(X_train,y_train)\n",
        "model.score(X_train,y_train), model.score(X_test,y_test)"
      ],
      "execution_count": 46,
      "outputs": [
        {
          "output_type": "execute_result",
          "data": {
            "text/plain": [
              "(0.9107142857142857, 0.8157894736842105)"
            ]
          },
          "metadata": {
            "tags": []
          },
          "execution_count": 46
        }
      ]
    },
    {
      "cell_type": "code",
      "metadata": {
        "colab": {
          "base_uri": "https://localhost:8080/",
          "height": 305
        },
        "id": "kV187iSrMAKU",
        "outputId": "c34f6f08-62ff-4620-c71d-05c55e055195"
      },
      "source": [
        "mglearn.plots.plot_2d_classification(model,X_train)\n",
        "mglearn.discrete_scatter(X_train[:,0],X_train[:,1],y_train)"
      ],
      "execution_count": 48,
      "outputs": [
        {
          "output_type": "execute_result",
          "data": {
            "text/plain": [
              "[<matplotlib.lines.Line2D at 0x7f0c1420f9d0>,\n",
              " <matplotlib.lines.Line2D at 0x7f0c1420ff50>,\n",
              " <matplotlib.lines.Line2D at 0x7f0c142194d0>]"
            ]
          },
          "metadata": {
            "tags": []
          },
          "execution_count": 48
        },
        {
          "output_type": "display_data",
          "data": {
            "image/png": "[encoded data removed]",
            "text/plain": [
              "<Figure size 432x288 with 1 Axes>"
            ]
          },
          "metadata": {
            "tags": []
          }
        }
      ]
    },
    {
      "cell_type": "code",
      "metadata": {
        "id": "1VOqU3Xp_2M3",
        "colab": {
          "base_uri": "https://localhost:8080/",
          "height": 265
        },
        "outputId": "c7394a87-84b4-42ab-c051-8b742be65e9b"
      },
      "source": [
        "# 결정경계\n",
        "# 꽃잎의 너비가 0~3cm 인 꽃에 대해 모델의 추정 확률을 계산\n",
        "\n",
        "X = iris_dataset.data[:,3:]  # 꽃잎의 너비\n",
        "y = (iris_dataset.target == 2).astype(np.int)      # virginica만 1로 나타내는법 (2에서만 해서 Ture 해서 True만 1로 나타내는방법)\n",
        "\n",
        "model = LogisticRegression().fit(X,y)\n",
        "\n",
        "xx = np.linspace(-10,10,500).reshape(-1,1)\n",
        "y_proba = model.predict_proba(xx)\n",
        "\n",
        "plt.plot(xx,y_proba[:,0],'r--', label='not_virginica')\n",
        "plt.plot(xx,y_proba[:,1],'g--', label='virginica') # 1.75 부분부터 virginical로 인식\n",
        "plt.xlim(0,3)\n",
        "plt.legend()\n",
        "plt.show()"
      ],
      "execution_count": 60,
      "outputs": [
        {
          "output_type": "display_data",
          "data": {
            "image/png": "[encoded data removed]",
            "text/plain": [
              "<Figure size 432x288 with 1 Axes>"
            ]
          },
          "metadata": {
            "tags": [],
            "needs_background": "light"
          }
        }
      ]
    },
    {
      "cell_type": "markdown",
      "metadata": {
        "id": "1zVmxrC1Fk0g"
      },
      "source": [
        "#### Logistic Regression 특징\n",
        "\n",
        "- C 값에 의해 규제 (L1, L2 모두 사용)\n",
        "- 학습속도가 빠르고 예측도 빠름\n",
        "- 매우 큰 데이터셋과 희소한 데이터 셋에도 잘 동작함 (solver='sag')"
      ]
    },
    {
      "cell_type": "markdown",
      "metadata": {
        "id": "bauCfGIQTsJF"
      },
      "source": [
        "#### LogisticRegression 실습 07\n",
        "\n",
        "유방암 데이터를 이용한 분석 - 2\n",
        "\n",
        "모델비교 (kNN, 결정트리, 랜덤포레스트)"
      ]
    },
    {
      "cell_type": "code",
      "metadata": {
        "id": "pVOPhe3L6NoT"
      },
      "source": [
        "import numpy as np\n",
        "import pandas as pd\n",
        "import matplotlib.pyplot as plt\n",
        "import matplotlib.gridspec as gridspec\n",
        "import seaborn as sns \n",
        "from sklearn.model_selection import train_test_split\n",
        "from sklearn.linear_model import LogisticRegression\n",
        "from sklearn.model_selection import KFold   # K-fold cross validation\n",
        "from sklearn import metrics\n",
        "from sklearn.datasets import load_breast_cancer"
      ],
      "execution_count": 61,
      "outputs": []
    },
    {
      "cell_type": "code",
      "metadata": {
        "id": "Qic5o4n36NoV"
      },
      "source": [
        "# data = pd.read_csv('data/breast_cancer.csv')\n",
        "# print(data.shape)\n",
        "\n",
        "cancer = load_breast_cancer()\n"
      ],
      "execution_count": 62,
      "outputs": []
    },
    {
      "cell_type": "code",
      "metadata": {
        "id": "j8tNZunRd0BV",
        "colab": {
          "base_uri": "https://localhost:8080/"
        },
        "outputId": "ded0cd7a-437b-4ece-aeed-31d22329d4e0"
      },
      "source": [
        "X = cancer.data\n",
        "y = cancer.target\n",
        "X_train, X_test, y_train, y_test = train_test_split(X, y, random_state=0)\n",
        "X_train.shape"
      ],
      "execution_count": 63,
      "outputs": [
        {
          "output_type": "execute_result",
          "data": {
            "text/plain": [
              "(426, 30)"
            ]
          },
          "metadata": {
            "tags": []
          },
          "execution_count": 63
        }
      ]
    },
    {
      "cell_type": "code",
      "metadata": {
        "id": "srsdQtTN6Nor",
        "colab": {
          "base_uri": "https://localhost:8080/"
        },
        "outputId": "4047311d-ebf2-4544-a2a2-abb9523b41dc"
      },
      "source": [
        "# 모든 속성을 다 사용하여 로지스틱 회귀 분석을 수행\n",
        "model = LogisticRegression(C=10 , max_iter=10000).fit(X_train,y_train)\n",
        "model.score(X_train,y_train) , model.score(X_test,y_test)"
      ],
      "execution_count": 65,
      "outputs": [
        {
          "output_type": "execute_result",
          "data": {
            "text/plain": [
              "(0.9694835680751174, 0.958041958041958)"
            ]
          },
          "metadata": {
            "tags": []
          },
          "execution_count": 65
        }
      ]
    },
    {
      "cell_type": "code",
      "metadata": {
        "id": "bbh77UxW6Nov",
        "colab": {
          "base_uri": "https://localhost:8080/"
        },
        "outputId": "20631292-13f3-4be4-a47f-2e3d21e0ff10"
      },
      "source": [
        "# 모든 속성을 다 사용한 경우의 kNN의 성능\n",
        "from sklearn.neighbors import KNeighborsClassifier  \n",
        "\n",
        "for n in range(1,21,2):\n",
        "  model = KNeighborsClassifier(n_neighbors = n).fit(X_train,y_train)\n",
        "  print(f'k={n}',model.score(X_train,y_train)   , model.score(X_test,y_test))\n"
      ],
      "execution_count": 70,
      "outputs": [
        {
          "output_type": "stream",
          "text": [
            "k=1 1.0 0.916083916083916\n",
            "k=3 0.9577464788732394 0.9230769230769231\n",
            "k=5 0.9413145539906104 0.9370629370629371\n",
            "k=7 0.9389671361502347 0.9440559440559441\n",
            "k=9 0.9366197183098591 0.958041958041958\n",
            "k=11 0.9366197183098591 0.958041958041958\n",
            "k=13 0.9342723004694836 0.958041958041958\n",
            "k=15 0.9366197183098591 0.958041958041958\n",
            "k=17 0.9295774647887324 0.958041958041958\n",
            "k=19 0.9295774647887324 0.958041958041958\n"
          ],
          "name": "stdout"
        }
      ]
    },
    {
      "cell_type": "code",
      "metadata": {
        "id": "UkBu4dZB6Now",
        "colab": {
          "base_uri": "https://localhost:8080/"
        },
        "outputId": "e656a41f-8383-424b-9730-062f99e7498f"
      },
      "source": [
        "from sklearn.tree import DecisionTreeClassifier\n",
        "\n",
        "model = DecisionTreeClassifier(random_state=42).fit(X_train,y_train)    \n",
        "model.score(X_train,y_train) , model.score(X_test,y_test)"
      ],
      "execution_count": 79,
      "outputs": [
        {
          "output_type": "execute_result",
          "data": {
            "text/plain": [
              "(1.0, 0.916083916083916)"
            ]
          },
          "metadata": {
            "tags": []
          },
          "execution_count": 79
        }
      ]
    },
    {
      "cell_type": "code",
      "metadata": {
        "id": "k3U2VtvK6Noy",
        "colab": {
          "base_uri": "https://localhost:8080/"
        },
        "outputId": "eb2c0e14-5380-4250-f56d-06b96b3b04f4"
      },
      "source": [
        "from sklearn.ensemble import RandomForestClassifier\n",
        "\n",
        "# n_estimators -> decision tree의 갯수\n",
        "model = RandomForestClassifier(n_estimators=100 , random_state=0).fit(X_train,y_train)    \n",
        "model.score(X_train,y_train) , model.score(X_test,y_test)"
      ],
      "execution_count": 83,
      "outputs": [
        {
          "output_type": "execute_result",
          "data": {
            "text/plain": [
              "(1.0, 0.972027972027972)"
            ]
          },
          "metadata": {
            "tags": []
          },
          "execution_count": 83
        }
      ]
    },
    {
      "cell_type": "markdown",
      "metadata": {
        "id": "w-3GKEvW6No0"
      },
      "source": [
        "#### 소프트맥스\n",
        "\n",
        "- 세 개 이상 입력 값을 다루기 위함(다중분류)\n",
        "- 다항 로지스틱스\n",
        "\n",
        "> \\\\( { y }_{ k }=\\frac { exp({ a }_{ k }) }{ \\sum _{ i=1 }^{ n }{ exp({ a }_{ i }) }  }  \\\\)"
      ]
    },
    {
      "cell_type": "code",
      "metadata": {
        "colab": {
          "base_uri": "https://localhost:8080/"
        },
        "id": "FiwO9cQjUgnY",
        "outputId": "bbdbb660-c574-4813-d43e-83b11d6c0d3f"
      },
      "source": [
        "score = [-1 , -0.5 , 1.0 , 1.5]\n",
        "\n",
        "prob = []\n",
        "sum = 0\n",
        "for s in score:\n",
        "  prob.append(np.exp(s))\n",
        "  sum += np.exp(s)\n",
        "\n",
        "y = prob /sum\n",
        "print(y)\n",
        "print(np.sum(y))"
      ],
      "execution_count": 86,
      "outputs": [
        {
          "output_type": "stream",
          "text": [
            "[0.04500395 0.07419897 0.33253672 0.54826036]\n",
            "1.0\n"
          ],
          "name": "stdout"
        }
      ]
    },
    {
      "cell_type": "code",
      "metadata": {
        "colab": {
          "base_uri": "https://localhost:8080/"
        },
        "id": "a1zOrgOkVPop",
        "outputId": "8226743e-2e4a-44ad-d518-15ffc50eabd0"
      },
      "source": [
        "a = np.array([0.3 , 2.9 , 4.0])\n",
        "exp_a = np.exp(a)\n",
        "print(exp_a)\n",
        "\n",
        "sum_exp_a = np.sum(exp_a)\n",
        "print(sum_exp_a)\n",
        "\n",
        "y = exp_a / sum_exp_a\n",
        "print(y)\n",
        "print(np.sum(y))"
      ],
      "execution_count": 89,
      "outputs": [
        {
          "output_type": "stream",
          "text": [
            "[ 1.34985881 18.17414537 54.59815003]\n",
            "74.1221542101633\n",
            "[0.01821127 0.24519181 0.73659691]\n",
            "1.0\n"
          ],
          "name": "stdout"
        }
      ]
    },
    {
      "cell_type": "code",
      "metadata": {
        "id": "FQsR49WOVpcC"
      },
      "source": [
        "def softmax(a):\n",
        "  exp_a = np.exp(a)         # 지수함수\n",
        "  sum_exp_a = np.sum(exp_a) # 지수의 합\n",
        "  y = exp_a / sum_exp_a     # 확률\n",
        "  return y \n"
      ],
      "execution_count": 90,
      "outputs": []
    },
    {
      "cell_type": "code",
      "metadata": {
        "colab": {
          "base_uri": "https://localhost:8080/"
        },
        "id": "hVWPHcszWn-d",
        "outputId": "eeb3e2a8-1121-45cf-b76c-2ad59168f89a"
      },
      "source": [
        "a = np.array([0.3 , 2.9 , 4.0])\n",
        "softmax(a)"
      ],
      "execution_count": 91,
      "outputs": [
        {
          "output_type": "execute_result",
          "data": {
            "text/plain": [
              "array([0.01821127, 0.24519181, 0.73659691])"
            ]
          },
          "metadata": {
            "tags": []
          },
          "execution_count": 91
        }
      ]
    },
    {
      "cell_type": "code",
      "metadata": {
        "colab": {
          "base_uri": "https://localhost:8080/",
          "height": 457
        },
        "id": "Y4Tal_p8WrLp",
        "outputId": "277f37bc-e3fc-4674-9e0e-fde3b3ee0caf"
      },
      "source": [
        "# 로지스틱 회귀에서 소프트맥스\n",
        "X = iris_dataset.data[:,2:]\n",
        "y = iris_dataset.target\n",
        "\n",
        "model = LogisticRegression(multi_class='multinomial',C=1).fit(X,y)\n",
        "\n",
        "print(model.predict(([5,2])))\n",
        "model.predict_proba([[ 5, 2 ]])"
      ],
      "execution_count": 93,
      "outputs": [
        {
          "output_type": "error",
          "ename": "ValueError",
          "evalue": "ignored",
          "traceback": [
            "\u001b[0;31m---------------------------------------------------------------------------\u001b[0m",
            "\u001b[0;31mValueError\u001b[0m                                Traceback (most recent call last)",
            "\u001b[0;32m<ipython-input-93-bfc5cf71983d>\u001b[0m in \u001b[0;36m<module>\u001b[0;34m()\u001b[0m\n\u001b[1;32m      5\u001b[0m \u001b[0mmodel\u001b[0m \u001b[0;34m=\u001b[0m \u001b[0mLogisticRegression\u001b[0m\u001b[0;34m(\u001b[0m\u001b[0mmulti_class\u001b[0m\u001b[0;34m=\u001b[0m\u001b[0;34m'multinomial'\u001b[0m\u001b[0;34m,\u001b[0m\u001b[0mC\u001b[0m\u001b[0;34m=\u001b[0m\u001b[0;36m1\u001b[0m\u001b[0;34m)\u001b[0m\u001b[0;34m.\u001b[0m\u001b[0mfit\u001b[0m\u001b[0;34m(\u001b[0m\u001b[0mX\u001b[0m\u001b[0;34m,\u001b[0m\u001b[0my\u001b[0m\u001b[0;34m)\u001b[0m\u001b[0;34m\u001b[0m\u001b[0;34m\u001b[0m\u001b[0m\n\u001b[1;32m      6\u001b[0m \u001b[0;34m\u001b[0m\u001b[0m\n\u001b[0;32m----> 7\u001b[0;31m \u001b[0mprint\u001b[0m\u001b[0;34m(\u001b[0m\u001b[0mmodel\u001b[0m\u001b[0;34m.\u001b[0m\u001b[0mpredict\u001b[0m\u001b[0;34m(\u001b[0m\u001b[0;34m(\u001b[0m\u001b[0;34m[\u001b[0m\u001b[0;36m5\u001b[0m\u001b[0;34m,\u001b[0m\u001b[0;36m2\u001b[0m\u001b[0;34m]\u001b[0m\u001b[0;34m)\u001b[0m\u001b[0;34m)\u001b[0m\u001b[0;34m)\u001b[0m\u001b[0;34m\u001b[0m\u001b[0;34m\u001b[0m\u001b[0m\n\u001b[0m\u001b[1;32m      8\u001b[0m \u001b[0mmodel\u001b[0m\u001b[0;34m.\u001b[0m\u001b[0mpredict_proba\u001b[0m\u001b[0;34m(\u001b[0m\u001b[0;34m[\u001b[0m\u001b[0;34m[\u001b[0m \u001b[0;36m5\u001b[0m\u001b[0;34m,\u001b[0m \u001b[0;36m2\u001b[0m \u001b[0;34m]\u001b[0m\u001b[0;34m]\u001b[0m\u001b[0;34m)\u001b[0m\u001b[0;34m\u001b[0m\u001b[0;34m\u001b[0m\u001b[0m\n",
            "\u001b[0;32m/usr/local/lib/python3.7/dist-packages/sklearn/linear_model/_base.py\u001b[0m in \u001b[0;36mpredict\u001b[0;34m(self, X)\u001b[0m\n\u001b[1;32m    291\u001b[0m             \u001b[0mPredicted\u001b[0m \u001b[0;32mclass\u001b[0m \u001b[0mlabel\u001b[0m \u001b[0mper\u001b[0m \u001b[0msample\u001b[0m\u001b[0;34m.\u001b[0m\u001b[0;34m\u001b[0m\u001b[0;34m\u001b[0m\u001b[0m\n\u001b[1;32m    292\u001b[0m         \"\"\"\n\u001b[0;32m--> 293\u001b[0;31m         \u001b[0mscores\u001b[0m \u001b[0;34m=\u001b[0m \u001b[0mself\u001b[0m\u001b[0;34m.\u001b[0m\u001b[0mdecision_function\u001b[0m\u001b[0;34m(\u001b[0m\u001b[0mX\u001b[0m\u001b[0;34m)\u001b[0m\u001b[0;34m\u001b[0m\u001b[0;34m\u001b[0m\u001b[0m\n\u001b[0m\u001b[1;32m    294\u001b[0m         \u001b[0;32mif\u001b[0m \u001b[0mlen\u001b[0m\u001b[0;34m(\u001b[0m\u001b[0mscores\u001b[0m\u001b[0;34m.\u001b[0m\u001b[0mshape\u001b[0m\u001b[0;34m)\u001b[0m \u001b[0;34m==\u001b[0m \u001b[0;36m1\u001b[0m\u001b[0;34m:\u001b[0m\u001b[0;34m\u001b[0m\u001b[0;34m\u001b[0m\u001b[0m\n\u001b[1;32m    295\u001b[0m             \u001b[0mindices\u001b[0m \u001b[0;34m=\u001b[0m \u001b[0;34m(\u001b[0m\u001b[0mscores\u001b[0m \u001b[0;34m>\u001b[0m \u001b[0;36m0\u001b[0m\u001b[0;34m)\u001b[0m\u001b[0;34m.\u001b[0m\u001b[0mastype\u001b[0m\u001b[0;34m(\u001b[0m\u001b[0mnp\u001b[0m\u001b[0;34m.\u001b[0m\u001b[0mint\u001b[0m\u001b[0;34m)\u001b[0m\u001b[0;34m\u001b[0m\u001b[0;34m\u001b[0m\u001b[0m\n",
            "\u001b[0;32m/usr/local/lib/python3.7/dist-packages/sklearn/linear_model/_base.py\u001b[0m in \u001b[0;36mdecision_function\u001b[0;34m(self, X)\u001b[0m\n\u001b[1;32m    266\u001b[0m         \u001b[0mcheck_is_fitted\u001b[0m\u001b[0;34m(\u001b[0m\u001b[0mself\u001b[0m\u001b[0;34m)\u001b[0m\u001b[0;34m\u001b[0m\u001b[0;34m\u001b[0m\u001b[0m\n\u001b[1;32m    267\u001b[0m \u001b[0;34m\u001b[0m\u001b[0m\n\u001b[0;32m--> 268\u001b[0;31m         \u001b[0mX\u001b[0m \u001b[0;34m=\u001b[0m \u001b[0mcheck_array\u001b[0m\u001b[0;34m(\u001b[0m\u001b[0mX\u001b[0m\u001b[0;34m,\u001b[0m \u001b[0maccept_sparse\u001b[0m\u001b[0;34m=\u001b[0m\u001b[0;34m'csr'\u001b[0m\u001b[0;34m)\u001b[0m\u001b[0;34m\u001b[0m\u001b[0;34m\u001b[0m\u001b[0m\n\u001b[0m\u001b[1;32m    269\u001b[0m \u001b[0;34m\u001b[0m\u001b[0m\n\u001b[1;32m    270\u001b[0m         \u001b[0mn_features\u001b[0m \u001b[0;34m=\u001b[0m \u001b[0mself\u001b[0m\u001b[0;34m.\u001b[0m\u001b[0mcoef_\u001b[0m\u001b[0;34m.\u001b[0m\u001b[0mshape\u001b[0m\u001b[0;34m[\u001b[0m\u001b[0;36m1\u001b[0m\u001b[0;34m]\u001b[0m\u001b[0;34m\u001b[0m\u001b[0;34m\u001b[0m\u001b[0m\n",
            "\u001b[0;32m/usr/local/lib/python3.7/dist-packages/sklearn/utils/validation.py\u001b[0m in \u001b[0;36mcheck_array\u001b[0;34m(array, accept_sparse, accept_large_sparse, dtype, order, copy, force_all_finite, ensure_2d, allow_nd, ensure_min_samples, ensure_min_features, warn_on_dtype, estimator)\u001b[0m\n\u001b[1;32m    554\u001b[0m                     \u001b[0;34m\"Reshape your data either using array.reshape(-1, 1) if \"\u001b[0m\u001b[0;34m\u001b[0m\u001b[0;34m\u001b[0m\u001b[0m\n\u001b[1;32m    555\u001b[0m                     \u001b[0;34m\"your data has a single feature or array.reshape(1, -1) \"\u001b[0m\u001b[0;34m\u001b[0m\u001b[0;34m\u001b[0m\u001b[0m\n\u001b[0;32m--> 556\u001b[0;31m                     \"if it contains a single sample.\".format(array))\n\u001b[0m\u001b[1;32m    557\u001b[0m \u001b[0;34m\u001b[0m\u001b[0m\n\u001b[1;32m    558\u001b[0m         \u001b[0;31m# in the future np.flexible dtypes will be handled like object dtypes\u001b[0m\u001b[0;34m\u001b[0m\u001b[0;34m\u001b[0m\u001b[0;34m\u001b[0m\u001b[0m\n",
            "\u001b[0;31mValueError\u001b[0m: Expected 2D array, got 1D array instead:\narray=[5 2].\nReshape your data either using array.reshape(-1, 1) if your data has a single feature or array.reshape(1, -1) if it contains a single sample."
          ]
        }
      ]
    },
    {
      "cell_type": "code",
      "metadata": {
        "id": "Pp5SKoxWaDS7"
      },
      "source": [
        ""
      ],
      "execution_count": null,
      "outputs": []
    }
  ]
}