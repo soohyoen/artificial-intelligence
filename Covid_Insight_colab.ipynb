{
  "nbformat": 4,
  "nbformat_minor": 0,
  "metadata": {
    "kernelspec": {
      "display_name": "Python 3",
      "language": "python",
      "name": "python3"
    },
    "language_info": {
      "codemirror_mode": {
        "name": "ipython",
        "version": 3
      },
      "file_extension": ".py",
      "mimetype": "text/x-python",
      "name": "python",
      "nbconvert_exporter": "python",
      "pygments_lexer": "ipython3",
      "version": "3.8.8"
    },
    "colab": {
      "name": "Covid_Insight_colab.ipynb",
      "provenance": [],
      "collapsed_sections": [
        "kmzOP5_FlNpV",
        "UyqGjo7clNpY"
      ],
      "include_colab_link": true
    }
  },
  "cells": [
    {
      "cell_type": "markdown",
      "metadata": {
        "id": "view-in-github",
        "colab_type": "text"
      },
      "source": [
        "<a href=\"https://colab.research.google.com/github/soohyoen/artificial-intelligence/blob/main/Covid_Insight_colab.ipynb\" target=\"_parent\"><img src=\"https://colab.research.google.com/assets/colab-badge.svg\" alt=\"Open In Colab\"/></a>"
      ]
    },
    {
      "cell_type": "markdown",
      "metadata": {
        "id": "LbaP5Uf8lNpJ"
      },
      "source": [
        "## 코로나 : 시각화를 통한 인사이트 도출"
      ]
    },
    {
      "cell_type": "markdown",
      "metadata": {
        "id": "KCF_HKuNlNpM"
      },
      "source": [
        "**참고 팀**: https://visualisingkorea.com/"
      ]
    },
    {
      "cell_type": "markdown",
      "metadata": {
        "id": "Q6xpr1_0lNpM"
      },
      "source": [
        "### 1. 준비."
      ]
    },
    {
      "cell_type": "code",
      "metadata": {
        "id": "70l_EsnzlNpN"
      },
      "source": [
        "# 필요한 라이브러리를 가져온다.\n",
        "import pandas as pd\n",
        "import numpy as np\n",
        "import seaborn as sns\n",
        "import scipy.stats as st\n",
        "import matplotlib.pyplot as plt\n",
        "\n",
        "from sklearn.preprocessing import StandardScaler \n",
        "from sklearn.cluster import KMeans\n",
        "from sklearn.decomposition import PCA"
      ],
      "execution_count": null,
      "outputs": []
    },
    {
      "cell_type": "code",
      "metadata": {
        "id": "1dpNXqcmlNpO",
        "colab": {
          "base_uri": "https://localhost:8080/"
        },
        "outputId": "ec570cf8-2154-4133-b44f-3900352cab9c"
      },
      "source": [
        "# 구글 드라이브 마운트.\n",
        "from google.colab import drive\n",
        "drive.mount('/content/drive')  # 절차를 따라서 한다"
      ],
      "execution_count": null,
      "outputs": [
        {
          "output_type": "stream",
          "text": [
            "Mounted at /content/drive\n"
          ],
          "name": "stdout"
        }
      ]
    },
    {
      "cell_type": "code",
      "metadata": {
        "id": "OEGrX_aXlNpO",
        "colab": {
          "base_uri": "https://localhost:8080/"
        },
        "outputId": "30465eaa-2d67-48f7-a8fc-4dfa81707d2d"
      },
      "source": [
        "# 경로 이동.\n",
        "%cd \"/content/drive/MyDrive/GwangjuAI/notebook\""
      ],
      "execution_count": null,
      "outputs": [
        {
          "output_type": "stream",
          "text": [
            "/content/drive/MyDrive/GwangjuAI/notebook\n"
          ],
          "name": "stdout"
        }
      ]
    },
    {
      "cell_type": "code",
      "metadata": {
        "id": "Mobo5twPlNpP"
      },
      "source": [
        "# Pandas 데이터 프레임에서 float을 소수점 4자리 까지 출력해 준다.\n",
        "pd.set_option(\"precision\",4)"
      ],
      "execution_count": null,
      "outputs": []
    },
    {
      "cell_type": "code",
      "metadata": {
        "id": "I8Mfr67ElNpP"
      },
      "source": [
        "# 성가신 경고를 꺼준다.\n",
        "import warnings  \n",
        "warnings.filterwarnings('ignore')"
      ],
      "execution_count": null,
      "outputs": []
    },
    {
      "cell_type": "code",
      "metadata": {
        "id": "A3bVYVA6lNpQ"
      },
      "source": [
        "# 환자정보 데이터를 불러온다.\n",
        "df1 = pd.read_csv('/content/PatientInfo.csv')"
      ],
      "execution_count": null,
      "outputs": []
    },
    {
      "cell_type": "code",
      "metadata": {
        "id": "DdLzOlEwlNpR",
        "colab": {
          "base_uri": "https://localhost:8080/",
          "height": 290
        },
        "outputId": "e2b21b9e-dd49-4db3-c9c2-eafe3bd6d314"
      },
      "source": [
        "df1.head()"
      ],
      "execution_count": null,
      "outputs": [
        {
          "output_type": "execute_result",
          "data": {
            "text/html": [
              "<div>\n",
              "<style scoped>\n",
              "    .dataframe tbody tr th:only-of-type {\n",
              "        vertical-align: middle;\n",
              "    }\n",
              "\n",
              "    .dataframe tbody tr th {\n",
              "        vertical-align: top;\n",
              "    }\n",
              "\n",
              "    .dataframe thead th {\n",
              "        text-align: right;\n",
              "    }\n",
              "</style>\n",
              "<table border=\"1\" class=\"dataframe\">\n",
              "  <thead>\n",
              "    <tr style=\"text-align: right;\">\n",
              "      <th></th>\n",
              "      <th>patient_id</th>\n",
              "      <th>global_num</th>\n",
              "      <th>sex</th>\n",
              "      <th>birth_year</th>\n",
              "      <th>age</th>\n",
              "      <th>country</th>\n",
              "      <th>province</th>\n",
              "      <th>city</th>\n",
              "      <th>disease</th>\n",
              "      <th>infection_case</th>\n",
              "      <th>infection_order</th>\n",
              "      <th>infected_by</th>\n",
              "      <th>contact_number</th>\n",
              "      <th>symptom_onset_date</th>\n",
              "      <th>confirmed_date</th>\n",
              "      <th>released_date</th>\n",
              "      <th>deceased_date</th>\n",
              "      <th>state</th>\n",
              "    </tr>\n",
              "  </thead>\n",
              "  <tbody>\n",
              "    <tr>\n",
              "      <th>0</th>\n",
              "      <td>1000000001</td>\n",
              "      <td>2.0</td>\n",
              "      <td>male</td>\n",
              "      <td>1964</td>\n",
              "      <td>50s</td>\n",
              "      <td>Korea</td>\n",
              "      <td>Seoul</td>\n",
              "      <td>Gangseo-gu</td>\n",
              "      <td>NaN</td>\n",
              "      <td>overseas inflow</td>\n",
              "      <td>1.0</td>\n",
              "      <td>NaN</td>\n",
              "      <td>75</td>\n",
              "      <td>2020-01-22</td>\n",
              "      <td>2020-01-23</td>\n",
              "      <td>2020-02-05</td>\n",
              "      <td>NaN</td>\n",
              "      <td>released</td>\n",
              "    </tr>\n",
              "    <tr>\n",
              "      <th>1</th>\n",
              "      <td>1000000002</td>\n",
              "      <td>5.0</td>\n",
              "      <td>male</td>\n",
              "      <td>1987</td>\n",
              "      <td>30s</td>\n",
              "      <td>Korea</td>\n",
              "      <td>Seoul</td>\n",
              "      <td>Jungnang-gu</td>\n",
              "      <td>NaN</td>\n",
              "      <td>overseas inflow</td>\n",
              "      <td>1.0</td>\n",
              "      <td>NaN</td>\n",
              "      <td>31</td>\n",
              "      <td>NaN</td>\n",
              "      <td>2020-01-30</td>\n",
              "      <td>2020-03-02</td>\n",
              "      <td>NaN</td>\n",
              "      <td>released</td>\n",
              "    </tr>\n",
              "    <tr>\n",
              "      <th>2</th>\n",
              "      <td>1000000003</td>\n",
              "      <td>6.0</td>\n",
              "      <td>male</td>\n",
              "      <td>1964</td>\n",
              "      <td>50s</td>\n",
              "      <td>Korea</td>\n",
              "      <td>Seoul</td>\n",
              "      <td>Jongno-gu</td>\n",
              "      <td>NaN</td>\n",
              "      <td>contact with patient</td>\n",
              "      <td>2.0</td>\n",
              "      <td>2002000001</td>\n",
              "      <td>17</td>\n",
              "      <td>NaN</td>\n",
              "      <td>2020-01-30</td>\n",
              "      <td>2020-02-19</td>\n",
              "      <td>NaN</td>\n",
              "      <td>released</td>\n",
              "    </tr>\n",
              "    <tr>\n",
              "      <th>3</th>\n",
              "      <td>1000000004</td>\n",
              "      <td>7.0</td>\n",
              "      <td>male</td>\n",
              "      <td>1991</td>\n",
              "      <td>20s</td>\n",
              "      <td>Korea</td>\n",
              "      <td>Seoul</td>\n",
              "      <td>Mapo-gu</td>\n",
              "      <td>NaN</td>\n",
              "      <td>overseas inflow</td>\n",
              "      <td>1.0</td>\n",
              "      <td>NaN</td>\n",
              "      <td>9</td>\n",
              "      <td>2020-01-26</td>\n",
              "      <td>2020-01-30</td>\n",
              "      <td>2020-02-15</td>\n",
              "      <td>NaN</td>\n",
              "      <td>released</td>\n",
              "    </tr>\n",
              "    <tr>\n",
              "      <th>4</th>\n",
              "      <td>1000000005</td>\n",
              "      <td>9.0</td>\n",
              "      <td>female</td>\n",
              "      <td>1992</td>\n",
              "      <td>20s</td>\n",
              "      <td>Korea</td>\n",
              "      <td>Seoul</td>\n",
              "      <td>Seongbuk-gu</td>\n",
              "      <td>NaN</td>\n",
              "      <td>contact with patient</td>\n",
              "      <td>2.0</td>\n",
              "      <td>1000000002</td>\n",
              "      <td>2</td>\n",
              "      <td>NaN</td>\n",
              "      <td>2020-01-31</td>\n",
              "      <td>2020-02-24</td>\n",
              "      <td>NaN</td>\n",
              "      <td>released</td>\n",
              "    </tr>\n",
              "  </tbody>\n",
              "</table>\n",
              "</div>"
            ],
            "text/plain": [
              "   patient_id  global_num     sex  ... released_date deceased_date     state\n",
              "0  1000000001         2.0    male  ...    2020-02-05           NaN  released\n",
              "1  1000000002         5.0    male  ...    2020-03-02           NaN  released\n",
              "2  1000000003         6.0    male  ...    2020-02-19           NaN  released\n",
              "3  1000000004         7.0    male  ...    2020-02-15           NaN  released\n",
              "4  1000000005         9.0  female  ...    2020-02-24           NaN  released\n",
              "\n",
              "[5 rows x 18 columns]"
            ]
          },
          "metadata": {
            "tags": []
          },
          "execution_count": 9
        }
      ]
    },
    {
      "cell_type": "code",
      "metadata": {
        "id": "I30BgtmJlNpR",
        "colab": {
          "base_uri": "https://localhost:8080/"
        },
        "outputId": "ecdb55a3-12ba-4f29-f044-5a2137fc390e"
      },
      "source": [
        "# 컬럼의 자료형을 살펴본다.\n",
        "df1.info()"
      ],
      "execution_count": null,
      "outputs": [
        {
          "output_type": "stream",
          "text": [
            "<class 'pandas.core.frame.DataFrame'>\n",
            "RangeIndex: 4004 entries, 0 to 4003\n",
            "Data columns (total 18 columns):\n",
            " #   Column              Non-Null Count  Dtype  \n",
            "---  ------              --------------  -----  \n",
            " 0   patient_id          4004 non-null   int64  \n",
            " 1   global_num          2806 non-null   float64\n",
            " 2   sex                 3674 non-null   object \n",
            " 3   birth_year          3267 non-null   object \n",
            " 4   age                 3525 non-null   object \n",
            " 5   country             4004 non-null   object \n",
            " 6   province            4004 non-null   object \n",
            " 7   city                3926 non-null   object \n",
            " 8   disease             18 non-null     object \n",
            " 9   infection_case      3211 non-null   object \n",
            " 10  infection_order     31 non-null     float64\n",
            " 11  infected_by         899 non-null    object \n",
            " 12  contact_number      680 non-null    object \n",
            " 13  symptom_onset_date  535 non-null    object \n",
            " 14  confirmed_date      4001 non-null   object \n",
            " 15  released_date       1508 non-null   object \n",
            " 16  deceased_date       65 non-null     object \n",
            " 17  state               4004 non-null   object \n",
            "dtypes: float64(2), int64(1), object(15)\n",
            "memory usage: 563.2+ KB\n"
          ],
          "name": "stdout"
        }
      ]
    },
    {
      "cell_type": "markdown",
      "metadata": {
        "id": "EcGgCXJ3lNpS"
      },
      "source": [
        "### 2. 기초적인 탐색."
      ]
    },
    {
      "cell_type": "code",
      "metadata": {
        "id": "BKNDiTLrlNpS",
        "colab": {
          "base_uri": "https://localhost:8080/"
        },
        "outputId": "0988259d-1d94-4a84-f6f8-22743ef7dbad"
      },
      "source": [
        "# 결측치의 총 카운트.\n",
        "df1.isnull().sum().sum()"
      ],
      "execution_count": null,
      "outputs": [
        {
          "output_type": "execute_result",
          "data": {
            "text/plain": [
              "27910"
            ]
          },
          "metadata": {
            "tags": []
          },
          "execution_count": 11
        }
      ]
    },
    {
      "cell_type": "code",
      "metadata": {
        "id": "YX2s0TBllNpT",
        "colab": {
          "base_uri": "https://localhost:8080/",
          "height": 692
        },
        "outputId": "11ed3fb8-fe84-4395-dd05-b7a02fb7a713"
      },
      "source": [
        "# 결측치를 시각화 해본다.\n",
        "plt.figure(figsize = (15,10))                                       # figsize=(가로, 세로) 크기.\n",
        "sns.heatmap(df1.isnull(), cmap='Blues', cbar=False)\n",
        "plt.show()"
      ],
      "execution_count": null,
      "outputs": [
        {
          "output_type": "display_data",
          "data": {
            "image/png": "[encoded data removed]",
            "text/plain": [
              "<Figure size 1080x720 with 1 Axes>"
            ]
          },
          "metadata": {
            "tags": [],
            "needs_background": "light"
          }
        }
      ]
    },
    {
      "cell_type": "code",
      "metadata": {
        "id": "dmUMZtdMlNpT",
        "colab": {
          "base_uri": "https://localhost:8080/"
        },
        "outputId": "c9f77f80-0c3a-4127-8774-19d7285ba63c"
      },
      "source": [
        "# 중복된 환자 ID는 없어 보인다.\n",
        "print(\"데이터 행의 수 = {}\".format(df1.shape[0]))                  # 데이터 행의 수 = 4004\n",
        "print(\"고유한 환자 ID 수 = {}\".format(df1.patient_id.nunique()))   # 고유한 환자 ID 수 = 4004"
      ],
      "execution_count": null,
      "outputs": [
        {
          "output_type": "stream",
          "text": [
            "데이터 행의 수 = 4004\n",
            "고유한 환자 ID 수 = 4004\n"
          ],
          "name": "stdout"
        }
      ]
    },
    {
      "cell_type": "code",
      "metadata": {
        "id": "dAwLz3DmlNpT",
        "colab": {
          "base_uri": "https://localhost:8080/",
          "height": 290
        },
        "outputId": "f42796ce-96a7-455b-e08f-3ebe312abf99"
      },
      "source": [
        "# 명목형 변수인 Sex를 시각화 해본다.\n",
        "sex_counts = df1.sex.value_counts()              \n",
        "sex_counts = sex_counts.sort_values(ascending=False)\n",
        "sex_counts.plot.bar(color='turquoise', alpha=0.7)\n",
        "plt.show()"
      ],
      "execution_count": null,
      "outputs": [
        {
          "output_type": "display_data",
          "data": {
            "image/png": "[encoded data removed]",
            "text/plain": [
              "<Figure size 432x288 with 1 Axes>"
            ]
          },
          "metadata": {
            "tags": [],
            "needs_background": "light"
          }
        }
      ]
    },
    {
      "cell_type": "code",
      "metadata": {
        "id": "cO65dmyflNpT",
        "colab": {
          "base_uri": "https://localhost:8080/"
        },
        "outputId": "6645c14a-7b96-4f06-db22-20fd4e87b4df"
      },
      "source": [
        "# Age 변수의 유형 출력.\n",
        "df1.age.unique()"
      ],
      "execution_count": null,
      "outputs": [
        {
          "output_type": "execute_result",
          "data": {
            "text/plain": [
              "array(['50s', '30s', '20s', '60s', '80s', '70s', '40s', '10s', '90s',\n",
              "       '0s', nan, '30', '100s'], dtype=object)"
            ]
          },
          "metadata": {
            "tags": []
          },
          "execution_count": 15
        }
      ]
    },
    {
      "cell_type": "code",
      "metadata": {
        "id": "H6eZMQnQlNpT",
        "colab": {
          "base_uri": "https://localhost:8080/",
          "height": 274
        },
        "outputId": "8f985a7a-5687-4983-95a7-e1676d2a4311"
      },
      "source": [
        "# 명목형 변수인 Age를 시각화 해본다.\n",
        "df1.age = df1.age.str.replace('s','',regex=True)                      # 's' 제거.\n",
        "age_counts = df1.age.value_counts()                                   # 도수표.\n",
        "age_counts = age_counts.sort_values(ascending=False)\n",
        "age_counts.plot.bar(color='green', alpha=0.5)\n",
        "plt.show()"
      ],
      "execution_count": null,
      "outputs": [
        {
          "output_type": "display_data",
          "data": {
            "image/png": "[encoded data removed]",
            "text/plain": [
              "<Figure size 432x288 with 1 Axes>"
            ]
          },
          "metadata": {
            "tags": [],
            "needs_background": "light"
          }
        }
      ]
    },
    {
      "cell_type": "code",
      "metadata": {
        "id": "jEaz_xKblNpU",
        "colab": {
          "base_uri": "https://localhost:8080/",
          "height": 336
        },
        "outputId": "4a7fbfb2-55da-4dc9-cbad-96b015be461a"
      },
      "source": [
        "# 명목형 변수인 Country를 가지고 국적별로 시각화 해본다.\n",
        "country_counts = df1.country.value_counts()                 \n",
        "country_counts = country_counts.sort_values(ascending=False)\n",
        "country_counts.plot.bar(color='pink', alpha = 0.7)\n",
        "plt.show()"
      ],
      "execution_count": null,
      "outputs": [
        {
          "output_type": "display_data",
          "data": {
            "image/png": "[encoded data removed]",
            "text/plain": [
              "<Figure size 432x288 with 1 Axes>"
            ]
          },
          "metadata": {
            "tags": [],
            "needs_background": "light"
          }
        }
      ]
    },
    {
      "cell_type": "code",
      "metadata": {
        "id": "27XlADbClNpU",
        "colab": {
          "base_uri": "https://localhost:8080/",
          "height": 303
        },
        "outputId": "bd9e55e2-7546-4094-8193-416fb5b9e154"
      },
      "source": [
        "# 명목형 변수인 Country를 가지고 내국인 여부를 시각화 해본다.\n",
        "country_counts = (df1.country == \"Korea\").value_counts()\n",
        "country_counts = country_counts.sort_values(ascending=False)\n",
        "country_counts.index = [\"Korean\", \"Foreigner\"]\n",
        "country_counts.plot.bar(color= \"pink\",alpha=0.7)\n",
        "plt.show()"
      ],
      "execution_count": null,
      "outputs": [
        {
          "output_type": "display_data",
          "data": {
            "image/png": "[encoded data removed]",
            "text/plain": [
              "<Figure size 432x288 with 1 Axes>"
            ]
          },
          "metadata": {
            "tags": [],
            "needs_background": "light"
          }
        }
      ]
    },
    {
      "cell_type": "code",
      "metadata": {
        "id": "slH-Ql5YlNpU",
        "colab": {
          "base_uri": "https://localhost:8080/"
        },
        "outputId": "567d4bc7-7f89-43a7-c0b1-7ae75620263d"
      },
      "source": [
        "# 기저질환 (disease)는 결측치 아닌 정상값의 수가 절대적으로 부족해서 분석하기 어려움.\n",
        "df1.disease.count()"
      ],
      "execution_count": null,
      "outputs": [
        {
          "output_type": "execute_result",
          "data": {
            "text/plain": [
              "18"
            ]
          },
          "metadata": {
            "tags": []
          },
          "execution_count": 19
        }
      ]
    },
    {
      "cell_type": "code",
      "metadata": {
        "id": "Dc-KqUtdlNpU",
        "colab": {
          "base_uri": "https://localhost:8080/",
          "height": 303
        },
        "outputId": "d4fbeeff-55e3-46d9-8c1f-645d74c3b464"
      },
      "source": [
        "# 명목형 변수인 State를 시각화 해본다.\n",
        "state_counts = df1.state.value_counts()              \n",
        "state_counts = state_counts.sort_values(ascending=False)\n",
        "state_counts.plot.bar(color='blue', alpha=0.5)\n",
        "plt.show()"
      ],
      "execution_count": null,
      "outputs": [
        {
          "output_type": "display_data",
          "data": {
            "image/png": "[encoded data removed]",
            "text/plain": [
              "<Figure size 432x288 with 1 Axes>"
            ]
          },
          "metadata": {
            "tags": [],
            "needs_background": "light"
          }
        }
      ]
    },
    {
      "cell_type": "code",
      "metadata": {
        "id": "9kHcCTeYlNpU",
        "colab": {
          "base_uri": "https://localhost:8080/",
          "height": 288
        },
        "outputId": "2949c645-6bb4-45aa-8226-b43368ed8a43"
      },
      "source": [
        "# 명목형 변수인 Age와 Sex를 조합하여 시각화 해본다.\n",
        "ct = pd.crosstab(df1.age, df1.sex)\n",
        "ct['total'] = ct.male + ct.female                      # total 컬럼.\n",
        "ct.sort_values(by=['total'], ascending=False)[['male','female']].plot.bar(color=[\"blue\",\"red\"],stacked=True)   # total로 소팅. total은 시각화에서는 제외!\n",
        "plt.show()"
      ],
      "execution_count": null,
      "outputs": [
        {
          "output_type": "display_data",
          "data": {
            "image/png": "[encoded data removed]",
            "text/plain": [
              "<Figure size 432x288 with 1 Axes>"
            ]
          },
          "metadata": {
            "tags": [],
            "needs_background": "light"
          }
        }
      ]
    },
    {
      "cell_type": "code",
      "metadata": {
        "id": "eVHacb63lNpV",
        "colab": {
          "base_uri": "https://localhost:8080/",
          "height": 289
        },
        "outputId": "fb1f0414-b207-45f3-c061-777234363455"
      },
      "source": [
        "# Age별 사망비율.\n",
        "ct = pd.crosstab(df1.age, df1.state=='deceased')\n",
        "ct.columns = ['alive','deceased']\n",
        "ct['mortality'] = ct.deceased/(ct.alive + ct.deceased)\n",
        "ct.sort_values(by=['mortality'], ascending=False)[['mortality']].plot.bar(color='red', alpha=0.5)   # mortality로 소팅 및 시각화.\n",
        "plt.show()"
      ],
      "execution_count": null,
      "outputs": [
        {
          "output_type": "display_data",
          "data": {
            "image/png": "[encoded data removed]",
            "text/plain": [
              "<Figure size 432x288 with 1 Axes>"
            ]
          },
          "metadata": {
            "tags": [],
            "needs_background": "light"
          }
        }
      ]
    },
    {
      "cell_type": "code",
      "metadata": {
        "id": "Jf6tE9DulNpV",
        "colab": {
          "base_uri": "https://localhost:8080/"
        },
        "outputId": "58760a17-36d3-4397-a428-9728dca59b9b"
      },
      "source": [
        "# Age와 사망여부 독립성 검정.\n",
        "stat, p_val, degFree, expected = st.chi2_contingency(ct[['alive','deceased']])    # 통계량, p-값, 자유도, 기대도수.\n",
        "print(\"p_value : {}\".format(np.round(p_val,3)))                                   # 독립이 아님!"
      ],
      "execution_count": null,
      "outputs": [
        {
          "output_type": "stream",
          "text": [
            "p_value : 0.0\n"
          ],
          "name": "stdout"
        }
      ]
    },
    {
      "cell_type": "code",
      "metadata": {
        "id": "Ot5LRk9ylNpV",
        "colab": {
          "base_uri": "https://localhost:8080/",
          "height": 304
        },
        "outputId": "5488493f-4432-4dcb-a42c-f5e8a3b73f6f"
      },
      "source": [
        "# Sex별 사망비율.\n",
        "ct = pd.crosstab(df1.sex, df1.state=='deceased')\n",
        "ct.columns = ['alive','deceased']\n",
        "ct['mortality'] = ct.deceased/(ct.alive + ct.deceased)\n",
        "ct.sort_values(by=['mortality'], ascending=False)[['mortality']].plot.bar(color='green', alpha=0.5)   # mortality로 소팅 및 시각화.\n",
        "plt.show()"
      ],
      "execution_count": null,
      "outputs": [
        {
          "output_type": "display_data",
          "data": {
            "image/png": "[encoded data removed]",
            "text/plain": [
              "<Figure size 432x288 with 1 Axes>"
            ]
          },
          "metadata": {
            "tags": [],
            "needs_background": "light"
          }
        }
      ]
    },
    {
      "cell_type": "code",
      "metadata": {
        "id": "g08gojrRlNpV",
        "colab": {
          "base_uri": "https://localhost:8080/"
        },
        "outputId": "5128b8c0-fff0-4f4b-c812-e82d204f790f"
      },
      "source": [
        "# Sex와 사망여부 독립성 검정.\n",
        "stat, p_val, degFree, expected = st.chi2_contingency(ct[['alive','deceased']])    # 통계량, p-값, 자유도, 기대도수.\n",
        "print(\"p_value : {}\".format(np.round(p_val,3)))                                   # 독립이 아님!"
      ],
      "execution_count": null,
      "outputs": [
        {
          "output_type": "stream",
          "text": [
            "p_value : 0.002\n"
          ],
          "name": "stdout"
        }
      ]
    },
    {
      "cell_type": "markdown",
      "metadata": {
        "id": "kmzOP5_FlNpV"
      },
      "source": [
        "### 3. 감염 경로 유형 (Infection Case)"
      ]
    },
    {
      "cell_type": "code",
      "metadata": {
        "id": "gSqJamXwlNpV",
        "colab": {
          "base_uri": "https://localhost:8080/"
        },
        "outputId": "7f31f675-b8e2-4976-a810-d61905da09c6"
      },
      "source": [
        "# 감염 경로의 유형 출력.\n",
        "print(df1.infection_case.unique())"
      ],
      "execution_count": null,
      "outputs": [
        {
          "output_type": "stream",
          "text": [
            "['overseas inflow' 'contact with patient' 'Seongdong-gu APT' 'etc'\n",
            " \"Eunpyeong St. Mary's Hospital\" 'Shincheonji Church' 'Dongan Church'\n",
            " 'Guro-gu Call Center' nan 'Itaewon Clubs' 'Samsung Medical Center'\n",
            " 'Coupang Logistics Center' 'Guri Collective Infection'\n",
            " 'KB Life Insurance' 'Yeongdeungpo Learning Institute' 'Onchun Church'\n",
            " 'Cheongdo Daenam Hospital' 'Suyeong-gu Kindergarten'\n",
            " 'Ministry of Oceans and Fisheries' 'gym facility in Cheonan'\n",
            " 'gym facility in Sejong' 'River of Grace Community Church'\n",
            " 'Gyeongsan Seorin Nursing Home' 'Gyeongsan Cham Joeun Community Center'\n",
            " 'Gyeongsan Jeil Silver Town' 'Bonghwa Pureun Nursing Home'\n",
            " 'Pilgrimage to Israel' 'Milal Shelter' 'Geochang Church'\n",
            " 'Changnyeong Coin Karaoke']\n"
          ],
          "name": "stdout"
        }
      ]
    },
    {
      "cell_type": "code",
      "metadata": {
        "id": "mWAB4bNLlNpW",
        "colab": {
          "base_uri": "https://localhost:8080/"
        },
        "outputId": "161ebb40-edd3-4991-e8a4-2ec82cc322f1"
      },
      "source": [
        "# 감염 경로의 가지수 출력.\n",
        "print(df1.infection_case.nunique())"
      ],
      "execution_count": null,
      "outputs": [
        {
          "output_type": "stream",
          "text": [
            "29\n"
          ],
          "name": "stdout"
        }
      ]
    },
    {
      "cell_type": "code",
      "metadata": {
        "id": "_e2lSdCRlNpW",
        "colab": {
          "base_uri": "https://localhost:8080/",
          "height": 404
        },
        "outputId": "e350ec03-8886-486f-97e2-6d2f88c4912d"
      },
      "source": [
        "# 감염 경로별 환자수 집계하여 시각화 한다.\n",
        "res = df1.groupby(['infection_case'])['patient_id'].count()        # 결측치가 아닌 patient_id의 수 = 환자의 수.\n",
        "res = res.reset_index()                                           # Series => DataFrame. 이전의 Index가 이제는 새로운 컬럼!\n",
        "res.rename(columns = {'infection_case':'infection case', 'patient_id': 'count'}, inplace = True)     # 'patient_id' 컬럼명을 'count'로 변경.\n",
        "res = res.sort_values(by = 'count', ascending = False)            # 데이터 프레임 내림 차순으로 소팅.\n",
        "\n",
        "plt.figure(figsize = (12,6))                                       # figsize=(가로, 세로) 크기.\n",
        "sns.barplot(y = 'infection case', x= 'count', data = res)\n",
        "plt.title('Number of Patients per Infection Case')\n",
        "plt.show()"
      ],
      "execution_count": null,
      "outputs": [
        {
          "output_type": "display_data",
          "data": {
            "image/png": "[encoded data removed]",
            "text/plain": [
              "<Figure size 864x432 with 1 Axes>"
            ]
          },
          "metadata": {
            "tags": [],
            "needs_background": "light"
          }
        }
      ]
    },
    {
      "cell_type": "code",
      "metadata": {
        "id": "Rwk8DooIlNpW"
      },
      "source": [
        "# 헬퍼 함수 정의.\n",
        "def my_conversion_func(x):\n",
        "    if not pd.isnull(x):\n",
        "        if x in my_dict.keys():\n",
        "            return my_dict[x]\n",
        "        else:\n",
        "            return \"Group\"\n",
        "    else:\n",
        "        return \"Unknown\""
      ],
      "execution_count": null,
      "outputs": []
    },
    {
      "cell_type": "code",
      "metadata": {
        "id": "75FM_36glNpW",
        "colab": {
          "base_uri": "https://localhost:8080/",
          "height": 404
        },
        "outputId": "61aea506-a497-4bd3-a92a-23f2d255b5bb"
      },
      "source": [
        "# 다음과 같이 유형의 label을 바꾸어서 다시 집계 및 시각화 해본다.\n",
        "# 'contact with patient' => 'Individual'     개인접촉\n",
        "# 'etc'  or NaN         => 'Unknown'         모름\n",
        "# 'overseas inflow'     => 'Overseas'        해외\n",
        "#  나머지               => 'Group'            집단\n",
        "\n",
        "my_dict = {'contact with patient':'Individual', 'etc':'Unknown', 'overseas inflow': 'Overseas'}\n",
        "res = df1.infection_case.apply(lambda x: my_dict[x] if x in my_dict.keys() else 'Group' if not pd.isnull(x) else 'Unknown')  # 변환! Pythonic!\n",
        "#res = df1.infection_case.apply(my_conversion_func)    # 또다른 방법.\n",
        "df1['infection_cause'] = res  # 변환을 df1에도 적용.\n",
        "\n",
        "# 다시 집계하여 시각화 해본다.\n",
        "res = res.value_counts().sort_values(ascending=False)\n",
        "res = res.reset_index()                                                               # Series => DataFrame. 이전의 Index가 이제는 새로운 컬럼!\n",
        "res.rename(columns={'index':'infection_cause','infection_case':'count'},inplace=True)\n",
        "\n",
        "plt.figure(figsize = (12,6))                                       # figsize=(가로, 세로) 크기.\n",
        "sns.barplot(y = 'infection_cause', x= 'count', data = res, alpha=0.8)\n",
        "plt.title('Number of Patients per Infection Cause')\n",
        "plt.show()"
      ],
      "execution_count": null,
      "outputs": [
        {
          "output_type": "display_data",
          "data": {
            "image/png": "[encoded data removed]",
            "text/plain": [
              "<Figure size 864x432 with 1 Axes>"
            ]
          },
          "metadata": {
            "tags": [],
            "needs_background": "light"
          }
        }
      ]
    },
    {
      "cell_type": "markdown",
      "metadata": {
        "id": "6imqDnILlNpX"
      },
      "source": [
        "**결론**: 유입 경로를 4가지로 요약해 봄."
      ]
    },
    {
      "cell_type": "markdown",
      "metadata": {
        "id": "xR6JP3qclNpX"
      },
      "source": [
        "### 4. 유동성 (Mobility Level)"
      ]
    },
    {
      "cell_type": "code",
      "metadata": {
        "id": "UeTvYW2_lNpX"
      },
      "source": [
        "# 새롭게 동선 데이터를 불러온다.\n",
        "df2 = pd.read_csv('/content/PatientRoute.csv')"
      ],
      "execution_count": null,
      "outputs": []
    },
    {
      "cell_type": "code",
      "metadata": {
        "id": "lW1q8uCTlNpX",
        "colab": {
          "base_uri": "https://localhost:8080/",
          "height": 203
        },
        "outputId": "31e3fbe8-931d-46c3-e8c3-61947b788b36"
      },
      "source": [
        "df2.head()"
      ],
      "execution_count": null,
      "outputs": [
        {
          "output_type": "execute_result",
          "data": {
            "text/html": [
              "<div>\n",
              "<style scoped>\n",
              "    .dataframe tbody tr th:only-of-type {\n",
              "        vertical-align: middle;\n",
              "    }\n",
              "\n",
              "    .dataframe tbody tr th {\n",
              "        vertical-align: top;\n",
              "    }\n",
              "\n",
              "    .dataframe thead th {\n",
              "        text-align: right;\n",
              "    }\n",
              "</style>\n",
              "<table border=\"1\" class=\"dataframe\">\n",
              "  <thead>\n",
              "    <tr style=\"text-align: right;\">\n",
              "      <th></th>\n",
              "      <th>patient_id</th>\n",
              "      <th>global_num</th>\n",
              "      <th>date</th>\n",
              "      <th>province</th>\n",
              "      <th>city</th>\n",
              "      <th>type</th>\n",
              "      <th>latitude</th>\n",
              "      <th>longitude</th>\n",
              "    </tr>\n",
              "  </thead>\n",
              "  <tbody>\n",
              "    <tr>\n",
              "      <th>0</th>\n",
              "      <td>1000000001</td>\n",
              "      <td>2.0</td>\n",
              "      <td>2020-01-22</td>\n",
              "      <td>Gyeonggi-do</td>\n",
              "      <td>Gimpo-si</td>\n",
              "      <td>airport</td>\n",
              "      <td>37.6152</td>\n",
              "      <td>126.7156</td>\n",
              "    </tr>\n",
              "    <tr>\n",
              "      <th>1</th>\n",
              "      <td>1000000001</td>\n",
              "      <td>2.0</td>\n",
              "      <td>2020-01-24</td>\n",
              "      <td>Seoul</td>\n",
              "      <td>Jung-gu</td>\n",
              "      <td>hospital</td>\n",
              "      <td>37.5672</td>\n",
              "      <td>127.0057</td>\n",
              "    </tr>\n",
              "    <tr>\n",
              "      <th>2</th>\n",
              "      <td>1000000002</td>\n",
              "      <td>5.0</td>\n",
              "      <td>2020-01-25</td>\n",
              "      <td>Seoul</td>\n",
              "      <td>Seongbuk-gu</td>\n",
              "      <td>etc</td>\n",
              "      <td>37.5926</td>\n",
              "      <td>127.0170</td>\n",
              "    </tr>\n",
              "    <tr>\n",
              "      <th>3</th>\n",
              "      <td>1000000002</td>\n",
              "      <td>5.0</td>\n",
              "      <td>2020-01-26</td>\n",
              "      <td>Seoul</td>\n",
              "      <td>Seongbuk-gu</td>\n",
              "      <td>store</td>\n",
              "      <td>37.5918</td>\n",
              "      <td>127.0168</td>\n",
              "    </tr>\n",
              "    <tr>\n",
              "      <th>4</th>\n",
              "      <td>1000000002</td>\n",
              "      <td>5.0</td>\n",
              "      <td>2020-01-26</td>\n",
              "      <td>Seoul</td>\n",
              "      <td>Seongdong-gu</td>\n",
              "      <td>public_transportation</td>\n",
              "      <td>37.5640</td>\n",
              "      <td>127.0295</td>\n",
              "    </tr>\n",
              "  </tbody>\n",
              "</table>\n",
              "</div>"
            ],
            "text/plain": [
              "   patient_id  global_num  ... latitude longitude\n",
              "0  1000000001         2.0  ...  37.6152  126.7156\n",
              "1  1000000001         2.0  ...  37.5672  127.0057\n",
              "2  1000000002         5.0  ...  37.5926  127.0170\n",
              "3  1000000002         5.0  ...  37.5918  127.0168\n",
              "4  1000000002         5.0  ...  37.5640  127.0295\n",
              "\n",
              "[5 rows x 8 columns]"
            ]
          },
          "metadata": {
            "tags": []
          },
          "execution_count": 33
        }
      ]
    },
    {
      "cell_type": "code",
      "metadata": {
        "id": "rUS6TF-YlNpX",
        "colab": {
          "base_uri": "https://localhost:8080/"
        },
        "outputId": "81011e35-2517-4c56-b884-962697fcb943"
      },
      "source": [
        "# 결측치의 총 카운트.\n",
        "df2.isnull().sum().sum()"
      ],
      "execution_count": null,
      "outputs": [
        {
          "output_type": "execute_result",
          "data": {
            "text/plain": [
              "3264"
            ]
          },
          "metadata": {
            "tags": []
          },
          "execution_count": 34
        }
      ]
    },
    {
      "cell_type": "code",
      "metadata": {
        "id": "F8n1q_F5lNpX",
        "colab": {
          "base_uri": "https://localhost:8080/",
          "height": 596
        },
        "outputId": "5e522ede-4f1b-4914-ee7b-45930d97e237"
      },
      "source": [
        "# 결측치를 시각화 해본다.\n",
        "plt.figure(figsize = (10,10))                                       # figsize=(가로, 세로) 크기.\n",
        "sns.heatmap(df2.isnull(), cmap='Blues', cbar=False)\n",
        "plt.show()"
      ],
      "execution_count": null,
      "outputs": [
        {
          "output_type": "display_data",
          "data": {
            "image/png": "[encoded data removed]",
            "text/plain": [
              "<Figure size 720x720 with 1 Axes>"
            ]
          },
          "metadata": {
            "tags": [],
            "needs_background": "light"
          }
        }
      ]
    },
    {
      "cell_type": "code",
      "metadata": {
        "id": "uP-stDeClNpX",
        "colab": {
          "base_uri": "https://localhost:8080/"
        },
        "outputId": "f7c05b27-6444-44d9-96e7-361aaa9be314"
      },
      "source": [
        "# 중복된 환자 ID가 많아 보인다.\n",
        "print(\"데이터 행의 수 = {}\".format(df2.shape[0]))\n",
        "print(\"고유한 환자 ID 수 = {}\".format(df2.patient_id.nunique()))"
      ],
      "execution_count": null,
      "outputs": [
        {
          "output_type": "stream",
          "text": [
            "데이터 행의 수 = 8092\n",
            "고유한 환자 ID 수 = 1472\n"
          ],
          "name": "stdout"
        }
      ]
    },
    {
      "cell_type": "code",
      "metadata": {
        "id": "SDPf5aZXlNpX",
        "colab": {
          "base_uri": "https://localhost:8080/"
        },
        "outputId": "bdae7d3d-2500-40c2-9751-f5d9d298e0c6"
      },
      "source": [
        "# 이동 경로의 유형 출력.\n",
        "print(df2.type.unique())"
      ],
      "execution_count": null,
      "outputs": [
        {
          "output_type": "stream",
          "text": [
            "['airport' 'hospital' 'etc' 'store' 'public_transportation' 'restaurant'\n",
            " 'church' 'beauty_salon' 'pharmacy' 'pc_cafe' 'bank' 'academy' 'cafe'\n",
            " 'bakery' 'bar' 'gym' 'school' 'real_estate_agency' 'karaoke'\n",
            " 'post_office' 'gas_station' 'park' 'lodging' 'university'\n",
            " 'administrative_area_level_1']\n"
          ],
          "name": "stdout"
        }
      ]
    },
    {
      "cell_type": "code",
      "metadata": {
        "id": "Txa_K4hulNpY",
        "colab": {
          "base_uri": "https://localhost:8080/"
        },
        "outputId": "ee539538-96d3-45c3-bb3b-96a89221f24e"
      },
      "source": [
        "# 이동 경로의 가지수 출력.\n",
        "print(df2.type.nunique())"
      ],
      "execution_count": null,
      "outputs": [
        {
          "output_type": "stream",
          "text": [
            "25\n"
          ],
          "name": "stdout"
        }
      ]
    },
    {
      "cell_type": "code",
      "metadata": {
        "id": "uEpnH7jGlNpY"
      },
      "source": [
        "# 이동 경로의 유형을 카테고리로 표현해 본다.\n",
        "leisure = ['library', 'theater', 'cafe', 'bakery', 'beauty_salon',\n",
        "          'pc_cafe', 'billiards','restaurant', 'bar', 'karaoke']\n",
        "travel = ['airport', 'lodging']\n",
        "essential_edu = ['primary_school', 'school', 'university']\n",
        "non_essential_edu = ['academy']\n",
        "exercise = ['gym', 'mountain', 'park']\n",
        "essential_admin = ['administrative_area_level_1', 'governmnet_office', 'post_office']\n",
        "non_essential_admin = ['police_office', 'bank', 'real_estate_agency']\n",
        "necessity = ['store', 'public_transportation', 'gas_station']\n",
        "medical = ['hospital', 'pharmacy']\n",
        "church = ['church']\n",
        "etc = ['etc']"
      ],
      "execution_count": null,
      "outputs": []
    },
    {
      "cell_type": "code",
      "metadata": {
        "id": "sJjQb_MolNpY",
        "colab": {
          "base_uri": "https://localhost:8080/"
        },
        "outputId": "9eaa5fa1-e1f3-4bf4-dda2-f613b0733583"
      },
      "source": [
        "# \"필수적\" 카테고리는 다음과 같이 정의한다.\n",
        "essential = essential_edu + essential_admin + necessity + medical \n",
        "len(essential)"
      ],
      "execution_count": null,
      "outputs": [
        {
          "output_type": "execute_result",
          "data": {
            "text/plain": [
              "11"
            ]
          },
          "metadata": {
            "tags": []
          },
          "execution_count": 40
        }
      ]
    },
    {
      "cell_type": "code",
      "metadata": {
        "id": "cOPKqNFElNpY",
        "colab": {
          "base_uri": "https://localhost:8080/",
          "height": 203
        },
        "outputId": "befa2fb3-b67c-4982-f69d-94e2ec046392"
      },
      "source": [
        "# 필수/부수적 여부 변수 'is_essential' 파생변수로 추가.\n",
        "def isessential(x):     \n",
        "    if x in essential: \n",
        "        res = True\n",
        "    else:\n",
        "        res = False \n",
        "    return res\n",
        "\n",
        "df2['is_essential'] = df2['type'].apply( isessential ) \n",
        "\n",
        "# 데이터 프레임 간추리기.\n",
        "df2 = df2[['patient_id', 'is_essential']]\n",
        "df2.head()"
      ],
      "execution_count": null,
      "outputs": [
        {
          "output_type": "execute_result",
          "data": {
            "text/html": [
              "<div>\n",
              "<style scoped>\n",
              "    .dataframe tbody tr th:only-of-type {\n",
              "        vertical-align: middle;\n",
              "    }\n",
              "\n",
              "    .dataframe tbody tr th {\n",
              "        vertical-align: top;\n",
              "    }\n",
              "\n",
              "    .dataframe thead th {\n",
              "        text-align: right;\n",
              "    }\n",
              "</style>\n",
              "<table border=\"1\" class=\"dataframe\">\n",
              "  <thead>\n",
              "    <tr style=\"text-align: right;\">\n",
              "      <th></th>\n",
              "      <th>patient_id</th>\n",
              "      <th>is_essential</th>\n",
              "    </tr>\n",
              "  </thead>\n",
              "  <tbody>\n",
              "    <tr>\n",
              "      <th>0</th>\n",
              "      <td>1000000001</td>\n",
              "      <td>False</td>\n",
              "    </tr>\n",
              "    <tr>\n",
              "      <th>1</th>\n",
              "      <td>1000000001</td>\n",
              "      <td>True</td>\n",
              "    </tr>\n",
              "    <tr>\n",
              "      <th>2</th>\n",
              "      <td>1000000002</td>\n",
              "      <td>False</td>\n",
              "    </tr>\n",
              "    <tr>\n",
              "      <th>3</th>\n",
              "      <td>1000000002</td>\n",
              "      <td>True</td>\n",
              "    </tr>\n",
              "    <tr>\n",
              "      <th>4</th>\n",
              "      <td>1000000002</td>\n",
              "      <td>True</td>\n",
              "    </tr>\n",
              "  </tbody>\n",
              "</table>\n",
              "</div>"
            ],
            "text/plain": [
              "   patient_id  is_essential\n",
              "0  1000000001         False\n",
              "1  1000000001          True\n",
              "2  1000000002         False\n",
              "3  1000000002          True\n",
              "4  1000000002          True"
            ]
          },
          "metadata": {
            "tags": []
          },
          "execution_count": 41
        }
      ]
    },
    {
      "cell_type": "code",
      "metadata": {
        "id": "htN56Nz3lNpY",
        "colab": {
          "base_uri": "https://localhost:8080/",
          "height": 234
        },
        "outputId": "b34a60fc-0646-4b14-d451-72f20b543753"
      },
      "source": [
        "# 동일 환자의 경로 유형을 집계한다 (sum).\n",
        "# 결측치는 0으로 채운다.\n",
        "df2['route_value'] = 1       # 1 로 채워진 컬럼을 추가해서 집계의 목적으로 사용한다.\n",
        "df3 = pd.pivot_table(data=df2, index = 'patient_id', columns = 'is_essential', values= 'route_value', aggfunc='sum', fill_value=0)\n",
        "df3.head()"
      ],
      "execution_count": null,
      "outputs": [
        {
          "output_type": "execute_result",
          "data": {
            "text/html": [
              "<div>\n",
              "<style scoped>\n",
              "    .dataframe tbody tr th:only-of-type {\n",
              "        vertical-align: middle;\n",
              "    }\n",
              "\n",
              "    .dataframe tbody tr th {\n",
              "        vertical-align: top;\n",
              "    }\n",
              "\n",
              "    .dataframe thead th {\n",
              "        text-align: right;\n",
              "    }\n",
              "</style>\n",
              "<table border=\"1\" class=\"dataframe\">\n",
              "  <thead>\n",
              "    <tr style=\"text-align: right;\">\n",
              "      <th>is_essential</th>\n",
              "      <th>False</th>\n",
              "      <th>True</th>\n",
              "    </tr>\n",
              "    <tr>\n",
              "      <th>patient_id</th>\n",
              "      <th></th>\n",
              "      <th></th>\n",
              "    </tr>\n",
              "  </thead>\n",
              "  <tbody>\n",
              "    <tr>\n",
              "      <th>1000000001</th>\n",
              "      <td>1</td>\n",
              "      <td>1</td>\n",
              "    </tr>\n",
              "    <tr>\n",
              "      <th>1000000002</th>\n",
              "      <td>4</td>\n",
              "      <td>9</td>\n",
              "    </tr>\n",
              "    <tr>\n",
              "      <th>1000000003</th>\n",
              "      <td>2</td>\n",
              "      <td>0</td>\n",
              "    </tr>\n",
              "    <tr>\n",
              "      <th>1000000004</th>\n",
              "      <td>0</td>\n",
              "      <td>1</td>\n",
              "    </tr>\n",
              "    <tr>\n",
              "      <th>1000000005</th>\n",
              "      <td>0</td>\n",
              "      <td>1</td>\n",
              "    </tr>\n",
              "  </tbody>\n",
              "</table>\n",
              "</div>"
            ],
            "text/plain": [
              "is_essential  False  True \n",
              "patient_id                \n",
              "1000000001        1      1\n",
              "1000000002        4      9\n",
              "1000000003        2      0\n",
              "1000000004        0      1\n",
              "1000000005        0      1"
            ]
          },
          "metadata": {
            "tags": []
          },
          "execution_count": 42
        }
      ]
    },
    {
      "cell_type": "code",
      "metadata": {
        "id": "G4t3ynyUlNpY",
        "colab": {
          "base_uri": "https://localhost:8080/",
          "height": 203
        },
        "outputId": "fab77611-9f12-40bc-e35d-b8efaecb723c"
      },
      "source": [
        "# Index로 있는 patient_id를 컬럼으로 빼내고 정리한다.\n",
        "df3.columns.name=None\n",
        "df3 = df3.reset_index()\n",
        "df3 = df3.rename(columns={False:'non_essential',True:'essential'})\n",
        "df3.head()"
      ],
      "execution_count": null,
      "outputs": [
        {
          "output_type": "execute_result",
          "data": {
            "text/html": [
              "<div>\n",
              "<style scoped>\n",
              "    .dataframe tbody tr th:only-of-type {\n",
              "        vertical-align: middle;\n",
              "    }\n",
              "\n",
              "    .dataframe tbody tr th {\n",
              "        vertical-align: top;\n",
              "    }\n",
              "\n",
              "    .dataframe thead th {\n",
              "        text-align: right;\n",
              "    }\n",
              "</style>\n",
              "<table border=\"1\" class=\"dataframe\">\n",
              "  <thead>\n",
              "    <tr style=\"text-align: right;\">\n",
              "      <th></th>\n",
              "      <th>patient_id</th>\n",
              "      <th>non_essential</th>\n",
              "      <th>essential</th>\n",
              "    </tr>\n",
              "  </thead>\n",
              "  <tbody>\n",
              "    <tr>\n",
              "      <th>0</th>\n",
              "      <td>1000000001</td>\n",
              "      <td>1</td>\n",
              "      <td>1</td>\n",
              "    </tr>\n",
              "    <tr>\n",
              "      <th>1</th>\n",
              "      <td>1000000002</td>\n",
              "      <td>4</td>\n",
              "      <td>9</td>\n",
              "    </tr>\n",
              "    <tr>\n",
              "      <th>2</th>\n",
              "      <td>1000000003</td>\n",
              "      <td>2</td>\n",
              "      <td>0</td>\n",
              "    </tr>\n",
              "    <tr>\n",
              "      <th>3</th>\n",
              "      <td>1000000004</td>\n",
              "      <td>0</td>\n",
              "      <td>1</td>\n",
              "    </tr>\n",
              "    <tr>\n",
              "      <th>4</th>\n",
              "      <td>1000000005</td>\n",
              "      <td>0</td>\n",
              "      <td>1</td>\n",
              "    </tr>\n",
              "  </tbody>\n",
              "</table>\n",
              "</div>"
            ],
            "text/plain": [
              "   patient_id  non_essential  essential\n",
              "0  1000000001              1          1\n",
              "1  1000000002              4          9\n",
              "2  1000000003              2          0\n",
              "3  1000000004              0          1\n",
              "4  1000000005              0          1"
            ]
          },
          "metadata": {
            "tags": []
          },
          "execution_count": 43
        }
      ]
    },
    {
      "cell_type": "code",
      "metadata": {
        "id": "kopmAVgOlNpY"
      },
      "source": [
        "# df1 (PatientInfo)와 df3 (PatientRoute 요약)을 Inner Join 해서 가로 방향으로 붙여서 df_joined를 만든다.\n",
        "#df_joined = df1.merge(df3, left_on = 'patient_id', right_on = 'patient_id' , how='inner')\n",
        "df_joined = pd.merge(df1, df3, on = \"patient_id\", how=\"inner\")"
      ],
      "execution_count": null,
      "outputs": []
    },
    {
      "cell_type": "code",
      "metadata": {
        "id": "1uJD_oaLlNpY",
        "colab": {
          "base_uri": "https://localhost:8080/",
          "height": 290
        },
        "outputId": "cce361a6-c404-4fe8-fba8-54f31299113b"
      },
      "source": [
        "# 살펴본다.\n",
        "df_joined.head()"
      ],
      "execution_count": null,
      "outputs": [
        {
          "output_type": "execute_result",
          "data": {
            "text/html": [
              "<div>\n",
              "<style scoped>\n",
              "    .dataframe tbody tr th:only-of-type {\n",
              "        vertical-align: middle;\n",
              "    }\n",
              "\n",
              "    .dataframe tbody tr th {\n",
              "        vertical-align: top;\n",
              "    }\n",
              "\n",
              "    .dataframe thead th {\n",
              "        text-align: right;\n",
              "    }\n",
              "</style>\n",
              "<table border=\"1\" class=\"dataframe\">\n",
              "  <thead>\n",
              "    <tr style=\"text-align: right;\">\n",
              "      <th></th>\n",
              "      <th>patient_id</th>\n",
              "      <th>global_num</th>\n",
              "      <th>sex</th>\n",
              "      <th>birth_year</th>\n",
              "      <th>age</th>\n",
              "      <th>country</th>\n",
              "      <th>province</th>\n",
              "      <th>city</th>\n",
              "      <th>disease</th>\n",
              "      <th>infection_case</th>\n",
              "      <th>infection_order</th>\n",
              "      <th>infected_by</th>\n",
              "      <th>contact_number</th>\n",
              "      <th>symptom_onset_date</th>\n",
              "      <th>confirmed_date</th>\n",
              "      <th>released_date</th>\n",
              "      <th>deceased_date</th>\n",
              "      <th>state</th>\n",
              "      <th>infection_cause</th>\n",
              "      <th>non_essential</th>\n",
              "      <th>essential</th>\n",
              "    </tr>\n",
              "  </thead>\n",
              "  <tbody>\n",
              "    <tr>\n",
              "      <th>0</th>\n",
              "      <td>1000000001</td>\n",
              "      <td>2.0</td>\n",
              "      <td>male</td>\n",
              "      <td>1964</td>\n",
              "      <td>50</td>\n",
              "      <td>Korea</td>\n",
              "      <td>Seoul</td>\n",
              "      <td>Gangseo-gu</td>\n",
              "      <td>NaN</td>\n",
              "      <td>overseas inflow</td>\n",
              "      <td>1.0</td>\n",
              "      <td>NaN</td>\n",
              "      <td>75</td>\n",
              "      <td>2020-01-22</td>\n",
              "      <td>2020-01-23</td>\n",
              "      <td>2020-02-05</td>\n",
              "      <td>NaN</td>\n",
              "      <td>released</td>\n",
              "      <td>Overseas</td>\n",
              "      <td>1</td>\n",
              "      <td>1</td>\n",
              "    </tr>\n",
              "    <tr>\n",
              "      <th>1</th>\n",
              "      <td>1000000002</td>\n",
              "      <td>5.0</td>\n",
              "      <td>male</td>\n",
              "      <td>1987</td>\n",
              "      <td>30</td>\n",
              "      <td>Korea</td>\n",
              "      <td>Seoul</td>\n",
              "      <td>Jungnang-gu</td>\n",
              "      <td>NaN</td>\n",
              "      <td>overseas inflow</td>\n",
              "      <td>1.0</td>\n",
              "      <td>NaN</td>\n",
              "      <td>31</td>\n",
              "      <td>NaN</td>\n",
              "      <td>2020-01-30</td>\n",
              "      <td>2020-03-02</td>\n",
              "      <td>NaN</td>\n",
              "      <td>released</td>\n",
              "      <td>Overseas</td>\n",
              "      <td>4</td>\n",
              "      <td>9</td>\n",
              "    </tr>\n",
              "    <tr>\n",
              "      <th>2</th>\n",
              "      <td>1000000003</td>\n",
              "      <td>6.0</td>\n",
              "      <td>male</td>\n",
              "      <td>1964</td>\n",
              "      <td>50</td>\n",
              "      <td>Korea</td>\n",
              "      <td>Seoul</td>\n",
              "      <td>Jongno-gu</td>\n",
              "      <td>NaN</td>\n",
              "      <td>contact with patient</td>\n",
              "      <td>2.0</td>\n",
              "      <td>2002000001</td>\n",
              "      <td>17</td>\n",
              "      <td>NaN</td>\n",
              "      <td>2020-01-30</td>\n",
              "      <td>2020-02-19</td>\n",
              "      <td>NaN</td>\n",
              "      <td>released</td>\n",
              "      <td>Individual</td>\n",
              "      <td>2</td>\n",
              "      <td>0</td>\n",
              "    </tr>\n",
              "    <tr>\n",
              "      <th>3</th>\n",
              "      <td>1000000004</td>\n",
              "      <td>7.0</td>\n",
              "      <td>male</td>\n",
              "      <td>1991</td>\n",
              "      <td>20</td>\n",
              "      <td>Korea</td>\n",
              "      <td>Seoul</td>\n",
              "      <td>Mapo-gu</td>\n",
              "      <td>NaN</td>\n",
              "      <td>overseas inflow</td>\n",
              "      <td>1.0</td>\n",
              "      <td>NaN</td>\n",
              "      <td>9</td>\n",
              "      <td>2020-01-26</td>\n",
              "      <td>2020-01-30</td>\n",
              "      <td>2020-02-15</td>\n",
              "      <td>NaN</td>\n",
              "      <td>released</td>\n",
              "      <td>Overseas</td>\n",
              "      <td>0</td>\n",
              "      <td>1</td>\n",
              "    </tr>\n",
              "    <tr>\n",
              "      <th>4</th>\n",
              "      <td>1000000005</td>\n",
              "      <td>9.0</td>\n",
              "      <td>female</td>\n",
              "      <td>1992</td>\n",
              "      <td>20</td>\n",
              "      <td>Korea</td>\n",
              "      <td>Seoul</td>\n",
              "      <td>Seongbuk-gu</td>\n",
              "      <td>NaN</td>\n",
              "      <td>contact with patient</td>\n",
              "      <td>2.0</td>\n",
              "      <td>1000000002</td>\n",
              "      <td>2</td>\n",
              "      <td>NaN</td>\n",
              "      <td>2020-01-31</td>\n",
              "      <td>2020-02-24</td>\n",
              "      <td>NaN</td>\n",
              "      <td>released</td>\n",
              "      <td>Individual</td>\n",
              "      <td>0</td>\n",
              "      <td>1</td>\n",
              "    </tr>\n",
              "  </tbody>\n",
              "</table>\n",
              "</div>"
            ],
            "text/plain": [
              "   patient_id  global_num     sex  ... infection_cause non_essential essential\n",
              "0  1000000001         2.0    male  ...        Overseas             1         1\n",
              "1  1000000002         5.0    male  ...        Overseas             4         9\n",
              "2  1000000003         6.0    male  ...      Individual             2         0\n",
              "3  1000000004         7.0    male  ...        Overseas             0         1\n",
              "4  1000000005         9.0  female  ...      Individual             0         1\n",
              "\n",
              "[5 rows x 21 columns]"
            ]
          },
          "metadata": {
            "tags": []
          },
          "execution_count": 45
        }
      ]
    },
    {
      "cell_type": "code",
      "metadata": {
        "id": "wbTbrlfBlNpY",
        "colab": {
          "base_uri": "https://localhost:8080/"
        },
        "outputId": "1a6d7725-114c-48c9-f3cb-35be7c896dcf"
      },
      "source": [
        "# 모든 환자에 대해서 동선이 명확한 것이 아니기 때문에 Join 후 대폭 행의 수가 줄어 들었다.\n",
        "print(\"Number of Rows Before = {}\".format(len(df1)))\n",
        "print(\"Number of Rows After = {}\".format(len(df_joined)))"
      ],
      "execution_count": null,
      "outputs": [
        {
          "output_type": "stream",
          "text": [
            "Number of Rows Before = 4004\n",
            "Number of Rows After = 1472\n"
          ],
          "name": "stdout"
        }
      ]
    },
    {
      "cell_type": "markdown",
      "metadata": {
        "id": "UyqGjo7clNpY"
      },
      "source": [
        "### 5. 접촉 빈도 (Number of Contacts)"
      ]
    },
    {
      "cell_type": "code",
      "metadata": {
        "id": "-e7gYZ1hlNpY"
      },
      "source": [
        "# contact_number가 결측치가 아니고 '-'가 아닌 행들만 가져온다. '-'는 오류로 유입된 값인듯.\n",
        "res = df_joined.contact_number\n",
        "df_joined = df_joined[~res.isnull() & (res != '-')]"
      ],
      "execution_count": null,
      "outputs": []
    },
    {
      "cell_type": "code",
      "metadata": {
        "id": "DXwH8ApglNpZ"
      },
      "source": [
        "# contact_number의 자료형을 integer로 변경하고 이상값은 제거한다.\n",
        "df_joined['contact_number'] = df_joined.contact_number.astype(int)\n",
        "df_joined = df_joined[df_joined.contact_number < 10000]"
      ],
      "execution_count": null,
      "outputs": []
    },
    {
      "cell_type": "code",
      "metadata": {
        "id": "jkOcA87ilNpZ",
        "colab": {
          "base_uri": "https://localhost:8080/"
        },
        "outputId": "0bb37c55-c3f5-4a0b-998a-27dac90944a1"
      },
      "source": [
        "# 최대 첩촉빈도.\n",
        "df_joined.contact_number.max()"
      ],
      "execution_count": null,
      "outputs": [
        {
          "output_type": "execute_result",
          "data": {
            "text/plain": [
              "1160"
            ]
          },
          "metadata": {
            "tags": []
          },
          "execution_count": 49
        }
      ]
    },
    {
      "cell_type": "code",
      "metadata": {
        "id": "h8liGSLclNpZ",
        "colab": {
          "base_uri": "https://localhost:8080/"
        },
        "outputId": "1bf22df9-bddb-4ff9-e774-1486ee2b50ae"
      },
      "source": [
        "# 최대 첩촉빈도에 해당하는 환자.\n",
        "df_joined[df_joined.contact_number == df_joined.contact_number.max()]"
      ],
      "execution_count": null,
      "outputs": [
        {
          "output_type": "execute_result",
          "data": {
            "text/html": [
              "<div>\n",
              "<style scoped>\n",
              "    .dataframe tbody tr th:only-of-type {\n",
              "        vertical-align: middle;\n",
              "    }\n",
              "\n",
              "    .dataframe tbody tr th {\n",
              "        vertical-align: top;\n",
              "    }\n",
              "\n",
              "    .dataframe thead th {\n",
              "        text-align: right;\n",
              "    }\n",
              "</style>\n",
              "<table border=\"1\" class=\"dataframe\">\n",
              "  <thead>\n",
              "    <tr style=\"text-align: right;\">\n",
              "      <th></th>\n",
              "      <th>patient_id</th>\n",
              "      <th>global_num</th>\n",
              "      <th>sex</th>\n",
              "      <th>birth_year</th>\n",
              "      <th>age</th>\n",
              "      <th>country</th>\n",
              "      <th>province</th>\n",
              "      <th>city</th>\n",
              "      <th>disease</th>\n",
              "      <th>infection_case</th>\n",
              "      <th>infection_order</th>\n",
              "      <th>infected_by</th>\n",
              "      <th>contact_number</th>\n",
              "      <th>symptom_onset_date</th>\n",
              "      <th>confirmed_date</th>\n",
              "      <th>released_date</th>\n",
              "      <th>deceased_date</th>\n",
              "      <th>state</th>\n",
              "      <th>infection_cause</th>\n",
              "      <th>non_essential</th>\n",
              "      <th>essential</th>\n",
              "    </tr>\n",
              "  </thead>\n",
              "  <tbody>\n",
              "    <tr>\n",
              "      <th>901</th>\n",
              "      <td>1200000031</td>\n",
              "      <td>31.0</td>\n",
              "      <td>female</td>\n",
              "      <td>1959</td>\n",
              "      <td>60</td>\n",
              "      <td>Korea</td>\n",
              "      <td>Daegu</td>\n",
              "      <td>NaN</td>\n",
              "      <td>NaN</td>\n",
              "      <td>Shincheonji Church</td>\n",
              "      <td>NaN</td>\n",
              "      <td>NaN</td>\n",
              "      <td>1160</td>\n",
              "      <td>NaN</td>\n",
              "      <td>2020-02-18</td>\n",
              "      <td>NaN</td>\n",
              "      <td>NaN</td>\n",
              "      <td>isolated</td>\n",
              "      <td>Group</td>\n",
              "      <td>5</td>\n",
              "      <td>11</td>\n",
              "    </tr>\n",
              "  </tbody>\n",
              "</table>\n",
              "</div>"
            ],
            "text/plain": [
              "     patient_id  global_num     sex  ... infection_cause non_essential essential\n",
              "901  1200000031        31.0  female  ...           Group             5        11\n",
              "\n",
              "[1 rows x 21 columns]"
            ]
          },
          "metadata": {
            "tags": []
          },
          "execution_count": 50
        }
      ]
    },
    {
      "cell_type": "code",
      "metadata": {
        "id": "nmgLhpsOlNpZ",
        "colab": {
          "base_uri": "https://localhost:8080/"
        },
        "outputId": "9220abe2-e28d-4cbf-df61-f24487c3a4b4"
      },
      "source": [
        "# 접촉 빈도를 히스토그램으로 시각화 한다.\n",
        "sns.distplot(df_joined.contact_number,bins=50)\n",
        "plt.show()"
      ],
      "execution_count": null,
      "outputs": [
        {
          "output_type": "display_data",
          "data": {
            "image/png": "[encoded data removed]",
            "text/plain": [
              "<Figure size 432x288 with 1 Axes>"
            ]
          },
          "metadata": {
            "tags": [],
            "needs_background": "light"
          }
        }
      ]
    },
    {
      "cell_type": "code",
      "metadata": {
        "id": "Gds6byZelNpZ",
        "colab": {
          "base_uri": "https://localhost:8080/"
        },
        "outputId": "277e6fc5-2fd1-4346-a4d6-28c4e08e414e"
      },
      "source": [
        "# 필요한 컬럼만 가져와서 정리한다.\n",
        "df4 = df_joined[['patient_id', 'contact_number', 'essential','non_essential','infection_cause']]\n",
        "df4.head()"
      ],
      "execution_count": null,
      "outputs": [
        {
          "output_type": "execute_result",
          "data": {
            "text/html": [
              "<div>\n",
              "<style scoped>\n",
              "    .dataframe tbody tr th:only-of-type {\n",
              "        vertical-align: middle;\n",
              "    }\n",
              "\n",
              "    .dataframe tbody tr th {\n",
              "        vertical-align: top;\n",
              "    }\n",
              "\n",
              "    .dataframe thead th {\n",
              "        text-align: right;\n",
              "    }\n",
              "</style>\n",
              "<table border=\"1\" class=\"dataframe\">\n",
              "  <thead>\n",
              "    <tr style=\"text-align: right;\">\n",
              "      <th></th>\n",
              "      <th>patient_id</th>\n",
              "      <th>contact_number</th>\n",
              "      <th>essential</th>\n",
              "      <th>non_essential</th>\n",
              "      <th>infection_cause</th>\n",
              "    </tr>\n",
              "  </thead>\n",
              "  <tbody>\n",
              "    <tr>\n",
              "      <th>0</th>\n",
              "      <td>1000000001</td>\n",
              "      <td>75</td>\n",
              "      <td>1</td>\n",
              "      <td>1</td>\n",
              "      <td>Overseas</td>\n",
              "    </tr>\n",
              "    <tr>\n",
              "      <th>1</th>\n",
              "      <td>1000000002</td>\n",
              "      <td>31</td>\n",
              "      <td>9</td>\n",
              "      <td>4</td>\n",
              "      <td>Overseas</td>\n",
              "    </tr>\n",
              "    <tr>\n",
              "      <th>2</th>\n",
              "      <td>1000000003</td>\n",
              "      <td>17</td>\n",
              "      <td>0</td>\n",
              "      <td>2</td>\n",
              "      <td>Individual</td>\n",
              "    </tr>\n",
              "    <tr>\n",
              "      <th>3</th>\n",
              "      <td>1000000004</td>\n",
              "      <td>9</td>\n",
              "      <td>1</td>\n",
              "      <td>0</td>\n",
              "      <td>Overseas</td>\n",
              "    </tr>\n",
              "    <tr>\n",
              "      <th>4</th>\n",
              "      <td>1000000005</td>\n",
              "      <td>2</td>\n",
              "      <td>1</td>\n",
              "      <td>0</td>\n",
              "      <td>Individual</td>\n",
              "    </tr>\n",
              "  </tbody>\n",
              "</table>\n",
              "</div>"
            ],
            "text/plain": [
              "   patient_id  contact_number  essential  non_essential infection_cause\n",
              "0  1000000001              75          1              1        Overseas\n",
              "1  1000000002              31          9              4        Overseas\n",
              "2  1000000003              17          0              2      Individual\n",
              "3  1000000004               9          1              0        Overseas\n",
              "4  1000000005               2          1              0      Individual"
            ]
          },
          "metadata": {
            "tags": []
          },
          "execution_count": 52
        }
      ]
    },
    {
      "cell_type": "markdown",
      "metadata": {
        "id": "jO9aqxZvlNpZ"
      },
      "source": [
        "### 6. 군집화 (Clustering)"
      ]
    },
    {
      "cell_type": "code",
      "metadata": {
        "id": "tyTZ0_GLlNpZ"
      },
      "source": [
        "# Infection_cause를 가변수 처리한다.\n",
        "df4 = df4.join(pd.get_dummies(df4.infection_cause, prefix='infection',drop_first=False))"
      ],
      "execution_count": null,
      "outputs": []
    },
    {
      "cell_type": "code",
      "metadata": {
        "scrolled": true,
        "id": "239xbGaAlNpa",
        "colab": {
          "base_uri": "https://localhost:8080/",
          "height": 437
        },
        "outputId": "d8b47e9e-655f-480a-e04b-65c311cd8ec8"
      },
      "source": [
        "df4"
      ],
      "execution_count": null,
      "outputs": [
        {
          "output_type": "execute_result",
          "data": {
            "text/html": [
              "<div>\n",
              "<style scoped>\n",
              "    .dataframe tbody tr th:only-of-type {\n",
              "        vertical-align: middle;\n",
              "    }\n",
              "\n",
              "    .dataframe tbody tr th {\n",
              "        vertical-align: top;\n",
              "    }\n",
              "\n",
              "    .dataframe thead th {\n",
              "        text-align: right;\n",
              "    }\n",
              "</style>\n",
              "<table border=\"1\" class=\"dataframe\">\n",
              "  <thead>\n",
              "    <tr style=\"text-align: right;\">\n",
              "      <th></th>\n",
              "      <th>patient_id</th>\n",
              "      <th>contact_number</th>\n",
              "      <th>essential</th>\n",
              "      <th>non_essential</th>\n",
              "      <th>infection_cause</th>\n",
              "      <th>infection_Group</th>\n",
              "      <th>infection_Individual</th>\n",
              "      <th>infection_Overseas</th>\n",
              "      <th>infection_Unknown</th>\n",
              "    </tr>\n",
              "  </thead>\n",
              "  <tbody>\n",
              "    <tr>\n",
              "      <th>0</th>\n",
              "      <td>1000000001</td>\n",
              "      <td>75</td>\n",
              "      <td>1</td>\n",
              "      <td>1</td>\n",
              "      <td>Overseas</td>\n",
              "      <td>0</td>\n",
              "      <td>0</td>\n",
              "      <td>1</td>\n",
              "      <td>0</td>\n",
              "    </tr>\n",
              "    <tr>\n",
              "      <th>1</th>\n",
              "      <td>1000000002</td>\n",
              "      <td>31</td>\n",
              "      <td>9</td>\n",
              "      <td>4</td>\n",
              "      <td>Overseas</td>\n",
              "      <td>0</td>\n",
              "      <td>0</td>\n",
              "      <td>1</td>\n",
              "      <td>0</td>\n",
              "    </tr>\n",
              "    <tr>\n",
              "      <th>2</th>\n",
              "      <td>1000000003</td>\n",
              "      <td>17</td>\n",
              "      <td>0</td>\n",
              "      <td>2</td>\n",
              "      <td>Individual</td>\n",
              "      <td>0</td>\n",
              "      <td>1</td>\n",
              "      <td>0</td>\n",
              "      <td>0</td>\n",
              "    </tr>\n",
              "    <tr>\n",
              "      <th>3</th>\n",
              "      <td>1000000004</td>\n",
              "      <td>9</td>\n",
              "      <td>1</td>\n",
              "      <td>0</td>\n",
              "      <td>Overseas</td>\n",
              "      <td>0</td>\n",
              "      <td>0</td>\n",
              "      <td>1</td>\n",
              "      <td>0</td>\n",
              "    </tr>\n",
              "    <tr>\n",
              "      <th>4</th>\n",
              "      <td>1000000005</td>\n",
              "      <td>2</td>\n",
              "      <td>1</td>\n",
              "      <td>0</td>\n",
              "      <td>Individual</td>\n",
              "      <td>0</td>\n",
              "      <td>1</td>\n",
              "      <td>0</td>\n",
              "      <td>0</td>\n",
              "    </tr>\n",
              "    <tr>\n",
              "      <th>...</th>\n",
              "      <td>...</td>\n",
              "      <td>...</td>\n",
              "      <td>...</td>\n",
              "      <td>...</td>\n",
              "      <td>...</td>\n",
              "      <td>...</td>\n",
              "      <td>...</td>\n",
              "      <td>...</td>\n",
              "      <td>...</td>\n",
              "    </tr>\n",
              "    <tr>\n",
              "      <th>1242</th>\n",
              "      <td>6001000045</td>\n",
              "      <td>4</td>\n",
              "      <td>4</td>\n",
              "      <td>0</td>\n",
              "      <td>Unknown</td>\n",
              "      <td>0</td>\n",
              "      <td>0</td>\n",
              "      <td>0</td>\n",
              "      <td>1</td>\n",
              "    </tr>\n",
              "    <tr>\n",
              "      <th>1244</th>\n",
              "      <td>6001000061</td>\n",
              "      <td>2</td>\n",
              "      <td>1</td>\n",
              "      <td>3</td>\n",
              "      <td>Unknown</td>\n",
              "      <td>0</td>\n",
              "      <td>0</td>\n",
              "      <td>0</td>\n",
              "      <td>1</td>\n",
              "    </tr>\n",
              "    <tr>\n",
              "      <th>1246</th>\n",
              "      <td>6001000063</td>\n",
              "      <td>1</td>\n",
              "      <td>1</td>\n",
              "      <td>0</td>\n",
              "      <td>Unknown</td>\n",
              "      <td>0</td>\n",
              "      <td>0</td>\n",
              "      <td>0</td>\n",
              "      <td>1</td>\n",
              "    </tr>\n",
              "    <tr>\n",
              "      <th>1317</th>\n",
              "      <td>6014000001</td>\n",
              "      <td>11</td>\n",
              "      <td>1</td>\n",
              "      <td>4</td>\n",
              "      <td>Unknown</td>\n",
              "      <td>0</td>\n",
              "      <td>0</td>\n",
              "      <td>0</td>\n",
              "      <td>1</td>\n",
              "    </tr>\n",
              "    <tr>\n",
              "      <th>1318</th>\n",
              "      <td>6014000002</td>\n",
              "      <td>3</td>\n",
              "      <td>2</td>\n",
              "      <td>1</td>\n",
              "      <td>Unknown</td>\n",
              "      <td>0</td>\n",
              "      <td>0</td>\n",
              "      <td>0</td>\n",
              "      <td>1</td>\n",
              "    </tr>\n",
              "  </tbody>\n",
              "</table>\n",
              "<p>366 rows × 9 columns</p>\n",
              "</div>"
            ],
            "text/plain": [
              "      patient_id  contact_number  ...  infection_Overseas  infection_Unknown\n",
              "0     1000000001              75  ...                   1                  0\n",
              "1     1000000002              31  ...                   1                  0\n",
              "2     1000000003              17  ...                   0                  0\n",
              "3     1000000004               9  ...                   1                  0\n",
              "4     1000000005               2  ...                   0                  0\n",
              "...          ...             ...  ...                 ...                ...\n",
              "1242  6001000045               4  ...                   0                  1\n",
              "1244  6001000061               2  ...                   0                  1\n",
              "1246  6001000063               1  ...                   0                  1\n",
              "1317  6014000001              11  ...                   0                  1\n",
              "1318  6014000002               3  ...                   0                  1\n",
              "\n",
              "[366 rows x 9 columns]"
            ]
          },
          "metadata": {
            "tags": []
          },
          "execution_count": 54
        }
      ]
    },
    {
      "cell_type": "code",
      "metadata": {
        "id": "tiImkYQ5lNpa"
      },
      "source": [
        "df_final = df4[ ['essential', 'non_essential', 'contact_number',\n",
        "          'infection_Group', 'infection_Individual', 'infection_Overseas', 'infection_Unknown']]"
      ],
      "execution_count": null,
      "outputs": []
    },
    {
      "cell_type": "code",
      "metadata": {
        "id": "OmRbAqPulNpa",
        "colab": {
          "base_uri": "https://localhost:8080/",
          "height": 417
        },
        "outputId": "1c9e4b4b-fa90-4bbf-91d5-c1ee2850342b"
      },
      "source": [
        "df_final"
      ],
      "execution_count": null,
      "outputs": [
        {
          "output_type": "execute_result",
          "data": {
            "text/html": [
              "<div>\n",
              "<style scoped>\n",
              "    .dataframe tbody tr th:only-of-type {\n",
              "        vertical-align: middle;\n",
              "    }\n",
              "\n",
              "    .dataframe tbody tr th {\n",
              "        vertical-align: top;\n",
              "    }\n",
              "\n",
              "    .dataframe thead th {\n",
              "        text-align: right;\n",
              "    }\n",
              "</style>\n",
              "<table border=\"1\" class=\"dataframe\">\n",
              "  <thead>\n",
              "    <tr style=\"text-align: right;\">\n",
              "      <th></th>\n",
              "      <th>essential</th>\n",
              "      <th>non_essential</th>\n",
              "      <th>contact_number</th>\n",
              "      <th>infection_Group</th>\n",
              "      <th>infection_Individual</th>\n",
              "      <th>infection_Overseas</th>\n",
              "      <th>infection_Unknown</th>\n",
              "    </tr>\n",
              "  </thead>\n",
              "  <tbody>\n",
              "    <tr>\n",
              "      <th>0</th>\n",
              "      <td>1</td>\n",
              "      <td>1</td>\n",
              "      <td>75</td>\n",
              "      <td>0</td>\n",
              "      <td>0</td>\n",
              "      <td>1</td>\n",
              "      <td>0</td>\n",
              "    </tr>\n",
              "    <tr>\n",
              "      <th>1</th>\n",
              "      <td>9</td>\n",
              "      <td>4</td>\n",
              "      <td>31</td>\n",
              "      <td>0</td>\n",
              "      <td>0</td>\n",
              "      <td>1</td>\n",
              "      <td>0</td>\n",
              "    </tr>\n",
              "    <tr>\n",
              "      <th>2</th>\n",
              "      <td>0</td>\n",
              "      <td>2</td>\n",
              "      <td>17</td>\n",
              "      <td>0</td>\n",
              "      <td>1</td>\n",
              "      <td>0</td>\n",
              "      <td>0</td>\n",
              "    </tr>\n",
              "    <tr>\n",
              "      <th>3</th>\n",
              "      <td>1</td>\n",
              "      <td>0</td>\n",
              "      <td>9</td>\n",
              "      <td>0</td>\n",
              "      <td>0</td>\n",
              "      <td>1</td>\n",
              "      <td>0</td>\n",
              "    </tr>\n",
              "    <tr>\n",
              "      <th>4</th>\n",
              "      <td>1</td>\n",
              "      <td>0</td>\n",
              "      <td>2</td>\n",
              "      <td>0</td>\n",
              "      <td>1</td>\n",
              "      <td>0</td>\n",
              "      <td>0</td>\n",
              "    </tr>\n",
              "    <tr>\n",
              "      <th>...</th>\n",
              "      <td>...</td>\n",
              "      <td>...</td>\n",
              "      <td>...</td>\n",
              "      <td>...</td>\n",
              "      <td>...</td>\n",
              "      <td>...</td>\n",
              "      <td>...</td>\n",
              "    </tr>\n",
              "    <tr>\n",
              "      <th>1242</th>\n",
              "      <td>4</td>\n",
              "      <td>0</td>\n",
              "      <td>4</td>\n",
              "      <td>0</td>\n",
              "      <td>0</td>\n",
              "      <td>0</td>\n",
              "      <td>1</td>\n",
              "    </tr>\n",
              "    <tr>\n",
              "      <th>1244</th>\n",
              "      <td>1</td>\n",
              "      <td>3</td>\n",
              "      <td>2</td>\n",
              "      <td>0</td>\n",
              "      <td>0</td>\n",
              "      <td>0</td>\n",
              "      <td>1</td>\n",
              "    </tr>\n",
              "    <tr>\n",
              "      <th>1246</th>\n",
              "      <td>1</td>\n",
              "      <td>0</td>\n",
              "      <td>1</td>\n",
              "      <td>0</td>\n",
              "      <td>0</td>\n",
              "      <td>0</td>\n",
              "      <td>1</td>\n",
              "    </tr>\n",
              "    <tr>\n",
              "      <th>1317</th>\n",
              "      <td>1</td>\n",
              "      <td>4</td>\n",
              "      <td>11</td>\n",
              "      <td>0</td>\n",
              "      <td>0</td>\n",
              "      <td>0</td>\n",
              "      <td>1</td>\n",
              "    </tr>\n",
              "    <tr>\n",
              "      <th>1318</th>\n",
              "      <td>2</td>\n",
              "      <td>1</td>\n",
              "      <td>3</td>\n",
              "      <td>0</td>\n",
              "      <td>0</td>\n",
              "      <td>0</td>\n",
              "      <td>1</td>\n",
              "    </tr>\n",
              "  </tbody>\n",
              "</table>\n",
              "<p>366 rows × 7 columns</p>\n",
              "</div>"
            ],
            "text/plain": [
              "      essential  non_essential  ...  infection_Overseas  infection_Unknown\n",
              "0             1              1  ...                   1                  0\n",
              "1             9              4  ...                   1                  0\n",
              "2             0              2  ...                   0                  0\n",
              "3             1              0  ...                   1                  0\n",
              "4             1              0  ...                   0                  0\n",
              "...         ...            ...  ...                 ...                ...\n",
              "1242          4              0  ...                   0                  1\n",
              "1244          1              3  ...                   0                  1\n",
              "1246          1              0  ...                   0                  1\n",
              "1317          1              4  ...                   0                  1\n",
              "1318          2              1  ...                   0                  1\n",
              "\n",
              "[366 rows x 7 columns]"
            ]
          },
          "metadata": {
            "tags": []
          },
          "execution_count": 56
        }
      ]
    },
    {
      "cell_type": "code",
      "metadata": {
        "id": "tJCXT2yplNpa"
      },
      "source": [
        "# 컬럼의 표준화를 실행한다.\n",
        "X = df_final.values                        \n",
        "my_scaler = StandardScaler()\n",
        "X = my_scaler.fit_transform(X)"
      ],
      "execution_count": null,
      "outputs": []
    },
    {
      "cell_type": "code",
      "metadata": {
        "id": "XdhyjwkjlNpa"
      },
      "source": [
        "# 군집의 수 = 4로 정하고 군집화를 실행한다.  <= 군집의 수 최적화가 선행되어야 한다! (부록 참고)\n",
        "my_km = KMeans(n_clusters = 4, random_state = 123)\n",
        "my_km.fit(X)\n",
        "\n",
        "my_centroids = my_km.cluster_centers_               # 개개 군집의 중심점.\n",
        "my_cluster_labels = my_km.labels_                   # 군집 label."
      ],
      "execution_count": null,
      "outputs": []
    },
    {
      "cell_type": "code",
      "metadata": {
        "id": "qbQ8WSIklNpa",
        "colab": {
          "base_uri": "https://localhost:8080/",
          "height": 172
        },
        "outputId": "96746877-4fd4-469a-b38e-1d1c24a57453"
      },
      "source": [
        "# 클러스터 중심을 출력하고 해석한다.\n",
        "pd.DataFrame(my_centroids,columns = df_final.columns)"
      ],
      "execution_count": null,
      "outputs": [
        {
          "output_type": "execute_result",
          "data": {
            "text/html": [
              "<div>\n",
              "<style scoped>\n",
              "    .dataframe tbody tr th:only-of-type {\n",
              "        vertical-align: middle;\n",
              "    }\n",
              "\n",
              "    .dataframe tbody tr th {\n",
              "        vertical-align: top;\n",
              "    }\n",
              "\n",
              "    .dataframe thead th {\n",
              "        text-align: right;\n",
              "    }\n",
              "</style>\n",
              "<table border=\"1\" class=\"dataframe\">\n",
              "  <thead>\n",
              "    <tr style=\"text-align: right;\">\n",
              "      <th></th>\n",
              "      <th>essential</th>\n",
              "      <th>non_essential</th>\n",
              "      <th>contact_number</th>\n",
              "      <th>infection_Group</th>\n",
              "      <th>infection_Individual</th>\n",
              "      <th>infection_Overseas</th>\n",
              "      <th>infection_Unknown</th>\n",
              "    </tr>\n",
              "  </thead>\n",
              "  <tbody>\n",
              "    <tr>\n",
              "      <th>0</th>\n",
              "      <td>-0.0115</td>\n",
              "      <td>-0.0777</td>\n",
              "      <td>-0.1040</td>\n",
              "      <td>-0.5458</td>\n",
              "      <td>1.2632</td>\n",
              "      <td>-0.4820</td>\n",
              "      <td>-0.4949</td>\n",
              "    </tr>\n",
              "    <tr>\n",
              "      <th>1</th>\n",
              "      <td>0.2104</td>\n",
              "      <td>0.3043</td>\n",
              "      <td>0.2243</td>\n",
              "      <td>1.8323</td>\n",
              "      <td>-0.7916</td>\n",
              "      <td>-0.4820</td>\n",
              "      <td>-0.4949</td>\n",
              "    </tr>\n",
              "    <tr>\n",
              "      <th>2</th>\n",
              "      <td>-0.1589</td>\n",
              "      <td>-0.2342</td>\n",
              "      <td>-0.0300</td>\n",
              "      <td>-0.5458</td>\n",
              "      <td>-0.7916</td>\n",
              "      <td>2.0747</td>\n",
              "      <td>-0.4949</td>\n",
              "    </tr>\n",
              "    <tr>\n",
              "      <th>3</th>\n",
              "      <td>-0.0707</td>\n",
              "      <td>0.0216</td>\n",
              "      <td>-0.0293</td>\n",
              "      <td>-0.5458</td>\n",
              "      <td>-0.7916</td>\n",
              "      <td>-0.4820</td>\n",
              "      <td>2.0207</td>\n",
              "    </tr>\n",
              "  </tbody>\n",
              "</table>\n",
              "</div>"
            ],
            "text/plain": [
              "   essential  non_essential  ...  infection_Overseas  infection_Unknown\n",
              "0    -0.0115        -0.0777  ...             -0.4820            -0.4949\n",
              "1     0.2104         0.3043  ...             -0.4820            -0.4949\n",
              "2    -0.1589        -0.2342  ...              2.0747            -0.4949\n",
              "3    -0.0707         0.0216  ...             -0.4820             2.0207\n",
              "\n",
              "[4 rows x 7 columns]"
            ]
          },
          "metadata": {
            "tags": []
          },
          "execution_count": 59
        }
      ]
    },
    {
      "cell_type": "markdown",
      "metadata": {
        "id": "nf-63Yz7lNpb"
      },
      "source": [
        "**해석:** <br>\n",
        "- Label 0 (red)   : Social minimalist.\n",
        "- Label 1 (blue) : Hyper-mobile and hyper-social.\n",
        "- Label 2 (green)  : Overseas. \n",
        "- Label 3 (yellow)    : Moderate unknowns."
      ]
    },
    {
      "cell_type": "code",
      "metadata": {
        "id": "EH5ghwbolNpb",
        "colab": {
          "base_uri": "https://localhost:8080/",
          "height": 417
        },
        "outputId": "c876605e-fe14-4c24-af9e-42b4f62705fc"
      },
      "source": [
        "# PCA 차원축소 (2차원).\n",
        "my_pca = PCA(n_components = 2)\n",
        "transformed_comps = my_pca.fit_transform(X)         # Transformed 된 좌표.\n",
        "df_transformed_comps = pd.DataFrame(data = transformed_comps, columns = ['PC1', 'PC2'])\n",
        "df_transformed_comps=df_transformed_comps.join(pd.Series(my_cluster_labels, name='cluster_label'))\n",
        "df_transformed_comps"
      ],
      "execution_count": null,
      "outputs": [
        {
          "output_type": "execute_result",
          "data": {
            "text/html": [
              "<div>\n",
              "<style scoped>\n",
              "    .dataframe tbody tr th:only-of-type {\n",
              "        vertical-align: middle;\n",
              "    }\n",
              "\n",
              "    .dataframe tbody tr th {\n",
              "        vertical-align: top;\n",
              "    }\n",
              "\n",
              "    .dataframe thead th {\n",
              "        text-align: right;\n",
              "    }\n",
              "</style>\n",
              "<table border=\"1\" class=\"dataframe\">\n",
              "  <thead>\n",
              "    <tr style=\"text-align: right;\">\n",
              "      <th></th>\n",
              "      <th>PC1</th>\n",
              "      <th>PC2</th>\n",
              "      <th>cluster_label</th>\n",
              "    </tr>\n",
              "  </thead>\n",
              "  <tbody>\n",
              "    <tr>\n",
              "      <th>0</th>\n",
              "      <td>-0.6870</td>\n",
              "      <td>-1.5806</td>\n",
              "      <td>2</td>\n",
              "    </tr>\n",
              "    <tr>\n",
              "      <th>1</th>\n",
              "      <td>0.8155</td>\n",
              "      <td>-0.7954</td>\n",
              "      <td>2</td>\n",
              "    </tr>\n",
              "    <tr>\n",
              "      <th>2</th>\n",
              "      <td>-1.3612</td>\n",
              "      <td>1.0461</td>\n",
              "      <td>0</td>\n",
              "    </tr>\n",
              "    <tr>\n",
              "      <th>3</th>\n",
              "      <td>-1.0707</td>\n",
              "      <td>-1.6690</td>\n",
              "      <td>2</td>\n",
              "    </tr>\n",
              "    <tr>\n",
              "      <th>4</th>\n",
              "      <td>-1.4295</td>\n",
              "      <td>1.0558</td>\n",
              "      <td>0</td>\n",
              "    </tr>\n",
              "    <tr>\n",
              "      <th>...</th>\n",
              "      <td>...</td>\n",
              "      <td>...</td>\n",
              "      <td>...</td>\n",
              "    </tr>\n",
              "    <tr>\n",
              "      <th>361</th>\n",
              "      <td>-0.1423</td>\n",
              "      <td>-1.1056</td>\n",
              "      <td>3</td>\n",
              "    </tr>\n",
              "    <tr>\n",
              "      <th>362</th>\n",
              "      <td>-0.4166</td>\n",
              "      <td>-1.2754</td>\n",
              "      <td>3</td>\n",
              "    </tr>\n",
              "    <tr>\n",
              "      <th>363</th>\n",
              "      <td>-0.6912</td>\n",
              "      <td>-1.3779</td>\n",
              "      <td>3</td>\n",
              "    </tr>\n",
              "    <tr>\n",
              "      <th>364</th>\n",
              "      <td>-0.2865</td>\n",
              "      <td>-1.2340</td>\n",
              "      <td>3</td>\n",
              "    </tr>\n",
              "    <tr>\n",
              "      <th>365</th>\n",
              "      <td>-0.4138</td>\n",
              "      <td>-1.2524</td>\n",
              "      <td>3</td>\n",
              "    </tr>\n",
              "  </tbody>\n",
              "</table>\n",
              "<p>366 rows × 3 columns</p>\n",
              "</div>"
            ],
            "text/plain": [
              "        PC1     PC2  cluster_label\n",
              "0   -0.6870 -1.5806              2\n",
              "1    0.8155 -0.7954              2\n",
              "2   -1.3612  1.0461              0\n",
              "3   -1.0707 -1.6690              2\n",
              "4   -1.4295  1.0558              0\n",
              "..      ...     ...            ...\n",
              "361 -0.1423 -1.1056              3\n",
              "362 -0.4166 -1.2754              3\n",
              "363 -0.6912 -1.3779              3\n",
              "364 -0.2865 -1.2340              3\n",
              "365 -0.4138 -1.2524              3\n",
              "\n",
              "[366 rows x 3 columns]"
            ]
          },
          "metadata": {
            "tags": []
          },
          "execution_count": 60
        }
      ]
    },
    {
      "cell_type": "code",
      "metadata": {
        "id": "uPcsxhfTlNpb",
        "colab": {
          "base_uri": "https://localhost:8080/",
          "height": 404
        },
        "outputId": "771695f4-757f-4d83-e772-674533bf2772"
      },
      "source": [
        "# 산점도 시각화.\n",
        "my_colors = {0:'red',1:'blue',2:'green',3:'yellow'}    # 군집 label => Color.\n",
        "my_names = { 0: 'Social minimalists.', 1: 'Hyper-mobile and hyper-social.', 2: 'Overseas.', 3: 'Moderate unknwons.' } # 군집 label => 명칭.\n",
        "\n",
        "plt.figure(figsize = (6,6))\n",
        "for a_cluster_n, df_small in df_transformed_comps.groupby('cluster_label'):\n",
        "    plt.scatter('PC1', 'PC2', data = df_small, c = my_colors[a_cluster_n], label = my_names[a_cluster_n], s = 10, alpha=0.6,marker='o' )\n",
        "plt.xlabel('PC1')\n",
        "plt.ylabel('PC2')\n",
        "plt.title('Clusters')\n",
        "plt.legend(loc=4)\n",
        "plt.show()"
      ],
      "execution_count": null,
      "outputs": [
        {
          "output_type": "display_data",
          "data": {
            "image/png": "[encoded data removed]",
            "text/plain": [
              "<Figure size 432x432 with 1 Axes>"
            ]
          },
          "metadata": {
            "tags": [],
            "needs_background": "light"
          }
        }
      ]
    },
    {
      "cell_type": "markdown",
      "metadata": {
        "id": "RLKZiNP0lNpb"
      },
      "source": [
        "### 부록: 군집의 수 최적화"
      ]
    },
    {
      "cell_type": "code",
      "metadata": {
        "id": "fKrEniMplNpb",
        "colab": {
          "base_uri": "https://localhost:8080/",
          "height": 404
        },
        "outputId": "8d95e4d6-0bb3-4e5c-db7b-162c45289de6"
      },
      "source": [
        "# 군집의 수를 키워가며 Sum of Squares Within을 계산한다.\n",
        "ssw = []\n",
        "cluster_ns = range(2,16)\n",
        "for n in cluster_ns:\n",
        "    my_cluster = KMeans(n)\n",
        "    my_cluster.fit(X)\n",
        "    ssw += [my_cluster.inertia_]         # SSW를 모아둔다.\n",
        "\n",
        "plt.figure(figsize = (6,6))\n",
        "plt.plot(cluster_ns, ssw)\n",
        "plt.title('Elbow Method')\n",
        "plt.xlabel('Number of Clusters')\n",
        "plt.ylabel('Sum of Squares Within')\n",
        "plt.show()"
      ],
      "execution_count": null,
      "outputs": [
        {
          "output_type": "display_data",
          "data": {
            "image/png": "[encoded data removed]",
            "text/plain": [
              "<Figure size 432x432 with 1 Axes>"
            ]
          },
          "metadata": {
            "tags": [],
            "needs_background": "light"
          }
        }
      ]
    },
    {
      "cell_type": "markdown",
      "metadata": {
        "id": "Iz-9v4gElNpb"
      },
      "source": [
        "**결론**: 군집의 수가 5 이상일 때 SSW의 감소 속도가 둔화된다. => 군집의 적정 수 = 4."
      ]
    },
    {
      "cell_type": "code",
      "metadata": {
        "id": "rAEWgnoXlNpb"
      },
      "source": [
        ""
      ],
      "execution_count": null,
      "outputs": []
    }
  ]
}