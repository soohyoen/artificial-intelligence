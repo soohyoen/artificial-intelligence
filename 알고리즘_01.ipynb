{
  "nbformat": 4,
  "nbformat_minor": 0,
  "metadata": {
    "colab": {
      "name": "알고리즘_01.ipynb",
      "provenance": [],
      "collapsed_sections": [],
      "authorship_tag": "ABX9TyPb5zgcbFkKN4/aw6eH/qsm",
      "include_colab_link": true
    },
    "kernelspec": {
      "name": "python3",
      "display_name": "Python 3"
    },
    "language_info": {
      "name": "python"
    }
  },
  "cells": [
    {
      "cell_type": "markdown",
      "metadata": {
        "id": "view-in-github",
        "colab_type": "text"
      },
      "source": [
        "<a href=\"https://colab.research.google.com/github/soohyoen/artificial-intelligence/blob/main/%EC%95%8C%EA%B3%A0%EB%A6%AC%EC%A6%98_01.ipynb\" target=\"_parent\"><img src=\"https://colab.research.google.com/assets/colab-badge.svg\" alt=\"Open In Colab\"/></a>"
      ]
    },
    {
      "cell_type": "code",
      "metadata": {
        "id": "ZReZKgd-20TU"
      },
      "source": [
        "def sum(a):\n",
        "  count = 0\n",
        "  for x in range(a*a):\n",
        "    if x//a == x%a:\n",
        "      count += x\n",
        "  return count"
      ],
      "execution_count": null,
      "outputs": []
    },
    {
      "cell_type": "code",
      "metadata": {
        "colab": {
          "base_uri": "https://localhost:8080/"
        },
        "id": "cG4vEUol3Ip_",
        "outputId": "d9d146be-ccaa-4c77-9348-3e756581c18b"
      },
      "source": [
        "sum(4)"
      ],
      "execution_count": null,
      "outputs": [
        {
          "output_type": "execute_result",
          "data": {
            "text/plain": [
              "30"
            ]
          },
          "metadata": {
            "tags": []
          },
          "execution_count": 2
        }
      ]
    },
    {
      "cell_type": "code",
      "metadata": {
        "id": "g5epUZXj3Mkh"
      },
      "source": [
        "def N_or_S(a,b,r,n,x):\n",
        "  for x,y in x:\n",
        "    if (a-x) ** 2 + (b-y) **2 >= r**2:\n",
        "      print('silent')\n",
        "    else:\n",
        "      print('noisy')"
      ],
      "execution_count": null,
      "outputs": []
    },
    {
      "cell_type": "code",
      "metadata": {
        "colab": {
          "base_uri": "https://localhost:8080/"
        },
        "id": "e64AOEPu3b0-",
        "outputId": "8411bede-ed65-43f7-d14c-649098bdc669"
      },
      "source": [
        "f = N_or_S(20,10,10,3,[[25,10],[20,15],[70,70]])\n",
        "print(f)"
      ],
      "execution_count": null,
      "outputs": [
        {
          "output_type": "stream",
          "text": [
            "noisy\n",
            "noisy\n",
            "silent\n",
            "None\n"
          ],
          "name": "stdout"
        }
      ]
    },
    {
      "cell_type": "code",
      "metadata": {
        "colab": {
          "base_uri": "https://localhost:8080/"
        },
        "id": "psWdod903do-",
        "outputId": "0a4a2ebf-afc1-4542-f39f-bc14be209d5e"
      },
      "source": [
        "def check_sound_status(a,b,r,x,y):\n",
        "  if (x-a) ** 2 + (y-b) **2>= r**2:\n",
        "    return 'silent'\n",
        "  return 'noisy'\n",
        "\n",
        "a,b,r = map(int,input().split())\n",
        "n = int(input())\n",
        "\n",
        "for _ in range(n):\n",
        "  x,y = map(int,input().split())\n",
        "  print(check_sound_status(a,b,r,x,y))"
      ],
      "execution_count": null,
      "outputs": [
        {
          "output_type": "stream",
          "text": [
            "1 2 3\n",
            "4\n",
            "2 3\n",
            "noisy\n",
            "1 3\n",
            "noisy\n",
            "2 2\n",
            "noisy\n",
            " 5 5\n",
            "silent\n"
          ],
          "name": "stdout"
        }
      ]
    },
    {
      "cell_type": "code",
      "metadata": {
        "colab": {
          "base_uri": "https://localhost:8080/"
        },
        "id": "2XYdWi3u5KfA",
        "outputId": "aa2f51d2-bbf7-4105-9793-c99be93f540f"
      },
      "source": [
        "num = int(input())\n",
        "sqrt_num = int(num **(1/2))\n",
        "\n",
        "front_divisor_list = []\n",
        "rear_divisor_list = []\n",
        "\n",
        "for i in range(1,sqrt_num+1):\n",
        "  if num % i ==0:\n",
        "    front_divisor_list.append(i)\n",
        "    if i != int(num/1):\n",
        "      rear_divisor_list.append(int(num/i))\n",
        "\n",
        "print(front_divisor_list + rear_divisor_list[::-1])"
      ],
      "execution_count": null,
      "outputs": [
        {
          "output_type": "stream",
          "text": [
            "5\n",
            "[1, 5]\n"
          ],
          "name": "stdout"
        }
      ]
    },
    {
      "cell_type": "code",
      "metadata": {
        "colab": {
          "base_uri": "https://localhost:8080/"
        },
        "id": "r_jPneLj7m89",
        "outputId": "cf1d3696-d488-4a31-ddee-8c57e6a92690"
      },
      "source": [
        "num_list = list(map(int,input().split()))\n",
        "\n",
        "max_num = num_list[0]\n",
        "min_num = num_list[0]\n",
        "\n",
        "for num in num_list:\n",
        "  if max_num < num:\n",
        "     max_num = num\n",
        "  if min_num > num:\n",
        "     min_num = num\n",
        "\n",
        "print(f'max number : {max_num}')\n",
        "\n",
        "print(f'min number : {min_num}')"
      ],
      "execution_count": null,
      "outputs": [
        {
          "output_type": "stream",
          "text": [
            "1 1 121\n",
            "max number : 121\n",
            "min number : 1\n"
          ],
          "name": "stdout"
        }
      ]
    },
    {
      "cell_type": "code",
      "metadata": {
        "id": "2wVGXVnk91_p",
        "colab": {
          "base_uri": "https://localhost:8080/"
        },
        "outputId": "43d120cc-0161-4219-e429-7367c2a6fc04"
      },
      "source": [
        "stack_list= []\n",
        "def process_stack(command):\n",
        "\n",
        "  \n",
        "  if command[0] == 'push':\n",
        "      stack_list.append(command[1])\n",
        "  \n",
        "  elif command[0] == 'top':\n",
        "      if len(stack_list) == 0:\n",
        "        print(-1)\n",
        "      else:\n",
        "        print(stack_list[-1])\n",
        "  elif command[0] == 'size':\n",
        "      print(len(stack_list))\n",
        "  elif command[0] == 'empty':\n",
        "      if len(stack_list) > 0 :\n",
        "        print('0')\n",
        "      elif len(stack_list) == 0:\n",
        "        print('1')\n",
        "  elif command[0] == 'pop':\n",
        "      if len(stack_list) == 0:\n",
        "        print(-1)\n",
        "      else:\n",
        "        stack_list.pop(-1)\n",
        "\n",
        "\n",
        "n = int(input())\n",
        "\n",
        "for _ in range(n):\n",
        "  command = input().split(\" \")\n",
        "  process_stack(command)"
      ],
      "execution_count": null,
      "outputs": [
        {
          "output_type": "stream",
          "text": [
            "7\n",
            "pop\n",
            "-1\n",
            "top\n",
            "-1\n",
            "push 123\n",
            "top\n",
            "123\n",
            "pop\n",
            "top\n",
            "-1\n",
            "pop\n",
            "-1\n"
          ],
          "name": "stdout"
        }
      ]
    },
    {
      "cell_type": "code",
      "metadata": {
        "colab": {
          "base_uri": "https://localhost:8080/",
          "height": 650
        },
        "id": "SGsoYBqw1Mzz",
        "outputId": "7108bb85-98a0-4524-dce0-0d4c6c2a33ed"
      },
      "source": [
        "stack_list= []\n",
        "\n",
        "def count_length(some_list):\n",
        "    count = 0\n",
        "    for element in some_list:\n",
        "        count += 1\n",
        "    return count\n",
        "\n",
        "def process_stack(command):\n",
        "\n",
        "  global stack_list\n",
        "\n",
        "  if command[0] == 'push':\n",
        "      stack_list += list(command[1])\n",
        "  \n",
        "  elif command[0] == 'top':\n",
        "      if count_length(stack_list) == 0:\n",
        "        print(-1)\n",
        "      else:\n",
        "        print(stack_list[-1])\n",
        "  elif command[0] == 'size':\n",
        "      print(count_length(stack_list))\n",
        "  elif command[0] == 'empty':\n",
        "      if count_length(stack_list) > 0 :\n",
        "        print('0')\n",
        "      elif count_length(stack_list) == 0:\n",
        "        print('1')\n",
        "  elif command[0] == 'pop':\n",
        "      if count_length(stack_list) == 0:\n",
        "        print(-1)\n",
        "      else:\n",
        "        stack_list.pop(-1)\n",
        "\n",
        "\n",
        "n = int(input())\n",
        "\n",
        "for _ in range(n):\n",
        "  command = input().split(\" \")\n",
        "  process_stack(command)"
      ],
      "execution_count": null,
      "outputs": [
        {
          "output_type": "stream",
          "text": [
            "14\n",
            "push 1\n",
            "top\n",
            "1\n"
          ],
          "name": "stdout"
        },
        {
          "output_type": "error",
          "ename": "KeyboardInterrupt",
          "evalue": "ignored",
          "traceback": [
            "\u001b[0;31m---------------------------------------------------------------------------\u001b[0m",
            "\u001b[0;31mKeyboardInterrupt\u001b[0m                         Traceback (most recent call last)",
            "\u001b[0;32m/usr/local/lib/python3.7/dist-packages/ipykernel/kernelbase.py\u001b[0m in \u001b[0;36m_input_request\u001b[0;34m(self, prompt, ident, parent, password)\u001b[0m\n\u001b[1;32m    728\u001b[0m             \u001b[0;32mtry\u001b[0m\u001b[0;34m:\u001b[0m\u001b[0;34m\u001b[0m\u001b[0;34m\u001b[0m\u001b[0m\n\u001b[0;32m--> 729\u001b[0;31m                 \u001b[0mident\u001b[0m\u001b[0;34m,\u001b[0m \u001b[0mreply\u001b[0m \u001b[0;34m=\u001b[0m \u001b[0mself\u001b[0m\u001b[0;34m.\u001b[0m\u001b[0msession\u001b[0m\u001b[0;34m.\u001b[0m\u001b[0mrecv\u001b[0m\u001b[0;34m(\u001b[0m\u001b[0mself\u001b[0m\u001b[0;34m.\u001b[0m\u001b[0mstdin_socket\u001b[0m\u001b[0;34m,\u001b[0m \u001b[0;36m0\u001b[0m\u001b[0;34m)\u001b[0m\u001b[0;34m\u001b[0m\u001b[0;34m\u001b[0m\u001b[0m\n\u001b[0m\u001b[1;32m    730\u001b[0m             \u001b[0;32mexcept\u001b[0m \u001b[0mException\u001b[0m\u001b[0;34m:\u001b[0m\u001b[0;34m\u001b[0m\u001b[0;34m\u001b[0m\u001b[0m\n",
            "\u001b[0;32m/usr/local/lib/python3.7/dist-packages/jupyter_client/session.py\u001b[0m in \u001b[0;36mrecv\u001b[0;34m(self, socket, mode, content, copy)\u001b[0m\n\u001b[1;32m    802\u001b[0m         \u001b[0;32mtry\u001b[0m\u001b[0;34m:\u001b[0m\u001b[0;34m\u001b[0m\u001b[0;34m\u001b[0m\u001b[0m\n\u001b[0;32m--> 803\u001b[0;31m             \u001b[0mmsg_list\u001b[0m \u001b[0;34m=\u001b[0m \u001b[0msocket\u001b[0m\u001b[0;34m.\u001b[0m\u001b[0mrecv_multipart\u001b[0m\u001b[0;34m(\u001b[0m\u001b[0mmode\u001b[0m\u001b[0;34m,\u001b[0m \u001b[0mcopy\u001b[0m\u001b[0;34m=\u001b[0m\u001b[0mcopy\u001b[0m\u001b[0;34m)\u001b[0m\u001b[0;34m\u001b[0m\u001b[0;34m\u001b[0m\u001b[0m\n\u001b[0m\u001b[1;32m    804\u001b[0m         \u001b[0;32mexcept\u001b[0m \u001b[0mzmq\u001b[0m\u001b[0;34m.\u001b[0m\u001b[0mZMQError\u001b[0m \u001b[0;32mas\u001b[0m \u001b[0me\u001b[0m\u001b[0;34m:\u001b[0m\u001b[0;34m\u001b[0m\u001b[0;34m\u001b[0m\u001b[0m\n",
            "\u001b[0;32m/usr/local/lib/python3.7/dist-packages/zmq/sugar/socket.py\u001b[0m in \u001b[0;36mrecv_multipart\u001b[0;34m(self, flags, copy, track)\u001b[0m\n\u001b[1;32m    582\u001b[0m         \"\"\"\n\u001b[0;32m--> 583\u001b[0;31m         \u001b[0mparts\u001b[0m \u001b[0;34m=\u001b[0m \u001b[0;34m[\u001b[0m\u001b[0mself\u001b[0m\u001b[0;34m.\u001b[0m\u001b[0mrecv\u001b[0m\u001b[0;34m(\u001b[0m\u001b[0mflags\u001b[0m\u001b[0;34m,\u001b[0m \u001b[0mcopy\u001b[0m\u001b[0;34m=\u001b[0m\u001b[0mcopy\u001b[0m\u001b[0;34m,\u001b[0m \u001b[0mtrack\u001b[0m\u001b[0;34m=\u001b[0m\u001b[0mtrack\u001b[0m\u001b[0;34m)\u001b[0m\u001b[0;34m]\u001b[0m\u001b[0;34m\u001b[0m\u001b[0;34m\u001b[0m\u001b[0m\n\u001b[0m\u001b[1;32m    584\u001b[0m         \u001b[0;31m# have first part already, only loop while more to receive\u001b[0m\u001b[0;34m\u001b[0m\u001b[0;34m\u001b[0m\u001b[0;34m\u001b[0m\u001b[0m\n",
            "\u001b[0;32mzmq/backend/cython/socket.pyx\u001b[0m in \u001b[0;36mzmq.backend.cython.socket.Socket.recv\u001b[0;34m()\u001b[0m\n",
            "\u001b[0;32mzmq/backend/cython/socket.pyx\u001b[0m in \u001b[0;36mzmq.backend.cython.socket.Socket.recv\u001b[0;34m()\u001b[0m\n",
            "\u001b[0;32mzmq/backend/cython/socket.pyx\u001b[0m in \u001b[0;36mzmq.backend.cython.socket._recv_copy\u001b[0;34m()\u001b[0m\n",
            "\u001b[0;32m/usr/local/lib/python3.7/dist-packages/zmq/backend/cython/checkrc.pxd\u001b[0m in \u001b[0;36mzmq.backend.cython.checkrc._check_rc\u001b[0;34m()\u001b[0m\n",
            "\u001b[0;31mKeyboardInterrupt\u001b[0m: ",
            "\nDuring handling of the above exception, another exception occurred:\n",
            "\u001b[0;31mKeyboardInterrupt\u001b[0m                         Traceback (most recent call last)",
            "\u001b[0;32m<ipython-input-32-1389f508f931>\u001b[0m in \u001b[0;36m<module>\u001b[0;34m()\u001b[0m\n\u001b[1;32m     36\u001b[0m \u001b[0;34m\u001b[0m\u001b[0m\n\u001b[1;32m     37\u001b[0m \u001b[0;32mfor\u001b[0m \u001b[0m_\u001b[0m \u001b[0;32min\u001b[0m \u001b[0mrange\u001b[0m\u001b[0;34m(\u001b[0m\u001b[0mn\u001b[0m\u001b[0;34m)\u001b[0m\u001b[0;34m:\u001b[0m\u001b[0;34m\u001b[0m\u001b[0;34m\u001b[0m\u001b[0m\n\u001b[0;32m---> 38\u001b[0;31m   \u001b[0mcommand\u001b[0m \u001b[0;34m=\u001b[0m \u001b[0minput\u001b[0m\u001b[0;34m(\u001b[0m\u001b[0;34m)\u001b[0m\u001b[0;34m.\u001b[0m\u001b[0msplit\u001b[0m\u001b[0;34m(\u001b[0m\u001b[0;34m\" \"\u001b[0m\u001b[0;34m)\u001b[0m\u001b[0;34m\u001b[0m\u001b[0;34m\u001b[0m\u001b[0m\n\u001b[0m\u001b[1;32m     39\u001b[0m   \u001b[0mprocess_stack\u001b[0m\u001b[0;34m(\u001b[0m\u001b[0mcommand\u001b[0m\u001b[0;34m)\u001b[0m\u001b[0;34m\u001b[0m\u001b[0;34m\u001b[0m\u001b[0m\n",
            "\u001b[0;32m/usr/local/lib/python3.7/dist-packages/ipykernel/kernelbase.py\u001b[0m in \u001b[0;36mraw_input\u001b[0;34m(self, prompt)\u001b[0m\n\u001b[1;32m    702\u001b[0m             \u001b[0mself\u001b[0m\u001b[0;34m.\u001b[0m\u001b[0m_parent_ident\u001b[0m\u001b[0;34m,\u001b[0m\u001b[0;34m\u001b[0m\u001b[0;34m\u001b[0m\u001b[0m\n\u001b[1;32m    703\u001b[0m             \u001b[0mself\u001b[0m\u001b[0;34m.\u001b[0m\u001b[0m_parent_header\u001b[0m\u001b[0;34m,\u001b[0m\u001b[0;34m\u001b[0m\u001b[0;34m\u001b[0m\u001b[0m\n\u001b[0;32m--> 704\u001b[0;31m             \u001b[0mpassword\u001b[0m\u001b[0;34m=\u001b[0m\u001b[0;32mFalse\u001b[0m\u001b[0;34m,\u001b[0m\u001b[0;34m\u001b[0m\u001b[0;34m\u001b[0m\u001b[0m\n\u001b[0m\u001b[1;32m    705\u001b[0m         )\n\u001b[1;32m    706\u001b[0m \u001b[0;34m\u001b[0m\u001b[0m\n",
            "\u001b[0;32m/usr/local/lib/python3.7/dist-packages/ipykernel/kernelbase.py\u001b[0m in \u001b[0;36m_input_request\u001b[0;34m(self, prompt, ident, parent, password)\u001b[0m\n\u001b[1;32m    732\u001b[0m             \u001b[0;32mexcept\u001b[0m \u001b[0mKeyboardInterrupt\u001b[0m\u001b[0;34m:\u001b[0m\u001b[0;34m\u001b[0m\u001b[0;34m\u001b[0m\u001b[0m\n\u001b[1;32m    733\u001b[0m                 \u001b[0;31m# re-raise KeyboardInterrupt, to truncate traceback\u001b[0m\u001b[0;34m\u001b[0m\u001b[0;34m\u001b[0m\u001b[0;34m\u001b[0m\u001b[0m\n\u001b[0;32m--> 734\u001b[0;31m                 \u001b[0;32mraise\u001b[0m \u001b[0mKeyboardInterrupt\u001b[0m\u001b[0;34m\u001b[0m\u001b[0;34m\u001b[0m\u001b[0m\n\u001b[0m\u001b[1;32m    735\u001b[0m             \u001b[0;32melse\u001b[0m\u001b[0;34m:\u001b[0m\u001b[0;34m\u001b[0m\u001b[0;34m\u001b[0m\u001b[0m\n\u001b[1;32m    736\u001b[0m                 \u001b[0;32mbreak\u001b[0m\u001b[0;34m\u001b[0m\u001b[0;34m\u001b[0m\u001b[0m\n",
            "\u001b[0;31mKeyboardInterrupt\u001b[0m: "
          ]
        }
      ]
    },
    {
      "cell_type": "code",
      "metadata": {
        "id": "k2rTupms1RWk"
      },
      "source": [
        "stack_list= []\n",
        "def process_stack(command):\n",
        "\n",
        "  \n",
        "  if command[0] == 'push':\n",
        "      stack_list.append(command[1])\n",
        "  \n",
        "  elif command[0] == 'top':\n",
        "      if len(stack_list) == 0:\n",
        "        print(-1)\n",
        "      else:\n",
        "        print(stack_list[-1])\n",
        "  elif command[0] == 'size':\n",
        "      print(len(stack_list))\n",
        "  elif command[0] == 'empty':\n",
        "      if len(stack_list) > 0 :\n",
        "        print('0')\n",
        "      elif len(stack_list) == 0:\n",
        "        print('1')\n",
        "  elif command[0] == 'pop':\n",
        "      if len(stack_list) == 0:\n",
        "        print(-1)\n",
        "      else:\n",
        "        stack_list.pop(-1)\n",
        "\n",
        "\n",
        "n = int(input())\n",
        "\n",
        "for _ in range(n):\n",
        "  command = input().split(\" \")\n",
        "  process_stack(command)"
      ],
      "execution_count": null,
      "outputs": []
    },
    {
      "cell_type": "code",
      "metadata": {
        "id": "c9jnq3Cz_2Jk"
      },
      "source": [
        "# pop의 구조  -> 해당 인덱스를 빠져나오게 하고 그 숫자를 없애줌"
      ],
      "execution_count": null,
      "outputs": []
    },
    {
      "cell_type": "code",
      "metadata": {
        "colab": {
          "base_uri": "https://localhost:8080/",
          "height": 186
        },
        "id": "WV6_fFER1a4Z",
        "outputId": "49c4e667-d5ee-458e-fde1-e355bef422a8"
      },
      "source": [
        "stack_list= [1,2,3,4]\n",
        "stack_list.top()"
      ],
      "execution_count": null,
      "outputs": [
        {
          "output_type": "error",
          "ename": "AttributeError",
          "evalue": "ignored",
          "traceback": [
            "\u001b[0;31m---------------------------------------------------------------------------\u001b[0m",
            "\u001b[0;31mAttributeError\u001b[0m                            Traceback (most recent call last)",
            "\u001b[0;32m<ipython-input-3-68f2969f9921>\u001b[0m in \u001b[0;36m<module>\u001b[0;34m()\u001b[0m\n\u001b[1;32m      1\u001b[0m \u001b[0mstack_list\u001b[0m\u001b[0;34m=\u001b[0m \u001b[0;34m[\u001b[0m\u001b[0;36m1\u001b[0m\u001b[0;34m,\u001b[0m\u001b[0;36m2\u001b[0m\u001b[0;34m,\u001b[0m\u001b[0;36m3\u001b[0m\u001b[0;34m,\u001b[0m\u001b[0;36m4\u001b[0m\u001b[0;34m]\u001b[0m\u001b[0;34m\u001b[0m\u001b[0;34m\u001b[0m\u001b[0m\n\u001b[0;32m----> 2\u001b[0;31m \u001b[0mstack_list\u001b[0m\u001b[0;34m.\u001b[0m\u001b[0mtop\u001b[0m\u001b[0;34m(\u001b[0m\u001b[0;34m)\u001b[0m\u001b[0;34m\u001b[0m\u001b[0;34m\u001b[0m\u001b[0m\n\u001b[0m",
            "\u001b[0;31mAttributeError\u001b[0m: 'list' object has no attribute 'top'"
          ]
        }
      ]
    },
    {
      "cell_type": "code",
      "metadata": {
        "colab": {
          "base_uri": "https://localhost:8080/"
        },
        "id": "5hWrPtYz1eDX",
        "outputId": "fddd530c-fc78-4188-ac41-601e037698f0"
      },
      "source": [
        "# Python program to demonstrate\n",
        "# stack implementation using a linked list.\n",
        "# node class\n",
        "class Node:\n",
        "   def __init__(self, value):\n",
        "      self.value = value\n",
        "      self.next = None\n",
        " \n",
        "class Stack:\n",
        "    \n",
        "   # Initializing a stack.\n",
        "   # Use a dummy node, which is\n",
        "   # easier for handling edge cases.\n",
        "   def __init__(self):\n",
        "      self.head = Node(\"head\")\n",
        "      self.size = 0\n",
        " \n",
        "   # String representation of the stack\n",
        "   def __str__(self):\n",
        "      cur = self.head.next\n",
        "      out = \"\"\n",
        "      while cur:\n",
        "         out += str(cur.value) + \"->\"\n",
        "         cur = cur.next\n",
        "      return out[:-3]  \n",
        " \n",
        "   # Get the current size of the stack\n",
        "   def getSize(self):\n",
        "      return self.size\n",
        "    \n",
        "   # Check if the stack is empty\n",
        "   def isEmpty(self):\n",
        "      return self.size == 0\n",
        "    \n",
        "   # Get the top item of the stack\n",
        "   def peek(self):\n",
        "       \n",
        "      # Sanitary check to see if we\n",
        "      # are peeking an empty stack.\n",
        "      if self.isEmpty():\n",
        "         raise Exception(\"Peeking from an empty stack\")\n",
        "      return self.head.next.value\n",
        " \n",
        "   # Push a value into the stack.\n",
        "   def push(self, value):\n",
        "      node = Node(value)\n",
        "      node.next = self.head.next\n",
        "      self.head.next = node\n",
        "      self.size += 1\n",
        "      \n",
        "   # Remove a value from the stack and return.\n",
        "   def pop(self):\n",
        "      if self.isEmpty():\n",
        "         raise Exception(\"Popping from an empty stack\")\n",
        "      remove = self.head.next\n",
        "      self.head.next = self.head.next.next\n",
        "      self.size -= 1\n",
        "      return remove.value\n",
        " \n",
        "# Driver Code\n",
        "if __name__ == \"__main__\":\n",
        "   stack = Stack()\n",
        "   for i in range(1, 11):\n",
        "      stack.push(i)\n",
        "   print(f\"Stack: {stack}\")\n",
        " \n",
        "   for _ in range(1, 6):\n",
        "      remove = stack.pop()\n",
        "      print(f\"Pop: {remove}\")\n",
        "   print(f\"Stack: {stack}\")"
      ],
      "execution_count": null,
      "outputs": [
        {
          "output_type": "stream",
          "text": [
            "Stack: 10->9->8->7->6->5->4->3->2->\n",
            "Pop: 10\n",
            "Pop: 9\n",
            "Pop: 8\n",
            "Pop: 7\n",
            "Pop: 6\n",
            "Stack: 5->4->3->2->\n"
          ],
          "name": "stdout"
        }
      ]
    },
    {
      "cell_type": "code",
      "metadata": {
        "id": "wmMwI4An2Ziu",
        "colab": {
          "base_uri": "https://localhost:8080/",
          "height": 257
        },
        "outputId": "013db547-8245-4783-a053-1d3ca7eb7b2b"
      },
      "source": [
        "class Node:\n",
        "    def __init__(self,value):\n",
        "      self.value = value\n",
        "      self.next = None\n",
        "\n",
        "class process_stack:\n",
        "\n",
        "    def __init__(self,value):\n",
        "        \n",
        "        self.head = Node(\"head\")\n",
        "        self.size = 0\n",
        "\n",
        "    def push(self,value):\n",
        "      \n",
        "        self.valeu.append(int(num))\n",
        "        self.size += 1\n",
        "    \n",
        "    def size(self):\n",
        "        return self.size\n",
        "\n",
        "    def empty(self):\n",
        "        return self.size == 0   \n",
        "\n",
        "    def pop(self):\n",
        "        if self.size  > 0:\n",
        "            print(stack_list.pop())\n",
        "            self.size  -= 1\n",
        "        else :\n",
        "            print('-1')\n",
        "    \n",
        "    def top(self):\n",
        "      return self[-1]\n",
        "\n",
        "n = int(input())\n",
        "\n",
        "\n",
        "\n",
        "for _ in range(n):\n",
        "  command = input().split(\" \")\n",
        "  process_stack(command)"
      ],
      "execution_count": null,
      "outputs": [
        {
          "output_type": "stream",
          "text": [
            "push 1\n"
          ],
          "name": "stdout"
        },
        {
          "output_type": "error",
          "ename": "ValueError",
          "evalue": "ignored",
          "traceback": [
            "\u001b[0;31m---------------------------------------------------------------------------\u001b[0m",
            "\u001b[0;31mValueError\u001b[0m                                Traceback (most recent call last)",
            "\u001b[0;32m<ipython-input-10-83eff7d1e204>\u001b[0m in \u001b[0;36m<module>\u001b[0;34m()\u001b[0m\n\u001b[1;32m     33\u001b[0m       \u001b[0;32mreturn\u001b[0m \u001b[0mself\u001b[0m\u001b[0;34m[\u001b[0m\u001b[0;34m-\u001b[0m\u001b[0;36m1\u001b[0m\u001b[0;34m]\u001b[0m\u001b[0;34m\u001b[0m\u001b[0;34m\u001b[0m\u001b[0m\n\u001b[1;32m     34\u001b[0m \u001b[0;34m\u001b[0m\u001b[0m\n\u001b[0;32m---> 35\u001b[0;31m \u001b[0mn\u001b[0m \u001b[0;34m=\u001b[0m \u001b[0mint\u001b[0m\u001b[0;34m(\u001b[0m\u001b[0minput\u001b[0m\u001b[0;34m(\u001b[0m\u001b[0;34m)\u001b[0m\u001b[0;34m)\u001b[0m\u001b[0;34m\u001b[0m\u001b[0;34m\u001b[0m\u001b[0m\n\u001b[0m\u001b[1;32m     36\u001b[0m \u001b[0;34m\u001b[0m\u001b[0m\n\u001b[1;32m     37\u001b[0m \u001b[0;32mfor\u001b[0m \u001b[0m_\u001b[0m \u001b[0;32min\u001b[0m \u001b[0mrange\u001b[0m\u001b[0;34m(\u001b[0m\u001b[0mn\u001b[0m\u001b[0;34m)\u001b[0m\u001b[0;34m:\u001b[0m\u001b[0;34m\u001b[0m\u001b[0;34m\u001b[0m\u001b[0m\n",
            "\u001b[0;31mValueError\u001b[0m: invalid literal for int() with base 10: 'push 1'"
          ]
        }
      ]
    },
    {
      "cell_type": "code",
      "metadata": {
        "id": "HGcEHtwx73eB",
        "colab": {
          "base_uri": "https://localhost:8080/",
          "height": 257
        },
        "outputId": "0f136676-13ce-4f22-f891-036a48bc7503"
      },
      "source": [
        "def run_cmd_with_stack(cmd,stack_list,stack_size):\n",
        "    cmd_type = cmd[0]\n",
        "    \n",
        "    if cmd_type =='push':\n",
        "        _, num = cmd\n",
        "        stack_list.append(int(num))\n",
        "        stack_size  += 1\n",
        "\n",
        "    elif cmd_type == \"pop\":\n",
        "        if stack_size  >0:\n",
        "            print(stack_list.pop())\n",
        "            stack_size  -= 1\n",
        "        else :\n",
        "            print('-1')\n",
        "    elif cmd_type == 'size':\n",
        "        print (stack_size)\n",
        "    elif cmd_type == 'empty':\n",
        "        if stack_size > 0 :\n",
        "            print(0)\n",
        "        else:\n",
        "            pirnt(1)\n",
        "    elif cmd_type == 'top':\n",
        "        print(stack_list[-1] )       \n",
        "    \n",
        "    return stack_list,stack_size\n",
        "\n",
        "n = int(input())\n",
        "stack_list = []\n",
        "stack_size = []\n",
        "\n",
        "for _ in range(n):\n",
        "  command = input().split(\" \")\n",
        "  stack_list,stack_size = run_cmd_with_stack(command , stack_list , stack_size)"
      ],
      "execution_count": null,
      "outputs": [
        {
          "output_type": "stream",
          "text": [
            "push 1\n"
          ],
          "name": "stdout"
        },
        {
          "output_type": "error",
          "ename": "ValueError",
          "evalue": "ignored",
          "traceback": [
            "\u001b[0;31m---------------------------------------------------------------------------\u001b[0m",
            "\u001b[0;31mValueError\u001b[0m                                Traceback (most recent call last)",
            "\u001b[0;32m<ipython-input-8-b543cdb3ced3>\u001b[0m in \u001b[0;36m<module>\u001b[0;34m()\u001b[0m\n\u001b[1;32m     25\u001b[0m     \u001b[0;32mreturn\u001b[0m \u001b[0mstack_list\u001b[0m\u001b[0;34m,\u001b[0m\u001b[0mstack_size\u001b[0m\u001b[0;34m\u001b[0m\u001b[0;34m\u001b[0m\u001b[0m\n\u001b[1;32m     26\u001b[0m \u001b[0;34m\u001b[0m\u001b[0m\n\u001b[0;32m---> 27\u001b[0;31m \u001b[0mn\u001b[0m \u001b[0;34m=\u001b[0m \u001b[0mint\u001b[0m\u001b[0;34m(\u001b[0m\u001b[0minput\u001b[0m\u001b[0;34m(\u001b[0m\u001b[0;34m)\u001b[0m\u001b[0;34m)\u001b[0m\u001b[0;34m\u001b[0m\u001b[0;34m\u001b[0m\u001b[0m\n\u001b[0m\u001b[1;32m     28\u001b[0m \u001b[0mstack_list\u001b[0m \u001b[0;34m=\u001b[0m \u001b[0;34m[\u001b[0m\u001b[0;34m]\u001b[0m\u001b[0;34m\u001b[0m\u001b[0;34m\u001b[0m\u001b[0m\n\u001b[1;32m     29\u001b[0m \u001b[0mstack_size\u001b[0m \u001b[0;34m=\u001b[0m \u001b[0;34m[\u001b[0m\u001b[0;34m]\u001b[0m\u001b[0;34m\u001b[0m\u001b[0;34m\u001b[0m\u001b[0m\n",
            "\u001b[0;31mValueError\u001b[0m: invalid literal for int() with base 10: 'push 1'"
          ]
        }
      ]
    },
    {
      "cell_type": "code",
      "metadata": {
        "id": "J2jKWvR2MBR0"
      },
      "source": [
        "class Stack:\n",
        "  def __init__(self):\n",
        "    self.stack_list = []\n",
        "    self.stack_size = 0\n",
        "\n",
        "  def push(self,num):\n",
        "      self.stack_list.append(int(num))\n",
        "      self.stack_size += 1\n",
        "\n",
        "  def pop(self):\n",
        "      if stack_size >0 :\n",
        "         self.stack_list.pop()\n",
        "      else :\n",
        "        print(-1)\n",
        "\n",
        "  def top(self):\n",
        "      if self.stack_size >0 :\n",
        "         self.stack_list[-1]\n",
        "  \n",
        "\n",
        "      else :\n",
        "        print(-1)"
      ],
      "execution_count": null,
      "outputs": []
    },
    {
      "cell_type": "code",
      "metadata": {
        "id": "cS85-wVvYtzH"
      },
      "source": [
        "class Stack:\n",
        "    def __init__(self):\n",
        "        self.stack_list = []\n",
        "        self.stack_size = 0\n",
        "    \n",
        "    def push(self, num):\n",
        "        self.stack_list.append(int(num))\n",
        "        self.stack_size += 1\n",
        "    \n",
        "    def pop(self):\n",
        "        if self.size() > 0:\n",
        "            self.stack_size -= 1\n",
        "            return self.stack_list.pop()\n",
        "        \n",
        "        return -1\n",
        "    \n",
        "    def size(self):\n",
        "        return self.stack_size\n",
        "​\n",
        "    def empty(self):\n",
        "        if self.size() > 0:\n",
        "            return 0\n",
        "        \n",
        "        return 1\n",
        "​\n",
        "    def top(self):\n",
        "        if self.size() > 0:\n",
        "            return self.stack_list[self.size()-1]\n",
        "        \n",
        "        return -1\n",
        "​\n",
        "def run_cmd_with_stack(cmd, new_stack_list):\n",
        "    cmd_type = cmd[0]\n",
        "​\n",
        "    if cmd_type == \"push\":\n",
        "        _, num = cmd # num = cmd[1]\n",
        "        new_stack_list.push(num)\n",
        "    elif cmd_type == \"pop\":\n",
        "        print(new_stack_list.pop())\n",
        "    elif cmd_type == \"size\":\n",
        "        print(new_stack_list.size())\n",
        "    elif cmd_type == \"empty\":\n",
        "        print(new_stack_list.empty())\n",
        "    elif cmd_type == \"top\":\n",
        "        print(new_stack_list.top())\n",
        "    \n",
        "    return new_stack_list\n",
        "​\n",
        "n = int(input())\n",
        "new_stack_list = Stack()\n",
        "​\n",
        "for _ in range(n):\n",
        "    # \"push 2\".split() => [\"push\", \"2\"]\n",
        "    # \"size\".split() => [\"size\"]\n",
        "​\n",
        "    command = input().split()\n",
        "    new_stack_list = run_cmd_with_stack(command, new_stack_list)"
      ],
      "execution_count": null,
      "outputs": []
    },
    {
      "cell_type": "code",
      "metadata": {
        "id": "3nSK_-LPYw_3"
      },
      "source": [
        "def run_cmd_with_stack(cmd, stack_list, stack_size):\n",
        "    cmd_type = cmd[0]\n",
        "​\n",
        "    if cmd_type == \"push\":\n",
        "        _, num = cmd # num = cmd[1]\n",
        "        stack_list.append(int(num))\n",
        "        stack_size += 1\n",
        "    elif cmd_type == \"pop\":\n",
        "        if stack_size > 0:\n",
        "            print(stack_list.pop())\n",
        "            stack_size -= 1\n",
        "        else:\n",
        "            print(-1)\n",
        "    elif cmd_type == \"size\":\n",
        "        print(stack_size)\n",
        "    elif cmd_type == \"empty\":\n",
        "        if stack_size > 0:\n",
        "            print(0)\n",
        "        else:\n",
        "            print(1)\n",
        "    elif cmd_type == \"top\":\n",
        "        if stack_size > 0:\n",
        "            print(stack_list[stack_size-1])\n",
        "        else:\n",
        "            print(-1)\n",
        "    \n",
        "    return stack_list, stack_size\n",
        "​\n",
        "n = int(input())\n",
        "stack_list = []\n",
        "stack_size = 0\n",
        "​\n",
        "for _ in range(n):\n",
        "    # \"push 2\".split() => [\"push\", \"2\"]\n",
        "    # \"size\".split() => [\"size\"]\n",
        "​\n",
        "    command = input().split()\n",
        "    stack_list, stack_size = run_cmd_with_stack(command, stack_list, stack_size)"
      ],
      "execution_count": null,
      "outputs": []
    },
    {
      "cell_type": "code",
      "metadata": {
        "colab": {
          "base_uri": "https://localhost:8080/",
          "height": 862
        },
        "id": "vv6mdoGq3Fo_",
        "outputId": "935edd65-f90b-4933-8766-78d81e2d6db1"
      },
      "source": [
        "class Stack:\n",
        "    def __init__(self, n):\n",
        "        self.stack_list = [None for _ in range(n)]\n",
        "        self.stack_size = 0\n",
        "    \n",
        "    def push(self, num):\n",
        "        self.stack_list[self.size()] = int(num)\n",
        "        self.stack_size += 1\n",
        "    \n",
        "    def pop(self):\n",
        "        if self.size() > 0:\n",
        "            last_val = self.top()\n",
        "\n",
        "            self.stack_list[self.size()-1] = None\n",
        "            \n",
        "            self.stack_size -= 1\n",
        "            return last_val\n",
        "\n",
        "            # self.stack_size -= 1\n",
        "            # return self.stack_list[self.size()]\n",
        "        \n",
        "        return -1\n",
        "    \n",
        "    def size(self):\n",
        "        return self.stack_size\n",
        "\n",
        "    def empty(self):\n",
        "        if self.size() > 0:\n",
        "            return 0\n",
        "        \n",
        "        return 1\n",
        "\n",
        "    def top(self):\n",
        "        if self.size() > 0:\n",
        "            return self.stack_list[self.size()-1]\n",
        "        \n",
        "        return -1\n",
        "\n",
        "def run_cmd_with_stack(cmd, new_stack_list):\n",
        "    cmd_type = cmd[0]\n",
        "\n",
        "    if cmd_type == \"push\":\n",
        "        _, num = cmd # num = cmd[1]\n",
        "        new_stack_list.push(num)\n",
        "    elif cmd_type == \"pop\":\n",
        "        print(new_stack_list.pop())\n",
        "    elif cmd_type == \"size\":\n",
        "        print(new_stack_list.size())\n",
        "    elif cmd_type == \"empty\":\n",
        "        print(new_stack_list.empty())\n",
        "    elif cmd_type == \"top\":\n",
        "        print(new_stack_list.top())\n",
        "  \n",
        "    return new_stack_list\n",
        "\n",
        "n = int(input())\n",
        "new_stack_list = Stack(n)\n",
        "\n",
        "for _ in range(n):\n",
        "    # \"push 2\".split() => [\"push\", \"2\"]\n",
        "    # \"size\".split() => [\"size\"]\n",
        "\n",
        "    command = input().split()\n",
        "    new_stack_list = run_cmd_with_stack(command, new_stack_list)\n",
        "\n",
        "    print(new_stack_list.stack_list)\n",
        "    print(new_stack_list.size())"
      ],
      "execution_count": null,
      "outputs": [
        {
          "output_type": "stream",
          "text": [
            "14\n",
            "push 1\n",
            "[1, None, None, None, None, None, None, None, None, None, None, None, None, None]\n",
            "1\n",
            "pop\n",
            "1\n",
            "[None, None, None, None, None, None, None, None, None, None, None, None, None, None]\n",
            "0\n",
            "push 1\n",
            "[1, None, None, None, None, None, None, None, None, None, None, None, None, None]\n",
            "1\n",
            "push 3\n",
            "[1, 3, None, None, None, None, None, None, None, None, None, None, None, None]\n",
            "2\n",
            "top\n",
            "3\n",
            "[1, 3, None, None, None, None, None, None, None, None, None, None, None, None]\n",
            "2\n"
          ],
          "name": "stdout"
        },
        {
          "output_type": "error",
          "ename": "KeyboardInterrupt",
          "evalue": "ignored",
          "traceback": [
            "\u001b[0;31m---------------------------------------------------------------------------\u001b[0m",
            "\u001b[0;31mKeyboardInterrupt\u001b[0m                         Traceback (most recent call last)",
            "\u001b[0;32m/usr/local/lib/python3.7/dist-packages/ipykernel/kernelbase.py\u001b[0m in \u001b[0;36m_input_request\u001b[0;34m(self, prompt, ident, parent, password)\u001b[0m\n\u001b[1;32m    728\u001b[0m             \u001b[0;32mtry\u001b[0m\u001b[0;34m:\u001b[0m\u001b[0;34m\u001b[0m\u001b[0;34m\u001b[0m\u001b[0m\n\u001b[0;32m--> 729\u001b[0;31m                 \u001b[0mident\u001b[0m\u001b[0;34m,\u001b[0m \u001b[0mreply\u001b[0m \u001b[0;34m=\u001b[0m \u001b[0mself\u001b[0m\u001b[0;34m.\u001b[0m\u001b[0msession\u001b[0m\u001b[0;34m.\u001b[0m\u001b[0mrecv\u001b[0m\u001b[0;34m(\u001b[0m\u001b[0mself\u001b[0m\u001b[0;34m.\u001b[0m\u001b[0mstdin_socket\u001b[0m\u001b[0;34m,\u001b[0m \u001b[0;36m0\u001b[0m\u001b[0;34m)\u001b[0m\u001b[0;34m\u001b[0m\u001b[0;34m\u001b[0m\u001b[0m\n\u001b[0m\u001b[1;32m    730\u001b[0m             \u001b[0;32mexcept\u001b[0m \u001b[0mException\u001b[0m\u001b[0;34m:\u001b[0m\u001b[0;34m\u001b[0m\u001b[0;34m\u001b[0m\u001b[0m\n",
            "\u001b[0;32m/usr/local/lib/python3.7/dist-packages/jupyter_client/session.py\u001b[0m in \u001b[0;36mrecv\u001b[0;34m(self, socket, mode, content, copy)\u001b[0m\n\u001b[1;32m    802\u001b[0m         \u001b[0;32mtry\u001b[0m\u001b[0;34m:\u001b[0m\u001b[0;34m\u001b[0m\u001b[0;34m\u001b[0m\u001b[0m\n\u001b[0;32m--> 803\u001b[0;31m             \u001b[0mmsg_list\u001b[0m \u001b[0;34m=\u001b[0m \u001b[0msocket\u001b[0m\u001b[0;34m.\u001b[0m\u001b[0mrecv_multipart\u001b[0m\u001b[0;34m(\u001b[0m\u001b[0mmode\u001b[0m\u001b[0;34m,\u001b[0m \u001b[0mcopy\u001b[0m\u001b[0;34m=\u001b[0m\u001b[0mcopy\u001b[0m\u001b[0;34m)\u001b[0m\u001b[0;34m\u001b[0m\u001b[0;34m\u001b[0m\u001b[0m\n\u001b[0m\u001b[1;32m    804\u001b[0m         \u001b[0;32mexcept\u001b[0m \u001b[0mzmq\u001b[0m\u001b[0;34m.\u001b[0m\u001b[0mZMQError\u001b[0m \u001b[0;32mas\u001b[0m \u001b[0me\u001b[0m\u001b[0;34m:\u001b[0m\u001b[0;34m\u001b[0m\u001b[0;34m\u001b[0m\u001b[0m\n",
            "\u001b[0;32m/usr/local/lib/python3.7/dist-packages/zmq/sugar/socket.py\u001b[0m in \u001b[0;36mrecv_multipart\u001b[0;34m(self, flags, copy, track)\u001b[0m\n\u001b[1;32m    582\u001b[0m         \"\"\"\n\u001b[0;32m--> 583\u001b[0;31m         \u001b[0mparts\u001b[0m \u001b[0;34m=\u001b[0m \u001b[0;34m[\u001b[0m\u001b[0mself\u001b[0m\u001b[0;34m.\u001b[0m\u001b[0mrecv\u001b[0m\u001b[0;34m(\u001b[0m\u001b[0mflags\u001b[0m\u001b[0;34m,\u001b[0m \u001b[0mcopy\u001b[0m\u001b[0;34m=\u001b[0m\u001b[0mcopy\u001b[0m\u001b[0;34m,\u001b[0m \u001b[0mtrack\u001b[0m\u001b[0;34m=\u001b[0m\u001b[0mtrack\u001b[0m\u001b[0;34m)\u001b[0m\u001b[0;34m]\u001b[0m\u001b[0;34m\u001b[0m\u001b[0;34m\u001b[0m\u001b[0m\n\u001b[0m\u001b[1;32m    584\u001b[0m         \u001b[0;31m# have first part already, only loop while more to receive\u001b[0m\u001b[0;34m\u001b[0m\u001b[0;34m\u001b[0m\u001b[0;34m\u001b[0m\u001b[0m\n",
            "\u001b[0;32mzmq/backend/cython/socket.pyx\u001b[0m in \u001b[0;36mzmq.backend.cython.socket.Socket.recv\u001b[0;34m()\u001b[0m\n",
            "\u001b[0;32mzmq/backend/cython/socket.pyx\u001b[0m in \u001b[0;36mzmq.backend.cython.socket.Socket.recv\u001b[0;34m()\u001b[0m\n",
            "\u001b[0;32mzmq/backend/cython/socket.pyx\u001b[0m in \u001b[0;36mzmq.backend.cython.socket._recv_copy\u001b[0;34m()\u001b[0m\n",
            "\u001b[0;32m/usr/local/lib/python3.7/dist-packages/zmq/backend/cython/checkrc.pxd\u001b[0m in \u001b[0;36mzmq.backend.cython.checkrc._check_rc\u001b[0;34m()\u001b[0m\n",
            "\u001b[0;31mKeyboardInterrupt\u001b[0m: ",
            "\nDuring handling of the above exception, another exception occurred:\n",
            "\u001b[0;31mKeyboardInterrupt\u001b[0m                         Traceback (most recent call last)",
            "\u001b[0;32m<ipython-input-17-f89cc0e4234d>\u001b[0m in \u001b[0;36m<module>\u001b[0;34m()\u001b[0m\n\u001b[1;32m     61\u001b[0m     \u001b[0;31m# \"size\".split() => [\"size\"]\u001b[0m\u001b[0;34m\u001b[0m\u001b[0;34m\u001b[0m\u001b[0;34m\u001b[0m\u001b[0m\n\u001b[1;32m     62\u001b[0m \u001b[0;34m\u001b[0m\u001b[0m\n\u001b[0;32m---> 63\u001b[0;31m     \u001b[0mcommand\u001b[0m \u001b[0;34m=\u001b[0m \u001b[0minput\u001b[0m\u001b[0;34m(\u001b[0m\u001b[0;34m)\u001b[0m\u001b[0;34m.\u001b[0m\u001b[0msplit\u001b[0m\u001b[0;34m(\u001b[0m\u001b[0;34m)\u001b[0m\u001b[0;34m\u001b[0m\u001b[0;34m\u001b[0m\u001b[0m\n\u001b[0m\u001b[1;32m     64\u001b[0m     \u001b[0mnew_stack_list\u001b[0m \u001b[0;34m=\u001b[0m \u001b[0mrun_cmd_with_stack\u001b[0m\u001b[0;34m(\u001b[0m\u001b[0mcommand\u001b[0m\u001b[0;34m,\u001b[0m \u001b[0mnew_stack_list\u001b[0m\u001b[0;34m)\u001b[0m\u001b[0;34m\u001b[0m\u001b[0;34m\u001b[0m\u001b[0m\n\u001b[1;32m     65\u001b[0m \u001b[0;34m\u001b[0m\u001b[0m\n",
            "\u001b[0;32m/usr/local/lib/python3.7/dist-packages/ipykernel/kernelbase.py\u001b[0m in \u001b[0;36mraw_input\u001b[0;34m(self, prompt)\u001b[0m\n\u001b[1;32m    702\u001b[0m             \u001b[0mself\u001b[0m\u001b[0;34m.\u001b[0m\u001b[0m_parent_ident\u001b[0m\u001b[0;34m,\u001b[0m\u001b[0;34m\u001b[0m\u001b[0;34m\u001b[0m\u001b[0m\n\u001b[1;32m    703\u001b[0m             \u001b[0mself\u001b[0m\u001b[0;34m.\u001b[0m\u001b[0m_parent_header\u001b[0m\u001b[0;34m,\u001b[0m\u001b[0;34m\u001b[0m\u001b[0;34m\u001b[0m\u001b[0m\n\u001b[0;32m--> 704\u001b[0;31m             \u001b[0mpassword\u001b[0m\u001b[0;34m=\u001b[0m\u001b[0;32mFalse\u001b[0m\u001b[0;34m,\u001b[0m\u001b[0;34m\u001b[0m\u001b[0;34m\u001b[0m\u001b[0m\n\u001b[0m\u001b[1;32m    705\u001b[0m         )\n\u001b[1;32m    706\u001b[0m \u001b[0;34m\u001b[0m\u001b[0m\n",
            "\u001b[0;32m/usr/local/lib/python3.7/dist-packages/ipykernel/kernelbase.py\u001b[0m in \u001b[0;36m_input_request\u001b[0;34m(self, prompt, ident, parent, password)\u001b[0m\n\u001b[1;32m    732\u001b[0m             \u001b[0;32mexcept\u001b[0m \u001b[0mKeyboardInterrupt\u001b[0m\u001b[0;34m:\u001b[0m\u001b[0;34m\u001b[0m\u001b[0;34m\u001b[0m\u001b[0m\n\u001b[1;32m    733\u001b[0m                 \u001b[0;31m# re-raise KeyboardInterrupt, to truncate traceback\u001b[0m\u001b[0;34m\u001b[0m\u001b[0;34m\u001b[0m\u001b[0;34m\u001b[0m\u001b[0m\n\u001b[0;32m--> 734\u001b[0;31m                 \u001b[0;32mraise\u001b[0m \u001b[0mKeyboardInterrupt\u001b[0m\u001b[0;34m\u001b[0m\u001b[0;34m\u001b[0m\u001b[0m\n\u001b[0m\u001b[1;32m    735\u001b[0m             \u001b[0;32melse\u001b[0m\u001b[0;34m:\u001b[0m\u001b[0;34m\u001b[0m\u001b[0;34m\u001b[0m\u001b[0m\n\u001b[1;32m    736\u001b[0m                 \u001b[0;32mbreak\u001b[0m\u001b[0;34m\u001b[0m\u001b[0;34m\u001b[0m\u001b[0m\n",
            "\u001b[0;31mKeyboardInterrupt\u001b[0m: "
          ]
        }
      ]
    },
    {
      "cell_type": "code",
      "metadata": {
        "colab": {
          "base_uri": "https://localhost:8080/"
        },
        "id": "Gz4nY_Sw4-6T",
        "outputId": "ff223f6a-9032-4977-c4b4-ebb7845c0cc5"
      },
      "source": [
        "class Que:\n",
        "    def __init__(self, n):\n",
        "        self.Que_list = [None for _ in range(n)]\n",
        "        self.Que_size = 0\n",
        "    \n",
        "    def push(self, num):\n",
        "        self.Que_list[self.size()] = int(num)\n",
        "        self.Que_size += 1\n",
        "    \n",
        "    def pop(self):\n",
        "        if self.size() > 0 and self.Que_list[0] != None:\n",
        "            \n",
        "            last_val = self.Que_list[0] \n",
        "\n",
        "            self.Que_list[0] = None\n",
        "            \n",
        "            self.Que_size -= 1\n",
        "\n",
        "            return last_val\n",
        "\n",
        "        elif self.size() > 0 and self.Que_list[0] == None:\n",
        "\n",
        "            last_val = self.Que_list[1]\n",
        "\n",
        "            self.Que_list[1] = None\n",
        "\n",
        "            self.Que_size -= 1\n",
        "            self.Que_list = list(filter(None, self.Que_list[0:2]))\n",
        "           \n",
        "           if self.size == 0 :\n",
        "              \n",
        "              \n",
        "            \n",
        "              self.Que_list = [None for _ in range(n)]\n",
        "            \n",
        "            return last_val\n",
        "        \n",
        "\n",
        "        elif self.size() == 0 :\n",
        "\n",
        "           return -1\n",
        "\n",
        "            # self.stack_size -= 1\n",
        "            # return self.stack_list[self.size()]\n",
        "        \n",
        "        \n",
        "    \n",
        "    def size(self):\n",
        "        return self.Que_size\n",
        "\n",
        "    def empty(self):\n",
        "        if self.size() > 0:\n",
        "            return 0\n",
        "        \n",
        "        return 1\n",
        "\n",
        "    def front(self):\n",
        "        if self.size() > 0:\n",
        "            return self.Que_list[0]\n",
        "        \n",
        "        return -1\n",
        "        \n",
        "    def back(self):\n",
        "        if self.size() > 0:\n",
        "            return self.Que_list[self.size() -1]\n",
        "        \n",
        "        return -1\n",
        "\n",
        "def run_cmd_with_Que(cmd, new_Que_list):\n",
        "    cmd_type = cmd[0]\n",
        "\n",
        "    if cmd_type == \"push\":\n",
        "        _, num = cmd # num = cmd[1]\n",
        "        new_Que_list.push(num)\n",
        "    elif cmd_type == \"pop\":\n",
        "        print(new_Que_list.pop())\n",
        "    elif cmd_type == \"size\":\n",
        "        print(new_Que_list.size())\n",
        "    elif cmd_type == \"empty\":\n",
        "        print(new_Que_list.empty())\n",
        "    elif cmd_type == \"front\":\n",
        "        print(new_Que_list.front())\n",
        "    elif cmd_type == \"back\":\n",
        "        print(new_Que_list.back())\n",
        "  \n",
        "    return new_Que_list\n",
        "\n",
        "n = int(input())\n",
        "new_Que_list = Que(n)\n",
        "\n",
        "for _ in range(n):\n",
        "    # \"push 2\".split() => [\"push\", \"2\"]\n",
        "    # \"size\".split() => [\"size\"]\n",
        "\n",
        "    command = input().split()\n",
        "    new_Que_list = run_cmd_with_Que(command, new_Que_list)\n",
        "\n",
        "  "
      ],
      "execution_count": null,
      "outputs": [
        {
          "output_type": "stream",
          "text": [
            "15\n",
            "push 1\n",
            "push 2\n",
            "front\n",
            "1\n",
            "back\n",
            "2\n",
            "size\n",
            "2\n",
            "empty\n",
            "0\n",
            "pop\n",
            "1\n",
            "pop\n",
            "2\n",
            "pop\n",
            "-1\n",
            "size\n",
            "0\n",
            "empty\n",
            "1\n",
            "pop\n",
            "-1\n",
            "push 3\n",
            "empty\n",
            "0\n",
            "front\n",
            "3\n"
          ],
          "name": "stdout"
        }
      ]
    },
    {
      "cell_type": "code",
      "metadata": {
        "id": "QVw3KkFuY5T1"
      },
      "source": [
        "class Queue:\n",
        "    def __init__(self):\n",
        "        # self.array = [None] * n\n",
        "        self.array = [None for _ in range(n)]    \n",
        "        self.f_idx = 0\n",
        "        self.b_idx = 0\n",
        "​\n",
        "    def push(self, num):\n",
        "        self.array[self.b_idx] = num\n",
        "        self.b_idx += 1\n",
        "​\n",
        "    def pop(self):\n",
        "        # if self.f_idx == self.b_idx:\n",
        "        # if self.b_idx - self.f_idx == 0:\n",
        "        # if self.size() == 0:\n",
        "        if self.is_empty():\n",
        "            return -1\n",
        "        \n",
        "        pop_val = self.array[self.f_idx]\n",
        "        self.f_idx += 1\n",
        "        return pop_val\n",
        "​\n",
        "        # self.f_idx += 1\n",
        "        # return self.array[self.f_idx-1]\n",
        "    def size(self):\n",
        "        return self.b_idx - self.f_idx\n",
        "​\n",
        "    def empty(self):\n",
        "        return int(self.is_empty())\n",
        "​\n",
        "    def is_empty(self):\n",
        "        return self.size() == 0\n",
        "​\n",
        "    def front(self):\n",
        "        if self.is_empty():\n",
        "            return -1\n",
        "​\n",
        "        return self.array[self.f_idx]\n",
        "​\n",
        "    def back(self):\n",
        "        if self.is_empty():\n",
        "            return -1\n",
        "​\n",
        "        return self.array[self.b_idx-1]\n",
        "​\n",
        "def run_cmd_with_queue(command, queue_obj):\n",
        "    cmd_type = command[0]\n",
        "​\n",
        "    if cmd_type == \"push\":\n",
        "        _, num = command\n",
        "        queue_obj.push(int(num))\n",
        "    elif cmd_type == \"pop\":\n",
        "        print(queue_obj.pop())\n",
        "    elif cmd_type == \"size\":\n",
        "        print(queue_obj.size())\n",
        "    elif cmd_type == \"empty\":\n",
        "        print(queue_obj.empty())\n",
        "    elif cmd_type == \"front\":\n",
        "        print(queue_obj.front())\n",
        "    elif cmd_type == \"back\":\n",
        "        print(queue_obj.back())\n",
        "​\n",
        "n = int(input())\n",
        "queue_obj = Queue()\n",
        "​\n",
        "for _ in range(n):\n",
        "    run_cmd_with_queue(input().split(), queue_obj)"
      ],
      "execution_count": null,
      "outputs": []
    },
    {
      "cell_type": "code",
      "metadata": {
        "id": "cKXE-Fzkzl1e"
      },
      "source": [
        "from collections import deque\n",
        "​\n",
        "class StackAndQueue:\n",
        "    def __init__(self, data_type):\n",
        "        self.array = deque()\n",
        "        self.data_type = data_type\n",
        "​\n",
        "    def push(self, num):\n",
        "        self.array.append(num)\n",
        "​\n",
        "    def pop(self):\n",
        "        if self.is_empty():\n",
        "            return -1\n",
        "​\n",
        "        if self.is_stack():\n",
        "            return self.array.pop()\n",
        "​\n",
        "        return self.array.popleft()\n",
        "​\n",
        "    def size(self):\n",
        "        return len(self.array)\n",
        "​\n",
        "    def empty(self):\n",
        "        return int(self.is_empty())\n",
        "​\n",
        "    def top(self):\n",
        "        if not self.is_stack() or self.is_empty():\n",
        "            return -1\n",
        "​\n",
        "        return self.array[-1]\n",
        "​\n",
        "    def front(self):\n",
        "        if self.is_stack() or self.is_empty():\n",
        "            return -1\n",
        "​\n",
        "        return self.array[0]\n",
        "​\n",
        "    def back(self):\n",
        "        if self.is_stack() or self.is_empty():\n",
        "            return -1\n",
        "​\n",
        "        return self.array[-1]\n",
        "    #     return self.get_last_val()\n",
        "​\n",
        "    # def get_last_val(self):\n",
        "    #     return self.array[-1]\n",
        "​\n",
        "    def is_stack(self):\n",
        "        return self.data_type == \"stack\"\n",
        "        \n",
        "    def is_empty(self):\n",
        "        return self.size() == 0\n",
        "​\n",
        "def run_cmd(command, data_obj):\n",
        "    cmd_type = command[0]\n",
        "    \n",
        "    if cmd_type == \"push\":\n",
        "        _, num = command\n",
        "        data_obj.push(int(num))\n",
        "​\n",
        "    elif cmd_type == \"pop\":\n",
        "        print(data_obj.pop())\n",
        "​\n",
        "    elif cmd_type == \"size\":\n",
        "        print(data_obj.size())\n",
        "        \n",
        "    elif cmd_type == \"empty\":\n",
        "        print(data_obj.empty())\n",
        "        \n",
        "    elif cmd_type == \"top\":\n",
        "        print(data_obj.top())\n",
        "        \n",
        "    elif cmd_type == \"front\":\n",
        "         print(data_obj.front())\n",
        "               \n",
        "    elif cmd_type == \"back\":\n",
        "        print(data_obj.back())\n",
        "                \n",
        "​\n",
        "data_type = input()\n",
        "n = int(input())\n",
        "data_obj = StackAndQueue(data_type)\n",
        "​\n",
        "for _ in range(n):\n",
        "    run_cmd(input().split(), data_obj)"
      ],
      "execution_count": null,
      "outputs": []
    },
    {
      "cell_type": "markdown",
      "metadata": {
        "id": "0RmLW_I1546S"
      },
      "source": [
        "sort"
      ]
    },
    {
      "cell_type": "code",
      "metadata": {
        "id": "2WdBImYDEjbO",
        "colab": {
          "base_uri": "https://localhost:8080/"
        },
        "outputId": "26945766-c19c-4d95-a624-40d7d88b1e6f"
      },
      "source": [
        "def insertion_sort():\n",
        "\n",
        "  for i in range(1,num):\n",
        "    key = num_list[i]\n",
        "\n",
        "    j = i-1\n",
        "    while j>=0 and key < num_list[j]:\n",
        "        num_list[j+1] = num_list[j]\n",
        "        j -= 1\n",
        "    num_list[j+1] = key\n",
        "\n",
        "  return num_list\n",
        "\n",
        "def selection_sort():\n",
        "\n",
        "  for i in range(num):\n",
        "\n",
        "    new_num_list = num_list[i:num]\n",
        "    zero_index =  min(new_num_list)\n",
        "    num_list.insert(i,zero_index)\n",
        "\n",
        "    zero_index_search = num_list.index(zero_index,i+1,num+1)\n",
        "\n",
        "    del num_list[zero_index_search]\n",
        "\n",
        "  return num_list\n",
        "\n",
        "def bubble_sort():\n",
        "\n",
        "    for i in range(num):\n",
        "      for j in range(0,num-1-i):\n",
        "        if num_list[j] > num_list[j+1]:\n",
        "          num_list[j] , num_list[j+1] = num_list[j+1],num_list[j]\n",
        "    return num_list\n",
        "\n",
        "\n",
        "n = int(input())\n",
        "num_list = []\n",
        "\n",
        "for _ in range(n):\n",
        "    num = int(input())\n",
        "    num_list.append(num)\n",
        "\n",
        "insertion_sorted_list = insertion_sort()\n",
        "print(\" \".join(map(str, insertion_sorted_list)))\n",
        "\n",
        "selection_sorted_list = selection_sort()\n",
        "print(\" \".join(map(str, selection_sorted_list)))\n",
        "\n",
        "bubble_sorted_list = bubble_sort()\n",
        "print(\" \".join(map(str, bubble_sorted_list))) "
      ],
      "execution_count": null,
      "outputs": [
        {
          "output_type": "stream",
          "text": [
            "6\n",
            "3\n",
            "6\n",
            "2\n",
            "5\n",
            "1\n",
            "4\n",
            "2 3 5 6 1 4\n",
            "2 3 5 6 1 4\n",
            "2 3 5 6 1 4\n"
          ],
          "name": "stdout"
        }
      ]
    },
    {
      "cell_type": "markdown",
      "metadata": {
        "id": "Vklt-_9O5_Ty"
      },
      "source": [
        "bubble"
      ]
    },
    {
      "cell_type": "code",
      "metadata": {
        "colab": {
          "base_uri": "https://localhost:8080/"
        },
        "id": "s-XR2RYlHGKR",
        "outputId": "0fdf496f-7214-4c2c-aa6a-7513fb8620c3"
      },
      "source": [
        "num = 6\n",
        "num_list = [1,6,2,192,32,3]\n",
        "\n",
        "\n",
        "for i in range(num):\n",
        "  for j in range(0,num-1-i):\n",
        "    if num_list[j] > num_list[j+1]:\n",
        "      num_list[j] , num_list[j+1] = num_list[j+1],num_list[j]\n"
      ],
      "execution_count": null,
      "outputs": [
        {
          "output_type": "stream",
          "text": [
            "[1, 2, 6, 192, 32, 3]\n",
            "[1, 2, 6, 32, 192, 3]\n",
            "[1, 2, 6, 32, 3, 192]\n",
            "[1, 2, 6, 3, 32, 192]\n",
            "[1, 2, 3, 6, 32, 192]\n"
          ],
          "name": "stdout"
        }
      ]
    },
    {
      "cell_type": "markdown",
      "metadata": {
        "id": "5iOcbWEP6Dnx"
      },
      "source": [
        "select"
      ]
    },
    {
      "cell_type": "code",
      "metadata": {
        "colab": {
          "base_uri": "https://localhost:8080/"
        },
        "id": "8Xd5XI9H9KJU",
        "outputId": "a3f3766e-702c-4b54-a473-a4899d9cfc35"
      },
      "source": [
        "for i in range(num):\n",
        "\n",
        "  new_num_list = num_list[i:num]\n",
        "  zero_index =  min(new_num_list)\n",
        "  num_list.insert(i,zero_index)\n",
        "\n",
        "  zero_index_search = num_list.index(zero_index,i+1,num+1)\n",
        "\n",
        "  del num_list[zero_index_search]\n",
        "\n",
        "  print(num_list)\n"
      ],
      "execution_count": null,
      "outputs": [
        {
          "output_type": "stream",
          "text": [
            "[1, 6, 7, 10, 102, 3, 2]\n",
            "[1, 2, 6, 7, 10, 102, 3]\n",
            "[1, 2, 3, 6, 7, 10, 102]\n",
            "[1, 2, 3, 6, 7, 10, 102]\n",
            "[1, 2, 3, 6, 7, 10, 102]\n",
            "[1, 2, 3, 6, 7, 10, 102]\n",
            "[1, 2, 3, 6, 7, 10, 102]\n"
          ],
          "name": "stdout"
        }
      ]
    },
    {
      "cell_type": "markdown",
      "metadata": {
        "id": "ZsHdwKg56E32"
      },
      "source": [
        "insert"
      ]
    },
    {
      "cell_type": "code",
      "metadata": {
        "colab": {
          "base_uri": "https://localhost:8080/"
        },
        "id": "K83pSF2KK1Ks",
        "outputId": "0c3ae560-f64b-4ea4-a4bf-e40da8f9e8c2"
      },
      "source": [
        "num = 4\n",
        "num_list = [1,6,2,3]\n",
        "\n",
        "for i in range(1,num):\n",
        "  key = num_list[i]\n",
        "\n",
        "  j = i-1\n",
        "  while j>=0 and key < num_list[j]:\n",
        "      num_list[j+1] = num_list[j]\n",
        "      j -= 1\n",
        "  num_list[j+1] = key\n",
        "                   \n",
        "print(num_list)"
      ],
      "execution_count": null,
      "outputs": [
        {
          "output_type": "stream",
          "text": [
            "[1, 2, 3, 6]\n"
          ],
          "name": "stdout"
        }
      ]
    },
    {
      "cell_type": "code",
      "metadata": {
        "id": "YfSbQHKrK1c6",
        "colab": {
          "base_uri": "https://localhost:8080/",
          "height": 738
        },
        "outputId": "3ba9d8e0-dce6-4607-b6a3-fa06299a5c5f"
      },
      "source": [
        "class Circular_Queue:\n",
        "\n",
        "    def __init__(self,n):\n",
        "        self.Circular_list = [None for _ in range(n)]\n",
        "        self.Circular_size = 0\n",
        "\n",
        "    def enQueue(self,num):\n",
        "        self.Circular_list[self.Circular_size] = num\n",
        "        self.Circular_size += 1\n",
        "        return self.Circular_list\n",
        "   \n",
        "    def deQueue(self):\n",
        "        if self.Circular_size == 0:\n",
        "          return 'None'\n",
        "        else:\n",
        "          self.Circular_list[0] = None\n",
        "          self.Circular_size -= 1\n",
        "\n",
        "          for i in range(self.Circular_size+2):\n",
        "            self.Circular_list[i+1], self.Circular_list[i] = self.Circular_list[i], self.Circular_list[i+1]\n",
        "            return self.Circular_list\n",
        "        \n",
        "def runCmdWithQueue(command, queueObj):\n",
        "  cmd_type = command[0]\n",
        "\n",
        "  if cmd_type == \"enQueue\":\n",
        "    _, num = command\n",
        "    print(queue_obj.enQueue(int(num)))\n",
        "  elif cmd_type == \"deQueue\":\n",
        "    print(queue_obj.deQueue())\n",
        "\n",
        "n = int(input())\n",
        "queue_obj = Circular_Queue(10)\n",
        "\n",
        "for _ in range(n):\n",
        "    runCmdWithQueue(input().split(), queue_obj)"
      ],
      "execution_count": null,
      "outputs": [
        {
          "output_type": "stream",
          "text": [
            "9\n",
            "enQueue 14\n",
            "[14, None, None, None, None, None, None, None, None, None]\n",
            "enQueue 14\n",
            "[14, 14, None, None, None, None, None, None, None, None]\n",
            "enQueue 14\n",
            "[14, 14, 14, None, None, None, None, None, None, None]\n",
            "enQueue 14\n",
            "[14, 14, 14, 14, None, None, None, None, None, None]\n",
            "deQueue\n",
            "[14, None, 14, 14, None, None, None, None, None, None]\n"
          ],
          "name": "stdout"
        },
        {
          "output_type": "error",
          "ename": "KeyboardInterrupt",
          "evalue": "ignored",
          "traceback": [
            "\u001b[0;31m---------------------------------------------------------------------------\u001b[0m",
            "\u001b[0;31mKeyboardInterrupt\u001b[0m                         Traceback (most recent call last)",
            "\u001b[0;32m/usr/local/lib/python3.7/dist-packages/ipykernel/kernelbase.py\u001b[0m in \u001b[0;36m_input_request\u001b[0;34m(self, prompt, ident, parent, password)\u001b[0m\n\u001b[1;32m    728\u001b[0m             \u001b[0;32mtry\u001b[0m\u001b[0;34m:\u001b[0m\u001b[0;34m\u001b[0m\u001b[0;34m\u001b[0m\u001b[0m\n\u001b[0;32m--> 729\u001b[0;31m                 \u001b[0mident\u001b[0m\u001b[0;34m,\u001b[0m \u001b[0mreply\u001b[0m \u001b[0;34m=\u001b[0m \u001b[0mself\u001b[0m\u001b[0;34m.\u001b[0m\u001b[0msession\u001b[0m\u001b[0;34m.\u001b[0m\u001b[0mrecv\u001b[0m\u001b[0;34m(\u001b[0m\u001b[0mself\u001b[0m\u001b[0;34m.\u001b[0m\u001b[0mstdin_socket\u001b[0m\u001b[0;34m,\u001b[0m \u001b[0;36m0\u001b[0m\u001b[0;34m)\u001b[0m\u001b[0;34m\u001b[0m\u001b[0;34m\u001b[0m\u001b[0m\n\u001b[0m\u001b[1;32m    730\u001b[0m             \u001b[0;32mexcept\u001b[0m \u001b[0mException\u001b[0m\u001b[0;34m:\u001b[0m\u001b[0;34m\u001b[0m\u001b[0;34m\u001b[0m\u001b[0m\n",
            "\u001b[0;32m/usr/local/lib/python3.7/dist-packages/jupyter_client/session.py\u001b[0m in \u001b[0;36mrecv\u001b[0;34m(self, socket, mode, content, copy)\u001b[0m\n\u001b[1;32m    802\u001b[0m         \u001b[0;32mtry\u001b[0m\u001b[0;34m:\u001b[0m\u001b[0;34m\u001b[0m\u001b[0;34m\u001b[0m\u001b[0m\n\u001b[0;32m--> 803\u001b[0;31m             \u001b[0mmsg_list\u001b[0m \u001b[0;34m=\u001b[0m \u001b[0msocket\u001b[0m\u001b[0;34m.\u001b[0m\u001b[0mrecv_multipart\u001b[0m\u001b[0;34m(\u001b[0m\u001b[0mmode\u001b[0m\u001b[0;34m,\u001b[0m \u001b[0mcopy\u001b[0m\u001b[0;34m=\u001b[0m\u001b[0mcopy\u001b[0m\u001b[0;34m)\u001b[0m\u001b[0;34m\u001b[0m\u001b[0;34m\u001b[0m\u001b[0m\n\u001b[0m\u001b[1;32m    804\u001b[0m         \u001b[0;32mexcept\u001b[0m \u001b[0mzmq\u001b[0m\u001b[0;34m.\u001b[0m\u001b[0mZMQError\u001b[0m \u001b[0;32mas\u001b[0m \u001b[0me\u001b[0m\u001b[0;34m:\u001b[0m\u001b[0;34m\u001b[0m\u001b[0;34m\u001b[0m\u001b[0m\n",
            "\u001b[0;32m/usr/local/lib/python3.7/dist-packages/zmq/sugar/socket.py\u001b[0m in \u001b[0;36mrecv_multipart\u001b[0;34m(self, flags, copy, track)\u001b[0m\n\u001b[1;32m    582\u001b[0m         \"\"\"\n\u001b[0;32m--> 583\u001b[0;31m         \u001b[0mparts\u001b[0m \u001b[0;34m=\u001b[0m \u001b[0;34m[\u001b[0m\u001b[0mself\u001b[0m\u001b[0;34m.\u001b[0m\u001b[0mrecv\u001b[0m\u001b[0;34m(\u001b[0m\u001b[0mflags\u001b[0m\u001b[0;34m,\u001b[0m \u001b[0mcopy\u001b[0m\u001b[0;34m=\u001b[0m\u001b[0mcopy\u001b[0m\u001b[0;34m,\u001b[0m \u001b[0mtrack\u001b[0m\u001b[0;34m=\u001b[0m\u001b[0mtrack\u001b[0m\u001b[0;34m)\u001b[0m\u001b[0;34m]\u001b[0m\u001b[0;34m\u001b[0m\u001b[0;34m\u001b[0m\u001b[0m\n\u001b[0m\u001b[1;32m    584\u001b[0m         \u001b[0;31m# have first part already, only loop while more to receive\u001b[0m\u001b[0;34m\u001b[0m\u001b[0;34m\u001b[0m\u001b[0;34m\u001b[0m\u001b[0m\n",
            "\u001b[0;32mzmq/backend/cython/socket.pyx\u001b[0m in \u001b[0;36mzmq.backend.cython.socket.Socket.recv\u001b[0;34m()\u001b[0m\n",
            "\u001b[0;32mzmq/backend/cython/socket.pyx\u001b[0m in \u001b[0;36mzmq.backend.cython.socket.Socket.recv\u001b[0;34m()\u001b[0m\n",
            "\u001b[0;32mzmq/backend/cython/socket.pyx\u001b[0m in \u001b[0;36mzmq.backend.cython.socket._recv_copy\u001b[0;34m()\u001b[0m\n",
            "\u001b[0;32m/usr/local/lib/python3.7/dist-packages/zmq/backend/cython/checkrc.pxd\u001b[0m in \u001b[0;36mzmq.backend.cython.checkrc._check_rc\u001b[0;34m()\u001b[0m\n",
            "\u001b[0;31mKeyboardInterrupt\u001b[0m: ",
            "\nDuring handling of the above exception, another exception occurred:\n",
            "\u001b[0;31mKeyboardInterrupt\u001b[0m                         Traceback (most recent call last)",
            "\u001b[0;32m<ipython-input-39-06aa7814ec55>\u001b[0m in \u001b[0;36m<module>\u001b[0;34m()\u001b[0m\n\u001b[1;32m     34\u001b[0m \u001b[0;34m\u001b[0m\u001b[0m\n\u001b[1;32m     35\u001b[0m \u001b[0;32mfor\u001b[0m \u001b[0m_\u001b[0m \u001b[0;32min\u001b[0m \u001b[0mrange\u001b[0m\u001b[0;34m(\u001b[0m\u001b[0mn\u001b[0m\u001b[0;34m)\u001b[0m\u001b[0;34m:\u001b[0m\u001b[0;34m\u001b[0m\u001b[0;34m\u001b[0m\u001b[0m\n\u001b[0;32m---> 36\u001b[0;31m     \u001b[0mrunCmdWithQueue\u001b[0m\u001b[0;34m(\u001b[0m\u001b[0minput\u001b[0m\u001b[0;34m(\u001b[0m\u001b[0;34m)\u001b[0m\u001b[0;34m.\u001b[0m\u001b[0msplit\u001b[0m\u001b[0;34m(\u001b[0m\u001b[0;34m)\u001b[0m\u001b[0;34m,\u001b[0m \u001b[0mqueue_obj\u001b[0m\u001b[0;34m)\u001b[0m\u001b[0;34m\u001b[0m\u001b[0;34m\u001b[0m\u001b[0m\n\u001b[0m",
            "\u001b[0;32m/usr/local/lib/python3.7/dist-packages/ipykernel/kernelbase.py\u001b[0m in \u001b[0;36mraw_input\u001b[0;34m(self, prompt)\u001b[0m\n\u001b[1;32m    702\u001b[0m             \u001b[0mself\u001b[0m\u001b[0;34m.\u001b[0m\u001b[0m_parent_ident\u001b[0m\u001b[0;34m,\u001b[0m\u001b[0;34m\u001b[0m\u001b[0;34m\u001b[0m\u001b[0m\n\u001b[1;32m    703\u001b[0m             \u001b[0mself\u001b[0m\u001b[0;34m.\u001b[0m\u001b[0m_parent_header\u001b[0m\u001b[0;34m,\u001b[0m\u001b[0;34m\u001b[0m\u001b[0;34m\u001b[0m\u001b[0m\n\u001b[0;32m--> 704\u001b[0;31m             \u001b[0mpassword\u001b[0m\u001b[0;34m=\u001b[0m\u001b[0;32mFalse\u001b[0m\u001b[0;34m,\u001b[0m\u001b[0;34m\u001b[0m\u001b[0;34m\u001b[0m\u001b[0m\n\u001b[0m\u001b[1;32m    705\u001b[0m         )\n\u001b[1;32m    706\u001b[0m \u001b[0;34m\u001b[0m\u001b[0m\n",
            "\u001b[0;32m/usr/local/lib/python3.7/dist-packages/ipykernel/kernelbase.py\u001b[0m in \u001b[0;36m_input_request\u001b[0;34m(self, prompt, ident, parent, password)\u001b[0m\n\u001b[1;32m    732\u001b[0m             \u001b[0;32mexcept\u001b[0m \u001b[0mKeyboardInterrupt\u001b[0m\u001b[0;34m:\u001b[0m\u001b[0;34m\u001b[0m\u001b[0;34m\u001b[0m\u001b[0m\n\u001b[1;32m    733\u001b[0m                 \u001b[0;31m# re-raise KeyboardInterrupt, to truncate traceback\u001b[0m\u001b[0;34m\u001b[0m\u001b[0;34m\u001b[0m\u001b[0;34m\u001b[0m\u001b[0m\n\u001b[0;32m--> 734\u001b[0;31m                 \u001b[0;32mraise\u001b[0m \u001b[0mKeyboardInterrupt\u001b[0m\u001b[0;34m\u001b[0m\u001b[0;34m\u001b[0m\u001b[0m\n\u001b[0m\u001b[1;32m    735\u001b[0m             \u001b[0;32melse\u001b[0m\u001b[0;34m:\u001b[0m\u001b[0;34m\u001b[0m\u001b[0;34m\u001b[0m\u001b[0m\n\u001b[1;32m    736\u001b[0m                 \u001b[0;32mbreak\u001b[0m\u001b[0;34m\u001b[0m\u001b[0;34m\u001b[0m\u001b[0m\n",
            "\u001b[0;31mKeyboardInterrupt\u001b[0m: "
          ]
        }
      ]
    },
    {
      "cell_type": "code",
      "metadata": {
        "id": "gJyMWQOuc8V9"
      },
      "source": [
        "class Queue:\n",
        "    def __init__(self, length):\n",
        "        self.array = [None for _ in range(length+1)]    \n",
        "        self.f_idx = 0\n",
        "        self.b_idx = 0\n",
        "\n",
        "    def push(self, num):\n",
        "        if self.is_full():\n",
        "            return -1\n",
        "\n",
        "        self.array[self.b_idx] = num\n",
        "        self.b_idx = (self.b_idx + 1) % len(self.array)\n",
        "\n",
        "    def pop(self):\n",
        "        if self.is_empty():\n",
        "            return -1\n",
        "        \n",
        "        pop_val = self.array[self.f_idx]\n",
        "        self.f_idx = (self.f_idx + 1) % len(self.array)\n",
        "        return pop_val\n",
        "\n",
        "    def size(self):\n",
        "        return (self.b_idx - self.f_idx) % len(self.array)\n",
        "\n",
        "    def empty(self):\n",
        "        return int(self.is_empty())\n",
        "\n",
        "    def front(self):\n",
        "        if self.is_empty():\n",
        "            return -1\n",
        "\n",
        "        return self.array[self.f_idx]\n",
        "\n",
        "    def back(self):\n",
        "        if self.is_empty():\n",
        "            return -1\n",
        "\n",
        "        return self.array[self.b_idx-1]\n",
        "\n",
        "    def is_empty(self):\n",
        "        return self.size() == 0\n",
        "\n",
        "    def is_full(self):\n",
        "        return False\n",
        "\n",
        "# def runCmdWithQueue(command, queueObj):\n",
        "def run_cmd_with_queue(command, queue_obj):\n",
        "    cmd_type = command[0]\n",
        "\n",
        "    if cmd_type == \"push\":\n",
        "        _, num = command\n",
        "        queue_obj.push(int(num))\n",
        "    elif cmd_type == \"pop\":\n",
        "        print(queue_obj.pop())\n",
        "    elif cmd_type == \"size\":\n",
        "        print(queue_obj.size())\n",
        "    elif cmd_type == \"empty\":\n",
        "        print(queue_obj.empty())\n",
        "    elif cmd_type == \"front\":\n",
        "        print(queue_obj.front())\n",
        "    elif cmd_type == \"back\":\n",
        "        print(queue_obj.back())\n",
        "\n",
        "n = int(input())\n",
        "queue_obj = Queue(int(input()))\n",
        "\n",
        "for _ in range(n):\n",
        "    run_cmd_with_queue(input().split(), queue_obj)\n",
        "    print(f\"f_idx : {queue_obj.f_idx}\")\n",
        "    print(f\"b_idx : {queue_obj.b_idx}\")\n",
        "    print(queue_obj.array)"
      ],
      "execution_count": null,
      "outputs": []
    },
    {
      "cell_type": "code",
      "metadata": {
        "colab": {
          "base_uri": "https://localhost:8080/"
        },
        "id": "ebHuHRx2CrQX",
        "outputId": "55acc4fc-d5dc-4f47-95a9-d13797d7af66"
      },
      "source": [
        "class Queue:\n",
        "  def __init__(self,length):\n",
        "    self.card_list = [i for i in range(num+1)]\n",
        "\n",
        "  def size(self):\n",
        "     return len(self.array)\n",
        "\n",
        "  def delete(self):    \n",
        "     del self.card_list[0]\n",
        "     return self.card_list\n",
        "  \n",
        "  def carry(self):\n",
        "\n",
        "      self.card_list[0],self.card_list[-1] = self.card_list[-1],self.card_list[0]\n",
        "      return self.card_list\n",
        "\n",
        "num = int(input())\n",
        "\n",
        "while Queue.size == 1:\n",
        "  Queue.delete()\n",
        "  Queue.carry()\n",
        "  print(card_list)\n",
        "\n",
        "  "
      ],
      "execution_count": null,
      "outputs": [
        {
          "output_type": "stream",
          "text": [
            "2\n"
          ],
          "name": "stdout"
        }
      ]
    },
    {
      "cell_type": "code",
      "metadata": {
        "colab": {
          "base_uri": "https://localhost:8080/"
        },
        "id": "h8NvcXGXJSla",
        "outputId": "420ab063-f326-4dfa-d8d6-887ea1d2d3a3"
      },
      "source": [
        "num = int(input())\n",
        "card_list = [i for i in range(1,num+1)]\n",
        "\n",
        "while True:\n",
        "  if len(card_list) >1 :\n",
        "    del card_list[0]\n",
        "    for aa in range(len(card_list)-1):\n",
        "        card_list[aa],card_list[aa+1] = card_list[aa+1],card_list[aa]\n",
        "    \n",
        "  elif len(card_list) == 1:\n",
        "    print(card_list[0])\n",
        "    break\n",
        "\n"
      ],
      "execution_count": null,
      "outputs": [
        {
          "output_type": "stream",
          "text": [
            "6\n",
            "4\n"
          ],
          "name": "stdout"
        }
      ]
    },
    {
      "cell_type": "code",
      "metadata": {
        "id": "7uucrtrnBqKp",
        "colab": {
          "base_uri": "https://localhost:8080/",
          "height": 239
        },
        "outputId": "062114cf-cf8e-47c3-c06d-fa5256973f8b"
      },
      "source": [
        "class card2_deque:\n",
        "  def __init__(self,a):\n",
        "    self.card_list = [i for i in range(1,a+1)]    \n",
        "    self.a_list = []\n",
        "    self.b_list = []\n",
        "    self.c_list = []\n",
        "\n",
        "    self.a_size = 0\n",
        "    self.b_size = 0\n",
        "    self.c_size = 0\n",
        "\n",
        "  def delete(self):\n",
        "    del self.card_list[0]\n",
        "    return self.card_list\n",
        "\n",
        "  def lift_left(self):\n",
        "    for i in range(len(self.card_list)):\n",
        "      self.last_index = self.card_list[-1]\n",
        "      self.card_list[-1] = self.card_list[0]\n",
        "      del self.card_list[0]\n",
        "      self.card_list.insert(-1,self.last_index)\n",
        "      return self.card_list\n",
        "\n",
        "  def lift_right(self):\n",
        "    for i in range(len(self.card_list)):\n",
        "      self.first_index = self.card_list[0]\n",
        "      self.card_list[0] = self.card_list[-1]\n",
        "      del self.card_list[-1]\n",
        "      self.card_list.insert(-1,self.first_index)\n",
        "      return self.card_list\n",
        "\n",
        "  def find_index(self,a,b,c):\n",
        "    \n",
        "    for x in range(a,b,c):\n",
        "      while True:\n",
        "        if self.delete != x:\n",
        "           self.a_size += 1\n",
        "        else:  \n",
        "          return a_list.append(a_size)\n",
        "          a_size = 0\n",
        "          break\n",
        "\n",
        "    while True:\n",
        "      if self.delete != x:\n",
        "         self.b_size += 1\n",
        "      else:  \n",
        "        return b_size.append(b_size)\n",
        "        b_size = 0\n",
        "        break\n",
        "\n",
        "    while True:\n",
        "      if self.delete != x:\n",
        "         self.c_size += 1\n",
        "      else:  \n",
        "        return c_size.append(c_size)\n",
        "        c_size = 0\n",
        "        break\n",
        "\n",
        "    print(min(a_size,b_size_c_size))\n",
        "\n",
        "a, b = map(int, input('숫자 두 개를 입력하세요: ').split())\n",
        "c,d,e = map(int, input('숫자 세 개를 입력하세요: ').split())\n",
        "card2_deque()"
      ],
      "execution_count": null,
      "outputs": [
        {
          "output_type": "stream",
          "text": [
            "숫자 두 개를 입력하세요: 10 3\n",
            "숫자 세 개를 입력하세요: 1 2 3\n"
          ],
          "name": "stdout"
        },
        {
          "output_type": "error",
          "ename": "TypeError",
          "evalue": "ignored",
          "traceback": [
            "\u001b[0;31m---------------------------------------------------------------------------\u001b[0m",
            "\u001b[0;31mTypeError\u001b[0m                                 Traceback (most recent call last)",
            "\u001b[0;32m<ipython-input-21-1805072f0f38>\u001b[0m in \u001b[0;36m<module>\u001b[0;34m()\u001b[0m\n\u001b[1;32m     61\u001b[0m \u001b[0ma\u001b[0m\u001b[0;34m,\u001b[0m \u001b[0mb\u001b[0m \u001b[0;34m=\u001b[0m \u001b[0mmap\u001b[0m\u001b[0;34m(\u001b[0m\u001b[0mint\u001b[0m\u001b[0;34m,\u001b[0m \u001b[0minput\u001b[0m\u001b[0;34m(\u001b[0m\u001b[0;34m'숫자 두 개를 입력하세요: '\u001b[0m\u001b[0;34m)\u001b[0m\u001b[0;34m.\u001b[0m\u001b[0msplit\u001b[0m\u001b[0;34m(\u001b[0m\u001b[0;34m)\u001b[0m\u001b[0;34m)\u001b[0m\u001b[0;34m\u001b[0m\u001b[0;34m\u001b[0m\u001b[0m\n\u001b[1;32m     62\u001b[0m \u001b[0mc\u001b[0m\u001b[0;34m,\u001b[0m\u001b[0md\u001b[0m\u001b[0;34m,\u001b[0m\u001b[0me\u001b[0m \u001b[0;34m=\u001b[0m \u001b[0mmap\u001b[0m\u001b[0;34m(\u001b[0m\u001b[0mint\u001b[0m\u001b[0;34m,\u001b[0m \u001b[0minput\u001b[0m\u001b[0;34m(\u001b[0m\u001b[0;34m'숫자 세 개를 입력하세요: '\u001b[0m\u001b[0;34m)\u001b[0m\u001b[0;34m.\u001b[0m\u001b[0msplit\u001b[0m\u001b[0;34m(\u001b[0m\u001b[0;34m)\u001b[0m\u001b[0;34m)\u001b[0m\u001b[0;34m\u001b[0m\u001b[0;34m\u001b[0m\u001b[0m\n\u001b[0;32m---> 63\u001b[0;31m \u001b[0mcard2_deque\u001b[0m\u001b[0;34m(\u001b[0m\u001b[0;34m)\u001b[0m\u001b[0;34m\u001b[0m\u001b[0;34m\u001b[0m\u001b[0m\n\u001b[0m",
            "\u001b[0;31mTypeError\u001b[0m: __init__() missing 1 required positional argument: 'a'"
          ]
        }
      ]
    },
    {
      "cell_type": "code",
      "metadata": {
        "id": "0t4pErEBUDZP",
        "colab": {
          "base_uri": "https://localhost:8080/",
          "height": 545
        },
        "outputId": "c65a6969-cc50-49f5-eb0d-52eccca81586"
      },
      "source": [
        "from collections import deque\n",
        "\n",
        "n, m = map(int, input().split())\n",
        "target_list = map(int, input().split())\n",
        "num_list = deque([i for i in range(1, n+1)])\n",
        "\n",
        "min_total_move_cnt = 0\n",
        "\n",
        "for target_num in target_list:\n",
        "    move_cnt = -(num_list.index(target_num)) # O(N)\n",
        "    \n",
        "    if abs(move_cnt) > len(num_list) + move_cnt:\n",
        "        move_cnt += len(num_list)\n",
        "    \n",
        "    min_total_move_cnt += abs(move_cnt)\n",
        "\n",
        "    num_list.rotate(move_cnt)\n",
        "    num_list.popleft()\n",
        "\n",
        "    # num_list.append(num_list.popleft())\n",
        "    # num_list.appendleft(num_list.pop())\n",
        "\n",
        "    # num_list.append(num_list.pop(0))\n",
        "    # num_list.insert(0, num_list.pop())\n",
        "\n",
        "print(min_total_move_cnt)"
      ],
      "execution_count": 1,
      "outputs": [
        {
          "output_type": "error",
          "ename": "KeyboardInterrupt",
          "evalue": "ignored",
          "traceback": [
            "\u001b[0;31m---------------------------------------------------------------------------\u001b[0m",
            "\u001b[0;31mKeyboardInterrupt\u001b[0m                         Traceback (most recent call last)",
            "\u001b[0;32m/usr/local/lib/python3.7/dist-packages/ipykernel/kernelbase.py\u001b[0m in \u001b[0;36m_input_request\u001b[0;34m(self, prompt, ident, parent, password)\u001b[0m\n\u001b[1;32m    728\u001b[0m             \u001b[0;32mtry\u001b[0m\u001b[0;34m:\u001b[0m\u001b[0;34m\u001b[0m\u001b[0;34m\u001b[0m\u001b[0m\n\u001b[0;32m--> 729\u001b[0;31m                 \u001b[0mident\u001b[0m\u001b[0;34m,\u001b[0m \u001b[0mreply\u001b[0m \u001b[0;34m=\u001b[0m \u001b[0mself\u001b[0m\u001b[0;34m.\u001b[0m\u001b[0msession\u001b[0m\u001b[0;34m.\u001b[0m\u001b[0mrecv\u001b[0m\u001b[0;34m(\u001b[0m\u001b[0mself\u001b[0m\u001b[0;34m.\u001b[0m\u001b[0mstdin_socket\u001b[0m\u001b[0;34m,\u001b[0m \u001b[0;36m0\u001b[0m\u001b[0;34m)\u001b[0m\u001b[0;34m\u001b[0m\u001b[0;34m\u001b[0m\u001b[0m\n\u001b[0m\u001b[1;32m    730\u001b[0m             \u001b[0;32mexcept\u001b[0m \u001b[0mException\u001b[0m\u001b[0;34m:\u001b[0m\u001b[0;34m\u001b[0m\u001b[0;34m\u001b[0m\u001b[0m\n",
            "\u001b[0;32m/usr/local/lib/python3.7/dist-packages/jupyter_client/session.py\u001b[0m in \u001b[0;36mrecv\u001b[0;34m(self, socket, mode, content, copy)\u001b[0m\n\u001b[1;32m    802\u001b[0m         \u001b[0;32mtry\u001b[0m\u001b[0;34m:\u001b[0m\u001b[0;34m\u001b[0m\u001b[0;34m\u001b[0m\u001b[0m\n\u001b[0;32m--> 803\u001b[0;31m             \u001b[0mmsg_list\u001b[0m \u001b[0;34m=\u001b[0m \u001b[0msocket\u001b[0m\u001b[0;34m.\u001b[0m\u001b[0mrecv_multipart\u001b[0m\u001b[0;34m(\u001b[0m\u001b[0mmode\u001b[0m\u001b[0;34m,\u001b[0m \u001b[0mcopy\u001b[0m\u001b[0;34m=\u001b[0m\u001b[0mcopy\u001b[0m\u001b[0;34m)\u001b[0m\u001b[0;34m\u001b[0m\u001b[0;34m\u001b[0m\u001b[0m\n\u001b[0m\u001b[1;32m    804\u001b[0m         \u001b[0;32mexcept\u001b[0m \u001b[0mzmq\u001b[0m\u001b[0;34m.\u001b[0m\u001b[0mZMQError\u001b[0m \u001b[0;32mas\u001b[0m \u001b[0me\u001b[0m\u001b[0;34m:\u001b[0m\u001b[0;34m\u001b[0m\u001b[0;34m\u001b[0m\u001b[0m\n",
            "\u001b[0;32m/usr/local/lib/python3.7/dist-packages/zmq/sugar/socket.py\u001b[0m in \u001b[0;36mrecv_multipart\u001b[0;34m(self, flags, copy, track)\u001b[0m\n\u001b[1;32m    582\u001b[0m         \"\"\"\n\u001b[0;32m--> 583\u001b[0;31m         \u001b[0mparts\u001b[0m \u001b[0;34m=\u001b[0m \u001b[0;34m[\u001b[0m\u001b[0mself\u001b[0m\u001b[0;34m.\u001b[0m\u001b[0mrecv\u001b[0m\u001b[0;34m(\u001b[0m\u001b[0mflags\u001b[0m\u001b[0;34m,\u001b[0m \u001b[0mcopy\u001b[0m\u001b[0;34m=\u001b[0m\u001b[0mcopy\u001b[0m\u001b[0;34m,\u001b[0m \u001b[0mtrack\u001b[0m\u001b[0;34m=\u001b[0m\u001b[0mtrack\u001b[0m\u001b[0;34m)\u001b[0m\u001b[0;34m]\u001b[0m\u001b[0;34m\u001b[0m\u001b[0;34m\u001b[0m\u001b[0m\n\u001b[0m\u001b[1;32m    584\u001b[0m         \u001b[0;31m# have first part already, only loop while more to receive\u001b[0m\u001b[0;34m\u001b[0m\u001b[0;34m\u001b[0m\u001b[0;34m\u001b[0m\u001b[0m\n",
            "\u001b[0;32mzmq/backend/cython/socket.pyx\u001b[0m in \u001b[0;36mzmq.backend.cython.socket.Socket.recv\u001b[0;34m()\u001b[0m\n",
            "\u001b[0;32mzmq/backend/cython/socket.pyx\u001b[0m in \u001b[0;36mzmq.backend.cython.socket.Socket.recv\u001b[0;34m()\u001b[0m\n",
            "\u001b[0;32mzmq/backend/cython/socket.pyx\u001b[0m in \u001b[0;36mzmq.backend.cython.socket._recv_copy\u001b[0;34m()\u001b[0m\n",
            "\u001b[0;32m/usr/local/lib/python3.7/dist-packages/zmq/backend/cython/checkrc.pxd\u001b[0m in \u001b[0;36mzmq.backend.cython.checkrc._check_rc\u001b[0;34m()\u001b[0m\n",
            "\u001b[0;31mKeyboardInterrupt\u001b[0m: ",
            "\nDuring handling of the above exception, another exception occurred:\n",
            "\u001b[0;31mKeyboardInterrupt\u001b[0m                         Traceback (most recent call last)",
            "\u001b[0;32m<ipython-input-1-b8bbb9af9db4>\u001b[0m in \u001b[0;36m<module>\u001b[0;34m()\u001b[0m\n\u001b[1;32m      1\u001b[0m \u001b[0;32mfrom\u001b[0m \u001b[0mcollections\u001b[0m \u001b[0;32mimport\u001b[0m \u001b[0mdeque\u001b[0m\u001b[0;34m\u001b[0m\u001b[0;34m\u001b[0m\u001b[0m\n\u001b[1;32m      2\u001b[0m \u001b[0;34m\u001b[0m\u001b[0m\n\u001b[0;32m----> 3\u001b[0;31m \u001b[0mn\u001b[0m\u001b[0;34m,\u001b[0m \u001b[0mm\u001b[0m \u001b[0;34m=\u001b[0m \u001b[0mmap\u001b[0m\u001b[0;34m(\u001b[0m\u001b[0mint\u001b[0m\u001b[0;34m,\u001b[0m \u001b[0minput\u001b[0m\u001b[0;34m(\u001b[0m\u001b[0;34m)\u001b[0m\u001b[0;34m.\u001b[0m\u001b[0msplit\u001b[0m\u001b[0;34m(\u001b[0m\u001b[0;34m)\u001b[0m\u001b[0;34m)\u001b[0m\u001b[0;34m\u001b[0m\u001b[0;34m\u001b[0m\u001b[0m\n\u001b[0m\u001b[1;32m      4\u001b[0m \u001b[0mtarget_list\u001b[0m \u001b[0;34m=\u001b[0m \u001b[0mmap\u001b[0m\u001b[0;34m(\u001b[0m\u001b[0mint\u001b[0m\u001b[0;34m,\u001b[0m \u001b[0minput\u001b[0m\u001b[0;34m(\u001b[0m\u001b[0;34m)\u001b[0m\u001b[0;34m.\u001b[0m\u001b[0msplit\u001b[0m\u001b[0;34m(\u001b[0m\u001b[0;34m)\u001b[0m\u001b[0;34m)\u001b[0m\u001b[0;34m\u001b[0m\u001b[0;34m\u001b[0m\u001b[0m\n\u001b[1;32m      5\u001b[0m \u001b[0mnum_list\u001b[0m \u001b[0;34m=\u001b[0m \u001b[0mdeque\u001b[0m\u001b[0;34m(\u001b[0m\u001b[0;34m[\u001b[0m\u001b[0mi\u001b[0m \u001b[0;32mfor\u001b[0m \u001b[0mi\u001b[0m \u001b[0;32min\u001b[0m \u001b[0mrange\u001b[0m\u001b[0;34m(\u001b[0m\u001b[0;36m1\u001b[0m\u001b[0;34m,\u001b[0m \u001b[0mn\u001b[0m\u001b[0;34m+\u001b[0m\u001b[0;36m1\u001b[0m\u001b[0;34m)\u001b[0m\u001b[0;34m]\u001b[0m\u001b[0;34m)\u001b[0m\u001b[0;34m\u001b[0m\u001b[0;34m\u001b[0m\u001b[0m\n",
            "\u001b[0;32m/usr/local/lib/python3.7/dist-packages/ipykernel/kernelbase.py\u001b[0m in \u001b[0;36mraw_input\u001b[0;34m(self, prompt)\u001b[0m\n\u001b[1;32m    702\u001b[0m             \u001b[0mself\u001b[0m\u001b[0;34m.\u001b[0m\u001b[0m_parent_ident\u001b[0m\u001b[0;34m,\u001b[0m\u001b[0;34m\u001b[0m\u001b[0;34m\u001b[0m\u001b[0m\n\u001b[1;32m    703\u001b[0m             \u001b[0mself\u001b[0m\u001b[0;34m.\u001b[0m\u001b[0m_parent_header\u001b[0m\u001b[0;34m,\u001b[0m\u001b[0;34m\u001b[0m\u001b[0;34m\u001b[0m\u001b[0m\n\u001b[0;32m--> 704\u001b[0;31m             \u001b[0mpassword\u001b[0m\u001b[0;34m=\u001b[0m\u001b[0;32mFalse\u001b[0m\u001b[0;34m,\u001b[0m\u001b[0;34m\u001b[0m\u001b[0;34m\u001b[0m\u001b[0m\n\u001b[0m\u001b[1;32m    705\u001b[0m         )\n\u001b[1;32m    706\u001b[0m \u001b[0;34m\u001b[0m\u001b[0m\n",
            "\u001b[0;32m/usr/local/lib/python3.7/dist-packages/ipykernel/kernelbase.py\u001b[0m in \u001b[0;36m_input_request\u001b[0;34m(self, prompt, ident, parent, password)\u001b[0m\n\u001b[1;32m    732\u001b[0m             \u001b[0;32mexcept\u001b[0m \u001b[0mKeyboardInterrupt\u001b[0m\u001b[0;34m:\u001b[0m\u001b[0;34m\u001b[0m\u001b[0;34m\u001b[0m\u001b[0m\n\u001b[1;32m    733\u001b[0m                 \u001b[0;31m# re-raise KeyboardInterrupt, to truncate traceback\u001b[0m\u001b[0;34m\u001b[0m\u001b[0;34m\u001b[0m\u001b[0;34m\u001b[0m\u001b[0m\n\u001b[0;32m--> 734\u001b[0;31m                 \u001b[0;32mraise\u001b[0m \u001b[0mKeyboardInterrupt\u001b[0m\u001b[0;34m\u001b[0m\u001b[0;34m\u001b[0m\u001b[0m\n\u001b[0m\u001b[1;32m    735\u001b[0m             \u001b[0;32melse\u001b[0m\u001b[0;34m:\u001b[0m\u001b[0;34m\u001b[0m\u001b[0;34m\u001b[0m\u001b[0m\n\u001b[1;32m    736\u001b[0m                 \u001b[0;32mbreak\u001b[0m\u001b[0;34m\u001b[0m\u001b[0;34m\u001b[0m\u001b[0m\n",
            "\u001b[0;31mKeyboardInterrupt\u001b[0m: "
          ]
        }
      ]
    }
  ]
}