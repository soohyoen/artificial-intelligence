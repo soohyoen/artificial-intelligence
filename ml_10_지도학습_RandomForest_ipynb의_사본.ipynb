{
  "nbformat": 4,
  "nbformat_minor": 0,
  "metadata": {
    "colab": {
      "name": "ml_10_지도학습_RandomForest.ipynb의 사본",
      "provenance": [],
      "collapsed_sections": [],
      "include_colab_link": true
    },
    "kernelspec": {
      "name": "python3",
      "display_name": "Python 3"
    }
  },
  "cells": [
    {
      "cell_type": "markdown",
      "metadata": {
        "id": "view-in-github",
        "colab_type": "text"
      },
      "source": [
        "<a href=\"https://colab.research.google.com/github/soohyoen/artificial-intelligence/blob/main/ml_10_%EC%A7%80%EB%8F%84%ED%95%99%EC%8A%B5_RandomForest_ipynb%EC%9D%98_%EC%82%AC%EB%B3%B8.ipynb\" target=\"_parent\"><img src=\"https://colab.research.google.com/assets/colab-badge.svg\" alt=\"Open In Colab\"/></a>"
      ]
    },
    {
      "cell_type": "code",
      "metadata": {
        "id": "w9k1mlQyEvgB",
        "colab": {
          "base_uri": "https://localhost:8080/"
        },
        "outputId": "eb1af947-eb1f-4f6a-fd20-f939f3d51bc8"
      },
      "source": [
        "!pip install mglearn"
      ],
      "execution_count": 1,
      "outputs": [
        {
          "output_type": "stream",
          "text": [
            "Collecting mglearn\n",
            "  Downloading mglearn-0.1.9.tar.gz (540 kB)\n",
            "\u001b[?25l\r\u001b[K     |▋                               | 10 kB 25.5 MB/s eta 0:00:01\r\u001b[K     |█▏                              | 20 kB 29.8 MB/s eta 0:00:01\r\u001b[K     |█▉                              | 30 kB 12.7 MB/s eta 0:00:01\r\u001b[K     |██▍                             | 40 kB 10.6 MB/s eta 0:00:01\r\u001b[K     |███                             | 51 kB 4.7 MB/s eta 0:00:01\r\u001b[K     |███▋                            | 61 kB 4.7 MB/s eta 0:00:01\r\u001b[K     |████▎                           | 71 kB 5.2 MB/s eta 0:00:01\r\u001b[K     |████▉                           | 81 kB 5.8 MB/s eta 0:00:01\r\u001b[K     |█████▌                          | 92 kB 4.2 MB/s eta 0:00:01\r\u001b[K     |██████                          | 102 kB 4.6 MB/s eta 0:00:01\r\u001b[K     |██████▊                         | 112 kB 4.6 MB/s eta 0:00:01\r\u001b[K     |███████▎                        | 122 kB 4.6 MB/s eta 0:00:01\r\u001b[K     |███████▉                        | 133 kB 4.6 MB/s eta 0:00:01\r\u001b[K     |████████▌                       | 143 kB 4.6 MB/s eta 0:00:01\r\u001b[K     |█████████                       | 153 kB 4.6 MB/s eta 0:00:01\r\u001b[K     |█████████▊                      | 163 kB 4.6 MB/s eta 0:00:01\r\u001b[K     |██████████▎                     | 174 kB 4.6 MB/s eta 0:00:01\r\u001b[K     |███████████                     | 184 kB 4.6 MB/s eta 0:00:01\r\u001b[K     |███████████▌                    | 194 kB 4.6 MB/s eta 0:00:01\r\u001b[K     |████████████▏                   | 204 kB 4.6 MB/s eta 0:00:01\r\u001b[K     |████████████▊                   | 215 kB 4.6 MB/s eta 0:00:01\r\u001b[K     |█████████████▍                  | 225 kB 4.6 MB/s eta 0:00:01\r\u001b[K     |██████████████                  | 235 kB 4.6 MB/s eta 0:00:01\r\u001b[K     |██████████████▋                 | 245 kB 4.6 MB/s eta 0:00:01\r\u001b[K     |███████████████▏                | 256 kB 4.6 MB/s eta 0:00:01\r\u001b[K     |███████████████▊                | 266 kB 4.6 MB/s eta 0:00:01\r\u001b[K     |████████████████▍               | 276 kB 4.6 MB/s eta 0:00:01\r\u001b[K     |█████████████████               | 286 kB 4.6 MB/s eta 0:00:01\r\u001b[K     |█████████████████▋              | 296 kB 4.6 MB/s eta 0:00:01\r\u001b[K     |██████████████████▏             | 307 kB 4.6 MB/s eta 0:00:01\r\u001b[K     |██████████████████▉             | 317 kB 4.6 MB/s eta 0:00:01\r\u001b[K     |███████████████████▍            | 327 kB 4.6 MB/s eta 0:00:01\r\u001b[K     |████████████████████            | 337 kB 4.6 MB/s eta 0:00:01\r\u001b[K     |████████████████████▋           | 348 kB 4.6 MB/s eta 0:00:01\r\u001b[K     |█████████████████████▎          | 358 kB 4.6 MB/s eta 0:00:01\r\u001b[K     |█████████████████████▉          | 368 kB 4.6 MB/s eta 0:00:01\r\u001b[K     |██████████████████████▌         | 378 kB 4.6 MB/s eta 0:00:01\r\u001b[K     |███████████████████████         | 389 kB 4.6 MB/s eta 0:00:01\r\u001b[K     |███████████████████████▋        | 399 kB 4.6 MB/s eta 0:00:01\r\u001b[K     |████████████████████████▎       | 409 kB 4.6 MB/s eta 0:00:01\r\u001b[K     |████████████████████████▉       | 419 kB 4.6 MB/s eta 0:00:01\r\u001b[K     |█████████████████████████▌      | 430 kB 4.6 MB/s eta 0:00:01\r\u001b[K     |██████████████████████████      | 440 kB 4.6 MB/s eta 0:00:01\r\u001b[K     |██████████████████████████▊     | 450 kB 4.6 MB/s eta 0:00:01\r\u001b[K     |███████████████████████████▎    | 460 kB 4.6 MB/s eta 0:00:01\r\u001b[K     |████████████████████████████    | 471 kB 4.6 MB/s eta 0:00:01\r\u001b[K     |████████████████████████████▌   | 481 kB 4.6 MB/s eta 0:00:01\r\u001b[K     |█████████████████████████████▏  | 491 kB 4.6 MB/s eta 0:00:01\r\u001b[K     |█████████████████████████████▊  | 501 kB 4.6 MB/s eta 0:00:01\r\u001b[K     |██████████████████████████████▍ | 512 kB 4.6 MB/s eta 0:00:01\r\u001b[K     |███████████████████████████████ | 522 kB 4.6 MB/s eta 0:00:01\r\u001b[K     |███████████████████████████████▌| 532 kB 4.6 MB/s eta 0:00:01\r\u001b[K     |████████████████████████████████| 540 kB 4.6 MB/s \n",
            "\u001b[?25hRequirement already satisfied: numpy in /usr/local/lib/python3.7/dist-packages (from mglearn) (1.19.5)\n",
            "Requirement already satisfied: matplotlib in /usr/local/lib/python3.7/dist-packages (from mglearn) (3.2.2)\n",
            "Requirement already satisfied: scikit-learn in /usr/local/lib/python3.7/dist-packages (from mglearn) (0.22.2.post1)\n",
            "Requirement already satisfied: pandas in /usr/local/lib/python3.7/dist-packages (from mglearn) (1.1.5)\n",
            "Requirement already satisfied: pillow in /usr/local/lib/python3.7/dist-packages (from mglearn) (7.1.2)\n",
            "Requirement already satisfied: cycler in /usr/local/lib/python3.7/dist-packages (from mglearn) (0.10.0)\n",
            "Requirement already satisfied: imageio in /usr/local/lib/python3.7/dist-packages (from mglearn) (2.4.1)\n",
            "Requirement already satisfied: joblib in /usr/local/lib/python3.7/dist-packages (from mglearn) (1.0.1)\n",
            "Requirement already satisfied: six in /usr/local/lib/python3.7/dist-packages (from cycler->mglearn) (1.15.0)\n",
            "Requirement already satisfied: pyparsing!=2.0.4,!=2.1.2,!=2.1.6,>=2.0.1 in /usr/local/lib/python3.7/dist-packages (from matplotlib->mglearn) (2.4.7)\n",
            "Requirement already satisfied: python-dateutil>=2.1 in /usr/local/lib/python3.7/dist-packages (from matplotlib->mglearn) (2.8.1)\n",
            "Requirement already satisfied: kiwisolver>=1.0.1 in /usr/local/lib/python3.7/dist-packages (from matplotlib->mglearn) (1.3.1)\n",
            "Requirement already satisfied: pytz>=2017.2 in /usr/local/lib/python3.7/dist-packages (from pandas->mglearn) (2018.9)\n",
            "Requirement already satisfied: scipy>=0.17.0 in /usr/local/lib/python3.7/dist-packages (from scikit-learn->mglearn) (1.4.1)\n",
            "Building wheels for collected packages: mglearn\n",
            "  Building wheel for mglearn (setup.py) ... \u001b[?25l\u001b[?25hdone\n",
            "  Created wheel for mglearn: filename=mglearn-0.1.9-py2.py3-none-any.whl size=582638 sha256=67306a7538a61d245910a1eed2d79f267a7a239111032e9cc9e84907253954d7\n",
            "  Stored in directory: /root/.cache/pip/wheels/f1/17/e1/1720d6dcd70187b6b6c3750cb3508798f2b1d57c9d3214b08b\n",
            "Successfully built mglearn\n",
            "Installing collected packages: mglearn\n",
            "Successfully installed mglearn-0.1.9\n"
          ],
          "name": "stdout"
        }
      ]
    },
    {
      "cell_type": "markdown",
      "metadata": {
        "id": "yK6WkLAmOllo"
      },
      "source": [
        "# Random  Forest"
      ]
    },
    {
      "cell_type": "markdown",
      "metadata": {
        "id": "RMV7K2b0pXrt"
      },
      "source": [
        "#### 앙상블 학습(Ensemble Learning)\n",
        "\n",
        "- 앙상블(ensemble)은 여러 머신러닝 모델을 연결하여 더 강력한 모델을 만드는 기법\n",
        "\n",
        "- 머신러닝에는 이런 종류의 모델이 많지만, 랜덤 포레스트random forest와 그래디언트 부스팅(gradient boosting) 결정 트리는 둘 다 모델을 구성하는 기본 요소로 결정 트리를 사용 <br>\n",
        "(두 앙상블 모델이 분류와 회귀 문제의 다양한 데이터 셋에서 효과적이라고 입증)\n"
      ]
    },
    {
      "cell_type": "markdown",
      "metadata": {
        "id": "IJ13NW_IruLJ"
      },
      "source": [
        "앙상블 학습을 통한 분류기\n",
        "\n",
        "- 여러 개의 분류기(Classifier)를 생성하고 그 예측을 결합하여 보다 정확한 최종 예측을 도출하는 기법\n",
        "\n",
        "앙상블 학습의 유형 : 보팅(Voting), 배깅(Bagging), 부스팅(Boosting), 스태킹(Stacking)\n",
        "\n",
        "- 보팅(Voting) : 서로 다른 알고리즘을 가진 분류기를 결합\n",
        "- 배깅(Bagging) : 모두 같은 유형의 알고리즘 기반, 데이터 샘플링을 서로 다르게 가져가면서 학습을 수행\n",
        "- 부스팅(Boosting) : 여러 개의 분류기가 순차적으로 학습을 수행하되, 앞에서 학습한 분류기가 예측이 틀린 데이터에 대해서 올바르게 예측할 수 있도록 다음 분류기에게 가중치(weight)를 부여하면서 학습과 예측을 진행\n",
        "- 스태킹(Stacking) : 양상블에 속한 모든 예측기의 예측을 취합하는 간단한 함수를 사용하는 대신 취합하는 모델을 훈련하여 진행\n",
        " - 예측을 입력으로 받아 최종 예측하는 예측기를 블렌더(blender) 또는 메타학습기(meta learner)이라고 함"
      ]
    },
    {
      "cell_type": "markdown",
      "metadata": {
        "id": "kMViLeDq3ctc"
      },
      "source": [
        "<center>\n",
        " <img src=\"https://img1.daumcdn.net/thumb/R1280x0/?scode=mtistory2&fname=https%3A%2F%2Fk.kakaocdn.net%2Fdn%2FbCmIoE%2Fbtqy0RW3DBW%2Fcu6uK7BXlJ5KBUZSmz7R0K%2Fimg.png\" alt=\"보팅과 배깅\" width=\"60%\" />\n",
        "\n",
        "</center>"
      ]
    },
    {
      "cell_type": "markdown",
      "metadata": {
        "id": "reVs1Rjw5AVk"
      },
      "source": [
        "보팅 유형 - 하드 보팅(Hard Voting)과 소프트 보팅(Soft Voting)\n",
        "\n",
        "<center>\n",
        " <img src=\"https://img1.daumcdn.net/thumb/R1280x0/?scode=mtistory2&fname=https%3A%2F%2Fk.kakaocdn.net%2Fdn%2FbBEckS%2Fbtqy1I6b5Nk%2FH9U9w6fVBCvsY8PX8F2Zok%2Fimg.png\" alt=\"보팅 유형\" width=\"60%\" />\n",
        "\n",
        "</center>"
      ]
    },
    {
      "cell_type": "markdown",
      "metadata": {
        "id": "uxvvu36u5Xou"
      },
      "source": [
        "#### 보팅 분류기(Voting Classifier)\n",
        "\n",
        "[VotingClassifier()](https://scikit-learn.org/stable/modules/generated/sklearn.ensemble.VotingClassifier.html)"
      ]
    },
    {
      "cell_type": "code",
      "metadata": {
        "id": "VTGa4RHo5pG9",
        "colab": {
          "base_uri": "https://localhost:8080/",
          "height": 195
        },
        "outputId": "4a623e3f-276f-44ba-9b5f-e6985ec44a2c"
      },
      "source": [
        "# 필요한 모듈과 데이터 불러오기\n",
        "import pandas as pd\n",
        "\n",
        "from sklearn.ensemble import VotingClassifier \n",
        "from sklearn.linear_model import LogisticRegression\n",
        "from sklearn.neighbors import KNeighborsClassifier\n",
        "from sklearn.datasets import load_breast_cancer\n",
        "from sklearn.model_selection import train_test_split\n",
        "from sklearn.metrics import accuracy_score\n",
        "\n",
        "from warnings import filterwarnings\n",
        "filterwarnings('ignore')\n",
        "\n",
        "cancer = load_breast_cancer()\n",
        "\n",
        "df = pd.DataFrame(cancer.data, columns = cancer.feature_names)\n",
        "df.head(3)"
      ],
      "execution_count": null,
      "outputs": [
        {
          "output_type": "execute_result",
          "data": {
            "text/html": [
              "<div>\n",
              "<style scoped>\n",
              "    .dataframe tbody tr th:only-of-type {\n",
              "        vertical-align: middle;\n",
              "    }\n",
              "\n",
              "    .dataframe tbody tr th {\n",
              "        vertical-align: top;\n",
              "    }\n",
              "\n",
              "    .dataframe thead th {\n",
              "        text-align: right;\n",
              "    }\n",
              "</style>\n",
              "<table border=\"1\" class=\"dataframe\">\n",
              "  <thead>\n",
              "    <tr style=\"text-align: right;\">\n",
              "      <th></th>\n",
              "      <th>mean radius</th>\n",
              "      <th>mean texture</th>\n",
              "      <th>mean perimeter</th>\n",
              "      <th>mean area</th>\n",
              "      <th>mean smoothness</th>\n",
              "      <th>mean compactness</th>\n",
              "      <th>mean concavity</th>\n",
              "      <th>mean concave points</th>\n",
              "      <th>mean symmetry</th>\n",
              "      <th>mean fractal dimension</th>\n",
              "      <th>radius error</th>\n",
              "      <th>texture error</th>\n",
              "      <th>perimeter error</th>\n",
              "      <th>area error</th>\n",
              "      <th>smoothness error</th>\n",
              "      <th>compactness error</th>\n",
              "      <th>concavity error</th>\n",
              "      <th>concave points error</th>\n",
              "      <th>symmetry error</th>\n",
              "      <th>fractal dimension error</th>\n",
              "      <th>worst radius</th>\n",
              "      <th>worst texture</th>\n",
              "      <th>worst perimeter</th>\n",
              "      <th>worst area</th>\n",
              "      <th>worst smoothness</th>\n",
              "      <th>worst compactness</th>\n",
              "      <th>worst concavity</th>\n",
              "      <th>worst concave points</th>\n",
              "      <th>worst symmetry</th>\n",
              "      <th>worst fractal dimension</th>\n",
              "    </tr>\n",
              "  </thead>\n",
              "  <tbody>\n",
              "    <tr>\n",
              "      <th>0</th>\n",
              "      <td>17.99</td>\n",
              "      <td>10.38</td>\n",
              "      <td>122.8</td>\n",
              "      <td>1001.0</td>\n",
              "      <td>0.11840</td>\n",
              "      <td>0.27760</td>\n",
              "      <td>0.3001</td>\n",
              "      <td>0.14710</td>\n",
              "      <td>0.2419</td>\n",
              "      <td>0.07871</td>\n",
              "      <td>1.0950</td>\n",
              "      <td>0.9053</td>\n",
              "      <td>8.589</td>\n",
              "      <td>153.40</td>\n",
              "      <td>0.006399</td>\n",
              "      <td>0.04904</td>\n",
              "      <td>0.05373</td>\n",
              "      <td>0.01587</td>\n",
              "      <td>0.03003</td>\n",
              "      <td>0.006193</td>\n",
              "      <td>25.38</td>\n",
              "      <td>17.33</td>\n",
              "      <td>184.6</td>\n",
              "      <td>2019.0</td>\n",
              "      <td>0.1622</td>\n",
              "      <td>0.6656</td>\n",
              "      <td>0.7119</td>\n",
              "      <td>0.2654</td>\n",
              "      <td>0.4601</td>\n",
              "      <td>0.11890</td>\n",
              "    </tr>\n",
              "    <tr>\n",
              "      <th>1</th>\n",
              "      <td>20.57</td>\n",
              "      <td>17.77</td>\n",
              "      <td>132.9</td>\n",
              "      <td>1326.0</td>\n",
              "      <td>0.08474</td>\n",
              "      <td>0.07864</td>\n",
              "      <td>0.0869</td>\n",
              "      <td>0.07017</td>\n",
              "      <td>0.1812</td>\n",
              "      <td>0.05667</td>\n",
              "      <td>0.5435</td>\n",
              "      <td>0.7339</td>\n",
              "      <td>3.398</td>\n",
              "      <td>74.08</td>\n",
              "      <td>0.005225</td>\n",
              "      <td>0.01308</td>\n",
              "      <td>0.01860</td>\n",
              "      <td>0.01340</td>\n",
              "      <td>0.01389</td>\n",
              "      <td>0.003532</td>\n",
              "      <td>24.99</td>\n",
              "      <td>23.41</td>\n",
              "      <td>158.8</td>\n",
              "      <td>1956.0</td>\n",
              "      <td>0.1238</td>\n",
              "      <td>0.1866</td>\n",
              "      <td>0.2416</td>\n",
              "      <td>0.1860</td>\n",
              "      <td>0.2750</td>\n",
              "      <td>0.08902</td>\n",
              "    </tr>\n",
              "    <tr>\n",
              "      <th>2</th>\n",
              "      <td>19.69</td>\n",
              "      <td>21.25</td>\n",
              "      <td>130.0</td>\n",
              "      <td>1203.0</td>\n",
              "      <td>0.10960</td>\n",
              "      <td>0.15990</td>\n",
              "      <td>0.1974</td>\n",
              "      <td>0.12790</td>\n",
              "      <td>0.2069</td>\n",
              "      <td>0.05999</td>\n",
              "      <td>0.7456</td>\n",
              "      <td>0.7869</td>\n",
              "      <td>4.585</td>\n",
              "      <td>94.03</td>\n",
              "      <td>0.006150</td>\n",
              "      <td>0.04006</td>\n",
              "      <td>0.03832</td>\n",
              "      <td>0.02058</td>\n",
              "      <td>0.02250</td>\n",
              "      <td>0.004571</td>\n",
              "      <td>23.57</td>\n",
              "      <td>25.53</td>\n",
              "      <td>152.5</td>\n",
              "      <td>1709.0</td>\n",
              "      <td>0.1444</td>\n",
              "      <td>0.4245</td>\n",
              "      <td>0.4504</td>\n",
              "      <td>0.2430</td>\n",
              "      <td>0.3613</td>\n",
              "      <td>0.08758</td>\n",
              "    </tr>\n",
              "  </tbody>\n",
              "</table>\n",
              "</div>"
            ],
            "text/plain": [
              "   mean radius  mean texture  ...  worst symmetry  worst fractal dimension\n",
              "0        17.99         10.38  ...          0.4601                  0.11890\n",
              "1        20.57         17.77  ...          0.2750                  0.08902\n",
              "2        19.69         21.25  ...          0.3613                  0.08758\n",
              "\n",
              "[3 rows x 30 columns]"
            ]
          },
          "metadata": {
            "tags": []
          },
          "execution_count": 4
        }
      ]
    },
    {
      "cell_type": "code",
      "metadata": {
        "id": "lAnh9RZq5v5a",
        "colab": {
          "base_uri": "https://localhost:8080/"
        },
        "outputId": "d2980da0-5ac8-4afd-cf89-2fcb9cf00def"
      },
      "source": [
        "from sklearn.tree import DecisionTreeClassifier\n",
        "\n",
        "# 보팅 적용을 위한 개별 모델은 로지스틱 회귀와 KNN\n",
        "model_lr = LogisticRegression()\n",
        "model_knn = KNeighborsClassifier(n_neighbors=8) \n",
        "model_tree = DecisionTreeClassifier(max_depth=4,random_state=0)\n",
        "\n",
        "# 개별모델을 소프트보팅 기반의 앙상블 모델로 구현한 분류기\n",
        "model_voting = VotingClassifier(estimators=[('LogisticRegression',model_lr),\n",
        "                                            ('knn',model_knn),\n",
        "                                            ('tree',model_tree)],\n",
        "                                            \n",
        "                                voting='soft')\n",
        "\n",
        "# 데이터를 훈련셋과 테스트셋으로 나누기\n",
        "X = cancer.data\n",
        "y = cancer.target\n",
        "X_train, X_test, y_train, y_test = train_test_split(X,y,\n",
        "                                                    random_state=0,\n",
        "                                                    test_size=0.2)\n",
        "\n",
        "# 보팅 분류기의 학습/예측/평가\n",
        "model_voting.fit(X_train,y_train)\n",
        "model_voting.score(X_train,y_train), model_voting.score(X_test,y_test)\n"
      ],
      "execution_count": null,
      "outputs": [
        {
          "output_type": "execute_result",
          "data": {
            "text/plain": [
              "(0.9758241758241758, 0.956140350877193)"
            ]
          },
          "metadata": {
            "tags": []
          },
          "execution_count": 10
        }
      ]
    },
    {
      "cell_type": "code",
      "metadata": {
        "colab": {
          "base_uri": "https://localhost:8080/"
        },
        "id": "vdyfwl6lSINM",
        "outputId": "5a0f00cc-8524-4486-aa5a-5d3e12d13feb"
      },
      "source": [
        "# 개별 모델의 학습/예측/평가\n",
        "for m in [model_lr,model_knn,model_tree]:\n",
        "  m.fit(X_train,y_train)\n",
        "  print(m.__class__.__name__, m.score(X_train,y_train), m.score(X_test,y_test))"
      ],
      "execution_count": null,
      "outputs": [
        {
          "output_type": "stream",
          "text": [
            "LogisticRegression 0.9516483516483516 0.9473684210526315\n",
            "KNeighborsClassifier 0.9384615384615385 0.9473684210526315\n",
            "DecisionTreeClassifier 0.9846153846153847 0.956140350877193\n"
          ],
          "name": "stdout"
        }
      ]
    },
    {
      "cell_type": "markdown",
      "metadata": {
        "id": "dNZrFMtn5-55"
      },
      "source": [
        "- 보팅 분류기의 정확도가 각 개별 모델의 정확도보다 조금 높게 나타남\n",
        "- 여러 알고리즘을 결합한다고 항상 성능이 향상되는 것은 아님"
      ]
    },
    {
      "cell_type": "markdown",
      "metadata": {
        "id": "ItTUCyMpgWEh"
      },
      "source": [
        "#### 랜덤 포레스트\n",
        "\n",
        "- 결정트리의 단점 : 과적합 문제\n",
        "\n",
        "- 현재의 랜덤포레스트 개념은 2001년 레오 브레이먼에 의해 만들어짐\n",
        "\n",
        "- 분류 및 회귀 분석에 사용되는 앙상블 학습 방법의 일종으로 훈련 과정에서 구성한 다수의 결정 트리(Forest)들을 임의적(Random)으로 학습하여 분류 또는 평균 예측(회귀 분석)를 출력\n",
        "\n",
        "- 다수의 결정트리를 구성하는 학습단계와 입력 벡터가 들어왔을 때 분류하거나 예측하는 테스트 단계로 구성\n",
        "\n",
        "- 각각의 트리가 독립적으로 학습하므로 학습 과정을 병렬화할 수 있음\n",
        "\n",
        "- 일반적으로 의사결정트리보다 성능이 좋으며 (Tree Correlation 문제 해결) 파라미터 수가 적어 튜닝도 비교적 간단함\n",
        "\n",
        " - Tree Correlation 문제 : 특정 feature가 정답에 많은 영향을 줄 때 모든 tree들이 비슷한 결과를 도출하는 문제"
      ]
    },
    {
      "cell_type": "markdown",
      "metadata": {
        "id": "v9B4uuAwrfoG"
      },
      "source": [
        "- 타킷 예측을 잘하고 구별되는 어러 개의 트리를 만들기 위해 무작위성을 부여\n",
        " - 배깅(Bagging)의 대표적인 알고리즘\n",
        "\n",
        "- 랜덤 트리 생성 방법\n",
        "\n",
        "  (1) 트리를 만들 때 사용하는 데이터 포인트를 무작위로 선택하는 방법\n",
        "  \n",
        "  (2) 분할 테스트에서 특성을 무작위로 선택하는 방법"
      ]
    },
    {
      "cell_type": "markdown",
      "metadata": {
        "id": "isHxndIZkI__"
      },
      "source": [
        "#### 랜덤 포레스트 만들기\n",
        "\n",
        "- 랜덤 포레스트 모델을 만들려면 생성할 트리의 개수를 정해야 함 <br>\n",
        " (RandomForestRegressor나 RandomForestClassifier의 n_estimators 매개변수)\n"
      ]
    },
    {
      "cell_type": "markdown",
      "metadata": {
        "id": "WLk05braytCE"
      },
      "source": [
        "1. 트리를 만들기 위해 먼저 데이터의 부트스트랩 샘플bootstrap sample을 생성\n",
        "\n",
        " - n_samples개의 데이터 포인트 중에서 무작위로 데이터를 n_samples 횟수만큼 반복 추출\n",
        "\n",
        " - 부스스트랩 샘플의 예 ( [‘a’, ‘b’, ‘c’, ‘d’]에서 부트스트랩 샘플을 만든다고 하면)\n",
        "  >  [‘b’, ‘d’, ‘d’, ‘c’] ,  [‘d’, ‘a’, ‘d’, ‘a’], [‘a’, ‘a’, ‘c’, ‘b’] 등\n",
        "\n",
        "  - 배깅(Bagging)은 bootstrap aggregating의 줄임말로 통계학에서는 중복을 허용한 리샘플링(resampling)을 부트스트래핑(bootstrapping)이라고 함"
      ]
    },
    {
      "cell_type": "markdown",
      "metadata": {
        "id": "68IIKR6_yopz"
      },
      "source": [
        "2. 생성한 데이터셋으로 트리를 만듬\n",
        "\n",
        " - 전체 데이터셋 대상이 아닌 무작위로 선택한 데이터셋 중에서 최선의 데이터셋을 찾음\n",
        " - <font color=yellow>몇 개의 특성을 고를 지 선택 -> max_features</font>\n",
        " - <font color=yellow>몇 개의 트리를 만들 지 선택 -> n_estimators</font>\n",
        " -  max_features=1로 설정하면 트리의 분기는 테스트할 특성을 고를 필요가 없게 되며 무작위로 선택한 특성의 임계값을 찾기만 하면 됨\n",
        "\n",
        " - max_features 값을 크게 하면 랜덤 포레스트의 트리들은 매우 비슷해지고 가장 두드러진 특성을 이용해 데이터에 잘 맞춰짐\n",
        "\n",
        " - max_features를 낮추면 랜덤 포레스트 트리들은 많이 달라지고 각 트리는 데이터에 맞추기 위해 깊이가 깊어지게 됨"
      ]
    },
    {
      "cell_type": "markdown",
      "metadata": {
        "id": "KzfNaezAygD9"
      },
      "source": [
        "3. 모델에 있는 모든 트리의 예측을 만듬\n",
        "\n",
        " -  회귀의 경우에는 이 예측들을 평균하여 최종 예측을 만듬\n",
        " \n",
        " - 분류의 경우는 약한 투표 전략을 사용\n",
        "  - 각 알고리즘은 가능성 있는 출력 레이블의 확률을 제공함으로써 간접적인 예측하고, \n",
        "  - 트리들이 예측한 확률을 평균내어 가장 높은 확률을 가진 클래스가 예측값이 됨"
      ]
    },
    {
      "cell_type": "markdown",
      "metadata": {
        "id": "4rkB7scKp2SH"
      },
      "source": [
        "[RandomForestClassifier()](https://scikit-learn.org/stable/modules/generated/sklearn.ensemble.RandomForestClassifier.html)\n",
        "```\n",
        "RandomForestClassifier(n_estimators, criterion, max_depth, min_samples_split, min_samples_leaf, min_weight_fraction_leaf, max_features, max_leaf_nodes, min_impurity_decrease, min_impurity_split, bootstrap, oob_score, n_jobs, random_state, verbose, warm_start, class_weight)\n",
        "```\n",
        "- <font color=yellow>n_estimators : 숲의 나무의 수, 생성할 트리의 개수</font>\n",
        "- criterion : 분할 품질을 측정하는 기능 (default : gini)\n",
        "- max_depth : 트리의 최대 깊이\n",
        "- min_samples_split : 내부 노드를 분할하는데 필요한 최소 샘플 수 (default : 2)\n",
        "- min_samples_leaf : 리프 노드에 있어야 할 최소 샘플 수 (default : 1)\n",
        "- min_weight_fraction_leaf : min_sample_leaf와 같지만 가중치가 부여된 샘플 수에서의 비율\n",
        "- <font color=yellow>max_features : 각 노드에서 분할에 사용할 특징의 최대 수</font>\n",
        "- max_leaf_nodes : 리프 노드의 최대수\n",
        "- min_impurity_decrease : 최소 불순도\n",
        "- min_impurity_split : 나무 성장을 멈추기 위한 임계치\n",
        "- bootstrap : 부스트랩 사용 여부\n",
        "- oob_score : 일반화 정확도를 줄이기 위해 밖의 샘플 사용 여부\n",
        "- n_jobs :적합성과 예측성을 위해 병렬로 실행할 작업 수\n",
        "- random_state : 난수 seed 설정\n",
        "- verbose : 실행 과정 출력 여부\n",
        "- warm_start : 이전 호출의 솔루션을 재사용하여 합계에 더 많은 견적가를 추가\n",
        "- class_weight : 클래스 가중치"
      ]
    },
    {
      "cell_type": "code",
      "metadata": {
        "id": "_4sfPePHn-CZ"
      },
      "source": [
        "from sklearn.model_selection import train_test_split\n",
        "from sklearn.ensemble import RandomForestClassifier\n",
        "from sklearn.datasets import make_moons\n",
        "import matplotlib.pyplot as plt\n",
        "import mglearn\n",
        "\n",
        "# 데이터 로드\n",
        "X, y = make_moons(n_samples=100, noise=0.25, random_state=3)\n",
        "X_train, X_test, y_train, y_test = train_test_split(X,\n",
        "                                                    y,\n",
        "                                                    stratify=y,\n",
        "                                                    random_state=42)"
      ],
      "execution_count": 3,
      "outputs": []
    },
    {
      "cell_type": "code",
      "metadata": {
        "colab": {
          "base_uri": "https://localhost:8080/",
          "height": 302
        },
        "id": "e7yexu-RZJyG",
        "outputId": "2bcd9cfe-36bc-497a-b690-50505becb7ed"
      },
      "source": [
        "mglearn.discrete_scatter(X[:,0],X[:,1],y)"
      ],
      "execution_count": 4,
      "outputs": [
        {
          "output_type": "execute_result",
          "data": {
            "text/plain": [
              "[<matplotlib.lines.Line2D at 0x7f69db319850>,\n",
              " <matplotlib.lines.Line2D at 0x7f69db319f90>]"
            ]
          },
          "metadata": {
            "tags": []
          },
          "execution_count": 4
        },
        {
          "output_type": "display_data",
          "data": {
            "image/png": "[encoded data removed]",
            "text/plain": [
              "<Figure size 432x288 with 1 Axes>"
            ]
          },
          "metadata": {
            "tags": [],
            "needs_background": "light"
          }
        }
      ]
    },
    {
      "cell_type": "code",
      "metadata": {
        "id": "x--FEOTZJ88X",
        "colab": {
          "base_uri": "https://localhost:8080/"
        },
        "outputId": "541037a6-27d0-4620-9722-dde3374a7083"
      },
      "source": [
        "# 모델 학습\n",
        "model = RandomForestClassifier(n_estimators=5,random_state=0)\n",
        "model.fit(X_train,y_train)"
      ],
      "execution_count": 5,
      "outputs": [
        {
          "output_type": "execute_result",
          "data": {
            "text/plain": [
              "RandomForestClassifier(bootstrap=True, ccp_alpha=0.0, class_weight=None,\n",
              "                       criterion='gini', max_depth=None, max_features='auto',\n",
              "                       max_leaf_nodes=None, max_samples=None,\n",
              "                       min_impurity_decrease=0.0, min_impurity_split=None,\n",
              "                       min_samples_leaf=1, min_samples_split=2,\n",
              "                       min_weight_fraction_leaf=0.0, n_estimators=5,\n",
              "                       n_jobs=None, oob_score=False, random_state=0, verbose=0,\n",
              "                       warm_start=False)"
            ]
          },
          "metadata": {
            "tags": []
          },
          "execution_count": 5
        }
      ]
    },
    {
      "cell_type": "markdown",
      "metadata": {
        "id": "PYUalFvnEKYb"
      },
      "source": [
        "- 랜덤 포레스트 안에 만들어진 트리는 estimator_ 속성에 저장\n",
        "\n"
      ]
    },
    {
      "cell_type": "markdown",
      "metadata": {
        "id": "ykJ9shA2xJKc"
      },
      "source": [
        "각 트리에서 학습된 결정 경계와 이를 취합해 만든 결정 경계 시각화\n",
        "\n",
        "- 다섯 개의 랜덤한 결정 트리의 결정 경계와 예측한 확률을 평균내어 만든 결정 경계"
      ]
    },
    {
      "cell_type": "code",
      "metadata": {
        "id": "3Hp_y3tuoAqy",
        "colab": {
          "base_uri": "https://localhost:8080/",
          "height": 514
        },
        "outputId": "ea4d3561-af07-4aa8-d7b1-c7f2161caa06"
      },
      "source": [
        "# 결정 경계 시각화\n",
        "# 다섯 개의 결정트리 결정 경계\n",
        "# ravel() 다차원 배열(array)을 1차원 배열로 평평하게 NumPy의 함수\n",
        "# reshape() 함수와 반대의 기능을 하는 함수\n",
        "fig,axes = plt.subplots(2,3, figsize=(20,10))\n",
        "for i, (tree,ax) in enumerate( zip(model.estimators_, axes.ravel())):\n",
        "  mglearn.plots.plot_tree_partition(X,y,tree,ax=ax)\n",
        "  ax.set_title(f'tree{i}')\n",
        "\n",
        "\n",
        "# 랜덤포레스트로 만들어진 결정경계\n",
        "mglearn.plots.plot_2d_separator(model,X,ax=axes[-1,-1], fill=True,alpha=0.4)\n",
        "mglearn.discrete_scatter(X[:,0], X[:,1], y)"
      ],
      "execution_count": 6,
      "outputs": [
        {
          "output_type": "execute_result",
          "data": {
            "text/plain": [
              "[<matplotlib.lines.Line2D at 0x7f69daa7e3d0>,\n",
              " <matplotlib.lines.Line2D at 0x7f69daa7e990>]"
            ]
          },
          "metadata": {
            "tags": []
          },
          "execution_count": 6
        },
        {
          "output_type": "display_data",
          "data": {
            "image/png": "[encoded data removed]",
            "text/plain": [
              "<Figure size 1440x720 with 6 Axes>"
            ]
          },
          "metadata": {
            "tags": []
          }
        }
      ]
    },
    {
      "cell_type": "markdown",
      "metadata": {
        "id": "9KS5OpScqId6"
      },
      "source": [
        "- 랜덤 포레스트는 개개의 트리보다는 덜 과대적합되고 훨씬 좋은 결정 경계를 만들어줌\n",
        "- 실제 애플리케이션에서는 매우 많은 트리를 사용하기 때문에(수백, 수천 개) 더 부드러운 결정 경계가 만들어짐"
      ]
    },
    {
      "cell_type": "markdown",
      "metadata": {
        "id": "s26F4zVyqhCp"
      },
      "source": [
        "#### Random Forest 실습 01\n",
        "\n",
        "- 유방암 데이터셋에 100개의 트리로 이뤄진 랜덤 포레스트를 적용"
      ]
    },
    {
      "cell_type": "code",
      "metadata": {
        "id": "__5U7MtsOdWs",
        "colab": {
          "base_uri": "https://localhost:8080/"
        },
        "outputId": "969d138d-4b14-498b-d552-99c2ea15b6f9"
      },
      "source": [
        "from sklearn.datasets import load_breast_cancer\n",
        "\n",
        "# 데이터 로드\n",
        "cancer = load_breast_cancer()\n",
        "\n",
        "X_train, X_test, y_train, y_test = train_test_split(cancer.data,\n",
        "                                                    cancer.target,\n",
        "                                                    random_state=0)\n",
        "# 모델 학습\n",
        "model = RandomForestClassifier(n_estimators=10 ,max_depth=11 , max_features=6 , random_state=0)\n",
        "model.fit(X_train,y_train)\n",
        "# 평가\n",
        "model.score(X_train,y_train) , model.score(X_test,y_test)"
      ],
      "execution_count": 12,
      "outputs": [
        {
          "output_type": "execute_result",
          "data": {
            "text/plain": [
              "(0.9976525821596244, 0.965034965034965)"
            ]
          },
          "metadata": {
            "tags": []
          },
          "execution_count": 12
        }
      ]
    },
    {
      "cell_type": "markdown",
      "metadata": {
        "id": "wAsWae4tq703"
      },
      "source": [
        "- 랜덤 포레스트는 아무런 매개변수 튜닝 없이도 선형 모델이나 단일 결정 트리보다 높은 정확도를 냄\n",
        "\n",
        "- 단일 결정 트리에서 한 것처럼 max_features 매개변수를 조정하거나 사전 가지치기를 할 수도 있음"
      ]
    },
    {
      "cell_type": "code",
      "metadata": {
        "id": "dOuzjzv-rDx_",
        "colab": {
          "base_uri": "https://localhost:8080/",
          "height": 284
        },
        "outputId": "9b495d21-db07-4ef0-f62f-c8c8796ebccc"
      },
      "source": [
        "# 특성 중요도 시각화\n",
        "import numpy as np\n",
        "import seaborn as sns\n",
        "sns.barplot(x=model.feature_importances_ , y = cancer.feature_names)"
      ],
      "execution_count": null,
      "outputs": [
        {
          "output_type": "execute_result",
          "data": {
            "text/plain": [
              "<matplotlib.axes._subplots.AxesSubplot at 0x7f835e20d810>"
            ]
          },
          "metadata": {
            "tags": []
          },
          "execution_count": 56
        },
        {
          "output_type": "display_data",
          "data": {
            "image/png": "[encoded data removed]",
            "text/plain": [
              "<Figure size 432x288 with 1 Axes>"
            ]
          },
          "metadata": {
            "tags": [],
            "needs_background": "light"
          }
        }
      ]
    },
    {
      "cell_type": "markdown",
      "metadata": {
        "id": "h-AjxwRtri2w"
      },
      "source": [
        "- 단일 트리의 경우보다 훨씬 많은 특성이 0 이상의 중요도 값을 가짐\n",
        "\n",
        "- 회귀와 분류에 있어서 랜덤 포레스트는 현재 가장 널리 사용되는 머신러닝 알고리즘\n",
        "\n",
        "- 랜덤 포레스트는 성능이 매우 뛰어나고 매개변수 튜닝을 많이 하지 않아도 잘 작동하며 데이터의 스케일을 맞출 필요도 없음"
      ]
    },
    {
      "cell_type": "markdown",
      "metadata": {
        "id": "U2hVEoWREnRg"
      },
      "source": [
        "#### Random Forest 실습 02\n",
        "\n",
        "붓꽃 데이터 랜덤포레스트를 만들기"
      ]
    },
    {
      "cell_type": "code",
      "metadata": {
        "id": "HqcYGPvUxEqD",
        "colab": {
          "base_uri": "https://localhost:8080/"
        },
        "outputId": "3c64dc98-4df1-4c5b-af05-71811f144a02"
      },
      "source": [
        "from sklearn.datasets import load_iris\n",
        "from sklearn.model_selection import train_test_split\n",
        "from sklearn.ensemble import RandomForestClassifier\n",
        "from sklearn.metrics import accuracy_score\n",
        "from sklearn.metrics import classification_report\n",
        "\n",
        "# 데이터 로드\n",
        "iris = load_iris()\n",
        "X_train, X_test, y_train, y_test = train_test_split(iris.data,\n",
        "                                                    iris.target,\n",
        "                                                    test_size=0.2,\n",
        "                                                    random_state=11)\n",
        "\n",
        "# 모델 학습\n",
        "model = RandomForestClassifier(max_depth=5 , max_features=1 , random_state=0)\n",
        "model.fit(X_train,y_train)\n",
        "# 평가\n",
        "model.score(X_train,y_train) , model.score(X_test,y_test)"
      ],
      "execution_count": 18,
      "outputs": [
        {
          "output_type": "execute_result",
          "data": {
            "text/plain": [
              "(0.9916666666666667, 0.9333333333333333)"
            ]
          },
          "metadata": {
            "tags": []
          },
          "execution_count": 18
        }
      ]
    },
    {
      "cell_type": "code",
      "metadata": {
        "id": "bTHPdbvszaoJ",
        "colab": {
          "base_uri": "https://localhost:8080/",
          "height": 282
        },
        "outputId": "829f27f8-115e-49bc-ffb7-81fe85a7ff0e"
      },
      "source": [
        "# 특성 중요도 시각화\n",
        "import seaborn as sns\n",
        "sns.barplot(x=model.feature_importances_, y=iris.feature_names)"
      ],
      "execution_count": 19,
      "outputs": [
        {
          "output_type": "execute_result",
          "data": {
            "text/plain": [
              "<matplotlib.axes._subplots.AxesSubplot at 0x7f69d982af50>"
            ]
          },
          "metadata": {
            "tags": []
          },
          "execution_count": 19
        },
        {
          "output_type": "display_data",
          "data": {
            "image/png": "[encoded data removed]",
            "text/plain": [
              "<Figure size 432x288 with 1 Axes>"
            ]
          },
          "metadata": {
            "tags": [],
            "needs_background": "light"
          }
        }
      ]
    },
    {
      "cell_type": "markdown",
      "metadata": {
        "id": "8IPdLC2O0Ayo"
      },
      "source": [
        "##### 랜덤포레스트 성능향상\n",
        "\n",
        "- iris 데이터가 간단하고 size가 작기 때문에 성능향상은 없으나 max_features와 oob_score를 적용해 보고 \n",
        "- 특성 중요도의 변화를 확인해 본다.\n"
      ]
    },
    {
      "cell_type": "markdown",
      "metadata": {
        "id": "_w5152KD2vgq"
      },
      "source": [
        "oob_score\n",
        "\n",
        "- 샘플링에 중복을 허용하는 배깅(Bagging) 방식을 사용하면 어떤 샘플은 여러번 샘플링되고 어떤 것은 전혀 선택되지 않을 수 있음\n",
        "- 평균적으로 각 예측기에 훈련 샘플의 63% 정도만 샘플링\n",
        "- oob(out-of-bag) : 선택되지 않은 훈련 샘플의 나머지 37% <br>\n",
        "(예측기 마다 남겨진 37%는 모두 다름)\n",
        "- oob_score=True로 지정하면 훈련이 끝난 후 자동으로 oob 샘플을 사용해 평가를 수행 "
      ]
    },
    {
      "cell_type": "code",
      "metadata": {
        "id": "lArZcdVc0AS4",
        "colab": {
          "base_uri": "https://localhost:8080/",
          "height": 335
        },
        "outputId": "131e538e-eecf-49e4-cd89-ec52e64c2a5d"
      },
      "source": [
        "# 모델 학습\n",
        "model = RandomForestClassifier(n_estimators=100, \n",
        "                               max_features=3,\n",
        "                               max_depth=3,  \n",
        "                               oob_score=True,\n",
        "                               random_state=0)\n",
        "model.fit(X_train, y_train)\n",
        "# 평가\n",
        "print( model.score(X_train, y_train) )\n",
        "print( model.oob_score_ )\n",
        "print( model.score(X_test, y_test) )\n",
        "\n",
        "# 결정함수는 각 훈련 샘플의 클래스 확률을 반환 \n",
        "# (predict_proba()가 기반이 되는 예측기 모델에 존재하기 때문)\n",
        "# print(\"OOB 샘플의 결정 함수값:\" , model.oob_decision_function_)\n",
        "len(model.oob_decision_function_)\n",
        "\n",
        "# 특성 중요도 시각화\n",
        "sns.barplot(x=model.feature_importances_ , y = iris.feature_names)"
      ],
      "execution_count": 24,
      "outputs": [
        {
          "output_type": "stream",
          "text": [
            "0.975\n",
            "0.9583333333333334\n",
            "0.9333333333333333\n"
          ],
          "name": "stdout"
        },
        {
          "output_type": "execute_result",
          "data": {
            "text/plain": [
              "<matplotlib.axes._subplots.AxesSubplot at 0x7f69d95ff6d0>"
            ]
          },
          "metadata": {
            "tags": []
          },
          "execution_count": 24
        },
        {
          "output_type": "display_data",
          "data": {
            "image/png": "[encoded data removed]",
            "text/plain": [
              "<Figure size 432x288 with 1 Axes>"
            ]
          },
          "metadata": {
            "tags": [],
            "needs_background": "light"
          }
        }
      ]
    },
    {
      "cell_type": "code",
      "metadata": {
        "id": "XFpEKseIXoxY"
      },
      "source": [
        ""
      ],
      "execution_count": null,
      "outputs": []
    },
    {
      "cell_type": "markdown",
      "metadata": {
        "id": "_D2m4--kvoyc"
      },
      "source": [
        "#### 장단점\n",
        "\n",
        "- 결정트리의 단점을 보완하고 장점은 그대로 가지고 있는 모델이어서 별다른 조정 없이도 괜찮을 결과를 만들어낸다.\n",
        "- 트리가 여러 개 만들어지기 때문에 비전문가에게 예측과정을 보여주기는 어렵다.\n",
        "- 랜덤하게 만들어지기 때문에 random_state를 고정해야 같은 결과를 볼 수 있다.\n",
        "- 텍스트 데이터와 같은 희소한 데이터에는 잘 동작하지 않는다.\n",
        "- 큰 데이터 세트에도 잘 동작하지만 훈련과 예측이 상대적으로 느리다.\n",
        "- 트리 개수가 많아질 수록 시간이 더 오래 걸린다.\n"
      ]
    }
  ]
}