{
  "nbformat": 4,
  "nbformat_minor": 0,
  "metadata": {
    "colab": {
      "name": "2_B_parse_img_ids_class_1.ipynb",
      "provenance": [],
      "collapsed_sections": [],
      "include_colab_link": true
    },
    "kernelspec": {
      "name": "python3",
      "display_name": "Python 3"
    },
    "language_info": {
      "name": "python"
    }
  },
  "cells": [
    {
      "cell_type": "markdown",
      "metadata": {
        "id": "view-in-github",
        "colab_type": "text"
      },
      "source": [
        "<a href=\"https://colab.research.google.com/github/soohyoen/artificial-intelligence/blob/main/2_B_parse_img_ids_class_1.ipynb\" target=\"_parent\"><img src=\"https://colab.research.google.com/assets/colab-badge.svg\" alt=\"Open In Colab\"/></a>"
      ]
    },
    {
      "cell_type": "markdown",
      "metadata": {
        "id": "JQoRQUUAuKtU"
      },
      "source": [
        "# 상품 이미지 아이디 파싱하기\n",
        "- author: Eu-Bin KIM\n",
        "- 11st of August\n",
        "- tlrndk123@gmail.com\n",
        "\n",
        "\n",
        "## 목표\n",
        "\n",
        "이 [웹문서](http://www.pythonscraping.com/pages/page3.html)에서, 5개 상품 이미지의 고유 아이디를 파싱을 하시면 됩니다. 브라우저로 해당 문서를 inspect 해보고, 어떻게 추출할 수 있을지 생각해보세요! \n",
        "\n",
        "### 출력 예시\n",
        "```\n",
        "img1.jpg\n",
        "img2.jpg\n",
        "img3.jpg\n",
        "img4.jpg\n",
        "img6.jpg\n",
        "```\n",
        "\n",
        "---\n",
        "\n",
        "\n",
        "\n",
        "\n"
      ]
    },
    {
      "cell_type": "code",
      "metadata": {
        "id": "7uxOD64KrkSs",
        "colab": {
          "base_uri": "https://localhost:8080/"
        },
        "outputId": "f393bfd8-7821-498b-8c63-bdefb7919c2c"
      },
      "source": [
        "!pip3 install requests\n",
        "!pip3 install bs4\n",
        "import requests\n",
        "from typing import List\n",
        "from bs4 import BeautifulSoup  # html 파싱을 위한 라이브러리\n",
        "import re # 정규표현식 사용을 위한 라이브러리\n",
        "\n",
        "\n",
        "# 다음의 웹페이지에서, 상품에 해당하는 이미지의 고유 아이디를 파싱해주세요!\n",
        "URL = \"http://www.pythonscraping.com/pages/page3.html\""
      ],
      "execution_count": null,
      "outputs": [
        {
          "output_type": "stream",
          "text": [
            "Requirement already satisfied: requests in /usr/local/lib/python3.7/dist-packages (2.23.0)\n",
            "Requirement already satisfied: certifi>=2017.4.17 in /usr/local/lib/python3.7/dist-packages (from requests) (2021.5.30)\n",
            "Requirement already satisfied: urllib3!=1.25.0,!=1.25.1,<1.26,>=1.21.1 in /usr/local/lib/python3.7/dist-packages (from requests) (1.24.3)\n",
            "Requirement already satisfied: idna<3,>=2.5 in /usr/local/lib/python3.7/dist-packages (from requests) (2.10)\n",
            "Requirement already satisfied: chardet<4,>=3.0.2 in /usr/local/lib/python3.7/dist-packages (from requests) (3.0.4)\n",
            "Requirement already satisfied: bs4 in /usr/local/lib/python3.7/dist-packages (0.0.1)\n",
            "Requirement already satisfied: beautifulsoup4 in /usr/local/lib/python3.7/dist-packages (from bs4) (4.6.3)\n"
          ],
          "name": "stdout"
        }
      ]
    },
    {
      "cell_type": "code",
      "metadata": {
        "colab": {
          "base_uri": "https://localhost:8080/"
        },
        "id": "hF-9fx-_q-iW",
        "outputId": "1ac4b251-eaa7-4106-f365-f2f3dc7122b7"
      },
      "source": [
        "# pattern의 활용예시\n",
        "corpus = [\n",
        "          \"123 adsfdsf\",  # 이것만 매치를 하고 싶다.\n",
        "          \"afafff 123\"\n",
        "]\n",
        "pattern = re.compile(r'^123')\n",
        "\n",
        "for doc in corpus:\n",
        "  match = pattern.match(doc)\n",
        "  print(match)"
      ],
      "execution_count": null,
      "outputs": [
        {
          "output_type": "stream",
          "text": [
            "<re.Match object; span=(0, 3), match='123'>\n",
            "None\n"
          ],
          "name": "stdout"
        }
      ]
    },
    {
      "cell_type": "code",
      "metadata": {
        "id": "DmDkJeTarhN8"
      },
      "source": [
        "# requests 라이브러리를 활용하면 한줄로 html을 간단하게 로드할 수 있습니다!\n",
        "html = requests.get(URL).text\n",
        "soup = BeautifulSoup(html, \"html.parser\")\n"
      ],
      "execution_count": null,
      "outputs": []
    },
    {
      "cell_type": "code",
      "metadata": {
        "colab": {
          "base_uri": "https://localhost:8080/"
        },
        "id": "FsAXMS2QH4kk",
        "outputId": "da26bb03-513a-408b-821d-b93d665e3da7"
      },
      "source": [
        "for tag in soup.find_all(\"img\"):\n",
        "  try:\n",
        "    value = tag['style']\n",
        "  except KeyError:\n",
        "    print(tag)"
      ],
      "execution_count": null,
      "outputs": [
        {
          "output_type": "stream",
          "text": [
            "<img src=\"../img/gifts/img1.jpg\"/>\n",
            "<img src=\"../img/gifts/img2.jpg\"/>\n",
            "<img src=\"../img/gifts/img3.jpg\"/>\n",
            "<img src=\"../img/gifts/img4.jpg\"/>\n",
            "<img src=\"../img/gifts/img6.jpg\"/>\n"
          ],
          "name": "stdout"
        }
      ]
    },
    {
      "cell_type": "code",
      "metadata": {
        "colab": {
          "base_uri": "https://localhost:8080/"
        },
        "id": "WkvHShH-GgVw",
        "outputId": "b68e4458-ad46-4681-bb0c-46a4f0d76b5e"
      },
      "source": [
        "for idx, tag in enumerate(soup.find_all(\"img\")):\n",
        "  # 이인규11:05\n",
        "  # for문돌려서 1번부터 불러왔습니다\n",
        "  if idx >= 1:\n",
        "    print(tag)"
      ],
      "execution_count": null,
      "outputs": [
        {
          "output_type": "stream",
          "text": [
            "<img src=\"../img/gifts/img1.jpg\"/>\n",
            "<img src=\"../img/gifts/img2.jpg\"/>\n",
            "<img src=\"../img/gifts/img3.jpg\"/>\n",
            "<img src=\"../img/gifts/img4.jpg\"/>\n",
            "<img src=\"../img/gifts/img6.jpg\"/>\n"
          ],
          "name": "stdout"
        }
      ]
    },
    {
      "cell_type": "code",
      "metadata": {
        "id": "gl7vp_kOHG-7"
      },
      "source": [
        "# \\w+\\d\n",
        "# \\\n",
        "# 전경서11:06\n",
        "# /w+/d\n",
        "# /w\n",
        "# 아 로고는 글씨만 하고 이미지는 글자+숫자조합이요\n",
        "img_urls = list()\n",
        "pattern = re.compile(r'\\w+\\d')\n",
        "for tag in soup.find_all(\"img\", attrs={'src': pattern}):\n",
        "  img_urls.append(tag['src'])\n"
      ],
      "execution_count": null,
      "outputs": []
    },
    {
      "cell_type": "code",
      "metadata": {
        "colab": {
          "base_uri": "https://localhost:8080/"
        },
        "id": "Zs_qnfDqH2aE",
        "outputId": "15a753e6-992f-46ab-e15e-69e7d9f16677"
      },
      "source": [
        "#이인규11:13\n",
        "#pattern = re.compile('img..jpg') 이 패턴에 findall했습니다\n",
        "pattern = re.compile(r'img.\\.jpg')\n",
        "for url in img_urls:\n",
        "  # img_ids 만 가져오는 방법은?\n",
        "  # match and extract\n",
        "  print(pattern.findall(url))"
      ],
      "execution_count": null,
      "outputs": [
        {
          "output_type": "stream",
          "text": [
            "['img1.jpg']\n",
            "['img2.jpg']\n",
            "['img3.jpg']\n",
            "['img4.jpg']\n",
            "['img6.jpg']\n"
          ],
          "name": "stdout"
        }
      ]
    },
    {
      "cell_type": "code",
      "metadata": {
        "colab": {
          "base_uri": "https://localhost:8080/"
        },
        "id": "dFhP9t0DJIAx",
        "outputId": "e8a21dfa-7838-4d2d-8599-2c8fcc18f4f5"
      },
      "source": [
        "CORPUS = [\n",
        "          \"username: 인규님\",\n",
        "          \"username: 경서님\"\n",
        "]\n",
        "# match & extract.\n",
        "pattern = re.compile(r'username: (.+)')\n",
        "for doc in CORPUS:\n",
        "  print(pattern.findall(doc))"
      ],
      "execution_count": null,
      "outputs": [
        {
          "output_type": "stream",
          "text": [
            "['인규님']\n",
            "['경서님']\n"
          ],
          "name": "stdout"
        }
      ]
    },
    {
      "cell_type": "code",
      "metadata": {
        "colab": {
          "base_uri": "https://localhost:8080/"
        },
        "id": "k7Zrj-G7I65Q",
        "outputId": "1e21d2be-17e3-496a-d875-6c2c7999d335"
      },
      "source": [
        "img_ids = list()\n",
        "for url in img_urls:\n",
        "  img_id = url.split(\"/\")[-1]\n",
        "  print(img_id)\n",
        "  img_ids.append(img_id)"
      ],
      "execution_count": null,
      "outputs": [
        {
          "output_type": "stream",
          "text": [
            "img1.jpg\n",
            "img2.jpg\n",
            "img3.jpg\n",
            "img4.jpg\n",
            "img6.jpg\n"
          ],
          "name": "stdout"
        }
      ]
    },
    {
      "cell_type": "code",
      "metadata": {
        "id": "1RqArcF6rltP"
      },
      "source": [
        "# 다시 말하지만, \"상품\"에 해당하는 이미지의 id만 가져오면 됩니다~\n",
        "img_ids: List[str] = ...\n",
        "##############"
      ],
      "execution_count": null,
      "outputs": []
    },
    {
      "cell_type": "code",
      "metadata": {
        "id": "5IDPU9_Utx83",
        "colab": {
          "base_uri": "https://localhost:8080/"
        },
        "outputId": "633233a0-80d2-4247-a6a8-d6dd4e4ab151"
      },
      "source": [
        "print(img_ids)"
      ],
      "execution_count": null,
      "outputs": [
        {
          "output_type": "stream",
          "text": [
            "['img1.jpg', 'img2.jpg', 'img3.jpg', 'img4.jpg', 'img6.jpg']\n"
          ],
          "name": "stdout"
        }
      ]
    },
    {
      "cell_type": "code",
      "metadata": {
        "id": "zGxYEJmUvFzG"
      },
      "source": [
        ""
      ],
      "execution_count": null,
      "outputs": []
    }
  ]
}