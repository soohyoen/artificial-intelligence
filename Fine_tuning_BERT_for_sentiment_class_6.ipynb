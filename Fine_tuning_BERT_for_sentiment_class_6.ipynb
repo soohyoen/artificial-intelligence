{
  "nbformat": 4,
  "nbformat_minor": 0,
  "metadata": {
    "colab": {
      "name": "Fine-tuning BERT for sentiment_class_6.ipynb",
      "provenance": [],
      "collapsed_sections": [],
      "include_colab_link": true
    },
    "kernelspec": {
      "name": "python3",
      "display_name": "Python 3"
    },
    "language_info": {
      "name": "python"
    },
    "accelerator": "GPU",
    "widgets": {
      "application/vnd.jupyter.widget-state+json": {
        "58b0dd181cd3460196ac110a603df64a": {
          "model_module": "@jupyter-widgets/controls",
          "model_name": "HBoxModel",
          "model_module_version": "1.5.0",
          "state": {
            "_view_name": "HBoxView",
            "_dom_classes": [],
            "_model_name": "HBoxModel",
            "_view_module": "@jupyter-widgets/controls",
            "_model_module_version": "1.5.0",
            "_view_count": null,
            "_view_module_version": "1.5.0",
            "box_style": "",
            "layout": "IPY_MODEL_3fe2d438db78433ab76f784f492a6416",
            "_model_module": "@jupyter-widgets/controls",
            "children": [
              "IPY_MODEL_bbdf7075d22a45908a117b68b6fa6e8d",
              "IPY_MODEL_e0434d89bc6541eebcb8482fb917f876",
              "IPY_MODEL_6ef2abe0773d4f3f9643a6eebb9ed557"
            ]
          }
        },
        "3fe2d438db78433ab76f784f492a6416": {
          "model_module": "@jupyter-widgets/base",
          "model_name": "LayoutModel",
          "model_module_version": "1.2.0",
          "state": {
            "_view_name": "LayoutView",
            "grid_template_rows": null,
            "right": null,
            "justify_content": null,
            "_view_module": "@jupyter-widgets/base",
            "overflow": null,
            "_model_module_version": "1.2.0",
            "_view_count": null,
            "flex_flow": null,
            "width": null,
            "min_width": null,
            "border": null,
            "align_items": null,
            "bottom": null,
            "_model_module": "@jupyter-widgets/base",
            "top": null,
            "grid_column": null,
            "overflow_y": null,
            "overflow_x": null,
            "grid_auto_flow": null,
            "grid_area": null,
            "grid_template_columns": null,
            "flex": null,
            "_model_name": "LayoutModel",
            "justify_items": null,
            "grid_row": null,
            "max_height": null,
            "align_content": null,
            "visibility": null,
            "align_self": null,
            "height": null,
            "min_height": null,
            "padding": null,
            "grid_auto_rows": null,
            "grid_gap": null,
            "max_width": null,
            "order": null,
            "_view_module_version": "1.2.0",
            "grid_template_areas": null,
            "object_position": null,
            "object_fit": null,
            "grid_auto_columns": null,
            "margin": null,
            "display": null,
            "left": null
          }
        },
        "bbdf7075d22a45908a117b68b6fa6e8d": {
          "model_module": "@jupyter-widgets/controls",
          "model_name": "HTMLModel",
          "model_module_version": "1.5.0",
          "state": {
            "_view_name": "HTMLView",
            "style": "IPY_MODEL_b9ef28c8814f406e8a2405f6b0d72072",
            "_dom_classes": [],
            "description": "",
            "_model_name": "HTMLModel",
            "placeholder": "​",
            "_view_module": "@jupyter-widgets/controls",
            "_model_module_version": "1.5.0",
            "value": "Downloading: 100%",
            "_view_count": null,
            "_view_module_version": "1.5.0",
            "description_tooltip": null,
            "_model_module": "@jupyter-widgets/controls",
            "layout": "IPY_MODEL_7f07ff4795134487a00e2cc547374a21"
          }
        },
        "e0434d89bc6541eebcb8482fb917f876": {
          "model_module": "@jupyter-widgets/controls",
          "model_name": "FloatProgressModel",
          "model_module_version": "1.5.0",
          "state": {
            "_view_name": "ProgressView",
            "style": "IPY_MODEL_05f765216bb74e7783082d3cc146e46c",
            "_dom_classes": [],
            "description": "",
            "_model_name": "FloatProgressModel",
            "bar_style": "success",
            "max": 249928,
            "_view_module": "@jupyter-widgets/controls",
            "_model_module_version": "1.5.0",
            "value": 249928,
            "_view_count": null,
            "_view_module_version": "1.5.0",
            "orientation": "horizontal",
            "min": 0,
            "description_tooltip": null,
            "_model_module": "@jupyter-widgets/controls",
            "layout": "IPY_MODEL_c3bd5b515e49489d9d8f6de3a65bdd10"
          }
        },
        "6ef2abe0773d4f3f9643a6eebb9ed557": {
          "model_module": "@jupyter-widgets/controls",
          "model_name": "HTMLModel",
          "model_module_version": "1.5.0",
          "state": {
            "_view_name": "HTMLView",
            "style": "IPY_MODEL_7bd2f666aee245e6864e678fbb546e30",
            "_dom_classes": [],
            "description": "",
            "_model_name": "HTMLModel",
            "placeholder": "​",
            "_view_module": "@jupyter-widgets/controls",
            "_model_module_version": "1.5.0",
            "value": " 244k/244k [00:00&lt;00:00, 1.38MB/s]",
            "_view_count": null,
            "_view_module_version": "1.5.0",
            "description_tooltip": null,
            "_model_module": "@jupyter-widgets/controls",
            "layout": "IPY_MODEL_b2b7c87169c34b2db896d549300ac666"
          }
        },
        "b9ef28c8814f406e8a2405f6b0d72072": {
          "model_module": "@jupyter-widgets/controls",
          "model_name": "DescriptionStyleModel",
          "model_module_version": "1.5.0",
          "state": {
            "_view_name": "StyleView",
            "_model_name": "DescriptionStyleModel",
            "description_width": "",
            "_view_module": "@jupyter-widgets/base",
            "_model_module_version": "1.5.0",
            "_view_count": null,
            "_view_module_version": "1.2.0",
            "_model_module": "@jupyter-widgets/controls"
          }
        },
        "7f07ff4795134487a00e2cc547374a21": {
          "model_module": "@jupyter-widgets/base",
          "model_name": "LayoutModel",
          "model_module_version": "1.2.0",
          "state": {
            "_view_name": "LayoutView",
            "grid_template_rows": null,
            "right": null,
            "justify_content": null,
            "_view_module": "@jupyter-widgets/base",
            "overflow": null,
            "_model_module_version": "1.2.0",
            "_view_count": null,
            "flex_flow": null,
            "width": null,
            "min_width": null,
            "border": null,
            "align_items": null,
            "bottom": null,
            "_model_module": "@jupyter-widgets/base",
            "top": null,
            "grid_column": null,
            "overflow_y": null,
            "overflow_x": null,
            "grid_auto_flow": null,
            "grid_area": null,
            "grid_template_columns": null,
            "flex": null,
            "_model_name": "LayoutModel",
            "justify_items": null,
            "grid_row": null,
            "max_height": null,
            "align_content": null,
            "visibility": null,
            "align_self": null,
            "height": null,
            "min_height": null,
            "padding": null,
            "grid_auto_rows": null,
            "grid_gap": null,
            "max_width": null,
            "order": null,
            "_view_module_version": "1.2.0",
            "grid_template_areas": null,
            "object_position": null,
            "object_fit": null,
            "grid_auto_columns": null,
            "margin": null,
            "display": null,
            "left": null
          }
        },
        "05f765216bb74e7783082d3cc146e46c": {
          "model_module": "@jupyter-widgets/controls",
          "model_name": "ProgressStyleModel",
          "model_module_version": "1.5.0",
          "state": {
            "_view_name": "StyleView",
            "_model_name": "ProgressStyleModel",
            "description_width": "",
            "_view_module": "@jupyter-widgets/base",
            "_model_module_version": "1.5.0",
            "_view_count": null,
            "_view_module_version": "1.2.0",
            "bar_color": null,
            "_model_module": "@jupyter-widgets/controls"
          }
        },
        "c3bd5b515e49489d9d8f6de3a65bdd10": {
          "model_module": "@jupyter-widgets/base",
          "model_name": "LayoutModel",
          "model_module_version": "1.2.0",
          "state": {
            "_view_name": "LayoutView",
            "grid_template_rows": null,
            "right": null,
            "justify_content": null,
            "_view_module": "@jupyter-widgets/base",
            "overflow": null,
            "_model_module_version": "1.2.0",
            "_view_count": null,
            "flex_flow": null,
            "width": null,
            "min_width": null,
            "border": null,
            "align_items": null,
            "bottom": null,
            "_model_module": "@jupyter-widgets/base",
            "top": null,
            "grid_column": null,
            "overflow_y": null,
            "overflow_x": null,
            "grid_auto_flow": null,
            "grid_area": null,
            "grid_template_columns": null,
            "flex": null,
            "_model_name": "LayoutModel",
            "justify_items": null,
            "grid_row": null,
            "max_height": null,
            "align_content": null,
            "visibility": null,
            "align_self": null,
            "height": null,
            "min_height": null,
            "padding": null,
            "grid_auto_rows": null,
            "grid_gap": null,
            "max_width": null,
            "order": null,
            "_view_module_version": "1.2.0",
            "grid_template_areas": null,
            "object_position": null,
            "object_fit": null,
            "grid_auto_columns": null,
            "margin": null,
            "display": null,
            "left": null
          }
        },
        "7bd2f666aee245e6864e678fbb546e30": {
          "model_module": "@jupyter-widgets/controls",
          "model_name": "DescriptionStyleModel",
          "model_module_version": "1.5.0",
          "state": {
            "_view_name": "StyleView",
            "_model_name": "DescriptionStyleModel",
            "description_width": "",
            "_view_module": "@jupyter-widgets/base",
            "_model_module_version": "1.5.0",
            "_view_count": null,
            "_view_module_version": "1.2.0",
            "_model_module": "@jupyter-widgets/controls"
          }
        },
        "b2b7c87169c34b2db896d549300ac666": {
          "model_module": "@jupyter-widgets/base",
          "model_name": "LayoutModel",
          "model_module_version": "1.2.0",
          "state": {
            "_view_name": "LayoutView",
            "grid_template_rows": null,
            "right": null,
            "justify_content": null,
            "_view_module": "@jupyter-widgets/base",
            "overflow": null,
            "_model_module_version": "1.2.0",
            "_view_count": null,
            "flex_flow": null,
            "width": null,
            "min_width": null,
            "border": null,
            "align_items": null,
            "bottom": null,
            "_model_module": "@jupyter-widgets/base",
            "top": null,
            "grid_column": null,
            "overflow_y": null,
            "overflow_x": null,
            "grid_auto_flow": null,
            "grid_area": null,
            "grid_template_columns": null,
            "flex": null,
            "_model_name": "LayoutModel",
            "justify_items": null,
            "grid_row": null,
            "max_height": null,
            "align_content": null,
            "visibility": null,
            "align_self": null,
            "height": null,
            "min_height": null,
            "padding": null,
            "grid_auto_rows": null,
            "grid_gap": null,
            "max_width": null,
            "order": null,
            "_view_module_version": "1.2.0",
            "grid_template_areas": null,
            "object_position": null,
            "object_fit": null,
            "grid_auto_columns": null,
            "margin": null,
            "display": null,
            "left": null
          }
        },
        "7b36e842606a4db09c23938dfe83f5aa": {
          "model_module": "@jupyter-widgets/controls",
          "model_name": "HBoxModel",
          "model_module_version": "1.5.0",
          "state": {
            "_view_name": "HBoxView",
            "_dom_classes": [],
            "_model_name": "HBoxModel",
            "_view_module": "@jupyter-widgets/controls",
            "_model_module_version": "1.5.0",
            "_view_count": null,
            "_view_module_version": "1.5.0",
            "box_style": "",
            "layout": "IPY_MODEL_9dfecdbdabc14aa8a593073f389e1d99",
            "_model_module": "@jupyter-widgets/controls",
            "children": [
              "IPY_MODEL_58785674a523456a8333678f7b3afbb5",
              "IPY_MODEL_d79cd401f88f4133ab2850533e3748fc",
              "IPY_MODEL_678105121b03484d9fa63cb8ef5ec3ec"
            ]
          }
        },
        "9dfecdbdabc14aa8a593073f389e1d99": {
          "model_module": "@jupyter-widgets/base",
          "model_name": "LayoutModel",
          "model_module_version": "1.2.0",
          "state": {
            "_view_name": "LayoutView",
            "grid_template_rows": null,
            "right": null,
            "justify_content": null,
            "_view_module": "@jupyter-widgets/base",
            "overflow": null,
            "_model_module_version": "1.2.0",
            "_view_count": null,
            "flex_flow": null,
            "width": null,
            "min_width": null,
            "border": null,
            "align_items": null,
            "bottom": null,
            "_model_module": "@jupyter-widgets/base",
            "top": null,
            "grid_column": null,
            "overflow_y": null,
            "overflow_x": null,
            "grid_auto_flow": null,
            "grid_area": null,
            "grid_template_columns": null,
            "flex": null,
            "_model_name": "LayoutModel",
            "justify_items": null,
            "grid_row": null,
            "max_height": null,
            "align_content": null,
            "visibility": null,
            "align_self": null,
            "height": null,
            "min_height": null,
            "padding": null,
            "grid_auto_rows": null,
            "grid_gap": null,
            "max_width": null,
            "order": null,
            "_view_module_version": "1.2.0",
            "grid_template_areas": null,
            "object_position": null,
            "object_fit": null,
            "grid_auto_columns": null,
            "margin": null,
            "display": null,
            "left": null
          }
        },
        "58785674a523456a8333678f7b3afbb5": {
          "model_module": "@jupyter-widgets/controls",
          "model_name": "HTMLModel",
          "model_module_version": "1.5.0",
          "state": {
            "_view_name": "HTMLView",
            "style": "IPY_MODEL_376ca469c24d4899b20003cef9f9686d",
            "_dom_classes": [],
            "description": "",
            "_model_name": "HTMLModel",
            "placeholder": "​",
            "_view_module": "@jupyter-widgets/controls",
            "_model_module_version": "1.5.0",
            "value": "Downloading: 100%",
            "_view_count": null,
            "_view_module_version": "1.5.0",
            "description_tooltip": null,
            "_model_module": "@jupyter-widgets/controls",
            "layout": "IPY_MODEL_fbf498348f454e88a1da5a406e7683e2"
          }
        },
        "d79cd401f88f4133ab2850533e3748fc": {
          "model_module": "@jupyter-widgets/controls",
          "model_name": "FloatProgressModel",
          "model_module_version": "1.5.0",
          "state": {
            "_view_name": "ProgressView",
            "style": "IPY_MODEL_3558017a276345bfb92b922c3e061a65",
            "_dom_classes": [],
            "description": "",
            "_model_name": "FloatProgressModel",
            "bar_style": "success",
            "max": 49,
            "_view_module": "@jupyter-widgets/controls",
            "_model_module_version": "1.5.0",
            "value": 49,
            "_view_count": null,
            "_view_module_version": "1.5.0",
            "orientation": "horizontal",
            "min": 0,
            "description_tooltip": null,
            "_model_module": "@jupyter-widgets/controls",
            "layout": "IPY_MODEL_d467d561e4f74718a04de67213c0c92a"
          }
        },
        "678105121b03484d9fa63cb8ef5ec3ec": {
          "model_module": "@jupyter-widgets/controls",
          "model_name": "HTMLModel",
          "model_module_version": "1.5.0",
          "state": {
            "_view_name": "HTMLView",
            "style": "IPY_MODEL_0b572072c11540a5a00627d4a23a7be0",
            "_dom_classes": [],
            "description": "",
            "_model_name": "HTMLModel",
            "placeholder": "​",
            "_view_module": "@jupyter-widgets/controls",
            "_model_module_version": "1.5.0",
            "value": " 49.0/49.0 [00:00&lt;00:00, 1.17kB/s]",
            "_view_count": null,
            "_view_module_version": "1.5.0",
            "description_tooltip": null,
            "_model_module": "@jupyter-widgets/controls",
            "layout": "IPY_MODEL_9d4a819eabc34ca9a6d74586f35684ca"
          }
        },
        "376ca469c24d4899b20003cef9f9686d": {
          "model_module": "@jupyter-widgets/controls",
          "model_name": "DescriptionStyleModel",
          "model_module_version": "1.5.0",
          "state": {
            "_view_name": "StyleView",
            "_model_name": "DescriptionStyleModel",
            "description_width": "",
            "_view_module": "@jupyter-widgets/base",
            "_model_module_version": "1.5.0",
            "_view_count": null,
            "_view_module_version": "1.2.0",
            "_model_module": "@jupyter-widgets/controls"
          }
        },
        "fbf498348f454e88a1da5a406e7683e2": {
          "model_module": "@jupyter-widgets/base",
          "model_name": "LayoutModel",
          "model_module_version": "1.2.0",
          "state": {
            "_view_name": "LayoutView",
            "grid_template_rows": null,
            "right": null,
            "justify_content": null,
            "_view_module": "@jupyter-widgets/base",
            "overflow": null,
            "_model_module_version": "1.2.0",
            "_view_count": null,
            "flex_flow": null,
            "width": null,
            "min_width": null,
            "border": null,
            "align_items": null,
            "bottom": null,
            "_model_module": "@jupyter-widgets/base",
            "top": null,
            "grid_column": null,
            "overflow_y": null,
            "overflow_x": null,
            "grid_auto_flow": null,
            "grid_area": null,
            "grid_template_columns": null,
            "flex": null,
            "_model_name": "LayoutModel",
            "justify_items": null,
            "grid_row": null,
            "max_height": null,
            "align_content": null,
            "visibility": null,
            "align_self": null,
            "height": null,
            "min_height": null,
            "padding": null,
            "grid_auto_rows": null,
            "grid_gap": null,
            "max_width": null,
            "order": null,
            "_view_module_version": "1.2.0",
            "grid_template_areas": null,
            "object_position": null,
            "object_fit": null,
            "grid_auto_columns": null,
            "margin": null,
            "display": null,
            "left": null
          }
        },
        "3558017a276345bfb92b922c3e061a65": {
          "model_module": "@jupyter-widgets/controls",
          "model_name": "ProgressStyleModel",
          "model_module_version": "1.5.0",
          "state": {
            "_view_name": "StyleView",
            "_model_name": "ProgressStyleModel",
            "description_width": "",
            "_view_module": "@jupyter-widgets/base",
            "_model_module_version": "1.5.0",
            "_view_count": null,
            "_view_module_version": "1.2.0",
            "bar_color": null,
            "_model_module": "@jupyter-widgets/controls"
          }
        },
        "d467d561e4f74718a04de67213c0c92a": {
          "model_module": "@jupyter-widgets/base",
          "model_name": "LayoutModel",
          "model_module_version": "1.2.0",
          "state": {
            "_view_name": "LayoutView",
            "grid_template_rows": null,
            "right": null,
            "justify_content": null,
            "_view_module": "@jupyter-widgets/base",
            "overflow": null,
            "_model_module_version": "1.2.0",
            "_view_count": null,
            "flex_flow": null,
            "width": null,
            "min_width": null,
            "border": null,
            "align_items": null,
            "bottom": null,
            "_model_module": "@jupyter-widgets/base",
            "top": null,
            "grid_column": null,
            "overflow_y": null,
            "overflow_x": null,
            "grid_auto_flow": null,
            "grid_area": null,
            "grid_template_columns": null,
            "flex": null,
            "_model_name": "LayoutModel",
            "justify_items": null,
            "grid_row": null,
            "max_height": null,
            "align_content": null,
            "visibility": null,
            "align_self": null,
            "height": null,
            "min_height": null,
            "padding": null,
            "grid_auto_rows": null,
            "grid_gap": null,
            "max_width": null,
            "order": null,
            "_view_module_version": "1.2.0",
            "grid_template_areas": null,
            "object_position": null,
            "object_fit": null,
            "grid_auto_columns": null,
            "margin": null,
            "display": null,
            "left": null
          }
        },
        "0b572072c11540a5a00627d4a23a7be0": {
          "model_module": "@jupyter-widgets/controls",
          "model_name": "DescriptionStyleModel",
          "model_module_version": "1.5.0",
          "state": {
            "_view_name": "StyleView",
            "_model_name": "DescriptionStyleModel",
            "description_width": "",
            "_view_module": "@jupyter-widgets/base",
            "_model_module_version": "1.5.0",
            "_view_count": null,
            "_view_module_version": "1.2.0",
            "_model_module": "@jupyter-widgets/controls"
          }
        },
        "9d4a819eabc34ca9a6d74586f35684ca": {
          "model_module": "@jupyter-widgets/base",
          "model_name": "LayoutModel",
          "model_module_version": "1.2.0",
          "state": {
            "_view_name": "LayoutView",
            "grid_template_rows": null,
            "right": null,
            "justify_content": null,
            "_view_module": "@jupyter-widgets/base",
            "overflow": null,
            "_model_module_version": "1.2.0",
            "_view_count": null,
            "flex_flow": null,
            "width": null,
            "min_width": null,
            "border": null,
            "align_items": null,
            "bottom": null,
            "_model_module": "@jupyter-widgets/base",
            "top": null,
            "grid_column": null,
            "overflow_y": null,
            "overflow_x": null,
            "grid_auto_flow": null,
            "grid_area": null,
            "grid_template_columns": null,
            "flex": null,
            "_model_name": "LayoutModel",
            "justify_items": null,
            "grid_row": null,
            "max_height": null,
            "align_content": null,
            "visibility": null,
            "align_self": null,
            "height": null,
            "min_height": null,
            "padding": null,
            "grid_auto_rows": null,
            "grid_gap": null,
            "max_width": null,
            "order": null,
            "_view_module_version": "1.2.0",
            "grid_template_areas": null,
            "object_position": null,
            "object_fit": null,
            "grid_auto_columns": null,
            "margin": null,
            "display": null,
            "left": null
          }
        }
      }
    }
  },
  "cells": [
    {
      "cell_type": "markdown",
      "metadata": {
        "id": "view-in-github",
        "colab_type": "text"
      },
      "source": [
        "<a href=\"https://colab.research.google.com/github/soohyoen/artificial-intelligence/blob/main/Fine_tuning_BERT_for_sentiment_class_6.ipynb\" target=\"_parent\"><img src=\"https://colab.research.google.com/assets/colab-badge.svg\" alt=\"Open In Colab\"/></a>"
      ]
    },
    {
      "cell_type": "markdown",
      "metadata": {
        "id": "fmvdaK9ZErB5"
      },
      "source": [
        "# Fine-tuning BERT for sentiment analysis\n",
        "- author: Eu-Bin KIM\n",
        "- date: 6th of October 2021\n",
        "\n",
        "## Contents\n",
        "1. 학습데이터 확인\n",
        "2. 보조함수 확인\n",
        "3. SenitmentClassifier 확인\n",
        "4. Analyser 확인\n",
        "5. 학습 과정 확인\n",
        "6. tests"
      ]
    },
    {
      "cell_type": "markdown",
      "metadata": {
        "id": "s3ZkpOAkDzns"
      },
      "source": [
        "## 학습 데이터"
      ]
    },
    {
      "cell_type": "code",
      "metadata": {
        "colab": {
          "base_uri": "https://localhost:8080/"
        },
        "id": "AhBNzfSqDp6L",
        "outputId": "2c679351-2671-4f2c-cf86-59e366a371c3"
      },
      "source": [
        "!pip3 install torch\n",
        "!pip3 install transformers\n",
        "from typing import List, Tuple\n",
        "from transformers import BertTokenizer, BertModel\n",
        "import torch\n",
        "from torch.nn import functional as F\n",
        "\n",
        "\n",
        "DATA: List[Tuple[str, int]] = [\n",
        "    # 긍정적인 문장 - 1\n",
        "    (\"도움이 되었으면\", 1),\n",
        "    # 병국님\n",
        "    (\"오늘도 수고했어\", 1),\n",
        "    # 영성님\n",
        "    (\"너는 할 수 있어\", 1),\n",
        "    # 정무님\n",
        "    (\"오늘 내 주식이 올랐다\", 1),\n",
        "    # 우철님\n",
        "    (\"오늘 날씨가 좋다\", 1),\n",
        "    # 유빈님\n",
        "    (\"난 너를 좋아해\", 1),\n",
        "    # 다운님\n",
        "    (\"지금 정말 잘하고 있어\", 1),\n",
        "    # 민종님\n",
        "    (\"지금처럼만 하면 잘될거야\", 1),\n",
        "    (\"사랑해\", 1),\n",
        "    (\"저희 허락없이 아프지 마세요\", 1),\n",
        "    (\"오늘 점심 맛있다\", 1),\n",
        "    (\"오늘 너무 예쁘다\", 1),\n",
        "    # 다운님\n",
        "    (\"곧 주말이야\", 1),\n",
        "    # 재용님\n",
        "    (\"오늘 주식이 올랐어\", 1),\n",
        "    # 병운님\n",
        "    (\"우리에게 빛나는 미래가 있어\", 1),\n",
        "    # 재용님\n",
        "    (\"너는 참 잘생겼어\", 1),\n",
        "    # 윤서님\n",
        "    (\"콩나물 무침은 맛있어\", 1),\n",
        "    # 정원님\n",
        "    (\"강사님 보고 싶어요\", 1),\n",
        "    # 정원님\n",
        "    (\"오늘 참 멋있었어\", 1),\n",
        "    # 예은님\n",
        "    (\"맛있는게 먹고싶다\", 1),\n",
        "    # 민성님\n",
        "    (\"로또 당첨됐어\", 1),\n",
        "    # 민성님\n",
        "    (\"이 음식은 맛이 없을수가 없어\", 1),\n",
        "    # 경서님\n",
        "    (\"오늘도 좋은 하루보내요\", 1),\n",
        "    # 성민님\n",
        "    (\"내일 시험 안 본대\", 1),\n",
        "    # --- 부정적인 문장 - 레이블 = 0\n",
        "    (\"난 너를 싫어해\", 0),\n",
        "    # 병국님\n",
        "    (\"넌 잘하는게 뭐냐?\", 0),\n",
        "    # 선희님\n",
        "    (\"너 때문에 다 망쳤어\", 0),\n",
        "    # 정무님\n",
        "    (\"오늘 피곤하다\", 0),\n",
        "    # 유빈님\n",
        "    (\"난 삼성을 싫어해\", 0),\n",
        "    (\"진짜 가지가지 한다\", 0),\n",
        "    (\"꺼져\", 0),\n",
        "    (\"그렇게 살아서 뭘하겠니\", 0),\n",
        "    # 재용님 - 주식이 파란불이다?\n",
        "    (\"오늘 주식이 파란불이야\", 0),\n",
        "    # 지현님\n",
        "    (\"나 오늘 예민해\", 0),\n",
        "    (\"주식이 떨어졌다\", 0),\n",
        "    (\"콩나물 다시는 안먹어\", 0),\n",
        "    (\"코인 시즌 끝났다\", 0),\n",
        "    (\"배고파 죽을 것 같아\", 0),\n",
        "    (\"한강 몇도냐\", 0),\n",
        "    (\"집가고 싶다\", 0),\n",
        "    (\"내 미래가 흐리다\", 0), \n",
        "    (\"나 보기가 역겨워\", 0),  # 긍정적인 확률이 0\n",
        "    # 진환님\n",
        "    (\"나는 너가 싫어\", 0),\n",
        "    (\"잘도 그러겠다\", 0),\n",
        "    (\"너는 어렵다\", 0),\n",
        "    # (\"자연어처리는\", 0)\n",
        "]"
      ],
      "execution_count": null,
      "outputs": [
        {
          "output_type": "stream",
          "name": "stdout",
          "text": [
            "Requirement already satisfied: torch in /usr/local/lib/python3.7/dist-packages (1.9.0+cu102)\n",
            "Requirement already satisfied: typing-extensions in /usr/local/lib/python3.7/dist-packages (from torch) (3.7.4.3)\n",
            "Requirement already satisfied: transformers in /usr/local/lib/python3.7/dist-packages (4.11.3)\n",
            "Requirement already satisfied: importlib-metadata in /usr/local/lib/python3.7/dist-packages (from transformers) (4.8.1)\n",
            "Requirement already satisfied: packaging>=20.0 in /usr/local/lib/python3.7/dist-packages (from transformers) (21.0)\n",
            "Requirement already satisfied: sacremoses in /usr/local/lib/python3.7/dist-packages (from transformers) (0.0.46)\n",
            "Requirement already satisfied: numpy>=1.17 in /usr/local/lib/python3.7/dist-packages (from transformers) (1.19.5)\n",
            "Requirement already satisfied: huggingface-hub>=0.0.17 in /usr/local/lib/python3.7/dist-packages (from transformers) (0.0.19)\n",
            "Requirement already satisfied: tqdm>=4.27 in /usr/local/lib/python3.7/dist-packages (from transformers) (4.62.3)\n",
            "Requirement already satisfied: tokenizers<0.11,>=0.10.1 in /usr/local/lib/python3.7/dist-packages (from transformers) (0.10.3)\n",
            "Requirement already satisfied: filelock in /usr/local/lib/python3.7/dist-packages (from transformers) (3.2.0)\n",
            "Requirement already satisfied: regex!=2019.12.17 in /usr/local/lib/python3.7/dist-packages (from transformers) (2019.12.20)\n",
            "Requirement already satisfied: requests in /usr/local/lib/python3.7/dist-packages (from transformers) (2.23.0)\n",
            "Requirement already satisfied: pyyaml>=5.1 in /usr/local/lib/python3.7/dist-packages (from transformers) (5.4.1)\n",
            "Requirement already satisfied: typing-extensions in /usr/local/lib/python3.7/dist-packages (from huggingface-hub>=0.0.17->transformers) (3.7.4.3)\n",
            "Requirement already satisfied: pyparsing>=2.0.2 in /usr/local/lib/python3.7/dist-packages (from packaging>=20.0->transformers) (2.4.7)\n",
            "Requirement already satisfied: zipp>=0.5 in /usr/local/lib/python3.7/dist-packages (from importlib-metadata->transformers) (3.6.0)\n",
            "Requirement already satisfied: chardet<4,>=3.0.2 in /usr/local/lib/python3.7/dist-packages (from requests->transformers) (3.0.4)\n",
            "Requirement already satisfied: idna<3,>=2.5 in /usr/local/lib/python3.7/dist-packages (from requests->transformers) (2.10)\n",
            "Requirement already satisfied: certifi>=2017.4.17 in /usr/local/lib/python3.7/dist-packages (from requests->transformers) (2021.5.30)\n",
            "Requirement already satisfied: urllib3!=1.25.0,!=1.25.1,<1.26,>=1.21.1 in /usr/local/lib/python3.7/dist-packages (from requests->transformers) (1.24.3)\n",
            "Requirement already satisfied: six in /usr/local/lib/python3.7/dist-packages (from sacremoses->transformers) (1.15.0)\n",
            "Requirement already satisfied: joblib in /usr/local/lib/python3.7/dist-packages (from sacremoses->transformers) (1.0.1)\n",
            "Requirement already satisfied: click in /usr/local/lib/python3.7/dist-packages (from sacremoses->transformers) (7.1.2)\n"
          ]
        }
      ]
    },
    {
      "cell_type": "markdown",
      "metadata": {
        "id": "WDzG5uZoEC7H"
      },
      "source": [
        "## 보조함수"
      ]
    },
    {
      "cell_type": "code",
      "metadata": {
        "id": "GVHesihFECED"
      },
      "source": [
        "# cuda를 사용할 수 있는지를 체크, 사용가능하다면 cuda로 설정된 device를 출력.\n",
        "def load_device() -> torch.device:\n",
        "    device = torch.device(\"cuda\" if torch.cuda.is_available() else \"cpu\")\n",
        "    return device\n",
        "\n",
        "\n",
        "# 텐서를 구축하는 부분 - X\n",
        "def build_X(sents: List[str], tokenizer: BertTokenizer, device: torch.device) -> torch.Tensor:\n",
        "    \"\"\"\n",
        "    return: X (N, 3, L).  X[:, 0] -> input_ids / X[:, 1] -> token_type_ids / X[:, 2] -> attention_mask\n",
        "    \"\"\"\n",
        "    encodings = tokenizer(text=sents,\n",
        "                          # cls, sep 등의 토큰을 자동으로 추가\n",
        "                          add_special_tokens=True,\n",
        "                          # pytorch tensor로 출력\n",
        "                          return_tensors='pt',\n",
        "                          truncation=True,\n",
        "                          padding=True)\n",
        "    # input_ids: 각 토큰의 정수 인코딩의 나열\n",
        "    # token_type_ids: 첫번째 문장 = 0, 두번재 문장=1의 나열\n",
        "    # attention_mask: 어텐션값을 계산 = 1, 어텐션값을 계산 x = 0의 나열\n",
        "    # 더 자세한 내용은 다음의 노트 참조:\n",
        "    # BertTokenizer의 출력값에 대한 설명: https://www.notion.so/BERT-Why-what-and-how-d888343d82164e62a762cf9aa1186990#39064ae97c9a410980e4bab30ae0b610\n",
        "    # 각 정수인코딩이 어떻게 사용되는가?: https://www.notion.so/BERT-Why-what-and-how-d888343d82164e62a762cf9aa1186990#ffde9fecdf9f4b6c9afb745d280769be\n",
        "    return torch.stack([\n",
        "        encodings['input_ids'],\n",
        "        encodings['token_type_ids'],\n",
        "        encodings['attention_mask']\n",
        "    ], dim=1).to(device)\n",
        "\n",
        "# 텐서를 구축하는 부분 - y\n",
        "def build_y(labels: List[int], device: torch.device) -> torch.Tensor:\n",
        "    return torch.FloatTensor(labels).unsqueeze(-1).to(device)\n",
        "\n"
      ],
      "execution_count": null,
      "outputs": []
    },
    {
      "cell_type": "markdown",
      "metadata": {
        "id": "sVxLbWJPELzE"
      },
      "source": [
        "## Sentiment Classifier\n",
        "![image](https://user-images.githubusercontent.com/56193069/136149922-6aca8615-7f1f-4cc6-80b8-8ab185230e11.png)\n"
      ]
    },
    {
      "cell_type": "code",
      "metadata": {
        "id": "5FcF2cnDEKOb"
      },
      "source": [
        "class SentimentClassifier(torch.nn.Module):\n",
        "    def __init__(self, bert: BertModel, device: torch.device):\n",
        "        super().__init__()\n",
        "        # --- define the layers to optmise --- #\n",
        "        # hyper parameters\n",
        "        self.H = bert.config.hidden_size\n",
        "        # TODO 1\n",
        "        self.bert = bert  # 사전학습된 버트도 최종 신경망의 일부분으로 정의.\n",
        "        # 학습해야하는 가중치에는 무엇이 있는지 - 이걸 먼저 파악하고 정의 해야합니다.\n",
        "        self.W_hy = torch.nn.Linear(self.H, 1)\n",
        "        self.to(device)\n",
        "\n",
        "    def forward(self, X: torch.Tensor) -> torch.Tensor:\n",
        "        \"\"\"\n",
        "        :param X: (N, 3, L)\n",
        "        :return: H_all (N, L, H)\n",
        "        \"\"\"\n",
        "        input_ids = X[:, 0]\n",
        "        token_type_ids = X[:, 1]\n",
        "        attention_mask = X[:, 2]\n",
        "        # --- bert의 맥락이 반영된 히든벡터 출력 --- # \n",
        "        H_all = self.bert(input_ids, token_type_ids, attention_mask)[0]\n",
        "        return H_all\n",
        "\n",
        "    def predict(self, X: torch.Tensor) -> torch.Tensor:\n",
        "        \"\"\"\n",
        "        :param X: (N, 3, L)\n",
        "        :return: (N, 1)\n",
        "        \"\"\"\n",
        "        # --- 긍정/부정 확률을 N개의 데이터에 대하여 예측 --- #\n",
        "        # TODO 2\n",
        "        H_all = self.forward(X)  # (N, 3, L) -> (N, L, H)\n",
        "        # N개의 데이터가 긍정적일 확률을 출력하기\n",
        "        H_cls = H_all[: , 0]  # (N, L, H) -> (N, H). list slicing.\n",
        "        y_hat = self.W_hy(H_cls)  # (N, H) * (?=H, ?=1) -> (N, 1). matrix multiplication with W_hy\n",
        "        y_hat_norm = torch.sigmoid(y_hat)  # (N, 1) -> (N, 1); [0-1]. torch.sigmoid() \n",
        "        return y_hat_norm\n",
        "\n",
        "    def training_step(self, X: torch.Tensor, y: torch.Tensor) -> torch.Tensor:\n",
        "        \"\"\"\n",
        "        : param X: (N, 3, L)\n",
        "        : y: (N, 1)\n",
        "        :return: loss (1,)\n",
        "        \"\"\"\n",
        "        # --- y, y_hat 사이의 로스를 계산해서 출력 --- #\n",
        "        # TODO 3\n",
        "        y_hat = self.predict(X)  # (N, 3, L) -> (N, 1)\n",
        "        # N개의 데이터의 로스를 계산하기.\n",
        "        loss = F.binary_cross_entropy(y_hat, y)  # (N, 1), (N, 1) -> (N, 1). F.binary_cross_entropy\n",
        "        loss_sum = loss.sum()  # (N, 1) -> (1,). Tensor.sum()\n",
        "        return loss_sum"
      ],
      "execution_count": null,
      "outputs": []
    },
    {
      "cell_type": "markdown",
      "metadata": {
        "id": "0VjKi7ysEWx0"
      },
      "source": [
        "## Analyser"
      ]
    },
    {
      "cell_type": "code",
      "metadata": {
        "id": "L5HxmeDoESAL"
      },
      "source": [
        "\n",
        "class Analyser:\n",
        "    \"\"\"\n",
        "    BERT 기반 감성분석기.\n",
        "    \"\"\"\n",
        "    def __init__(self, classifier: SentimentClassifier, tokenizer: BertTokenizer, device: torch.device):\n",
        "        self.classifier = classifier\n",
        "        self.tokenizer = tokenizer\n",
        "        self.device = device\n",
        "\n",
        "    def __call__(self, text: str) -> float:\n",
        "        X = build_X(sents=[text], tokenizer=self.tokenizer, device=self.device)\n",
        "        y_hat = self.classifier.predict(X)\n",
        "        return y_hat.item()\n"
      ],
      "execution_count": null,
      "outputs": []
    },
    {
      "cell_type": "markdown",
      "metadata": {
        "id": "ClF317geEemc"
      },
      "source": [
        "## Training"
      ]
    },
    {
      "cell_type": "code",
      "metadata": {
        "colab": {
          "base_uri": "https://localhost:8080/",
          "height": 829,
          "referenced_widgets": [
            "58b0dd181cd3460196ac110a603df64a",
            "3fe2d438db78433ab76f784f492a6416",
            "bbdf7075d22a45908a117b68b6fa6e8d",
            "e0434d89bc6541eebcb8482fb917f876",
            "6ef2abe0773d4f3f9643a6eebb9ed557",
            "b9ef28c8814f406e8a2405f6b0d72072",
            "7f07ff4795134487a00e2cc547374a21",
            "05f765216bb74e7783082d3cc146e46c",
            "c3bd5b515e49489d9d8f6de3a65bdd10",
            "7bd2f666aee245e6864e678fbb546e30",
            "b2b7c87169c34b2db896d549300ac666",
            "7b36e842606a4db09c23938dfe83f5aa",
            "9dfecdbdabc14aa8a593073f389e1d99",
            "58785674a523456a8333678f7b3afbb5",
            "d79cd401f88f4133ab2850533e3748fc",
            "678105121b03484d9fa63cb8ef5ec3ec",
            "376ca469c24d4899b20003cef9f9686d",
            "fbf498348f454e88a1da5a406e7683e2",
            "3558017a276345bfb92b922c3e061a65",
            "d467d561e4f74718a04de67213c0c92a",
            "0b572072c11540a5a00627d4a23a7be0",
            "9d4a819eabc34ca9a6d74586f35684ca",
            "cb8fddf84ab449beac48d5575a76d52c",
            "1c50c8ec10d045379081b7640372585b"
          ]
        },
        "id": "yWU5HmE9LoLy",
        "outputId": "ff62fe04-c119-4f23-a213-bfae8f64d6a9"
      },
      "source": [
        "# 사전학습된 버트 모델을 로드\n",
        "tokenizer = BertTokenizer.from_pretrained('beomi/kcbert-base')\n",
        "bert = BertModel.from_pretrained('beomi/kcbert-base')\n",
        "\n",
        "# --- have a look at the config --- #\n",
        "print(bert.config)\n",
        "print(bert.config.hidden_size)"
      ],
      "execution_count": null,
      "outputs": [
        {
          "output_type": "display_data",
          "data": {
            "application/vnd.jupyter.widget-view+json": {
              "model_id": "58b0dd181cd3460196ac110a603df64a",
              "version_minor": 0,
              "version_major": 2
            },
            "text/plain": [
              "Downloading:   0%|          | 0.00/244k [00:00<?, ?B/s]"
            ]
          },
          "metadata": {}
        },
        {
          "output_type": "display_data",
          "data": {
            "application/vnd.jupyter.widget-view+json": {
              "model_id": "7b36e842606a4db09c23938dfe83f5aa",
              "version_minor": 0,
              "version_major": 2
            },
            "text/plain": [
              "Downloading:   0%|          | 0.00/49.0 [00:00<?, ?B/s]"
            ]
          },
          "metadata": {}
        },
        {
          "output_type": "display_data",
          "data": {
            "application/vnd.jupyter.widget-view+json": {
              "model_id": "cb8fddf84ab449beac48d5575a76d52c",
              "version_minor": 0,
              "version_major": 2
            },
            "text/plain": [
              "Downloading:   0%|          | 0.00/619 [00:00<?, ?B/s]"
            ]
          },
          "metadata": {}
        },
        {
          "output_type": "display_data",
          "data": {
            "application/vnd.jupyter.widget-view+json": {
              "model_id": "1c50c8ec10d045379081b7640372585b",
              "version_minor": 0,
              "version_major": 2
            },
            "text/plain": [
              "Downloading:   0%|          | 0.00/418M [00:00<?, ?B/s]"
            ]
          },
          "metadata": {}
        },
        {
          "output_type": "stream",
          "name": "stderr",
          "text": [
            "Some weights of the model checkpoint at beomi/kcbert-base were not used when initializing BertModel: ['cls.predictions.bias', 'cls.predictions.decoder.weight', 'cls.seq_relationship.bias', 'cls.seq_relationship.weight', 'cls.predictions.transform.dense.bias', 'cls.predictions.decoder.bias', 'cls.predictions.transform.LayerNorm.bias', 'cls.predictions.transform.LayerNorm.weight', 'cls.predictions.transform.dense.weight']\n",
            "- This IS expected if you are initializing BertModel from the checkpoint of a model trained on another task or with another architecture (e.g. initializing a BertForSequenceClassification model from a BertForPreTraining model).\n",
            "- This IS NOT expected if you are initializing BertModel from the checkpoint of a model that you expect to be exactly identical (initializing a BertForSequenceClassification model from a BertForSequenceClassification model).\n"
          ]
        },
        {
          "output_type": "stream",
          "name": "stdout",
          "text": [
            "BertConfig {\n",
            "  \"_name_or_path\": \"beomi/kcbert-base\",\n",
            "  \"architectures\": [\n",
            "    \"BertForMaskedLM\"\n",
            "  ],\n",
            "  \"attention_probs_dropout_prob\": 0.1,\n",
            "  \"classifier_dropout\": null,\n",
            "  \"directionality\": \"bidi\",\n",
            "  \"hidden_act\": \"gelu\",\n",
            "  \"hidden_dropout_prob\": 0.1,\n",
            "  \"hidden_size\": 768,\n",
            "  \"initializer_range\": 0.02,\n",
            "  \"intermediate_size\": 3072,\n",
            "  \"layer_norm_eps\": 1e-12,\n",
            "  \"max_position_embeddings\": 300,\n",
            "  \"model_type\": \"bert\",\n",
            "  \"num_attention_heads\": 12,\n",
            "  \"num_hidden_layers\": 12,\n",
            "  \"pad_token_id\": 0,\n",
            "  \"pooler_fc_size\": 768,\n",
            "  \"pooler_num_attention_heads\": 12,\n",
            "  \"pooler_num_fc_layers\": 3,\n",
            "  \"pooler_size_per_head\": 128,\n",
            "  \"pooler_type\": \"first_token_transform\",\n",
            "  \"position_embedding_type\": \"absolute\",\n",
            "  \"transformers_version\": \"4.11.3\",\n",
            "  \"type_vocab_size\": 2,\n",
            "  \"use_cache\": true,\n",
            "  \"vocab_size\": 30000\n",
            "}\n",
            "\n",
            "768\n"
          ]
        }
      ]
    },
    {
      "cell_type": "code",
      "metadata": {
        "id": "HCLYpS-vEZ7_",
        "colab": {
          "base_uri": "https://localhost:8080/"
        },
        "outputId": "8865409a-afa7-47b2-cfd2-f85ec7fbea5c"
      },
      "source": [
        "# --- hyper parameters --- #\n",
        "EPOCHS = 10\n",
        "LR = 0.0001\n",
        "\n",
        "\n",
        "device = load_device()\n",
        "print(device)  # gpu 사용가능한지 확인하기\n",
        "\n",
        "# --- build the dataset --- # \n",
        "sents = [sent for sent, _ in DATA]\n",
        "labels = [label for _, label in DATA]\n",
        "X = build_X(sents, tokenizer, device)\n",
        "y = build_y(labels, device)\n",
        "\n",
        "# --- instantiate the classifier --- #\n",
        "classifier = SentimentClassifier(bert, device)\n",
        "classifier.train() # 가중치 변경 허용\n",
        "# 최적화 알고리즘 선택\n",
        "optimizer = torch.optim.Adam(classifier.parameters(), lr=LR)\n",
        "\n",
        "# --- 학습시작 --- #\n",
        "for epoch in range(EPOCHS):\n",
        "    loss = classifier.training_step(X, y)\n",
        "    loss.backward()  # 오차 역전파\n",
        "    optimizer.step()  # 경사도 하강\n",
        "    optimizer.zero_grad()  # 기울기 축적방지\n",
        "    print(f\"epoch:{epoch}, loss:{loss.item()} \")\n"
      ],
      "execution_count": null,
      "outputs": [
        {
          "output_type": "stream",
          "name": "stdout",
          "text": [
            "cuda\n",
            "epoch:0, loss:0.41232842206954956 \n",
            "epoch:1, loss:0.004942582920193672 \n",
            "epoch:2, loss:0.0005476258229464293 \n",
            "epoch:3, loss:0.00017030214075930417 \n",
            "epoch:4, loss:0.00010694361117202789 \n",
            "epoch:5, loss:7.961970550240949e-05 \n",
            "epoch:6, loss:5.9162299294257537e-05 \n",
            "epoch:7, loss:5.358939233701676e-05 \n",
            "epoch:8, loss:4.316441118135117e-05 \n",
            "epoch:9, loss:4.42890559497755e-05 \n"
          ]
        }
      ]
    },
    {
      "cell_type": "markdown",
      "metadata": {
        "id": "EZpMLTnEEkXI"
      },
      "source": [
        "## Test"
      ]
    },
    {
      "cell_type": "code",
      "metadata": {
        "id": "AWgAlG0DOr4f"
      },
      "source": [
        "TESTS = [\n",
        "    \"나는 자연어처리가 좋아\",\n",
        "    \"나는 자연어처리가 싫어\",\n",
        "    \"나는 너가 좋다\",\n",
        "    \"너는 참 좋다\",\n",
        "    \"오늘 날씨가 흐리네\",\n",
        "    \"코로나19가 지긋지긋하다\" # 전이학습의 장점을 보여주는 데이터\n",
        "]"
      ],
      "execution_count": null,
      "outputs": []
    },
    {
      "cell_type": "code",
      "metadata": {
        "id": "ljuXOtXCEjbr",
        "colab": {
          "base_uri": "https://localhost:8080/"
        },
        "outputId": "9c37bd05-66dd-44d3-91f5-e35b339936f3"
      },
      "source": [
        "classifier.eval()  # 가중치 변경 불허\n",
        "analyser = Analyser(classifier, tokenizer, device)\n",
        "\n",
        "for sent in TESTS:\n",
        "    print(sent, \"->\", analyser(sent))"
      ],
      "execution_count": null,
      "outputs": [
        {
          "output_type": "stream",
          "name": "stdout",
          "text": [
            "나는 자연어처리가 좋아 -> 0.999990701675415\n",
            "나는 자연어처리가 싫어 -> 3.246697815484367e-05\n",
            "나는 너가 좋다 -> 0.9999692440032959\n",
            "너는 참 좋다 -> 0.9999889135360718\n",
            "오늘 날씨가 흐리네 -> 2.5797542548389174e-05\n",
            "코로나19가 지긋지긋하다 -> 3.483594991848804e-05\n"
          ]
        }
      ]
    },
    {
      "cell_type": "code",
      "metadata": {
        "id": "hQ4YSQFbS1P_"
      },
      "source": [
        ""
      ],
      "execution_count": null,
      "outputs": []
    }
  ]
}