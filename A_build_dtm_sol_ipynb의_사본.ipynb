{
  "nbformat": 4,
  "nbformat_minor": 0,
  "metadata": {
    "colab": {
      "name": "A_build_dtm_sol.ipynb의 사본",
      "provenance": [],
      "collapsed_sections": [],
      "include_colab_link": true
    },
    "kernelspec": {
      "name": "python3",
      "display_name": "Python 3"
    },
    "language_info": {
      "name": "python"
    }
  },
  "cells": [
    {
      "cell_type": "markdown",
      "metadata": {
        "id": "view-in-github",
        "colab_type": "text"
      },
      "source": [
        "<a href=\"https://colab.research.google.com/github/soohyoen/artificial-intelligence/blob/main/A_build_dtm_sol_ipynb%EC%9D%98_%EC%82%AC%EB%B3%B8.ipynb\" target=\"_parent\"><img src=\"https://colab.research.google.com/assets/colab-badge.svg\" alt=\"Open In Colab\"/></a>"
      ]
    },
    {
      "cell_type": "markdown",
      "metadata": {
        "id": "DUMLRJgd4oNk"
      },
      "source": [
        "# Building a Document-Term Matrix from scratch\n"
      ]
    },
    {
      "cell_type": "code",
      "metadata": {
        "colab": {
          "base_uri": "https://localhost:8080/"
        },
        "id": "8psD-b0p4pAw",
        "outputId": "39191ff1-b5e2-48f9-cf68-e7184b7ab801"
      },
      "source": [
        "# install & import the libraries needed\n",
        "!pip3 install pandas\n",
        "!pip3 install scikit-learn\n",
        "from typing import List\n",
        "import pandas as pd\n",
        "from sklearn.metrics.pairwise import cosine_similarity"
      ],
      "execution_count": null,
      "outputs": [
        {
          "output_type": "stream",
          "text": [
            "Requirement already satisfied: pandas in /usr/local/lib/python3.7/dist-packages (1.1.5)\n",
            "Requirement already satisfied: python-dateutil>=2.7.3 in /usr/local/lib/python3.7/dist-packages (from pandas) (2.8.1)\n",
            "Requirement already satisfied: numpy>=1.15.4 in /usr/local/lib/python3.7/dist-packages (from pandas) (1.19.5)\n",
            "Requirement already satisfied: pytz>=2017.2 in /usr/local/lib/python3.7/dist-packages (from pandas) (2018.9)\n",
            "Requirement already satisfied: six>=1.5 in /usr/local/lib/python3.7/dist-packages (from python-dateutil>=2.7.3->pandas) (1.15.0)\n",
            "Requirement already satisfied: scikit-learn in /usr/local/lib/python3.7/dist-packages (0.22.2.post1)\n",
            "Requirement already satisfied: joblib>=0.11 in /usr/local/lib/python3.7/dist-packages (from scikit-learn) (1.0.1)\n",
            "Requirement already satisfied: numpy>=1.11.0 in /usr/local/lib/python3.7/dist-packages (from scikit-learn) (1.19.5)\n",
            "Requirement already satisfied: scipy>=0.17.0 in /usr/local/lib/python3.7/dist-packages (from scikit-learn) (1.4.1)\n"
          ],
          "name": "stdout"
        }
      ]
    },
    {
      "cell_type": "code",
      "metadata": {
        "id": "GAlToICi4uFl"
      },
      "source": [
        "# A mini corpus to play with\n",
        "CORPUS = [\n",
        "    'this is the first document',\n",
        "    'this is the second document',\n",
        "    'and this is the third document',\n",
        "    'is this the first document'\n",
        "]"
      ],
      "execution_count": null,
      "outputs": []
    },
    {
      "cell_type": "code",
      "metadata": {
        "id": "WnFHsQCu4wD5"
      },
      "source": [
        "def tf(term: str, doc: str) -> int:\n",
        "    # typing을 하는 이유: 오류를 미연에 방지하기 위해서 (단, IDE를 사용하는 경우에만)\n",
        "    ### TODO 1 ### \n",
        "    # count the frequency of term in doc. hint: str.count()\n",
        "    tf = doc.count(term)\n",
        "    ##############\n",
        "    return tf"
      ],
      "execution_count": null,
      "outputs": []
    },
    {
      "cell_type": "code",
      "metadata": {
        "colab": {
          "base_uri": "https://localhost:8080/"
        },
        "id": "TUUzXC0QgdWi",
        "outputId": "144b7b80-d34d-46fb-97e3-0c109d3eb6a4"
      },
      "source": [
        "print(tf(\"a\", \"anarchy\"))"
      ],
      "execution_count": null,
      "outputs": [
        {
          "output_type": "stream",
          "text": [
            "2\n"
          ],
          "name": "stdout"
        }
      ]
    },
    {
      "cell_type": "code",
      "metadata": {
        "id": "jlijDYUF4x8T"
      },
      "source": [
        "def build_dtm(corpus: List[str]) -> pd.DataFrame:\n",
        "    ### TODO 2 ###\n",
        "    # build a vocabulary of the given corpus - use nested list comprehension, str.split(\" \"),  set,  and list\n",
        "    vocab: List[str] = []\n",
        "    words = [\n",
        "             word\n",
        "             for doc in corpus\n",
        "             for word in doc.split(\" \")\n",
        "    ]\n",
        "    vocab =list(set(words))\n",
        "    ##############)\n",
        "\n",
        "    ### TODO 3 ###\n",
        "    # populate a dtm - get use of the tf function\n",
        "    dtm: List[List[int]] = []\n",
        "    for doc in corpus:\n",
        "      row = list()\n",
        "      for term in vocab:\n",
        "        term_freq = tf(term, doc)\n",
        "        row.append(term_freq)\n",
        "      dtm.append(row)\n",
        "  \n",
        "    ##############\n",
        "    # return dtm as a pandas dataframe (for better visualization of the columns)\n",
        "    dtm = pd.DataFrame(data=dtm, columns=vocab)\n",
        "    return dtm"
      ],
      "execution_count": null,
      "outputs": []
    },
    {
      "cell_type": "code",
      "metadata": {
        "id": "jm8iVvKu40KT",
        "colab": {
          "base_uri": "https://localhost:8080/"
        },
        "outputId": "ca56a942-62fb-436a-be23-4943f5c28ab6"
      },
      "source": [
        " # build a dtm from the corpus, and have a look at it\n",
        "dtm = build_dtm(CORPUS)\n",
        "print(dtm)"
      ],
      "execution_count": null,
      "outputs": [
        {
          "output_type": "stream",
          "text": [
            "   first  and  this  document  third  second  the  is\n",
            "0      1    0     1         1      0       0    1   2\n",
            "1      0    0     1         1      0       1    1   2\n",
            "2      0    1     1         1      1       0    1   2\n",
            "3      1    0     1         1      0       0    1   2\n"
          ],
          "name": "stdout"
        }
      ]
    },
    {
      "cell_type": "markdown",
      "metadata": {
        "id": "6c5HsuPK44TJ"
      },
      "source": [
        "다음과 같은 결과가 나와야 합니다 (단어의 순서는 달라도 괜찮습니다):\n",
        "```\n",
        "   is  ?  first  and  document  this  the  second  third\n",
        "0   2  0      1    0         1     1    1       0      0\n",
        "1   2  0      0    0         1     1    1       1      0\n",
        "2   2  0      0    1         1     1    1       0      1\n",
        "3   2  1      1    0         1     1    1       0      0\n",
        "```\n",
        "(슬라이드에는 0또는 1로 카운트를 했지만, 튜토리얼에서는 그냥 카운트를 하겠습니다! (e.g. is가 두 개 포함되어 있다면 그냥 2로)"
      ]
    },
    {
      "cell_type": "code",
      "metadata": {
        "id": "k8W1mGQO454u",
        "colab": {
          "base_uri": "https://localhost:8080/"
        },
        "outputId": "22b548b1-a856-45d4-c51e-5c1593393b85"
      },
      "source": [
        "# this will print out the similarities of the documents to each other\n",
        "sim_matrix = cosine_similarity(dtm.to_numpy(), dtm.to_numpy())\n",
        "print(sim_matrix)"
      ],
      "execution_count": null,
      "outputs": [
        {
          "output_type": "stream",
          "text": [
            "[[1.         0.875      0.82495791 0.94280904]\n",
            " [0.875      1.         0.82495791 0.82495791]\n",
            " [0.82495791 0.82495791 1.         0.77777778]\n",
            " [0.94280904 0.82495791 0.77777778 1.        ]]\n"
          ],
          "name": "stdout"
        }
      ]
    },
    {
      "cell_type": "markdown",
      "metadata": {
        "id": "v5ox3YaN489-"
      },
      "source": [
        "다음과 같은 결과가 나와야 합니다:\n",
        "```\n",
        "[[1.         0.875      0.82495791 0.94280904]\n",
        " [0.875      1.         0.82495791 0.82495791]\n",
        " [0.82495791 0.82495791 1.         0.77777778]\n",
        " [0.94280904 0.82495791 0.77777778 1.        ]]\n",
        "```\n",
        "d\n",
        "## **TODO 4**: 마지막으로, 다음의 질문에 답해주세요.\n",
        "> 위 `sim_matrix`를 보고 `dtm`의 어떤 문제를 발견할 수 있나요? (힌트: `CORPUS`에 있는 문장의 의미는 모두 동일한가요?)\n",
        "어순을 고려하지 않는다: BoW표현의 문제점."
      ]
    },
    {
      "cell_type": "code",
      "metadata": {
        "id": "35LpccZV49Qj"
      },
      "source": [
        ""
      ],
      "execution_count": null,
      "outputs": []
    }
  ]
}