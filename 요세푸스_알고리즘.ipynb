{
  "nbformat": 4,
  "nbformat_minor": 0,
  "metadata": {
    "colab": {
      "name": "요세푸스 알고리즘.ipynb",
      "provenance": [],
      "collapsed_sections": [],
      "authorship_tag": "ABX9TyM1MLULNWtaQ1imt19LM7ib",
      "include_colab_link": true
    },
    "kernelspec": {
      "name": "python3",
      "display_name": "Python 3"
    },
    "language_info": {
      "name": "python"
    }
  },
  "cells": [
    {
      "cell_type": "markdown",
      "metadata": {
        "id": "view-in-github",
        "colab_type": "text"
      },
      "source": [
        "<a href=\"https://colab.research.google.com/github/soohyoen/artificial-intelligence/blob/main/%EC%9A%94%EC%84%B8%ED%91%B8%EC%8A%A4_%EC%95%8C%EA%B3%A0%EB%A6%AC%EC%A6%98.ipynb\" target=\"_parent\"><img src=\"https://colab.research.google.com/assets/colab-badge.svg\" alt=\"Open In Colab\"/></a>"
      ]
    },
    {
      "cell_type": "code",
      "metadata": {
        "colab": {
          "base_uri": "https://localhost:8080/"
        },
        "id": "pag2DHhvTpJe",
        "outputId": "6f0a5305-c3c4-4eb1-a0bd-5210c92fd6ad"
      },
      "source": [
        "N = int(input())\n",
        "M = int(input())\n",
        "lists = []\n",
        "\n",
        "for i in range(1,N+1):\n",
        "  lists.append(i)"
      ],
      "execution_count": null,
      "outputs": [
        {
          "name": "stdout",
          "output_type": "stream",
          "text": [
            "7\n",
            "3\n"
          ]
        }
      ]
    },
    {
      "cell_type": "code",
      "metadata": {
        "colab": {
          "base_uri": "https://localhost:8080/",
          "height": 134
        },
        "id": "S781yA_gT2SD",
        "outputId": "a0f3d73b-1f4c-4144-ae27-7a9b82034722"
      },
      "source": [
        "def yosepuse(N,M,lists):\n",
        "\n",
        "  new_list = []\n",
        "  M = M-1\n",
        "\n",
        "  while N ==0:\n",
        "    Z = M % N\n",
        "    new_index = lists[Z]\n",
        "    new_list.append(str(lists.pop(new_index))\n",
        "    N = N - 1 \n",
        "    M = M + M\n",
        "  print(new_list)"
      ],
      "execution_count": null,
      "outputs": [
        {
          "output_type": "error",
          "ename": "SyntaxError",
          "evalue": "ignored",
          "traceback": [
            "\u001b[0;36m  File \u001b[0;32m\"<ipython-input-17-9742d69e1a1c>\"\u001b[0;36m, line \u001b[0;32m10\u001b[0m\n\u001b[0;31m    N = N - 1\u001b[0m\n\u001b[0m    ^\u001b[0m\n\u001b[0;31mSyntaxError\u001b[0m\u001b[0;31m:\u001b[0m invalid syntax\n"
          ]
        }
      ]
    },
    {
      "cell_type": "code",
      "metadata": {
        "colab": {
          "base_uri": "https://localhost:8080/"
        },
        "id": "Br5nSBLIfAbp",
        "outputId": "ccf21d5f-1d2b-42d6-890d-79e4d8d7b0a7"
      },
      "source": [
        "N,K = map(int,input().split())\n",
        "arr = [i for i in range(1,N+1)]    # 맨 처음에 원에 앉아있는 사람들\n",
        "\n",
        "answer = []   # 제거된 사람들을 넣을 배열\n",
        "num = 0  # 제거될 사람의 인덱스 번호\n",
        "\n",
        "for t in range(N):\n",
        "    num += K-1  \n",
        "    if num >= len(arr):   # 한바퀴를 돌고 그다음으로 돌아올때를 대비해 값을 나머지로 바꿈  \n",
        "        num = num%len(arr)\n",
        " \n",
        "    answer.append(str(arr.pop(num)))\n",
        "print(\"<\",\", \".join(answer)[:],\">\", sep='')"
      ],
      "execution_count": null,
      "outputs": [
        {
          "output_type": "stream",
          "name": "stdout",
          "text": [
            "7 3\n",
            "<3, 6, 2, 7, 5, 1, 4>\n"
          ]
        }
      ]
    },
    {
      "cell_type": "markdown",
      "metadata": {
        "id": "IkdCZKe2kTXD"
      },
      "source": [
        "강사님 풀이"
      ]
    },
    {
      "cell_type": "code",
      "metadata": {
        "colab": {
          "base_uri": "https://localhost:8080/"
        },
        "id": "64WHh-IBibCi",
        "outputId": "db7cbe77-d75d-4008-8936-9ac988bd3223"
      },
      "source": [
        "n,k = map(int, input().split())\n",
        "n_list = list(range(1,n+1))\n",
        "\n",
        "i = k-1\n",
        "\n",
        "print(\"<\",end=\"\")\n",
        "\n",
        "while len(n_list) > 1:\n",
        "  print(n_list.pop(i), end=\", \")\n",
        "  i = (i + k-1)% len(n_list)\n",
        "\n",
        "print(f\"{n_list[0]}>\")"
      ],
      "execution_count": 4,
      "outputs": [
        {
          "output_type": "stream",
          "name": "stdout",
          "text": [
            "7 3\n",
            "<3, 6, 2, 7, 5, 1, 4>\n"
          ]
        }
      ]
    },
    {
      "cell_type": "code",
      "metadata": {
        "id": "b5mcgSLaiwLn",
        "colab": {
          "base_uri": "https://localhost:8080/"
        },
        "outputId": "4cc74f06-3199-4e41-b880-f1b567d81c96"
      },
      "source": [
        "# deque방법\n",
        "from collections import deque\n",
        "n_list = deque(range(1,n+1))\n",
        "\n",
        "result_str = \"\"\n",
        "\n",
        "while len(n_list) >0:\n",
        "  n_list.rotate(-(k-1))\n",
        "  result_str += f\"{n_list.popleft()},\"\n",
        "\n",
        "print(\"<\"+result_str.rstrip(\", \")+\">\")"
      ],
      "execution_count": 6,
      "outputs": [
        {
          "output_type": "stream",
          "name": "stdout",
          "text": [
            "<3,6,2,7,5,1,4>\n"
          ]
        }
      ]
    },
    {
      "cell_type": "code",
      "metadata": {
        "id": "Q_VwI4Snl4I_"
      },
      "source": [
        "class LinkedList:\n",
        "    class Node:\n",
        "        def __init__(self, value, ref=None):\n",
        "            self.value = value\n",
        "            self.next_node = ref\n",
        "\n",
        "    def __init__(self):\n",
        "        self.size = 0\n",
        "        self.start_node = None\n",
        "        self.end_node = None\n",
        "\n",
        "    def empty(self):\n",
        "        return self.size == 0\n",
        "\n",
        "    def append(self, value):\n",
        "        new_node = self.Node(value)\n",
        "\n",
        "        if self.empty():\n",
        "            new_node.next_node = new_node\n",
        "            self.start_node = new_node\n",
        "        else:\n",
        "            new_node.next_node = self.end_node.next_node\n",
        "            self.end_node.next_node = new_node\n",
        "            \n",
        "        self.end_node = new_node\n",
        "        self.size += 1\n",
        "\n",
        "l_list = LinkedList()\n",
        "\n",
        "for i in range(1, n+1):\n",
        "    l_list.append(i)\n"
      ],
      "execution_count": null,
      "outputs": []
    }
  ]
}