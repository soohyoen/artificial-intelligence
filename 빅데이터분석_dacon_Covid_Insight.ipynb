{
  "nbformat": 4,
  "nbformat_minor": 0,
  "metadata": {
    "kernelspec": {
      "display_name": "Python 3",
      "language": "python",
      "name": "python3"
    },
    "language_info": {
      "codemirror_mode": {
        "name": "ipython",
        "version": 3
      },
      "file_extension": ".py",
      "mimetype": "text/x-python",
      "name": "python",
      "nbconvert_exporter": "python",
      "pygments_lexer": "ipython3",
      "version": "3.8.8"
    },
    "colab": {
      "name": "빅데이터분석_dacon_Covid_Insight.ipynb",
      "provenance": [],
      "collapsed_sections": [
        "NpXeIg1KeoTh",
        "Tc4Lv1lKeoTj",
        "VpUUNU5IeoTk",
        "ki5sfGNGeoTm"
      ],
      "include_colab_link": true
    }
  },
  "cells": [
    {
      "cell_type": "markdown",
      "metadata": {
        "id": "view-in-github",
        "colab_type": "text"
      },
      "source": [
        "<a href=\"https://colab.research.google.com/github/soohyoen/artificial-intelligence/blob/main/%EB%B9%85%EB%8D%B0%EC%9D%B4%ED%84%B0%EB%B6%84%EC%84%9D_dacon_Covid_Insight.ipynb\" target=\"_parent\"><img src=\"https://colab.research.google.com/assets/colab-badge.svg\" alt=\"Open In Colab\"/></a>"
      ]
    },
    {
      "cell_type": "markdown",
      "metadata": {
        "id": "CigEDqVyeoTR"
      },
      "source": [
        "## 코로나 : 시각화를 통한 인사이트 도출"
      ]
    },
    {
      "cell_type": "markdown",
      "metadata": {
        "id": "hEnEVHXLeoTT"
      },
      "source": [
        "**참고 팀**: https://visualisingkorea.com/"
      ]
    },
    {
      "cell_type": "markdown",
      "metadata": {
        "id": "JY9x7QTpeoTU"
      },
      "source": [
        "### 1. 준비."
      ]
    },
    {
      "cell_type": "code",
      "metadata": {
        "colab": {
          "base_uri": "https://localhost:8080/"
        },
        "id": "3oZ-awatyYkR",
        "outputId": "65ff65b7-bd27-4508-fc2d-56cfc9c0382c"
      },
      "source": [
        "!git clone https://github.com/soohyoen/artificial-intelligence.git"
      ],
      "execution_count": 40,
      "outputs": [
        {
          "output_type": "stream",
          "text": [
            "fatal: destination path 'artificial-intelligence' already exists and is not an empty directory.\n"
          ],
          "name": "stdout"
        }
      ]
    },
    {
      "cell_type": "code",
      "metadata": {
        "id": "cT91srU0eoTU"
      },
      "source": [
        "# 필요한 라이브러리를 가져온다.\n",
        "import pandas as pd\n",
        "import numpy as np\n",
        "import seaborn as sns\n",
        "import scipy.stats as st\n",
        "import matplotlib.pyplot as plt\n",
        "\n",
        "from sklearn.preprocessing import StandardScaler \n",
        "from sklearn.cluster import KMeans\n",
        "from sklearn.decomposition import PCA"
      ],
      "execution_count": 1,
      "outputs": []
    },
    {
      "cell_type": "code",
      "metadata": {
        "id": "o1OxXGnKeoTV"
      },
      "source": [
        "# Pandas 데이터 프레임에서 float을 소수점 2자리 까지 출력해 준다.\n",
        "#pd.set_option('display.float_format', lambda x: '%.2f' % x)\n",
        "pd.set_option(\"precision\",4)"
      ],
      "execution_count": 2,
      "outputs": []
    },
    {
      "cell_type": "code",
      "metadata": {
        "id": "qY9YJa9neoTV"
      },
      "source": [
        "# 성가신 경고를 꺼준다.\n",
        "import warnings  \n",
        "warnings.filterwarnings('ignore')"
      ],
      "execution_count": 3,
      "outputs": []
    },
    {
      "cell_type": "code",
      "metadata": {
        "id": "uRuPSzj8eoTW"
      },
      "source": [
        "# 환자정보 데이터를 불러온다.\n",
        "df1 = pd.read_csv(r'/content/PatientInfo.csv')"
      ],
      "execution_count": 5,
      "outputs": []
    },
    {
      "cell_type": "code",
      "metadata": {
        "colab": {
          "base_uri": "https://localhost:8080/",
          "height": 290
        },
        "id": "OGA3rfSUeoTX",
        "outputId": "04e979d7-5d91-4730-ae32-0a4a96949575"
      },
      "source": [
        "df1.head()"
      ],
      "execution_count": 6,
      "outputs": [
        {
          "output_type": "execute_result",
          "data": {
            "text/html": [
              "<div>\n",
              "<style scoped>\n",
              "    .dataframe tbody tr th:only-of-type {\n",
              "        vertical-align: middle;\n",
              "    }\n",
              "\n",
              "    .dataframe tbody tr th {\n",
              "        vertical-align: top;\n",
              "    }\n",
              "\n",
              "    .dataframe thead th {\n",
              "        text-align: right;\n",
              "    }\n",
              "</style>\n",
              "<table border=\"1\" class=\"dataframe\">\n",
              "  <thead>\n",
              "    <tr style=\"text-align: right;\">\n",
              "      <th></th>\n",
              "      <th>patient_id</th>\n",
              "      <th>global_num</th>\n",
              "      <th>sex</th>\n",
              "      <th>birth_year</th>\n",
              "      <th>age</th>\n",
              "      <th>country</th>\n",
              "      <th>province</th>\n",
              "      <th>city</th>\n",
              "      <th>disease</th>\n",
              "      <th>infection_case</th>\n",
              "      <th>infection_order</th>\n",
              "      <th>infected_by</th>\n",
              "      <th>contact_number</th>\n",
              "      <th>symptom_onset_date</th>\n",
              "      <th>confirmed_date</th>\n",
              "      <th>released_date</th>\n",
              "      <th>deceased_date</th>\n",
              "      <th>state</th>\n",
              "    </tr>\n",
              "  </thead>\n",
              "  <tbody>\n",
              "    <tr>\n",
              "      <th>0</th>\n",
              "      <td>1000000001</td>\n",
              "      <td>2.0</td>\n",
              "      <td>male</td>\n",
              "      <td>1964</td>\n",
              "      <td>50s</td>\n",
              "      <td>Korea</td>\n",
              "      <td>Seoul</td>\n",
              "      <td>Gangseo-gu</td>\n",
              "      <td>NaN</td>\n",
              "      <td>overseas inflow</td>\n",
              "      <td>1.0</td>\n",
              "      <td>NaN</td>\n",
              "      <td>75</td>\n",
              "      <td>2020-01-22</td>\n",
              "      <td>2020-01-23</td>\n",
              "      <td>2020-02-05</td>\n",
              "      <td>NaN</td>\n",
              "      <td>released</td>\n",
              "    </tr>\n",
              "    <tr>\n",
              "      <th>1</th>\n",
              "      <td>1000000002</td>\n",
              "      <td>5.0</td>\n",
              "      <td>male</td>\n",
              "      <td>1987</td>\n",
              "      <td>30s</td>\n",
              "      <td>Korea</td>\n",
              "      <td>Seoul</td>\n",
              "      <td>Jungnang-gu</td>\n",
              "      <td>NaN</td>\n",
              "      <td>overseas inflow</td>\n",
              "      <td>1.0</td>\n",
              "      <td>NaN</td>\n",
              "      <td>31</td>\n",
              "      <td>NaN</td>\n",
              "      <td>2020-01-30</td>\n",
              "      <td>2020-03-02</td>\n",
              "      <td>NaN</td>\n",
              "      <td>released</td>\n",
              "    </tr>\n",
              "    <tr>\n",
              "      <th>2</th>\n",
              "      <td>1000000003</td>\n",
              "      <td>6.0</td>\n",
              "      <td>male</td>\n",
              "      <td>1964</td>\n",
              "      <td>50s</td>\n",
              "      <td>Korea</td>\n",
              "      <td>Seoul</td>\n",
              "      <td>Jongno-gu</td>\n",
              "      <td>NaN</td>\n",
              "      <td>contact with patient</td>\n",
              "      <td>2.0</td>\n",
              "      <td>2002000001</td>\n",
              "      <td>17</td>\n",
              "      <td>NaN</td>\n",
              "      <td>2020-01-30</td>\n",
              "      <td>2020-02-19</td>\n",
              "      <td>NaN</td>\n",
              "      <td>released</td>\n",
              "    </tr>\n",
              "    <tr>\n",
              "      <th>3</th>\n",
              "      <td>1000000004</td>\n",
              "      <td>7.0</td>\n",
              "      <td>male</td>\n",
              "      <td>1991</td>\n",
              "      <td>20s</td>\n",
              "      <td>Korea</td>\n",
              "      <td>Seoul</td>\n",
              "      <td>Mapo-gu</td>\n",
              "      <td>NaN</td>\n",
              "      <td>overseas inflow</td>\n",
              "      <td>1.0</td>\n",
              "      <td>NaN</td>\n",
              "      <td>9</td>\n",
              "      <td>2020-01-26</td>\n",
              "      <td>2020-01-30</td>\n",
              "      <td>2020-02-15</td>\n",
              "      <td>NaN</td>\n",
              "      <td>released</td>\n",
              "    </tr>\n",
              "    <tr>\n",
              "      <th>4</th>\n",
              "      <td>1000000005</td>\n",
              "      <td>9.0</td>\n",
              "      <td>female</td>\n",
              "      <td>1992</td>\n",
              "      <td>20s</td>\n",
              "      <td>Korea</td>\n",
              "      <td>Seoul</td>\n",
              "      <td>Seongbuk-gu</td>\n",
              "      <td>NaN</td>\n",
              "      <td>contact with patient</td>\n",
              "      <td>2.0</td>\n",
              "      <td>1000000002</td>\n",
              "      <td>2</td>\n",
              "      <td>NaN</td>\n",
              "      <td>2020-01-31</td>\n",
              "      <td>2020-02-24</td>\n",
              "      <td>NaN</td>\n",
              "      <td>released</td>\n",
              "    </tr>\n",
              "  </tbody>\n",
              "</table>\n",
              "</div>"
            ],
            "text/plain": [
              "   patient_id  global_num     sex  ... released_date deceased_date     state\n",
              "0  1000000001         2.0    male  ...    2020-02-05           NaN  released\n",
              "1  1000000002         5.0    male  ...    2020-03-02           NaN  released\n",
              "2  1000000003         6.0    male  ...    2020-02-19           NaN  released\n",
              "3  1000000004         7.0    male  ...    2020-02-15           NaN  released\n",
              "4  1000000005         9.0  female  ...    2020-02-24           NaN  released\n",
              "\n",
              "[5 rows x 18 columns]"
            ]
          },
          "metadata": {
            "tags": []
          },
          "execution_count": 6
        }
      ]
    },
    {
      "cell_type": "code",
      "metadata": {
        "colab": {
          "base_uri": "https://localhost:8080/"
        },
        "id": "FKdWeUKxeoTY",
        "outputId": "2d3275c5-eb0f-4619-8516-6a77d21b6efb"
      },
      "source": [
        "# 컬럼의 자료형을 살펴본다.\n",
        "df1.info()"
      ],
      "execution_count": 7,
      "outputs": [
        {
          "output_type": "stream",
          "text": [
            "<class 'pandas.core.frame.DataFrame'>\n",
            "RangeIndex: 4004 entries, 0 to 4003\n",
            "Data columns (total 18 columns):\n",
            " #   Column              Non-Null Count  Dtype  \n",
            "---  ------              --------------  -----  \n",
            " 0   patient_id          4004 non-null   int64  \n",
            " 1   global_num          2806 non-null   float64\n",
            " 2   sex                 3674 non-null   object \n",
            " 3   birth_year          3267 non-null   object \n",
            " 4   age                 3525 non-null   object \n",
            " 5   country             4004 non-null   object \n",
            " 6   province            4004 non-null   object \n",
            " 7   city                3926 non-null   object \n",
            " 8   disease             18 non-null     object \n",
            " 9   infection_case      3211 non-null   object \n",
            " 10  infection_order     31 non-null     float64\n",
            " 11  infected_by         899 non-null    object \n",
            " 12  contact_number      680 non-null    object \n",
            " 13  symptom_onset_date  535 non-null    object \n",
            " 14  confirmed_date      4001 non-null   object \n",
            " 15  released_date       1508 non-null   object \n",
            " 16  deceased_date       65 non-null     object \n",
            " 17  state               4004 non-null   object \n",
            "dtypes: float64(2), int64(1), object(15)\n",
            "memory usage: 563.2+ KB\n"
          ],
          "name": "stdout"
        }
      ]
    },
    {
      "cell_type": "markdown",
      "metadata": {
        "id": "MLUSRkv6eoTZ"
      },
      "source": [
        "### 2. 기초적인 탐색."
      ]
    },
    {
      "cell_type": "code",
      "metadata": {
        "colab": {
          "base_uri": "https://localhost:8080/"
        },
        "id": "Fy6j7JLueoTZ",
        "outputId": "45ea7a0b-ffbd-4226-f548-1c4463f21348"
      },
      "source": [
        "# 중복된 환자 ID는 없어 보인다.\n",
        "print(\"데이터 행의 수 = {}\".format(df1.shape[0]))                  # 데이터 행의 수 = 4004\n",
        "print(\"고유한 환자 ID 수 = {}\".format(df1.patient_id.nunique()))   # 고유한 환자 ID 수 = 4004"
      ],
      "execution_count": 8,
      "outputs": [
        {
          "output_type": "stream",
          "text": [
            "데이터 행의 수 = 4004\n",
            "고유한 환자 ID 수 = 4004\n"
          ],
          "name": "stdout"
        }
      ]
    },
    {
      "cell_type": "code",
      "metadata": {
        "colab": {
          "base_uri": "https://localhost:8080/"
        },
        "id": "vNSf7J62eoTa",
        "outputId": "63836013-dabf-46eb-ebd7-655c2950d75e"
      },
      "source": [
        "# 결측치의 총 카운트. \n",
        "df1.isnull().sum().sum()"
      ],
      "execution_count": 10,
      "outputs": [
        {
          "output_type": "execute_result",
          "data": {
            "text/plain": [
              "27910"
            ]
          },
          "metadata": {
            "tags": []
          },
          "execution_count": 10
        }
      ]
    },
    {
      "cell_type": "code",
      "metadata": {
        "colab": {
          "base_uri": "https://localhost:8080/",
          "height": 692
        },
        "id": "bJgoRpCaeoTa",
        "outputId": "8dca411b-406f-448e-f67d-d1921dc4bf66"
      },
      "source": [
        "# 결측치를 시각화 해본다.\n",
        "plt.figure(figsize = (15,10))                                       # figsize=(가로, 세로) 크기.\n",
        "sns.heatmap(df1.isnull(), cmap='Blues', cbar=False)\n",
        "plt.show()"
      ],
      "execution_count": 16,
      "outputs": [
        {
          "output_type": "display_data",
          "data": {
            "image/png": "[encoded data removed]",
            "text/plain": [
              "<Figure size 1080x720 with 1 Axes>"
            ]
          },
          "metadata": {
            "tags": [],
            "needs_background": "light"
          }
        }
      ]
    },
    {
      "cell_type": "code",
      "metadata": {
        "colab": {
          "base_uri": "https://localhost:8080/"
        },
        "id": "LiRpSuMHeoTb",
        "outputId": "f5710058-5529-426a-aa9d-aedc6f317ca0"
      },
      "source": [
        "df1.age.unique()"
      ],
      "execution_count": 17,
      "outputs": [
        {
          "output_type": "execute_result",
          "data": {
            "text/plain": [
              "array(['50s', '30s', '20s', '60s', '80s', '70s', '40s', '10s', '90s',\n",
              "       '0s', nan, '30', '100s'], dtype=object)"
            ]
          },
          "metadata": {
            "tags": []
          },
          "execution_count": 17
        }
      ]
    },
    {
      "cell_type": "code",
      "metadata": {
        "colab": {
          "base_uri": "https://localhost:8080/",
          "height": 274
        },
        "id": "nXp9PaKReoTc",
        "outputId": "28bc6fda-7b1a-40ec-9323-49b72143e1dd"
      },
      "source": [
        "# 명목형 변수인 Age를 시각화 해본다. (연령 집계)\n",
        "df1.age = df1.age.str.replace('s','',regex=True)                      # 's' 제거.\n",
        "age_counts = df1.age.value_counts()                                   # 도수표.\n",
        "age_counts = age_counts.sort_values(ascending=False)                  # 크기가 큰 순서대로 sort\n",
        "age_counts.plot.bar(color='green', alpha=0.5)\n",
        "plt.show()"
      ],
      "execution_count": 21,
      "outputs": [
        {
          "output_type": "display_data",
          "data": {
            "image/png": "[encoded data removed]",
            "text/plain": [
              "<Figure size 432x288 with 1 Axes>"
            ]
          },
          "metadata": {
            "tags": [],
            "needs_background": "light"
          }
        }
      ]
    },
    {
      "cell_type": "code",
      "metadata": {
        "colab": {
          "base_uri": "https://localhost:8080/",
          "height": 290
        },
        "id": "iIyyymCseoTd",
        "outputId": "54eee42d-ea3e-41bb-c39f-b2902d1f2b9f"
      },
      "source": [
        "# 명목형 변수인 Sex를 시각화 해본다.(성별집계)\n",
        "sex_counts = df1.sex.value_counts()              \n",
        "sex_counts = sex_counts.sort_values(ascending=False)\n",
        "sex_counts.plot.bar(color='turquoise', alpha=0.7)\n",
        "plt.show()"
      ],
      "execution_count": 18,
      "outputs": [
        {
          "output_type": "display_data",
          "data": {
            "image/png": "[encoded data removed]",
            "text/plain": [
              "<Figure size 432x288 with 1 Axes>"
            ]
          },
          "metadata": {
            "tags": [],
            "needs_background": "light"
          }
        }
      ]
    },
    {
      "cell_type": "code",
      "metadata": {
        "colab": {
          "base_uri": "https://localhost:8080/",
          "height": 336
        },
        "id": "MyG-R8-DeoTd",
        "outputId": "728ad4f4-a923-4bf4-bfa8-2d8662067537"
      },
      "source": [
        "# 명목형 변수인 Country를 가지고 내국인 여부를 시각화 해본다.\n",
        "country_counts = df1.country.value_counts()                 # 내국인 = True.\n",
        "country_counts = country_counts.sort_values(ascending=False)\n",
        "country_counts.plot.bar(color='pink', alpha = 0.7)\n",
        "plt.show()  "
      ],
      "execution_count": 22,
      "outputs": [
        {
          "output_type": "display_data",
          "data": {
            "image/png": "[encoded data removed]",
            "text/plain": [
              "<Figure size 432x288 with 1 Axes>"
            ]
          },
          "metadata": {
            "tags": [],
            "needs_background": "light"
          }
        }
      ]
    },
    {
      "cell_type": "code",
      "metadata": {
        "colab": {
          "base_uri": "https://localhost:8080/",
          "height": 281
        },
        "id": "rCqMOzs8kQtZ",
        "outputId": "dc660cce-9c6b-42eb-854c-3069a3cd0069"
      },
      "source": [
        "# 한국인만 \n",
        "country_counts = (df1.country=='Korea').value_counts()                 # 내국인 = True.\n",
        "country_counts = country_counts.sort_values(ascending=False)\n",
        "country_counts.plot.bar(color='pink', alpha = 0.7)\n",
        "plt.show()"
      ],
      "execution_count": 23,
      "outputs": [
        {
          "output_type": "display_data",
          "data": {
            "image/png": "[encoded data removed]",
            "text/plain": [
              "<Figure size 432x288 with 1 Axes>"
            ]
          },
          "metadata": {
            "tags": [],
            "needs_background": "light"
          }
        }
      ]
    },
    {
      "cell_type": "code",
      "metadata": {
        "colab": {
          "base_uri": "https://localhost:8080/",
          "height": 288
        },
        "id": "mp7WVr6DeoTd",
        "outputId": "27be10ea-69b9-4719-e41f-c26e6f97117d"
      },
      "source": [
        "# 명목형 변수인 Age와 Sex를 조합하여 시각화 해본다.\n",
        "ct = pd.crosstab(df1.age, df1.sex)\n",
        "ct['total'] = ct.male + ct.female                      # total 컬럼.\n",
        "ct.sort_values(by=['total'], ascending=False)[['male','female']].plot.bar(stacked=True)   # total로 소팅. total은 시각화에서는 제외!\n",
        "plt.show()"
      ],
      "execution_count": 24,
      "outputs": [
        {
          "output_type": "display_data",
          "data": {
            "image/png": "[encoded data removed]",
            "text/plain": [
              "<Figure size 432x288 with 1 Axes>"
            ]
          },
          "metadata": {
            "tags": [],
            "needs_background": "light"
          }
        }
      ]
    },
    {
      "cell_type": "code",
      "metadata": {
        "colab": {
          "base_uri": "https://localhost:8080/",
          "height": 303
        },
        "id": "h6qh8WAEeoTe",
        "outputId": "88e28efb-e6ff-4f34-f425-f4ef7ba48224"
      },
      "source": [
        "# 명목형 변수인 State를 시각화 해본다.\n",
        "state_counts = df1.state.value_counts()              \n",
        "state_counts = state_counts.sort_values(ascending=False)\n",
        "state_counts.plot.bar(color='blue', alpha=0.5)\n",
        "plt.show()"
      ],
      "execution_count": 25,
      "outputs": [
        {
          "output_type": "display_data",
          "data": {
            "image/png": "[encoded data removed]",
            "text/plain": [
              "<Figure size 432x288 with 1 Axes>"
            ]
          },
          "metadata": {
            "tags": [],
            "needs_background": "light"
          }
        }
      ]
    },
    {
      "cell_type": "code",
      "metadata": {
        "colab": {
          "base_uri": "https://localhost:8080/",
          "height": 289
        },
        "id": "q7Uc5-eyeoTe",
        "outputId": "eb330d81-f67b-4547-94e1-580c5517d050"
      },
      "source": [
        "# Age별 사망비율.\n",
        "ct = pd.crosstab(df1.age, df1.state=='deceased')\n",
        "ct.columns = ['alive','deceased']\n",
        "ct['mortality'] = ct.deceased/(ct.alive + ct.deceased)\n",
        "ct.sort_values(by=['mortality'], ascending=False)[['mortality']].plot.bar(color='red', alpha=0.5)   # mortality로 소팅 및 시각화. (mortality로 sort)\n",
        "plt.show()"
      ],
      "execution_count": 26,
      "outputs": [
        {
          "output_type": "display_data",
          "data": {
            "image/png": "[encoded data removed]",
            "text/plain": [
              "<Figure size 432x288 with 1 Axes>"
            ]
          },
          "metadata": {
            "tags": [],
            "needs_background": "light"
          }
        }
      ]
    },
    {
      "cell_type": "code",
      "metadata": {
        "colab": {
          "base_uri": "https://localhost:8080/"
        },
        "id": "cckCvvrseoTe",
        "outputId": "d68083f2-b54b-4e91-9dad-04f65a0de59c"
      },
      "source": [
        "# Age와 사망여부 독립성 검정.\n",
        "stat, p_val, degFree, expected = st.chi2_contingency(ct[['alive','deceased']])    # 통계량, p-값, 자유도, 기대도수.\n",
        "print(\"p_value : {}\".format(np.round(p_val,3)))                                   # 독립이 아님!"
      ],
      "execution_count": 29,
      "outputs": [
        {
          "output_type": "stream",
          "text": [
            "p_value : 0.0\n"
          ],
          "name": "stdout"
        }
      ]
    },
    {
      "cell_type": "code",
      "metadata": {
        "colab": {
          "base_uri": "https://localhost:8080/",
          "height": 304
        },
        "id": "1B2zTER6eoTe",
        "outputId": "3f4f3bb2-a056-4328-a036-ad9edd493b3b"
      },
      "source": [
        "# Sex별 사망비율.\n",
        "ct = pd.crosstab(df1.sex, df1.state=='deceased')\n",
        "ct.columns = ['alive','deceased']\n",
        "ct['mortality'] = ct.deceased/(ct.alive + ct.deceased)\n",
        "ct.sort_values(by=['mortality'], ascending=False)[['mortality']].plot.bar(color='green', alpha=0.5)   # mortality로 소팅 및 시각화.\n",
        "plt.show()"
      ],
      "execution_count": 30,
      "outputs": [
        {
          "output_type": "display_data",
          "data": {
            "image/png": "[encoded data removed]",
            "text/plain": [
              "<Figure size 432x288 with 1 Axes>"
            ]
          },
          "metadata": {
            "tags": [],
            "needs_background": "light"
          }
        }
      ]
    },
    {
      "cell_type": "code",
      "metadata": {
        "colab": {
          "base_uri": "https://localhost:8080/"
        },
        "id": "b9VW6eMieoTe",
        "outputId": "15cf3553-c763-46db-db08-598a450ccaab"
      },
      "source": [
        "# Sex와 사망여부 독립성 검정.\n",
        "stat, p_val, degFree, expected = st.chi2_contingency(ct[['alive','deceased']])    # 통계량, p-값, 자유도, 기대도수.\n",
        "print(\"p_value : {}\".format(np.round(p_val,3)))                                   # 독립이 아님!"
      ],
      "execution_count": 31,
      "outputs": [
        {
          "output_type": "stream",
          "text": [
            "p_value : 0.002\n"
          ],
          "name": "stdout"
        }
      ]
    },
    {
      "cell_type": "code",
      "metadata": {
        "colab": {
          "base_uri": "https://localhost:8080/"
        },
        "id": "DBQWCS5EeoTf",
        "outputId": "2d444a47-221d-4fcc-a45e-e86fc0ba44a3"
      },
      "source": [
        "# 기저질환 (disease)는 결측치 아닌 정상값의 수가 절대적으로 부족해서 분석하기 어려움.\n",
        "df1.disease.count()"
      ],
      "execution_count": 32,
      "outputs": [
        {
          "output_type": "execute_result",
          "data": {
            "text/plain": [
              "18"
            ]
          },
          "metadata": {
            "tags": []
          },
          "execution_count": 32
        }
      ]
    },
    {
      "cell_type": "markdown",
      "metadata": {
        "id": "ncWmMuZ3eoTf"
      },
      "source": [
        "### 3. 감염 경로 유형 (Infection Case)"
      ]
    },
    {
      "cell_type": "code",
      "metadata": {
        "colab": {
          "base_uri": "https://localhost:8080/"
        },
        "id": "yBKlK95UeoTf",
        "outputId": "0035ce6b-433e-442d-fef9-d76eaeaa9d6c"
      },
      "source": [
        "# 감염 경로의 유형 출력.\n",
        "print(df1.infection_case.unique())"
      ],
      "execution_count": 33,
      "outputs": [
        {
          "output_type": "stream",
          "text": [
            "['overseas inflow' 'contact with patient' 'Seongdong-gu APT' 'etc'\n",
            " \"Eunpyeong St. Mary's Hospital\" 'Shincheonji Church' 'Dongan Church'\n",
            " 'Guro-gu Call Center' nan 'Itaewon Clubs' 'Samsung Medical Center'\n",
            " 'Coupang Logistics Center' 'Guri Collective Infection'\n",
            " 'KB Life Insurance' 'Yeongdeungpo Learning Institute' 'Onchun Church'\n",
            " 'Cheongdo Daenam Hospital' 'Suyeong-gu Kindergarten'\n",
            " 'Ministry of Oceans and Fisheries' 'gym facility in Cheonan'\n",
            " 'gym facility in Sejong' 'River of Grace Community Church'\n",
            " 'Gyeongsan Seorin Nursing Home' 'Gyeongsan Cham Joeun Community Center'\n",
            " 'Gyeongsan Jeil Silver Town' 'Bonghwa Pureun Nursing Home'\n",
            " 'Pilgrimage to Israel' 'Milal Shelter' 'Geochang Church'\n",
            " 'Changnyeong Coin Karaoke']\n"
          ],
          "name": "stdout"
        }
      ]
    },
    {
      "cell_type": "code",
      "metadata": {
        "colab": {
          "base_uri": "https://localhost:8080/"
        },
        "id": "G6RApmnteoTg",
        "outputId": "03bdb847-5453-4e5d-b641-e2afb082b158"
      },
      "source": [
        "# 감염 경로의 가지수 출력.\n",
        "print(df1.infection_case.nunique())"
      ],
      "execution_count": 34,
      "outputs": [
        {
          "output_type": "stream",
          "text": [
            "29\n"
          ],
          "name": "stdout"
        }
      ]
    },
    {
      "cell_type": "code",
      "metadata": {
        "colab": {
          "base_uri": "https://localhost:8080/",
          "height": 942
        },
        "id": "HLoN77zseoTg",
        "outputId": "f865bf78-bc8a-46a1-943a-8608a69d1a30"
      },
      "source": [
        "# 감염 경로별 환자수 집계하여 시각화 한다.\n",
        "res = df1.groupby(['infection_case'])['patient_id'].count()        # 결측치가 아닌 patient_id의 수 = 환자의 수.\n",
        "res = res.reset_index()                                           # Series => DataFrame. 이전의 Index가 이제는 새로운 컬럼!\n",
        "res.rename(columns = {'infection_case':'infection case', 'patient_id': 'count'}, inplace = True)     # 'patient_id' 컬럼명을 'count'로 변경.\n",
        "res = res.sort_values(by = 'count', ascending = False)            # 데이터 프레임 내림 차순으로 소팅.\n",
        "res"
      ],
      "execution_count": 35,
      "outputs": [
        {
          "output_type": "execute_result",
          "data": {
            "text/html": [
              "<div>\n",
              "<style scoped>\n",
              "    .dataframe tbody tr th:only-of-type {\n",
              "        vertical-align: middle;\n",
              "    }\n",
              "\n",
              "    .dataframe tbody tr th {\n",
              "        vertical-align: top;\n",
              "    }\n",
              "\n",
              "    .dataframe thead th {\n",
              "        text-align: right;\n",
              "    }\n",
              "</style>\n",
              "<table border=\"1\" class=\"dataframe\">\n",
              "  <thead>\n",
              "    <tr style=\"text-align: right;\">\n",
              "      <th></th>\n",
              "      <th>infection case</th>\n",
              "      <th>count</th>\n",
              "    </tr>\n",
              "  </thead>\n",
              "  <tbody>\n",
              "    <tr>\n",
              "      <th>24</th>\n",
              "      <td>contact with patient</td>\n",
              "      <td>1182</td>\n",
              "    </tr>\n",
              "    <tr>\n",
              "      <th>28</th>\n",
              "      <td>overseas inflow</td>\n",
              "      <td>703</td>\n",
              "    </tr>\n",
              "    <tr>\n",
              "      <th>25</th>\n",
              "      <td>etc</td>\n",
              "      <td>601</td>\n",
              "    </tr>\n",
              "    <tr>\n",
              "      <th>12</th>\n",
              "      <td>Itaewon Clubs</td>\n",
              "      <td>156</td>\n",
              "    </tr>\n",
              "    <tr>\n",
              "      <th>8</th>\n",
              "      <td>Guro-gu Call Center</td>\n",
              "      <td>112</td>\n",
              "    </tr>\n",
              "    <tr>\n",
              "      <th>21</th>\n",
              "      <td>Shincheonji Church</td>\n",
              "      <td>107</td>\n",
              "    </tr>\n",
              "    <tr>\n",
              "      <th>3</th>\n",
              "      <td>Coupang Logistics Center</td>\n",
              "      <td>70</td>\n",
              "    </tr>\n",
              "    <tr>\n",
              "      <th>16</th>\n",
              "      <td>Onchun Church</td>\n",
              "      <td>33</td>\n",
              "    </tr>\n",
              "    <tr>\n",
              "      <th>0</th>\n",
              "      <td>Bonghwa Pureun Nursing Home</td>\n",
              "      <td>31</td>\n",
              "    </tr>\n",
              "    <tr>\n",
              "      <th>26</th>\n",
              "      <td>gym facility in Cheonan</td>\n",
              "      <td>30</td>\n",
              "    </tr>\n",
              "    <tr>\n",
              "      <th>15</th>\n",
              "      <td>Ministry of Oceans and Fisheries</td>\n",
              "      <td>28</td>\n",
              "    </tr>\n",
              "    <tr>\n",
              "      <th>2</th>\n",
              "      <td>Cheongdo Daenam Hospital</td>\n",
              "      <td>21</td>\n",
              "    </tr>\n",
              "    <tr>\n",
              "      <th>4</th>\n",
              "      <td>Dongan Church</td>\n",
              "      <td>17</td>\n",
              "    </tr>\n",
              "    <tr>\n",
              "      <th>5</th>\n",
              "      <td>Eunpyeong St. Mary's Hospital</td>\n",
              "      <td>16</td>\n",
              "    </tr>\n",
              "    <tr>\n",
              "      <th>11</th>\n",
              "      <td>Gyeongsan Seorin Nursing Home</td>\n",
              "      <td>15</td>\n",
              "    </tr>\n",
              "    <tr>\n",
              "      <th>20</th>\n",
              "      <td>Seongdong-gu APT</td>\n",
              "      <td>13</td>\n",
              "    </tr>\n",
              "    <tr>\n",
              "      <th>10</th>\n",
              "      <td>Gyeongsan Jeil Silver Town</td>\n",
              "      <td>12</td>\n",
              "    </tr>\n",
              "    <tr>\n",
              "      <th>14</th>\n",
              "      <td>Milal Shelter</td>\n",
              "      <td>11</td>\n",
              "    </tr>\n",
              "    <tr>\n",
              "      <th>9</th>\n",
              "      <td>Gyeongsan Cham Joeun Community Center</td>\n",
              "      <td>10</td>\n",
              "    </tr>\n",
              "    <tr>\n",
              "      <th>13</th>\n",
              "      <td>KB Life Insurance</td>\n",
              "      <td>8</td>\n",
              "    </tr>\n",
              "    <tr>\n",
              "      <th>19</th>\n",
              "      <td>Samsung Medical Center</td>\n",
              "      <td>7</td>\n",
              "    </tr>\n",
              "    <tr>\n",
              "      <th>6</th>\n",
              "      <td>Geochang Church</td>\n",
              "      <td>6</td>\n",
              "    </tr>\n",
              "    <tr>\n",
              "      <th>7</th>\n",
              "      <td>Guri Collective Infection</td>\n",
              "      <td>6</td>\n",
              "    </tr>\n",
              "    <tr>\n",
              "      <th>1</th>\n",
              "      <td>Changnyeong Coin Karaoke</td>\n",
              "      <td>4</td>\n",
              "    </tr>\n",
              "    <tr>\n",
              "      <th>27</th>\n",
              "      <td>gym facility in Sejong</td>\n",
              "      <td>4</td>\n",
              "    </tr>\n",
              "    <tr>\n",
              "      <th>22</th>\n",
              "      <td>Suyeong-gu Kindergarten</td>\n",
              "      <td>3</td>\n",
              "    </tr>\n",
              "    <tr>\n",
              "      <th>17</th>\n",
              "      <td>Pilgrimage to Israel</td>\n",
              "      <td>2</td>\n",
              "    </tr>\n",
              "    <tr>\n",
              "      <th>23</th>\n",
              "      <td>Yeongdeungpo Learning Institute</td>\n",
              "      <td>2</td>\n",
              "    </tr>\n",
              "    <tr>\n",
              "      <th>18</th>\n",
              "      <td>River of Grace Community Church</td>\n",
              "      <td>1</td>\n",
              "    </tr>\n",
              "  </tbody>\n",
              "</table>\n",
              "</div>"
            ],
            "text/plain": [
              "                           infection case  count\n",
              "24                   contact with patient   1182\n",
              "28                        overseas inflow    703\n",
              "25                                    etc    601\n",
              "12                          Itaewon Clubs    156\n",
              "8                     Guro-gu Call Center    112\n",
              "21                     Shincheonji Church    107\n",
              "3                Coupang Logistics Center     70\n",
              "16                          Onchun Church     33\n",
              "0             Bonghwa Pureun Nursing Home     31\n",
              "26                gym facility in Cheonan     30\n",
              "15       Ministry of Oceans and Fisheries     28\n",
              "2                Cheongdo Daenam Hospital     21\n",
              "4                           Dongan Church     17\n",
              "5           Eunpyeong St. Mary's Hospital     16\n",
              "11          Gyeongsan Seorin Nursing Home     15\n",
              "20                       Seongdong-gu APT     13\n",
              "10             Gyeongsan Jeil Silver Town     12\n",
              "14                          Milal Shelter     11\n",
              "9   Gyeongsan Cham Joeun Community Center     10\n",
              "13                      KB Life Insurance      8\n",
              "19                 Samsung Medical Center      7\n",
              "6                         Geochang Church      6\n",
              "7               Guri Collective Infection      6\n",
              "1                Changnyeong Coin Karaoke      4\n",
              "27                 gym facility in Sejong      4\n",
              "22                Suyeong-gu Kindergarten      3\n",
              "17                   Pilgrimage to Israel      2\n",
              "23        Yeongdeungpo Learning Institute      2\n",
              "18        River of Grace Community Church      1"
            ]
          },
          "metadata": {
            "tags": []
          },
          "execution_count": 35
        }
      ]
    },
    {
      "cell_type": "code",
      "metadata": {
        "colab": {
          "base_uri": "https://localhost:8080/",
          "height": 404
        },
        "id": "W9SLq0a4eoTg",
        "outputId": "e9a50015-b519-4559-e9d2-be76caf0c682"
      },
      "source": [
        "# 감염 경로별 환자수 집계하여 시각화 한다.\n",
        "res = df1.groupby(['infection_case'])['patient_id'].count()        # 결측치가 아닌 patient_id의 수 = 환자의 수.\n",
        "res = res.reset_index()                                           # Series => DataFrame. 이전의 Index가 이제는 새로운 컬럼!\n",
        "res.rename(columns = {'infection_case':'infection case', 'patient_id': 'count'}, inplace = True)     # 'patient_id' 컬럼명을 'count'로 변경.\n",
        "res = res.sort_values(by = 'count', ascending = False)            # 데이터 프레임 내림 차순으로 소팅.\n",
        "\n",
        "plt.figure(figsize = (12,6))                                       # figsize=(가로, 세로) 크기.\n",
        "sns.barplot(y = 'infection case', x= 'count', data = res)\n",
        "plt.title('Number of Patients per Infection Case')\n",
        "plt.show()"
      ],
      "execution_count": 36,
      "outputs": [
        {
          "output_type": "display_data",
          "data": {
            "image/png": "[encoded data removed]",
            "text/plain": [
              "<Figure size 864x432 with 1 Axes>"
            ]
          },
          "metadata": {
            "tags": [],
            "needs_background": "light"
          }
        }
      ]
    },
    {
      "cell_type": "code",
      "metadata": {
        "colab": {
          "base_uri": "https://localhost:8080/",
          "height": 404
        },
        "id": "310UT5yyeoTg",
        "outputId": "71c7132c-fc6a-4937-dca6-fc8996a6e092"
      },
      "source": [
        "# 다음과 같이 유형의 label을 바꾸어서 다시 집계 및 시각화 해본다.\n",
        "# 'contact with patient' => 'Individual'     개인접촉\n",
        "# 'etc'  or NaN         => 'Unknown'         모름\n",
        "# 'overseas inflow'     => 'Overseas'        해외\n",
        "#  나머지               => 'Group'            집단\n",
        "\n",
        "my_dict = {'contact with patient':'Individual', 'etc':'Unknown', 'overseas inflow': 'Overseas'}\n",
        "res = df1.infection_case.apply(lambda x: my_dict[x] if x in my_dict.keys() else 'Group' if not pd.isnull(x) else 'Unknown')  # 변환! Pythonic! \n",
        "# ---> 오른쪽부터 읽고 오른쪽이 충족되면 그 뒤에것을 반환 뒤의 if else, 앞의 if else순서\n",
        "\n",
        "df1['infection_cause'] = res                                                          # 변환을 df1에도 적용.\n",
        "res = res.value_counts().sort_values(ascending=False)\n",
        "res = res.reset_index()                                                               # Series => DataFrame. 이전의 Index가 이제는 새로운 컬럼!\n",
        "res.rename(columns={'index':'infection_cause','infection_case':'count'},inplace=True)\n",
        "\n",
        "plt.figure(figsize = (12,6))                                       # figsize=(가로, 세로) 크기.\n",
        "sns.barplot(y = 'infection_cause', x= 'count', data = res, alpha=0.8)\n",
        "plt.title('Number of Patients per Infection Cause')\n",
        "plt.show()"
      ],
      "execution_count": 37,
      "outputs": [
        {
          "output_type": "display_data",
          "data": {
            "image/png": "[encoded data removed]",
            "text/plain": [
              "<Figure size 864x432 with 1 Axes>"
            ]
          },
          "metadata": {
            "tags": [],
            "needs_background": "light"
          }
        }
      ]
    },
    {
      "cell_type": "markdown",
      "metadata": {
        "id": "gfGbXDyDeoTh"
      },
      "source": [
        "**결론**: 유입 경로를 4가지로 요약해 봄."
      ]
    },
    {
      "cell_type": "markdown",
      "metadata": {
        "id": "NpXeIg1KeoTh"
      },
      "source": [
        "### 4. 유동성 (Mobility Level)"
      ]
    },
    {
      "cell_type": "code",
      "metadata": {
        "id": "2uskOo5heoTh"
      },
      "source": [
        "# 새롭게 유입경로 데이터를 불러온다.\n",
        "df2 = pd.read_csv(r'.\\data\\PatientRoute.csv')"
      ],
      "execution_count": null,
      "outputs": []
    },
    {
      "cell_type": "code",
      "metadata": {
        "id": "0YRB-1UUeoTi"
      },
      "source": [
        "df2.head()"
      ],
      "execution_count": null,
      "outputs": []
    },
    {
      "cell_type": "code",
      "metadata": {
        "id": "0tMP4_X3eoTi"
      },
      "source": [
        "# 결측치의 총 카운트.\n",
        "df2.isnull().sum().sum()"
      ],
      "execution_count": null,
      "outputs": []
    },
    {
      "cell_type": "code",
      "metadata": {
        "id": "LQdlpcHkeoTi"
      },
      "source": [
        "# 결측치를 시각화 해본다.\n",
        "plt.figure(figsize = (10,10))                                       # figsize=(가로, 세로) 크기.\n",
        "sns.heatmap(df2.isnull(), cmap='Blues', cbar=False)\n",
        "plt.show()"
      ],
      "execution_count": null,
      "outputs": []
    },
    {
      "cell_type": "code",
      "metadata": {
        "id": "fpiwsAwBeoTi"
      },
      "source": [
        "# 중복된 환자 ID가 많아 보인다.\n",
        "print(\"데이터 행의 수 = {}\".format(df2.shape[0]))\n",
        "print(\"고유한 환자 ID 수 = {}\".format(df2.patient_id.nunique()))"
      ],
      "execution_count": null,
      "outputs": []
    },
    {
      "cell_type": "code",
      "metadata": {
        "id": "A_ec4YhneoTi"
      },
      "source": [
        "# 이동 경로의 유형 출력.\n",
        "print(format(df2.type.unique()))"
      ],
      "execution_count": null,
      "outputs": []
    },
    {
      "cell_type": "code",
      "metadata": {
        "id": "98_u0JwjeoTi"
      },
      "source": [
        "# 이동 경로의 가지수 출력.\n",
        "print(format(df2.type.nunique()))"
      ],
      "execution_count": null,
      "outputs": []
    },
    {
      "cell_type": "code",
      "metadata": {
        "id": "_UfXZA4keoTi"
      },
      "source": [
        "# 이동 경로의 유형을 카테고리로 표현해 본다.\n",
        "leisure = ['library', 'theater', 'cafe', 'bakery', 'beauty_salon',\n",
        "          'pc_cafe', 'billiards','restaurant', 'bar', 'karaoke']\n",
        "travel = ['airport', 'lodging']\n",
        "essential_edu = ['primary_school', 'school', 'university']\n",
        "non_essential_edu = ['academy']\n",
        "exercise = ['gym', 'mountain', 'park']\n",
        "essential_admin = ['administrative_area_level_1', 'governmnet_office', 'post_office']\n",
        "non_essential_admin = ['police_office', 'bank', 'real_estate_agency']\n",
        "necessity = ['store', 'public_transportation', 'gas_station']\n",
        "medical = ['hospital', 'pharmacy']\n",
        "church = ['church']\n",
        "etc = ['etc']"
      ],
      "execution_count": null,
      "outputs": []
    },
    {
      "cell_type": "code",
      "metadata": {
        "id": "w9o2Yf3geoTj"
      },
      "source": [
        "# \"필수적\" 카테고리는 다음과 같이 정의한다.\n",
        "essential = essential_edu + essential_admin + necessity + medical \n",
        "len(essential)"
      ],
      "execution_count": null,
      "outputs": []
    },
    {
      "cell_type": "code",
      "metadata": {
        "id": "0r2j2DmQeoTj"
      },
      "source": [
        "# 필수/부수적 여부 변수 'is_essential' 파생변수로 추가.\n",
        "def isessential(x):     \n",
        "    if x in essential: \n",
        "        res = True\n",
        "    else:\n",
        "        res = False \n",
        "    return res\n",
        "df2['is_essential'] = df2['type'].apply(lambda x: isessential(x)) \n",
        "\n",
        "# 데이터 프레임 간추리기.\n",
        "df2 = df2[['patient_id', 'type', 'is_essential']]\n",
        "df2.head()"
      ],
      "execution_count": null,
      "outputs": []
    },
    {
      "cell_type": "code",
      "metadata": {
        "id": "2jZYz1cneoTj"
      },
      "source": [
        "# 동일 환자의 경로 유형을 집계한다 (sum).\n",
        "# 결측치는 0으로 채운다.\n",
        "df2['route_value'] = 1       # 1 로 채워진 컬럼을 추가해서 집계의 목적으로 사용한다.\n",
        "df3 = pd.pivot_table(data=df2, index = 'patient_id', columns = 'is_essential', values= 'route_value', aggfunc='sum', fill_value=0)\n",
        "df3.head()"
      ],
      "execution_count": null,
      "outputs": []
    },
    {
      "cell_type": "code",
      "metadata": {
        "id": "oDJcSe9ieoTj"
      },
      "source": [
        "# Index로 있는 patient_id를 컬럼으로 빼내고 정리한다.\n",
        "df3.columns.name=None\n",
        "df3 = df3.reset_index()\n",
        "df3 = df3.rename(columns={False:'non_essential',True:'essential'})\n",
        "df3.head()"
      ],
      "execution_count": null,
      "outputs": []
    },
    {
      "cell_type": "code",
      "metadata": {
        "id": "tnAP9GUteoTj"
      },
      "source": [
        "# df1 (PatientInfo)와 df3 (PatientRoute 요약)을 Inner Join 해서 가로 방향으로 붙여서 df_joined를 만든다.\n",
        "df_joined = df1.merge(df3, left_on = 'patient_id', right_on = 'patient_id' , how='inner')"
      ],
      "execution_count": null,
      "outputs": []
    },
    {
      "cell_type": "code",
      "metadata": {
        "id": "ERuEXoWweoTj"
      },
      "source": [
        "# 살펴본다.\n",
        "df_joined.head()"
      ],
      "execution_count": null,
      "outputs": []
    },
    {
      "cell_type": "code",
      "metadata": {
        "id": "4Tu8t3YveoTj"
      },
      "source": [
        "# 모든 환자에 대해서 동선이 명확한 것이 아니기 때문에 Join 후 대폭 행의 수가 줄어 들었다.\n",
        "print(\"Number of Rows Before = {}\".format(len(df1)))\n",
        "print(\"Number of Rows After = {}\".format(len(df_joined)))"
      ],
      "execution_count": null,
      "outputs": []
    },
    {
      "cell_type": "markdown",
      "metadata": {
        "id": "Tc4Lv1lKeoTj"
      },
      "source": [
        "### 5. 접촉 빈도 (Number of Contacts)"
      ]
    },
    {
      "cell_type": "code",
      "metadata": {
        "id": "_9cgiOgKeoTj"
      },
      "source": [
        "# contact_number가 결측치가 아니고 '-'가 아닌 행들만 가져온다. '-'는 오류로 유입된 값인듯.\n",
        "res = df_joined.contact_number\n",
        "df_joined = df_joined[~res.isnull() & (res != '-')]"
      ],
      "execution_count": null,
      "outputs": []
    },
    {
      "cell_type": "code",
      "metadata": {
        "id": "9vfKqOPVeoTk"
      },
      "source": [
        "# contact_number의 자료형을 integer로 변경하고 이상값은 제거한다.\n",
        "df_joined['contact_number'] = df_joined.contact_number.astype(int)\n",
        "df_joined = df_joined[df_joined.contact_number < 10000]"
      ],
      "execution_count": null,
      "outputs": []
    },
    {
      "cell_type": "code",
      "metadata": {
        "id": "OSwaxkGTeoTk"
      },
      "source": [
        "# 최대 첩촉빈도.\n",
        "df_joined.contact_number.max()"
      ],
      "execution_count": null,
      "outputs": []
    },
    {
      "cell_type": "code",
      "metadata": {
        "id": "oStJ9oSFeoTk"
      },
      "source": [
        "# 최대 첩촉빈도에 해당하는 환자.\n",
        "df_joined[df_joined.contact_number == df_joined.contact_number.max()]"
      ],
      "execution_count": null,
      "outputs": []
    },
    {
      "cell_type": "code",
      "metadata": {
        "id": "u-hg6PFPeoTk"
      },
      "source": [
        "# 필요한 컬럼만 가져와서 정리한다.\n",
        "df4 = df_joined[['patient_id', 'contact_number', 'essential','non_essential','infection_cause']]\n",
        "df4.head()"
      ],
      "execution_count": null,
      "outputs": []
    },
    {
      "cell_type": "code",
      "metadata": {
        "id": "DqWCFHGOeoTk"
      },
      "source": [
        "# 접촉 빈도를 히스토그램으로 시각화 한다.\n",
        "sns.distplot(df4.contact_number,bins=50)\n",
        "plt.show()"
      ],
      "execution_count": null,
      "outputs": []
    },
    {
      "cell_type": "markdown",
      "metadata": {
        "id": "VpUUNU5IeoTk"
      },
      "source": [
        "### 6. 군집화 (Clustering)"
      ]
    },
    {
      "cell_type": "code",
      "metadata": {
        "id": "l-XNenGxeoTk"
      },
      "source": [
        "# Infection_cause를 가변수 처리한다.\n",
        "df4 = df4.join(pd.get_dummies(df4.infection_cause, prefix='infection',drop_first=False))"
      ],
      "execution_count": null,
      "outputs": []
    },
    {
      "cell_type": "code",
      "metadata": {
        "scrolled": true,
        "id": "Lh7CTjYAeoTk"
      },
      "source": [
        "df4"
      ],
      "execution_count": null,
      "outputs": []
    },
    {
      "cell_type": "code",
      "metadata": {
        "id": "crxre9KyeoTl"
      },
      "source": [
        "df_final = df4[ ['essential', 'non_essential', 'contact_number',\n",
        "          'infection_Group', 'infection_Individual', 'infection_Overseas', 'infection_Unknown']]"
      ],
      "execution_count": null,
      "outputs": []
    },
    {
      "cell_type": "code",
      "metadata": {
        "id": "K6T5iig4eoTl"
      },
      "source": [
        "df_final"
      ],
      "execution_count": null,
      "outputs": []
    },
    {
      "cell_type": "code",
      "metadata": {
        "id": "Dkm2jgRgeoTl"
      },
      "source": [
        "# 컬럼의 표준화를 실행한다.\n",
        "X = df_final.values                        \n",
        "my_scaler = StandardScaler()\n",
        "X = my_scaler.fit_transform(X)"
      ],
      "execution_count": null,
      "outputs": []
    },
    {
      "cell_type": "code",
      "metadata": {
        "id": "lYmWeo11eoTl"
      },
      "source": [
        "# 군집의 수 = 4로 정하고 군집화를 실행한다.  <= 군집의 수 최적화가 선행되어야 한다! (부록 참고)\n",
        "my_km = KMeans(n_clusters = 4, random_state = 123)\n",
        "my_km.fit(X)\n",
        "\n",
        "my_centroids = my_km.cluster_centers_               # 개개 군집의 중심점.\n",
        "my_cluster_labels = my_km.labels_                   # 군집 label."
      ],
      "execution_count": null,
      "outputs": []
    },
    {
      "cell_type": "code",
      "metadata": {
        "id": "u4vAWJ1OeoTl"
      },
      "source": [
        "# 클러스터 중심을 출력하고 해석한다.\n",
        "pd.DataFrame(my_centroids,columns = df_final.columns)"
      ],
      "execution_count": null,
      "outputs": []
    },
    {
      "cell_type": "markdown",
      "metadata": {
        "id": "X5KJWlr5eoTl"
      },
      "source": [
        "**해석:** <br>\n",
        "- Label 0 (red): Social minimalists.\n",
        "- Label 1 (blue): Hyper-mobile and hyper-social.\n",
        "- Label 2 (green): Overseas non-essentialists. \n",
        "- Label 3 (yellow): Moderate unknwons."
      ]
    },
    {
      "cell_type": "code",
      "metadata": {
        "id": "TlxpQ14beoTl"
      },
      "source": [
        "# PCA 차원축소 (2차원).\n",
        "my_pca = PCA(n_components = 2)\n",
        "transformed_comps = my_pca.fit_transform(X)         # Transformed 된 좌표.\n",
        "df_transformed_comps = pd.DataFrame(data = transformed_comps, columns = ['PC1', 'PC2'])\n",
        "df_transformed_comps=df_transformed_comps.join(pd.Series(my_cluster_labels, name='cluster_label'))\n",
        "df_transformed_comps"
      ],
      "execution_count": null,
      "outputs": []
    },
    {
      "cell_type": "code",
      "metadata": {
        "id": "PeMx47r-eoTl"
      },
      "source": [
        "# 산점도 시각화.\n",
        "my_colors = {0:'red',1:'blue',2:'green',3:'yellow'}    # 군집 label => Color.\n",
        "my_names = {0: 'Social minimalists.', 1: 'Hyper-mobile and hyper-social.' , 2: 'Overseas non-essentialists.', 3: 'Moderate unknwons.'} # 군집 label => 명칭.\n",
        "\n",
        "plt.figure(figsize = (6,6))\n",
        "for a_cluster_n, df_small in df_transformed_comps.groupby('cluster_label'):\n",
        "    plt.scatter('PC1', 'PC2', data = df_small, c = my_colors[a_cluster_n], label = my_names[a_cluster_n], s = 10, alpha=0.6 )\n",
        "plt.xlabel('PC1')\n",
        "plt.ylabel('PC2')\n",
        "plt.title('Clusters')\n",
        "plt.legend(loc=4)\n",
        "plt.show()"
      ],
      "execution_count": null,
      "outputs": []
    },
    {
      "cell_type": "markdown",
      "metadata": {
        "id": "ki5sfGNGeoTm"
      },
      "source": [
        "### 부록: 군집의 수 최적화"
      ]
    },
    {
      "cell_type": "code",
      "metadata": {
        "id": "E8e8QqC_eoTm"
      },
      "source": [
        "# 군집의 수를 키워가며 Sum of Squares Within을 계산한다.\n",
        "ssw = []\n",
        "cluster_ns = range(2,16)\n",
        "for n in cluster_ns:\n",
        "    my_cluster = KMeans(n)\n",
        "    my_cluster.fit(X)\n",
        "    ssw += [my_cluster.inertia_]         # SSW를 모아둔다.\n",
        "\n",
        "plt.figure(figsize = (6,6))\n",
        "plt.plot(cluster_ns, ssw)\n",
        "plt.title('Elbow Method')\n",
        "plt.xlabel('Number of Clusters')\n",
        "plt.ylabel('Sum of Squares Within')\n",
        "plt.show()"
      ],
      "execution_count": null,
      "outputs": []
    },
    {
      "cell_type": "markdown",
      "metadata": {
        "id": "hdklOpLQeoTm"
      },
      "source": [
        "**결론**: 군집의 수가 5 이상일 때 SSW의 감소 속도가 둔화된다. => 군집의 적정 수 = 4."
      ]
    },
    {
      "cell_type": "code",
      "metadata": {
        "id": "k7GQiE_keoTm"
      },
      "source": [
        ""
      ],
      "execution_count": null,
      "outputs": []
    }
  ]
}