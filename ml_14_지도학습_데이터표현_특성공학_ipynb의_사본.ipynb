{
  "nbformat": 4,
  "nbformat_minor": 0,
  "metadata": {
    "colab": {
      "name": "ml_14_지도학습_데이터표현_특성공학.ipynb의 사본",
      "provenance": [],
      "collapsed_sections": [],
      "include_colab_link": true
    },
    "kernelspec": {
      "name": "python3",
      "display_name": "Python 3"
    }
  },
  "cells": [
    {
      "cell_type": "markdown",
      "metadata": {
        "id": "view-in-github",
        "colab_type": "text"
      },
      "source": [
        "<a href=\"https://colab.research.google.com/github/soohyoen/artificial-intelligence/blob/main/ml_14_%EC%A7%80%EB%8F%84%ED%95%99%EC%8A%B5_%EB%8D%B0%EC%9D%B4%ED%84%B0%ED%91%9C%ED%98%84_%ED%8A%B9%EC%84%B1%EA%B3%B5%ED%95%99_ipynb%EC%9D%98_%EC%82%AC%EB%B3%B8.ipynb\" target=\"_parent\"><img src=\"https://colab.research.google.com/assets/colab-badge.svg\" alt=\"Open In Colab\"/></a>"
      ]
    },
    {
      "cell_type": "code",
      "metadata": {
        "id": "-GKMC7N1t8t9"
      },
      "source": [
        "# 경고메시지 무시\n",
        "import warnings\n",
        "warnings.filterwarnings(\"ignore\")"
      ],
      "execution_count": 1,
      "outputs": []
    },
    {
      "cell_type": "code",
      "metadata": {
        "id": "adbaYQW5uH4r",
        "colab": {
          "base_uri": "https://localhost:8080/"
        },
        "outputId": "4790bcc7-2ce3-47f5-a425-347f3c616bc9"
      },
      "source": [
        "!pip install mglearn"
      ],
      "execution_count": 2,
      "outputs": [
        {
          "output_type": "stream",
          "text": [
            "Collecting mglearn\n",
            "  Downloading mglearn-0.1.9.tar.gz (540 kB)\n",
            "\u001b[?25l\r\u001b[K     |▋                               | 10 kB 16.6 MB/s eta 0:00:01\r\u001b[K     |█▏                              | 20 kB 22.3 MB/s eta 0:00:01\r\u001b[K     |█▉                              | 30 kB 13.3 MB/s eta 0:00:01\r\u001b[K     |██▍                             | 40 kB 9.6 MB/s eta 0:00:01\r\u001b[K     |███                             | 51 kB 5.3 MB/s eta 0:00:01\r\u001b[K     |███▋                            | 61 kB 5.2 MB/s eta 0:00:01\r\u001b[K     |████▎                           | 71 kB 5.6 MB/s eta 0:00:01\r\u001b[K     |████▉                           | 81 kB 6.2 MB/s eta 0:00:01\r\u001b[K     |█████▌                          | 92 kB 6.2 MB/s eta 0:00:01\r\u001b[K     |██████                          | 102 kB 5.1 MB/s eta 0:00:01\r\u001b[K     |██████▊                         | 112 kB 5.1 MB/s eta 0:00:01\r\u001b[K     |███████▎                        | 122 kB 5.1 MB/s eta 0:00:01\r\u001b[K     |███████▉                        | 133 kB 5.1 MB/s eta 0:00:01\r\u001b[K     |████████▌                       | 143 kB 5.1 MB/s eta 0:00:01\r\u001b[K     |█████████                       | 153 kB 5.1 MB/s eta 0:00:01\r\u001b[K     |█████████▊                      | 163 kB 5.1 MB/s eta 0:00:01\r\u001b[K     |██████████▎                     | 174 kB 5.1 MB/s eta 0:00:01\r\u001b[K     |███████████                     | 184 kB 5.1 MB/s eta 0:00:01\r\u001b[K     |███████████▌                    | 194 kB 5.1 MB/s eta 0:00:01\r\u001b[K     |████████████▏                   | 204 kB 5.1 MB/s eta 0:00:01\r\u001b[K     |████████████▊                   | 215 kB 5.1 MB/s eta 0:00:01\r\u001b[K     |█████████████▍                  | 225 kB 5.1 MB/s eta 0:00:01\r\u001b[K     |██████████████                  | 235 kB 5.1 MB/s eta 0:00:01\r\u001b[K     |██████████████▋                 | 245 kB 5.1 MB/s eta 0:00:01\r\u001b[K     |███████████████▏                | 256 kB 5.1 MB/s eta 0:00:01\r\u001b[K     |███████████████▊                | 266 kB 5.1 MB/s eta 0:00:01\r\u001b[K     |████████████████▍               | 276 kB 5.1 MB/s eta 0:00:01\r\u001b[K     |█████████████████               | 286 kB 5.1 MB/s eta 0:00:01\r\u001b[K     |█████████████████▋              | 296 kB 5.1 MB/s eta 0:00:01\r\u001b[K     |██████████████████▏             | 307 kB 5.1 MB/s eta 0:00:01\r\u001b[K     |██████████████████▉             | 317 kB 5.1 MB/s eta 0:00:01\r\u001b[K     |███████████████████▍            | 327 kB 5.1 MB/s eta 0:00:01\r\u001b[K     |████████████████████            | 337 kB 5.1 MB/s eta 0:00:01\r\u001b[K     |████████████████████▋           | 348 kB 5.1 MB/s eta 0:00:01\r\u001b[K     |█████████████████████▎          | 358 kB 5.1 MB/s eta 0:00:01\r\u001b[K     |█████████████████████▉          | 368 kB 5.1 MB/s eta 0:00:01\r\u001b[K     |██████████████████████▌         | 378 kB 5.1 MB/s eta 0:00:01\r\u001b[K     |███████████████████████         | 389 kB 5.1 MB/s eta 0:00:01\r\u001b[K     |███████████████████████▋        | 399 kB 5.1 MB/s eta 0:00:01\r\u001b[K     |████████████████████████▎       | 409 kB 5.1 MB/s eta 0:00:01\r\u001b[K     |████████████████████████▉       | 419 kB 5.1 MB/s eta 0:00:01\r\u001b[K     |█████████████████████████▌      | 430 kB 5.1 MB/s eta 0:00:01\r\u001b[K     |██████████████████████████      | 440 kB 5.1 MB/s eta 0:00:01\r\u001b[K     |██████████████████████████▊     | 450 kB 5.1 MB/s eta 0:00:01\r\u001b[K     |███████████████████████████▎    | 460 kB 5.1 MB/s eta 0:00:01\r\u001b[K     |████████████████████████████    | 471 kB 5.1 MB/s eta 0:00:01\r\u001b[K     |████████████████████████████▌   | 481 kB 5.1 MB/s eta 0:00:01\r\u001b[K     |█████████████████████████████▏  | 491 kB 5.1 MB/s eta 0:00:01\r\u001b[K     |█████████████████████████████▊  | 501 kB 5.1 MB/s eta 0:00:01\r\u001b[K     |██████████████████████████████▍ | 512 kB 5.1 MB/s eta 0:00:01\r\u001b[K     |███████████████████████████████ | 522 kB 5.1 MB/s eta 0:00:01\r\u001b[K     |███████████████████████████████▌| 532 kB 5.1 MB/s eta 0:00:01\r\u001b[K     |████████████████████████████████| 540 kB 5.1 MB/s \n",
            "\u001b[?25hRequirement already satisfied: numpy in /usr/local/lib/python3.7/dist-packages (from mglearn) (1.19.5)\n",
            "Requirement already satisfied: matplotlib in /usr/local/lib/python3.7/dist-packages (from mglearn) (3.2.2)\n",
            "Requirement already satisfied: scikit-learn in /usr/local/lib/python3.7/dist-packages (from mglearn) (0.22.2.post1)\n",
            "Requirement already satisfied: pandas in /usr/local/lib/python3.7/dist-packages (from mglearn) (1.1.5)\n",
            "Requirement already satisfied: pillow in /usr/local/lib/python3.7/dist-packages (from mglearn) (7.1.2)\n",
            "Requirement already satisfied: cycler in /usr/local/lib/python3.7/dist-packages (from mglearn) (0.10.0)\n",
            "Requirement already satisfied: imageio in /usr/local/lib/python3.7/dist-packages (from mglearn) (2.4.1)\n",
            "Requirement already satisfied: joblib in /usr/local/lib/python3.7/dist-packages (from mglearn) (1.0.1)\n",
            "Requirement already satisfied: six in /usr/local/lib/python3.7/dist-packages (from cycler->mglearn) (1.15.0)\n",
            "Requirement already satisfied: python-dateutil>=2.1 in /usr/local/lib/python3.7/dist-packages (from matplotlib->mglearn) (2.8.2)\n",
            "Requirement already satisfied: pyparsing!=2.0.4,!=2.1.2,!=2.1.6,>=2.0.1 in /usr/local/lib/python3.7/dist-packages (from matplotlib->mglearn) (2.4.7)\n",
            "Requirement already satisfied: kiwisolver>=1.0.1 in /usr/local/lib/python3.7/dist-packages (from matplotlib->mglearn) (1.3.1)\n",
            "Requirement already satisfied: pytz>=2017.2 in /usr/local/lib/python3.7/dist-packages (from pandas->mglearn) (2018.9)\n",
            "Requirement already satisfied: scipy>=0.17.0 in /usr/local/lib/python3.7/dist-packages (from scikit-learn->mglearn) (1.4.1)\n",
            "Building wheels for collected packages: mglearn\n",
            "  Building wheel for mglearn (setup.py) ... \u001b[?25l\u001b[?25hdone\n",
            "  Created wheel for mglearn: filename=mglearn-0.1.9-py2.py3-none-any.whl size=582637 sha256=552d2ec4ed14c061217f9bf125a63948f9f190bb1a4bb9ad58904c42f7bf9f0f\n",
            "  Stored in directory: /root/.cache/pip/wheels/f1/17/e1/1720d6dcd70187b6b6c3750cb3508798f2b1d57c9d3214b08b\n",
            "Successfully built mglearn\n",
            "Installing collected packages: mglearn\n",
            "Successfully installed mglearn-0.1.9\n"
          ],
          "name": "stdout"
        }
      ]
    },
    {
      "cell_type": "markdown",
      "metadata": {
        "id": "g19tsMWUNpCx"
      },
      "source": [
        "### 구글드라이브 연동"
      ]
    },
    {
      "cell_type": "code",
      "metadata": {
        "id": "Ijyjm-4FNqNx",
        "colab": {
          "base_uri": "https://localhost:8080/"
        },
        "outputId": "13d5ce85-a531-4c0f-8cd0-14b6f8a719d6"
      },
      "source": [
        "# 구글드라이브 연동\n",
        "from google.colab import drive\n",
        "drive.mount('/gdrive', force_remount=True)\n",
        "\n",
        "# 구글 드라이브 파일 확인\n",
        "!ls '/gdrive/My Drive/temp/'\n",
        "\n",
        "# 반복되는 드라이브 경로 변수화\n",
        "drive_path = '/gdrive/My Drive/temp/'"
      ],
      "execution_count": 3,
      "outputs": [
        {
          "output_type": "stream",
          "text": [
            "Mounted at /gdrive\n",
            "bmi_500.csv  titanic.xls\n"
          ],
          "name": "stdout"
        }
      ]
    },
    {
      "cell_type": "markdown",
      "metadata": {
        "id": "oC99qjqGXAOk"
      },
      "source": [
        "### 코렙에서 한글 사용"
      ]
    },
    {
      "cell_type": "code",
      "metadata": {
        "id": "csF03HviW8ZB",
        "colab": {
          "base_uri": "https://localhost:8080/"
        },
        "outputId": "5f22948d-b0c6-4b51-ee5b-220915c77c5c"
      },
      "source": [
        "!apt -qq -y install fonts-nanum\n",
        " \n",
        "import matplotlib.pyplot as plt\n",
        "import matplotlib.font_manager as fm\n",
        " \n",
        "fontpath = '/usr/share/fonts/truetype/nanum/NanumBarunGothic.ttf'\n",
        "font = fm.FontProperties(fname=fontpath, size=10)\n",
        "fm._rebuild()\n",
        " \n",
        "# 그래프에 retina display 적용\n",
        "%config InlineBackend.figure_format = 'retina'\n",
        " \n",
        "# Colab 의 한글 폰트 설정\n",
        "plt.rc('font', family='NanumBarunGothic') "
      ],
      "execution_count": 4,
      "outputs": [
        {
          "output_type": "stream",
          "text": [
            "The following package was automatically installed and is no longer required:\n",
            "  libnvidia-common-460\n",
            "Use 'apt autoremove' to remove it.\n",
            "The following NEW packages will be installed:\n",
            "  fonts-nanum\n",
            "0 upgraded, 1 newly installed, 0 to remove and 40 not upgraded.\n",
            "Need to get 9,604 kB of archives.\n",
            "After this operation, 29.5 MB of additional disk space will be used.\n",
            "Selecting previously unselected package fonts-nanum.\n",
            "(Reading database ... 148486 files and directories currently installed.)\n",
            "Preparing to unpack .../fonts-nanum_20170925-1_all.deb ...\n",
            "Unpacking fonts-nanum (20170925-1) ...\n",
            "Setting up fonts-nanum (20170925-1) ...\n",
            "Processing triggers for fontconfig (2.12.6-0ubuntu2) ...\n"
          ],
          "name": "stdout"
        }
      ]
    },
    {
      "cell_type": "markdown",
      "metadata": {
        "id": "moBqvpsZ0Rpk"
      },
      "source": [
        "# 데이터 표현\n",
        "\n",
        "- 연속형 특성(continuous feature) : 숫자로 이루어진 순서가 있는 데이터 특성\n",
        "\n",
        "- 범주형 특성(categorical feature) 또는 이산형 특성(dicrete feature) : 숫자가 아닌 이산적인 데이터 특성\n",
        "  (컴퓨터, 옷, 책 등)\n",
        "  \n",
        "- 데이터의 특성보다 데이터를 어떻게 표현하는가가 머신러닝 모델의 성능에 주는 영향이 큼\n",
        "\n",
        "-  특성 공학(feature engineering) : 특정 애플리케이션에 가장 적합한 데이터 표현을 찾는 것\n",
        "  "
      ]
    },
    {
      "cell_type": "markdown",
      "metadata": {
        "id": "j0thqT-gmxek"
      },
      "source": [
        "## 레이블 인코딩(Label encoding)\n",
        "\n",
        "- 카테고리 특성을 코드형 숫자 값으로 변환하는 것\n",
        "\n",
        "| 상품구분 | 레이블 인코딩 |\n",
        "|---|---|\n",
        "|TV| 0|\n",
        "|냉장고|1|\n",
        "|전자렌지|2|\n",
        "|컴퓨터|3|\n",
        "|선풍기|4|\n",
        "|믹서|5|\n",
        "\n",
        "- 주의 : '01', '02' 코드값 역시 문자열이므로 1, 2와 같은 숫자형 값으로 변환"
      ]
    },
    {
      "cell_type": "code",
      "metadata": {
        "id": "wXSpqoqpn_k5",
        "colab": {
          "base_uri": "https://localhost:8080/"
        },
        "outputId": "65d0230e-1b45-4d23-c783-0b3d6f2bb1f0"
      },
      "source": [
        "from sklearn.preprocessing import LabelEncoder\n",
        "\n",
        "items = ['TV','냉장고','전자렌지','컴퓨터','선풍기','믹서']\n",
        "\n",
        "encoder = LabelEncoder()\n",
        "encoder.fit(items)\n",
        "labels = encoder.transform(items)\n",
        "print('인코딩 변환값:', labels)\n",
        "print('인코딩 클래스 :', encoder.classes_)\n",
        "# encoder.transform(['컴퓨터'])\n",
        "\n",
        "print('인코딩 원본값:', encoder.inverse_transform([4,5,2,0,1,1,3,3]) )"
      ],
      "execution_count": 11,
      "outputs": [
        {
          "output_type": "stream",
          "text": [
            "인코딩 변환값: [0 1 4 5 3 2]\n",
            "인코딩 클래스 : ['TV' '냉장고' '믹서' '선풍기' '전자렌지' '컴퓨터']\n",
            "인코딩 원본값: ['전자렌지' '컴퓨터' '믹서' 'TV' '냉장고' '냉장고' '선풍기' '선풍기']\n"
          ],
          "name": "stdout"
        }
      ]
    },
    {
      "cell_type": "markdown",
      "metadata": {
        "id": "PJgzU5x2pRQW"
      },
      "source": [
        "- 몇몇 머신러닝 알고리즘에는 숫자 값을 적용할 경우 예측 성능이 떨어지는 경우가 발생할 수 있음\n",
        "- 숫자 값의 경우 크고 작음에 대한 특성이 작용하기 때문\n",
        "- 원-핫-인코딩은 레이블 인코딩의 이러한 문제점을 해결하기 위한 인코딩 방식"
      ]
    },
    {
      "cell_type": "markdown",
      "metadata": {
        "id": "EaxFNhr72BAq"
      },
      "source": [
        "## 원-핫-인코딩(one-hot-encoding)\n",
        "\n",
        "- 범주형 변수를 표현하는 데 가장 널리 쓰이는 방법\n",
        "- 범주형 변수를 0 또는 1 값을 가진 하나 이상의 새로운 특성으로 바꾼 것\n",
        "\n",
        "- 예를 들면 과목에 수학, 국어, 과학과 같이 3과목이 특성에 있다면 각각을 (1, 0, 0), (0, 1, 0) (0, 0, 1)과 같이 표현\n",
        "\n",
        "- pandas나 scikit-learn을 이용하여 범주형 변수를 원-핫 인코딩으로 바꿀 수 있음"
      ]
    },
    {
      "cell_type": "code",
      "metadata": {
        "id": "TroaANL8qujt",
        "colab": {
          "base_uri": "https://localhost:8080/"
        },
        "outputId": "aaaa4f39-a2b0-4737-bb39-5f5a40b982c1"
      },
      "source": [
        "from sklearn.preprocessing import OneHotEncoder\n",
        "import numpy as np\n",
        "\n",
        "items = ['TV','냉장고','전자렌지','컴퓨터','선풍기','선풍기','믹서','믹서']\n",
        "\n",
        "# 먼저 숫자 값으로 변환\n",
        "encoder = LabelEncoder()\n",
        "encoder.fit(items)\n",
        "labels = encoder.transform(items)\n",
        "\n",
        "# 2차원 데이터로 변화\n",
        "labels = labels.reshape(-1,1)\n",
        "\n",
        "# 원-핫-인코딩 적용\n",
        "encoder_oh = OneHotEncoder()\n",
        "encoder_oh.fit(labels)\n",
        "labels_oh = encoder_oh.transform(labels)\n",
        "print(labels_oh.shape)\n",
        "labels_oh.toarray()"
      ],
      "execution_count": 17,
      "outputs": [
        {
          "output_type": "stream",
          "text": [
            "(8, 6)\n"
          ],
          "name": "stdout"
        },
        {
          "output_type": "execute_result",
          "data": {
            "text/plain": [
              "array([[1., 0., 0., 0., 0., 0.],\n",
              "       [0., 1., 0., 0., 0., 0.],\n",
              "       [0., 0., 0., 0., 1., 0.],\n",
              "       [0., 0., 0., 0., 0., 1.],\n",
              "       [0., 0., 0., 1., 0., 0.],\n",
              "       [0., 0., 0., 1., 0., 0.],\n",
              "       [0., 0., 1., 0., 0., 0.],\n",
              "       [0., 0., 1., 0., 0., 0.]])"
            ]
          },
          "metadata": {},
          "execution_count": 17
        }
      ]
    },
    {
      "cell_type": "code",
      "metadata": {
        "id": "6mn7R_GBszkc",
        "colab": {
          "base_uri": "https://localhost:8080/",
          "height": 295
        },
        "outputId": "ed3b456d-9553-4239-ea66-1a0d14cfc19b"
      },
      "source": [
        "# Pandas 원-핫-인코딩\n",
        "# 숫자형 값으로 변환 없이도 바로 변환 가능\n",
        "import pandas as pd\n",
        "\n",
        "df = pd.DataFrame({'item':items})\n",
        "pd.get_dummies(df)"
      ],
      "execution_count": 19,
      "outputs": [
        {
          "output_type": "execute_result",
          "data": {
            "text/html": [
              "<div>\n",
              "<style scoped>\n",
              "    .dataframe tbody tr th:only-of-type {\n",
              "        vertical-align: middle;\n",
              "    }\n",
              "\n",
              "    .dataframe tbody tr th {\n",
              "        vertical-align: top;\n",
              "    }\n",
              "\n",
              "    .dataframe thead th {\n",
              "        text-align: right;\n",
              "    }\n",
              "</style>\n",
              "<table border=\"1\" class=\"dataframe\">\n",
              "  <thead>\n",
              "    <tr style=\"text-align: right;\">\n",
              "      <th></th>\n",
              "      <th>item_TV</th>\n",
              "      <th>item_냉장고</th>\n",
              "      <th>item_믹서</th>\n",
              "      <th>item_선풍기</th>\n",
              "      <th>item_전자렌지</th>\n",
              "      <th>item_컴퓨터</th>\n",
              "    </tr>\n",
              "  </thead>\n",
              "  <tbody>\n",
              "    <tr>\n",
              "      <th>0</th>\n",
              "      <td>1</td>\n",
              "      <td>0</td>\n",
              "      <td>0</td>\n",
              "      <td>0</td>\n",
              "      <td>0</td>\n",
              "      <td>0</td>\n",
              "    </tr>\n",
              "    <tr>\n",
              "      <th>1</th>\n",
              "      <td>0</td>\n",
              "      <td>1</td>\n",
              "      <td>0</td>\n",
              "      <td>0</td>\n",
              "      <td>0</td>\n",
              "      <td>0</td>\n",
              "    </tr>\n",
              "    <tr>\n",
              "      <th>2</th>\n",
              "      <td>0</td>\n",
              "      <td>0</td>\n",
              "      <td>0</td>\n",
              "      <td>0</td>\n",
              "      <td>1</td>\n",
              "      <td>0</td>\n",
              "    </tr>\n",
              "    <tr>\n",
              "      <th>3</th>\n",
              "      <td>0</td>\n",
              "      <td>0</td>\n",
              "      <td>0</td>\n",
              "      <td>0</td>\n",
              "      <td>0</td>\n",
              "      <td>1</td>\n",
              "    </tr>\n",
              "    <tr>\n",
              "      <th>4</th>\n",
              "      <td>0</td>\n",
              "      <td>0</td>\n",
              "      <td>0</td>\n",
              "      <td>1</td>\n",
              "      <td>0</td>\n",
              "      <td>0</td>\n",
              "    </tr>\n",
              "    <tr>\n",
              "      <th>5</th>\n",
              "      <td>0</td>\n",
              "      <td>0</td>\n",
              "      <td>0</td>\n",
              "      <td>1</td>\n",
              "      <td>0</td>\n",
              "      <td>0</td>\n",
              "    </tr>\n",
              "    <tr>\n",
              "      <th>6</th>\n",
              "      <td>0</td>\n",
              "      <td>0</td>\n",
              "      <td>1</td>\n",
              "      <td>0</td>\n",
              "      <td>0</td>\n",
              "      <td>0</td>\n",
              "    </tr>\n",
              "    <tr>\n",
              "      <th>7</th>\n",
              "      <td>0</td>\n",
              "      <td>0</td>\n",
              "      <td>1</td>\n",
              "      <td>0</td>\n",
              "      <td>0</td>\n",
              "      <td>0</td>\n",
              "    </tr>\n",
              "  </tbody>\n",
              "</table>\n",
              "</div>"
            ],
            "text/plain": [
              "   item_TV  item_냉장고  item_믹서  item_선풍기  item_전자렌지  item_컴퓨터\n",
              "0        1         0        0         0          0         0\n",
              "1        0         1        0         0          0         0\n",
              "2        0         0        0         0          1         0\n",
              "3        0         0        0         0          0         1\n",
              "4        0         0        0         1          0         0\n",
              "5        0         0        0         1          0         0\n",
              "6        0         0        1         0          0         0\n",
              "7        0         0        1         0          0         0"
            ]
          },
          "metadata": {},
          "execution_count": 19
        }
      ]
    },
    {
      "cell_type": "markdown",
      "metadata": {
        "id": "hg-U2nBR3Yhb"
      },
      "source": [
        "### 원-핫-인코딩 실습 01\n",
        "\n",
        "- 데이터는 1994년 인구 조사 데이터베이스에서 추출한 미국 성인 소득 데이터셋\n",
        "\n",
        "- adult 데이터셋을 사용해 어떤 근로자의 수입이 50,000달라를 초과하는지, 그 이하일지를 예측\n",
        "\n",
        "- 특성에는 나이, 고용형태, 교육 수준, 성별, 주당 근로시간, 직업 등이 있음"
      ]
    },
    {
      "cell_type": "code",
      "metadata": {
        "id": "ePix4hZfyEHY",
        "colab": {
          "base_uri": "https://localhost:8080/",
          "height": 203
        },
        "outputId": "7f27b514-8bbc-49ab-d147-cbb1e4cb6a60"
      },
      "source": [
        "import os\n",
        "import pandas as pd\n",
        "import mglearn\n",
        "\n",
        "# 열 이름을 나타내는 헤더가 없으므로 header=None으로 지정 names 매개변수로 열 이름을 제공\n",
        "names=['age', 'workclass', 'fnlwgt', 'education',  'education-num',\n",
        "        'marital-status', 'occupation', 'relationship', 'race', 'gender',\n",
        "        'capital-gain', 'capital-loss', 'hours-per-week', 'native-country',\n",
        "        'income']\n",
        "\n",
        "# 실습을 위해 몇개의 열만 선택\n",
        "select_names = ['age', 'workclass', 'education', 'gender', 'hours-per-week', 'occupation', 'income']\n",
        "\n",
        "df = pd.read_csv(os.path.join(mglearn.datasets.DATA_PATH,'adult.data'), header=None, index_col=False, names=names)\n",
        "df.head()\n",
        "\n",
        "df = df[select_names]\n",
        "df.head()"
      ],
      "execution_count": 26,
      "outputs": [
        {
          "output_type": "execute_result",
          "data": {
            "text/html": [
              "<div>\n",
              "<style scoped>\n",
              "    .dataframe tbody tr th:only-of-type {\n",
              "        vertical-align: middle;\n",
              "    }\n",
              "\n",
              "    .dataframe tbody tr th {\n",
              "        vertical-align: top;\n",
              "    }\n",
              "\n",
              "    .dataframe thead th {\n",
              "        text-align: right;\n",
              "    }\n",
              "</style>\n",
              "<table border=\"1\" class=\"dataframe\">\n",
              "  <thead>\n",
              "    <tr style=\"text-align: right;\">\n",
              "      <th></th>\n",
              "      <th>age</th>\n",
              "      <th>workclass</th>\n",
              "      <th>education</th>\n",
              "      <th>gender</th>\n",
              "      <th>hours-per-week</th>\n",
              "      <th>occupation</th>\n",
              "      <th>income</th>\n",
              "    </tr>\n",
              "  </thead>\n",
              "  <tbody>\n",
              "    <tr>\n",
              "      <th>0</th>\n",
              "      <td>39</td>\n",
              "      <td>State-gov</td>\n",
              "      <td>Bachelors</td>\n",
              "      <td>Male</td>\n",
              "      <td>40</td>\n",
              "      <td>Adm-clerical</td>\n",
              "      <td>&lt;=50K</td>\n",
              "    </tr>\n",
              "    <tr>\n",
              "      <th>1</th>\n",
              "      <td>50</td>\n",
              "      <td>Self-emp-not-inc</td>\n",
              "      <td>Bachelors</td>\n",
              "      <td>Male</td>\n",
              "      <td>13</td>\n",
              "      <td>Exec-managerial</td>\n",
              "      <td>&lt;=50K</td>\n",
              "    </tr>\n",
              "    <tr>\n",
              "      <th>2</th>\n",
              "      <td>38</td>\n",
              "      <td>Private</td>\n",
              "      <td>HS-grad</td>\n",
              "      <td>Male</td>\n",
              "      <td>40</td>\n",
              "      <td>Handlers-cleaners</td>\n",
              "      <td>&lt;=50K</td>\n",
              "    </tr>\n",
              "    <tr>\n",
              "      <th>3</th>\n",
              "      <td>53</td>\n",
              "      <td>Private</td>\n",
              "      <td>11th</td>\n",
              "      <td>Male</td>\n",
              "      <td>40</td>\n",
              "      <td>Handlers-cleaners</td>\n",
              "      <td>&lt;=50K</td>\n",
              "    </tr>\n",
              "    <tr>\n",
              "      <th>4</th>\n",
              "      <td>28</td>\n",
              "      <td>Private</td>\n",
              "      <td>Bachelors</td>\n",
              "      <td>Female</td>\n",
              "      <td>40</td>\n",
              "      <td>Prof-specialty</td>\n",
              "      <td>&lt;=50K</td>\n",
              "    </tr>\n",
              "  </tbody>\n",
              "</table>\n",
              "</div>"
            ],
            "text/plain": [
              "   age          workclass  ...          occupation  income\n",
              "0   39          State-gov  ...        Adm-clerical   <=50K\n",
              "1   50   Self-emp-not-inc  ...     Exec-managerial   <=50K\n",
              "2   38            Private  ...   Handlers-cleaners   <=50K\n",
              "3   53            Private  ...   Handlers-cleaners   <=50K\n",
              "4   28            Private  ...      Prof-specialty   <=50K\n",
              "\n",
              "[5 rows x 7 columns]"
            ]
          },
          "metadata": {},
          "execution_count": 26
        }
      ]
    },
    {
      "cell_type": "code",
      "metadata": {
        "colab": {
          "base_uri": "https://localhost:8080/"
        },
        "id": "fgmljjWuWyhg",
        "outputId": "306f0cba-826c-4cdd-c8f1-b00d69da0d22"
      },
      "source": [
        "df.info()"
      ],
      "execution_count": 27,
      "outputs": [
        {
          "output_type": "stream",
          "text": [
            "<class 'pandas.core.frame.DataFrame'>\n",
            "RangeIndex: 32561 entries, 0 to 32560\n",
            "Data columns (total 7 columns):\n",
            " #   Column          Non-Null Count  Dtype \n",
            "---  ------          --------------  ----- \n",
            " 0   age             32561 non-null  int64 \n",
            " 1   workclass       32561 non-null  object\n",
            " 2   education       32561 non-null  object\n",
            " 3   gender          32561 non-null  object\n",
            " 4   hours-per-week  32561 non-null  int64 \n",
            " 5   occupation      32561 non-null  object\n",
            " 6   income          32561 non-null  object\n",
            "dtypes: int64(2), object(5)\n",
            "memory usage: 1.7+ MB\n"
          ],
          "name": "stdout"
        }
      ]
    },
    {
      "cell_type": "markdown",
      "metadata": {
        "id": "8ufEvTfz3nIU"
      },
      "source": [
        "#### 범주형 데이터 문자열 확인하기"
      ]
    },
    {
      "cell_type": "code",
      "metadata": {
        "colab": {
          "base_uri": "https://localhost:8080/",
          "height": 417
        },
        "id": "iQnue24wXctB",
        "outputId": "c8c46699-7de2-4b19-cec6-6117082cf6fe"
      },
      "source": [
        "df.loc[df['workclass'] == ' ?']"
      ],
      "execution_count": 31,
      "outputs": [
        {
          "output_type": "execute_result",
          "data": {
            "text/html": [
              "<div>\n",
              "<style scoped>\n",
              "    .dataframe tbody tr th:only-of-type {\n",
              "        vertical-align: middle;\n",
              "    }\n",
              "\n",
              "    .dataframe tbody tr th {\n",
              "        vertical-align: top;\n",
              "    }\n",
              "\n",
              "    .dataframe thead th {\n",
              "        text-align: right;\n",
              "    }\n",
              "</style>\n",
              "<table border=\"1\" class=\"dataframe\">\n",
              "  <thead>\n",
              "    <tr style=\"text-align: right;\">\n",
              "      <th></th>\n",
              "      <th>age</th>\n",
              "      <th>workclass</th>\n",
              "      <th>education</th>\n",
              "      <th>gender</th>\n",
              "      <th>hours-per-week</th>\n",
              "      <th>occupation</th>\n",
              "      <th>income</th>\n",
              "    </tr>\n",
              "  </thead>\n",
              "  <tbody>\n",
              "    <tr>\n",
              "      <th>27</th>\n",
              "      <td>54</td>\n",
              "      <td>?</td>\n",
              "      <td>Some-college</td>\n",
              "      <td>Male</td>\n",
              "      <td>60</td>\n",
              "      <td>?</td>\n",
              "      <td>&gt;50K</td>\n",
              "    </tr>\n",
              "    <tr>\n",
              "      <th>61</th>\n",
              "      <td>32</td>\n",
              "      <td>?</td>\n",
              "      <td>7th-8th</td>\n",
              "      <td>Male</td>\n",
              "      <td>40</td>\n",
              "      <td>?</td>\n",
              "      <td>&lt;=50K</td>\n",
              "    </tr>\n",
              "    <tr>\n",
              "      <th>69</th>\n",
              "      <td>25</td>\n",
              "      <td>?</td>\n",
              "      <td>Some-college</td>\n",
              "      <td>Male</td>\n",
              "      <td>40</td>\n",
              "      <td>?</td>\n",
              "      <td>&lt;=50K</td>\n",
              "    </tr>\n",
              "    <tr>\n",
              "      <th>77</th>\n",
              "      <td>67</td>\n",
              "      <td>?</td>\n",
              "      <td>10th</td>\n",
              "      <td>Male</td>\n",
              "      <td>2</td>\n",
              "      <td>?</td>\n",
              "      <td>&lt;=50K</td>\n",
              "    </tr>\n",
              "    <tr>\n",
              "      <th>106</th>\n",
              "      <td>17</td>\n",
              "      <td>?</td>\n",
              "      <td>10th</td>\n",
              "      <td>Female</td>\n",
              "      <td>32</td>\n",
              "      <td>?</td>\n",
              "      <td>&lt;=50K</td>\n",
              "    </tr>\n",
              "    <tr>\n",
              "      <th>...</th>\n",
              "      <td>...</td>\n",
              "      <td>...</td>\n",
              "      <td>...</td>\n",
              "      <td>...</td>\n",
              "      <td>...</td>\n",
              "      <td>...</td>\n",
              "      <td>...</td>\n",
              "    </tr>\n",
              "    <tr>\n",
              "      <th>32530</th>\n",
              "      <td>35</td>\n",
              "      <td>?</td>\n",
              "      <td>Bachelors</td>\n",
              "      <td>Female</td>\n",
              "      <td>55</td>\n",
              "      <td>?</td>\n",
              "      <td>&gt;50K</td>\n",
              "    </tr>\n",
              "    <tr>\n",
              "      <th>32531</th>\n",
              "      <td>30</td>\n",
              "      <td>?</td>\n",
              "      <td>Bachelors</td>\n",
              "      <td>Female</td>\n",
              "      <td>99</td>\n",
              "      <td>?</td>\n",
              "      <td>&lt;=50K</td>\n",
              "    </tr>\n",
              "    <tr>\n",
              "      <th>32539</th>\n",
              "      <td>71</td>\n",
              "      <td>?</td>\n",
              "      <td>Doctorate</td>\n",
              "      <td>Male</td>\n",
              "      <td>10</td>\n",
              "      <td>?</td>\n",
              "      <td>&gt;50K</td>\n",
              "    </tr>\n",
              "    <tr>\n",
              "      <th>32541</th>\n",
              "      <td>41</td>\n",
              "      <td>?</td>\n",
              "      <td>HS-grad</td>\n",
              "      <td>Female</td>\n",
              "      <td>32</td>\n",
              "      <td>?</td>\n",
              "      <td>&lt;=50K</td>\n",
              "    </tr>\n",
              "    <tr>\n",
              "      <th>32542</th>\n",
              "      <td>72</td>\n",
              "      <td>?</td>\n",
              "      <td>HS-grad</td>\n",
              "      <td>Male</td>\n",
              "      <td>25</td>\n",
              "      <td>?</td>\n",
              "      <td>&lt;=50K</td>\n",
              "    </tr>\n",
              "  </tbody>\n",
              "</table>\n",
              "<p>1836 rows × 7 columns</p>\n",
              "</div>"
            ],
            "text/plain": [
              "       age workclass      education   gender  hours-per-week occupation  income\n",
              "27      54         ?   Some-college     Male              60          ?    >50K\n",
              "61      32         ?        7th-8th     Male              40          ?   <=50K\n",
              "69      25         ?   Some-college     Male              40          ?   <=50K\n",
              "77      67         ?           10th     Male               2          ?   <=50K\n",
              "106     17         ?           10th   Female              32          ?   <=50K\n",
              "...    ...       ...            ...      ...             ...        ...     ...\n",
              "32530   35         ?      Bachelors   Female              55          ?    >50K\n",
              "32531   30         ?      Bachelors   Female              99          ?   <=50K\n",
              "32539   71         ?      Doctorate     Male              10          ?    >50K\n",
              "32541   41         ?        HS-grad   Female              32          ?   <=50K\n",
              "32542   72         ?        HS-grad     Male              25          ?   <=50K\n",
              "\n",
              "[1836 rows x 7 columns]"
            ]
          },
          "metadata": {},
          "execution_count": 31
        }
      ]
    },
    {
      "cell_type": "code",
      "metadata": {
        "id": "7GMuj7_63qSL",
        "colab": {
          "base_uri": "https://localhost:8080/"
        },
        "outputId": "661af60c-9a9f-4b4d-d105-f45658d682a1"
      },
      "source": [
        "# 열의 내용을 확인하기 위해 유일한 값이 각각 몇 번 나타나는지 출력\n",
        "df['workclass'].value_counts()"
      ],
      "execution_count": 28,
      "outputs": [
        {
          "output_type": "execute_result",
          "data": {
            "text/plain": [
              " Private             22696\n",
              " Self-emp-not-inc     2541\n",
              " Local-gov            2093\n",
              " ?                    1836\n",
              " State-gov            1298\n",
              " Self-emp-inc         1116\n",
              " Federal-gov           960\n",
              " Without-pay            14\n",
              " Never-worked            7\n",
              "Name: workclass, dtype: int64"
            ]
          },
          "metadata": {},
          "execution_count": 28
        }
      ]
    },
    {
      "cell_type": "markdown",
      "metadata": {
        "id": "8PCB0AbO4X_j"
      },
      "source": [
        "- 성별의 경우 Male, Female로 잘 나누어져있고, 정확하게 두 가지 값을 가지고 있어서 원-핫-인코딩으로 나타내기 좋은 형태\n",
        "- 모든 열을 살펴보고 그 값들의 확인이 필요"
      ]
    },
    {
      "cell_type": "code",
      "metadata": {
        "id": "zF6S5W5F4h2Z",
        "colab": {
          "base_uri": "https://localhost:8080/",
          "height": 1000
        },
        "outputId": "306b200e-89fb-4fea-f7f2-1d948cbb8e95"
      },
      "source": [
        "# 원 핫 인코딩 수행\n",
        "pd.get_dummies(df['gender'])\n",
        "\n",
        "df_dummies = pd.get_dummies(df)\n",
        "df_dummies.head().T"
      ],
      "execution_count": 33,
      "outputs": [
        {
          "output_type": "execute_result",
          "data": {
            "text/html": [
              "<div>\n",
              "<style scoped>\n",
              "    .dataframe tbody tr th:only-of-type {\n",
              "        vertical-align: middle;\n",
              "    }\n",
              "\n",
              "    .dataframe tbody tr th {\n",
              "        vertical-align: top;\n",
              "    }\n",
              "\n",
              "    .dataframe thead th {\n",
              "        text-align: right;\n",
              "    }\n",
              "</style>\n",
              "<table border=\"1\" class=\"dataframe\">\n",
              "  <thead>\n",
              "    <tr style=\"text-align: right;\">\n",
              "      <th></th>\n",
              "      <th>0</th>\n",
              "      <th>1</th>\n",
              "      <th>2</th>\n",
              "      <th>3</th>\n",
              "      <th>4</th>\n",
              "    </tr>\n",
              "  </thead>\n",
              "  <tbody>\n",
              "    <tr>\n",
              "      <th>age</th>\n",
              "      <td>39</td>\n",
              "      <td>50</td>\n",
              "      <td>38</td>\n",
              "      <td>53</td>\n",
              "      <td>28</td>\n",
              "    </tr>\n",
              "    <tr>\n",
              "      <th>hours-per-week</th>\n",
              "      <td>40</td>\n",
              "      <td>13</td>\n",
              "      <td>40</td>\n",
              "      <td>40</td>\n",
              "      <td>40</td>\n",
              "    </tr>\n",
              "    <tr>\n",
              "      <th>workclass_ ?</th>\n",
              "      <td>0</td>\n",
              "      <td>0</td>\n",
              "      <td>0</td>\n",
              "      <td>0</td>\n",
              "      <td>0</td>\n",
              "    </tr>\n",
              "    <tr>\n",
              "      <th>workclass_ Federal-gov</th>\n",
              "      <td>0</td>\n",
              "      <td>0</td>\n",
              "      <td>0</td>\n",
              "      <td>0</td>\n",
              "      <td>0</td>\n",
              "    </tr>\n",
              "    <tr>\n",
              "      <th>workclass_ Local-gov</th>\n",
              "      <td>0</td>\n",
              "      <td>0</td>\n",
              "      <td>0</td>\n",
              "      <td>0</td>\n",
              "      <td>0</td>\n",
              "    </tr>\n",
              "    <tr>\n",
              "      <th>workclass_ Never-worked</th>\n",
              "      <td>0</td>\n",
              "      <td>0</td>\n",
              "      <td>0</td>\n",
              "      <td>0</td>\n",
              "      <td>0</td>\n",
              "    </tr>\n",
              "    <tr>\n",
              "      <th>workclass_ Private</th>\n",
              "      <td>0</td>\n",
              "      <td>0</td>\n",
              "      <td>1</td>\n",
              "      <td>1</td>\n",
              "      <td>1</td>\n",
              "    </tr>\n",
              "    <tr>\n",
              "      <th>workclass_ Self-emp-inc</th>\n",
              "      <td>0</td>\n",
              "      <td>0</td>\n",
              "      <td>0</td>\n",
              "      <td>0</td>\n",
              "      <td>0</td>\n",
              "    </tr>\n",
              "    <tr>\n",
              "      <th>workclass_ Self-emp-not-inc</th>\n",
              "      <td>0</td>\n",
              "      <td>1</td>\n",
              "      <td>0</td>\n",
              "      <td>0</td>\n",
              "      <td>0</td>\n",
              "    </tr>\n",
              "    <tr>\n",
              "      <th>workclass_ State-gov</th>\n",
              "      <td>1</td>\n",
              "      <td>0</td>\n",
              "      <td>0</td>\n",
              "      <td>0</td>\n",
              "      <td>0</td>\n",
              "    </tr>\n",
              "    <tr>\n",
              "      <th>workclass_ Without-pay</th>\n",
              "      <td>0</td>\n",
              "      <td>0</td>\n",
              "      <td>0</td>\n",
              "      <td>0</td>\n",
              "      <td>0</td>\n",
              "    </tr>\n",
              "    <tr>\n",
              "      <th>education_ 10th</th>\n",
              "      <td>0</td>\n",
              "      <td>0</td>\n",
              "      <td>0</td>\n",
              "      <td>0</td>\n",
              "      <td>0</td>\n",
              "    </tr>\n",
              "    <tr>\n",
              "      <th>education_ 11th</th>\n",
              "      <td>0</td>\n",
              "      <td>0</td>\n",
              "      <td>0</td>\n",
              "      <td>1</td>\n",
              "      <td>0</td>\n",
              "    </tr>\n",
              "    <tr>\n",
              "      <th>education_ 12th</th>\n",
              "      <td>0</td>\n",
              "      <td>0</td>\n",
              "      <td>0</td>\n",
              "      <td>0</td>\n",
              "      <td>0</td>\n",
              "    </tr>\n",
              "    <tr>\n",
              "      <th>education_ 1st-4th</th>\n",
              "      <td>0</td>\n",
              "      <td>0</td>\n",
              "      <td>0</td>\n",
              "      <td>0</td>\n",
              "      <td>0</td>\n",
              "    </tr>\n",
              "    <tr>\n",
              "      <th>education_ 5th-6th</th>\n",
              "      <td>0</td>\n",
              "      <td>0</td>\n",
              "      <td>0</td>\n",
              "      <td>0</td>\n",
              "      <td>0</td>\n",
              "    </tr>\n",
              "    <tr>\n",
              "      <th>education_ 7th-8th</th>\n",
              "      <td>0</td>\n",
              "      <td>0</td>\n",
              "      <td>0</td>\n",
              "      <td>0</td>\n",
              "      <td>0</td>\n",
              "    </tr>\n",
              "    <tr>\n",
              "      <th>education_ 9th</th>\n",
              "      <td>0</td>\n",
              "      <td>0</td>\n",
              "      <td>0</td>\n",
              "      <td>0</td>\n",
              "      <td>0</td>\n",
              "    </tr>\n",
              "    <tr>\n",
              "      <th>education_ Assoc-acdm</th>\n",
              "      <td>0</td>\n",
              "      <td>0</td>\n",
              "      <td>0</td>\n",
              "      <td>0</td>\n",
              "      <td>0</td>\n",
              "    </tr>\n",
              "    <tr>\n",
              "      <th>education_ Assoc-voc</th>\n",
              "      <td>0</td>\n",
              "      <td>0</td>\n",
              "      <td>0</td>\n",
              "      <td>0</td>\n",
              "      <td>0</td>\n",
              "    </tr>\n",
              "    <tr>\n",
              "      <th>education_ Bachelors</th>\n",
              "      <td>1</td>\n",
              "      <td>1</td>\n",
              "      <td>0</td>\n",
              "      <td>0</td>\n",
              "      <td>1</td>\n",
              "    </tr>\n",
              "    <tr>\n",
              "      <th>education_ Doctorate</th>\n",
              "      <td>0</td>\n",
              "      <td>0</td>\n",
              "      <td>0</td>\n",
              "      <td>0</td>\n",
              "      <td>0</td>\n",
              "    </tr>\n",
              "    <tr>\n",
              "      <th>education_ HS-grad</th>\n",
              "      <td>0</td>\n",
              "      <td>0</td>\n",
              "      <td>1</td>\n",
              "      <td>0</td>\n",
              "      <td>0</td>\n",
              "    </tr>\n",
              "    <tr>\n",
              "      <th>education_ Masters</th>\n",
              "      <td>0</td>\n",
              "      <td>0</td>\n",
              "      <td>0</td>\n",
              "      <td>0</td>\n",
              "      <td>0</td>\n",
              "    </tr>\n",
              "    <tr>\n",
              "      <th>education_ Preschool</th>\n",
              "      <td>0</td>\n",
              "      <td>0</td>\n",
              "      <td>0</td>\n",
              "      <td>0</td>\n",
              "      <td>0</td>\n",
              "    </tr>\n",
              "    <tr>\n",
              "      <th>education_ Prof-school</th>\n",
              "      <td>0</td>\n",
              "      <td>0</td>\n",
              "      <td>0</td>\n",
              "      <td>0</td>\n",
              "      <td>0</td>\n",
              "    </tr>\n",
              "    <tr>\n",
              "      <th>education_ Some-college</th>\n",
              "      <td>0</td>\n",
              "      <td>0</td>\n",
              "      <td>0</td>\n",
              "      <td>0</td>\n",
              "      <td>0</td>\n",
              "    </tr>\n",
              "    <tr>\n",
              "      <th>gender_ Female</th>\n",
              "      <td>0</td>\n",
              "      <td>0</td>\n",
              "      <td>0</td>\n",
              "      <td>0</td>\n",
              "      <td>1</td>\n",
              "    </tr>\n",
              "    <tr>\n",
              "      <th>gender_ Male</th>\n",
              "      <td>1</td>\n",
              "      <td>1</td>\n",
              "      <td>1</td>\n",
              "      <td>1</td>\n",
              "      <td>0</td>\n",
              "    </tr>\n",
              "    <tr>\n",
              "      <th>occupation_ ?</th>\n",
              "      <td>0</td>\n",
              "      <td>0</td>\n",
              "      <td>0</td>\n",
              "      <td>0</td>\n",
              "      <td>0</td>\n",
              "    </tr>\n",
              "    <tr>\n",
              "      <th>occupation_ Adm-clerical</th>\n",
              "      <td>1</td>\n",
              "      <td>0</td>\n",
              "      <td>0</td>\n",
              "      <td>0</td>\n",
              "      <td>0</td>\n",
              "    </tr>\n",
              "    <tr>\n",
              "      <th>occupation_ Armed-Forces</th>\n",
              "      <td>0</td>\n",
              "      <td>0</td>\n",
              "      <td>0</td>\n",
              "      <td>0</td>\n",
              "      <td>0</td>\n",
              "    </tr>\n",
              "    <tr>\n",
              "      <th>occupation_ Craft-repair</th>\n",
              "      <td>0</td>\n",
              "      <td>0</td>\n",
              "      <td>0</td>\n",
              "      <td>0</td>\n",
              "      <td>0</td>\n",
              "    </tr>\n",
              "    <tr>\n",
              "      <th>occupation_ Exec-managerial</th>\n",
              "      <td>0</td>\n",
              "      <td>1</td>\n",
              "      <td>0</td>\n",
              "      <td>0</td>\n",
              "      <td>0</td>\n",
              "    </tr>\n",
              "    <tr>\n",
              "      <th>occupation_ Farming-fishing</th>\n",
              "      <td>0</td>\n",
              "      <td>0</td>\n",
              "      <td>0</td>\n",
              "      <td>0</td>\n",
              "      <td>0</td>\n",
              "    </tr>\n",
              "    <tr>\n",
              "      <th>occupation_ Handlers-cleaners</th>\n",
              "      <td>0</td>\n",
              "      <td>0</td>\n",
              "      <td>1</td>\n",
              "      <td>1</td>\n",
              "      <td>0</td>\n",
              "    </tr>\n",
              "    <tr>\n",
              "      <th>occupation_ Machine-op-inspct</th>\n",
              "      <td>0</td>\n",
              "      <td>0</td>\n",
              "      <td>0</td>\n",
              "      <td>0</td>\n",
              "      <td>0</td>\n",
              "    </tr>\n",
              "    <tr>\n",
              "      <th>occupation_ Other-service</th>\n",
              "      <td>0</td>\n",
              "      <td>0</td>\n",
              "      <td>0</td>\n",
              "      <td>0</td>\n",
              "      <td>0</td>\n",
              "    </tr>\n",
              "    <tr>\n",
              "      <th>occupation_ Priv-house-serv</th>\n",
              "      <td>0</td>\n",
              "      <td>0</td>\n",
              "      <td>0</td>\n",
              "      <td>0</td>\n",
              "      <td>0</td>\n",
              "    </tr>\n",
              "    <tr>\n",
              "      <th>occupation_ Prof-specialty</th>\n",
              "      <td>0</td>\n",
              "      <td>0</td>\n",
              "      <td>0</td>\n",
              "      <td>0</td>\n",
              "      <td>1</td>\n",
              "    </tr>\n",
              "    <tr>\n",
              "      <th>occupation_ Protective-serv</th>\n",
              "      <td>0</td>\n",
              "      <td>0</td>\n",
              "      <td>0</td>\n",
              "      <td>0</td>\n",
              "      <td>0</td>\n",
              "    </tr>\n",
              "    <tr>\n",
              "      <th>occupation_ Sales</th>\n",
              "      <td>0</td>\n",
              "      <td>0</td>\n",
              "      <td>0</td>\n",
              "      <td>0</td>\n",
              "      <td>0</td>\n",
              "    </tr>\n",
              "    <tr>\n",
              "      <th>occupation_ Tech-support</th>\n",
              "      <td>0</td>\n",
              "      <td>0</td>\n",
              "      <td>0</td>\n",
              "      <td>0</td>\n",
              "      <td>0</td>\n",
              "    </tr>\n",
              "    <tr>\n",
              "      <th>occupation_ Transport-moving</th>\n",
              "      <td>0</td>\n",
              "      <td>0</td>\n",
              "      <td>0</td>\n",
              "      <td>0</td>\n",
              "      <td>0</td>\n",
              "    </tr>\n",
              "    <tr>\n",
              "      <th>income_ &lt;=50K</th>\n",
              "      <td>1</td>\n",
              "      <td>1</td>\n",
              "      <td>1</td>\n",
              "      <td>1</td>\n",
              "      <td>1</td>\n",
              "    </tr>\n",
              "    <tr>\n",
              "      <th>income_ &gt;50K</th>\n",
              "      <td>0</td>\n",
              "      <td>0</td>\n",
              "      <td>0</td>\n",
              "      <td>0</td>\n",
              "      <td>0</td>\n",
              "    </tr>\n",
              "  </tbody>\n",
              "</table>\n",
              "</div>"
            ],
            "text/plain": [
              "                                0   1   2   3   4\n",
              "age                            39  50  38  53  28\n",
              "hours-per-week                 40  13  40  40  40\n",
              "workclass_ ?                    0   0   0   0   0\n",
              "workclass_ Federal-gov          0   0   0   0   0\n",
              "workclass_ Local-gov            0   0   0   0   0\n",
              "workclass_ Never-worked         0   0   0   0   0\n",
              "workclass_ Private              0   0   1   1   1\n",
              "workclass_ Self-emp-inc         0   0   0   0   0\n",
              "workclass_ Self-emp-not-inc     0   1   0   0   0\n",
              "workclass_ State-gov            1   0   0   0   0\n",
              "workclass_ Without-pay          0   0   0   0   0\n",
              "education_ 10th                 0   0   0   0   0\n",
              "education_ 11th                 0   0   0   1   0\n",
              "education_ 12th                 0   0   0   0   0\n",
              "education_ 1st-4th              0   0   0   0   0\n",
              "education_ 5th-6th              0   0   0   0   0\n",
              "education_ 7th-8th              0   0   0   0   0\n",
              "education_ 9th                  0   0   0   0   0\n",
              "education_ Assoc-acdm           0   0   0   0   0\n",
              "education_ Assoc-voc            0   0   0   0   0\n",
              "education_ Bachelors            1   1   0   0   1\n",
              "education_ Doctorate            0   0   0   0   0\n",
              "education_ HS-grad              0   0   1   0   0\n",
              "education_ Masters              0   0   0   0   0\n",
              "education_ Preschool            0   0   0   0   0\n",
              "education_ Prof-school          0   0   0   0   0\n",
              "education_ Some-college         0   0   0   0   0\n",
              "gender_ Female                  0   0   0   0   1\n",
              "gender_ Male                    1   1   1   1   0\n",
              "occupation_ ?                   0   0   0   0   0\n",
              "occupation_ Adm-clerical        1   0   0   0   0\n",
              "occupation_ Armed-Forces        0   0   0   0   0\n",
              "occupation_ Craft-repair        0   0   0   0   0\n",
              "occupation_ Exec-managerial     0   1   0   0   0\n",
              "occupation_ Farming-fishing     0   0   0   0   0\n",
              "occupation_ Handlers-cleaners   0   0   1   1   0\n",
              "occupation_ Machine-op-inspct   0   0   0   0   0\n",
              "occupation_ Other-service       0   0   0   0   0\n",
              "occupation_ Priv-house-serv     0   0   0   0   0\n",
              "occupation_ Prof-specialty      0   0   0   0   1\n",
              "occupation_ Protective-serv     0   0   0   0   0\n",
              "occupation_ Sales               0   0   0   0   0\n",
              "occupation_ Tech-support        0   0   0   0   0\n",
              "occupation_ Transport-moving    0   0   0   0   0\n",
              "income_ <=50K                   1   1   1   1   1\n",
              "income_ >50K                    0   0   0   0   0"
            ]
          },
          "metadata": {},
          "execution_count": 33
        }
      ]
    },
    {
      "cell_type": "code",
      "metadata": {
        "id": "pt2lj-7Z7a8r",
        "colab": {
          "base_uri": "https://localhost:8080/"
        },
        "outputId": "4beb6912-88be-4aae-8c50-5987b961a442"
      },
      "source": [
        "# 특성과 라벨을 분리\n",
        "# income으로 시작하는 두 열에 인코딩된 라벨을 분리\n",
        "features = df_dummies.loc[:,'age':'occupation_ Transport-moving']\n",
        "X = features.values\n",
        "y = df_dummies['income_ >50K'].values\n",
        "X.shape, y.shape"
      ],
      "execution_count": 37,
      "outputs": [
        {
          "output_type": "execute_result",
          "data": {
            "text/plain": [
              "((32561, 44), (32561,))"
            ]
          },
          "metadata": {},
          "execution_count": 37
        }
      ]
    },
    {
      "cell_type": "code",
      "metadata": {
        "id": "NHU4t-sK7foV",
        "colab": {
          "base_uri": "https://localhost:8080/"
        },
        "outputId": "3f3c1c89-b8fd-4bef-9ccd-9870433c4ce3"
      },
      "source": [
        "# 모델 학습\n",
        "from sklearn.linear_model import LogisticRegression\n",
        "from sklearn.model_selection import train_test_split\n",
        "\n",
        "X_train, X_test, y_train,y_test = train_test_split(X,y,random_state=0)\n",
        "\n",
        "model = LogisticRegression().fit(X_train,y_train)\n",
        "model.score(X_test,y_test)"
      ],
      "execution_count": 38,
      "outputs": [
        {
          "output_type": "execute_result",
          "data": {
            "text/plain": [
              "0.8067804937968308"
            ]
          },
          "metadata": {},
          "execution_count": 38
        }
      ]
    },
    {
      "cell_type": "markdown",
      "metadata": {
        "id": "l3n9M74exYlp"
      },
      "source": [
        "- 훈련 데이터와 테스트 데이터를 모두 담고 있는 DataFrame을 사용해 원-핫-인코딩을 하는 이유\n",
        "- 훈련 세트와 테스트 세트에 범주형 값이 같은 방식으로 표현되어야 하기 때문\n",
        "- 각각 가지고 있는 범주형 값에 따라 특성의 개수가 달라지는 경우가 발생"
      ]
    },
    {
      "cell_type": "markdown",
      "metadata": {
        "id": "nEy6kA8I8TkA"
      },
      "source": [
        "#### 숫자로 표현된 범주형 특성\n",
        "\n",
        "- 저장 공간을 위하여 범주형 변수가 숫자로 된 경우가 많음 (남자 : 1, 여자 : 0) -> 연속형으로 다뤄야 할지 범주형으로 다뤄야 할지 어려울 수 있음\n",
        "\n",
        "- 영화 관람 등급의 경우에는 범주형이지만 순서를 가지고 있고, 영화 별점의 경우에는 별 개수에 따라 연속형으로 나타낼 수도 있고, 범주형으로 나타낼 수도 있음.\n",
        "\n",
        "- 풀려는 문제나 데이터 그리고 어떤 머신러닝 알고리즘을 사용할지에 따라 선택"
      ]
    },
    {
      "cell_type": "code",
      "metadata": {
        "id": "fV1P9d0R2YE0",
        "colab": {
          "base_uri": "https://localhost:8080/"
        },
        "outputId": "7d2ea31a-3d0b-43f3-ec57-51991d5327aa"
      },
      "source": [
        "df = pd.DataFrame( {'숫자특성':[0, 1, 2, 1], '범주형특성':['양말', '여우', '양말', '우산']} )\n",
        "df.info()"
      ],
      "execution_count": 39,
      "outputs": [
        {
          "output_type": "stream",
          "text": [
            "<class 'pandas.core.frame.DataFrame'>\n",
            "RangeIndex: 4 entries, 0 to 3\n",
            "Data columns (total 2 columns):\n",
            " #   Column  Non-Null Count  Dtype \n",
            "---  ------  --------------  ----- \n",
            " 0   숫자특성    4 non-null      int64 \n",
            " 1   범주형특성   4 non-null      object\n",
            "dtypes: int64(1), object(1)\n",
            "memory usage: 192.0+ bytes\n"
          ],
          "name": "stdout"
        }
      ]
    },
    {
      "cell_type": "code",
      "metadata": {
        "colab": {
          "base_uri": "https://localhost:8080/",
          "height": 172
        },
        "id": "2IpDDh7dc-hr",
        "outputId": "23498909-c08f-40ff-9451-de4ef9a71269"
      },
      "source": [
        "pd.get_dummies(df)"
      ],
      "execution_count": 40,
      "outputs": [
        {
          "output_type": "execute_result",
          "data": {
            "text/html": [
              "<div>\n",
              "<style scoped>\n",
              "    .dataframe tbody tr th:only-of-type {\n",
              "        vertical-align: middle;\n",
              "    }\n",
              "\n",
              "    .dataframe tbody tr th {\n",
              "        vertical-align: top;\n",
              "    }\n",
              "\n",
              "    .dataframe thead th {\n",
              "        text-align: right;\n",
              "    }\n",
              "</style>\n",
              "<table border=\"1\" class=\"dataframe\">\n",
              "  <thead>\n",
              "    <tr style=\"text-align: right;\">\n",
              "      <th></th>\n",
              "      <th>숫자특성</th>\n",
              "      <th>범주형특성_양말</th>\n",
              "      <th>범주형특성_여우</th>\n",
              "      <th>범주형특성_우산</th>\n",
              "    </tr>\n",
              "  </thead>\n",
              "  <tbody>\n",
              "    <tr>\n",
              "      <th>0</th>\n",
              "      <td>0</td>\n",
              "      <td>1</td>\n",
              "      <td>0</td>\n",
              "      <td>0</td>\n",
              "    </tr>\n",
              "    <tr>\n",
              "      <th>1</th>\n",
              "      <td>1</td>\n",
              "      <td>0</td>\n",
              "      <td>1</td>\n",
              "      <td>0</td>\n",
              "    </tr>\n",
              "    <tr>\n",
              "      <th>2</th>\n",
              "      <td>2</td>\n",
              "      <td>1</td>\n",
              "      <td>0</td>\n",
              "      <td>0</td>\n",
              "    </tr>\n",
              "    <tr>\n",
              "      <th>3</th>\n",
              "      <td>1</td>\n",
              "      <td>0</td>\n",
              "      <td>0</td>\n",
              "      <td>1</td>\n",
              "    </tr>\n",
              "  </tbody>\n",
              "</table>\n",
              "</div>"
            ],
            "text/plain": [
              "   숫자특성  범주형특성_양말  범주형특성_여우  범주형특성_우산\n",
              "0     0         1         0         0\n",
              "1     1         0         1         0\n",
              "2     2         1         0         0\n",
              "3     1         0         0         1"
            ]
          },
          "metadata": {},
          "execution_count": 40
        }
      ]
    },
    {
      "cell_type": "markdown",
      "metadata": {
        "id": "-2-CzJHYzZC5"
      },
      "source": [
        "- get_dummies 함수는 숫자 특성은 모두 연속형이라고 생각해서 가변수를 만들지 않음"
      ]
    },
    {
      "cell_type": "markdown",
      "metadata": {
        "id": "_Hq4voR69fNF"
      },
      "source": [
        "#### 숫자로 표현된 범주형 특성의 원핫 인코딩\n",
        "\n",
        "- 숫자를 문자로 변환 한 후에 원핫 인코딩\n",
        "```\n",
        "demo_df['숫자'] = demo_df['숫자'].astype(str)\n",
        "pd.get_dummies(demo_df, columns=['숫자'])\n",
        "```"
      ]
    },
    {
      "cell_type": "code",
      "metadata": {
        "id": "uUTIYSgP2kLR",
        "colab": {
          "base_uri": "https://localhost:8080/",
          "height": 172
        },
        "outputId": "652d9b88-1f95-4684-8788-c6b6c287d1d1"
      },
      "source": [
        "df['숫자특성'] = df['숫자특성'].astype(str)\n",
        "pd.get_dummies(df)"
      ],
      "execution_count": 42,
      "outputs": [
        {
          "output_type": "execute_result",
          "data": {
            "text/html": [
              "<div>\n",
              "<style scoped>\n",
              "    .dataframe tbody tr th:only-of-type {\n",
              "        vertical-align: middle;\n",
              "    }\n",
              "\n",
              "    .dataframe tbody tr th {\n",
              "        vertical-align: top;\n",
              "    }\n",
              "\n",
              "    .dataframe thead th {\n",
              "        text-align: right;\n",
              "    }\n",
              "</style>\n",
              "<table border=\"1\" class=\"dataframe\">\n",
              "  <thead>\n",
              "    <tr style=\"text-align: right;\">\n",
              "      <th></th>\n",
              "      <th>숫자특성_0</th>\n",
              "      <th>숫자특성_1</th>\n",
              "      <th>숫자특성_2</th>\n",
              "      <th>범주형특성_양말</th>\n",
              "      <th>범주형특성_여우</th>\n",
              "      <th>범주형특성_우산</th>\n",
              "    </tr>\n",
              "  </thead>\n",
              "  <tbody>\n",
              "    <tr>\n",
              "      <th>0</th>\n",
              "      <td>1</td>\n",
              "      <td>0</td>\n",
              "      <td>0</td>\n",
              "      <td>1</td>\n",
              "      <td>0</td>\n",
              "      <td>0</td>\n",
              "    </tr>\n",
              "    <tr>\n",
              "      <th>1</th>\n",
              "      <td>0</td>\n",
              "      <td>1</td>\n",
              "      <td>0</td>\n",
              "      <td>0</td>\n",
              "      <td>1</td>\n",
              "      <td>0</td>\n",
              "    </tr>\n",
              "    <tr>\n",
              "      <th>2</th>\n",
              "      <td>0</td>\n",
              "      <td>0</td>\n",
              "      <td>1</td>\n",
              "      <td>1</td>\n",
              "      <td>0</td>\n",
              "      <td>0</td>\n",
              "    </tr>\n",
              "    <tr>\n",
              "      <th>3</th>\n",
              "      <td>0</td>\n",
              "      <td>1</td>\n",
              "      <td>0</td>\n",
              "      <td>0</td>\n",
              "      <td>0</td>\n",
              "      <td>1</td>\n",
              "    </tr>\n",
              "  </tbody>\n",
              "</table>\n",
              "</div>"
            ],
            "text/plain": [
              "   숫자특성_0  숫자특성_1  숫자특성_2  범주형특성_양말  범주형특성_여우  범주형특성_우산\n",
              "0       1       0       0         1         0         0\n",
              "1       0       1       0         0         1         0\n",
              "2       0       0       1         1         0         0\n",
              "3       0       1       0         0         0         1"
            ]
          },
          "metadata": {},
          "execution_count": 42
        }
      ]
    },
    {
      "cell_type": "markdown",
      "metadata": {
        "id": "_VCJ2b2vUo3D"
      },
      "source": [
        "## 피처 스케일링(feature scaling)\n",
        "\n",
        "- 서로 다른 변수의 값 범위를 일정한 수준으로 맞추는 작업\n",
        "\n",
        "- 데이터의 스케일에 매우 민감한 머신러닝 알고리즘이 존재 (SVM, 신경망 등)"
      ]
    },
    {
      "cell_type": "markdown",
      "metadata": {
        "id": "SyqpcsLkVmm7"
      },
      "source": [
        "- 표준화(Standardization) : 데이터의 특성 각각이 평균은 0이고 분산이 1인 가우시안 정규 분포를 가진 값으로 변환하는 것\n",
        "\n",
        "- 정규화(Normalization) : 서로 다른 특성의 크기를 통일하기 위해 크기를 변환해주는 것"
      ]
    },
    {
      "cell_type": "code",
      "metadata": {
        "id": "LBZjMIMxVDNx",
        "colab": {
          "base_uri": "https://localhost:8080/",
          "height": 522
        },
        "outputId": "12e97c54-1474-4a78-a6f1-fdbf55e0cf93"
      },
      "source": [
        "# 데이터셋의 스케일을 조정하거나 전처리하는 여러 방법\n",
        "mglearn.plots.plot_scaling()"
      ],
      "execution_count": 43,
      "outputs": [
        {
          "output_type": "stream",
          "text": [
            "findfont: Font family ['NanumBarunGothic'] not found. Falling back to DejaVu Sans.\n",
            "findfont: Font family ['NanumBarunGothic'] not found. Falling back to DejaVu Sans.\n"
          ],
          "name": "stderr"
        },
        {
          "output_type": "display_data",
          "data": {
            "image/png": "[encoded data removed]",
            "text/plain": [
              "<Figure size 1080x576 with 5 Axes>"
            ]
          },
          "metadata": {
            "image/png": {
              "width": 854,
              "height": 470
            },
            "needs_background": "light"
          }
        }
      ]
    },
    {
      "cell_type": "markdown",
      "metadata": {
        "id": "9HSGh2seWDdp"
      },
      "source": [
        "### StandardScaler\n",
        "\n",
        "- 표준화를 쉽게 지원하기 위한 클래스\n",
        "- 평균이 0이고, 분산이 1인 값으로 변환\n",
        "\n",
        "- 서포트 벡터 머신, 선형 회귀, 로지스틱 회귀는 데이터가 가우시안 분포를 가지고 있다고 가정하고 구현되었기에 표준화 적용이 필요"
      ]
    },
    {
      "cell_type": "code",
      "metadata": {
        "id": "dvZQXar1XaXZ"
      },
      "source": [
        "from sklearn.datasets import load_breast_cancer\n",
        "from sklearn.model_selection import train_test_split\n",
        "\n",
        "cancer = load_breast_cancer()\n",
        "\n",
        "X_train, X_test, y_train, y_test = train_test_split(cancer.data, cancer.target, random_state=0)"
      ],
      "execution_count": 45,
      "outputs": []
    },
    {
      "cell_type": "code",
      "metadata": {
        "id": "widcNYqGXsAQ",
        "colab": {
          "base_uri": "https://localhost:8080/"
        },
        "outputId": "7f92bc15-45e5-4eb6-e5d3-cd577da225e2"
      },
      "source": [
        "from sklearn.svm import SVC\n",
        "\n",
        "model = SVC(C=100).fit(X_train,y_train)\n",
        "model.score(X_test,y_test)"
      ],
      "execution_count": 46,
      "outputs": [
        {
          "output_type": "execute_result",
          "data": {
            "text/plain": [
              "0.9440559440559441"
            ]
          },
          "metadata": {},
          "execution_count": 46
        }
      ]
    },
    {
      "cell_type": "code",
      "metadata": {
        "id": "lOQ4bBkTXz5f",
        "colab": {
          "base_uri": "https://localhost:8080/"
        },
        "outputId": "cddf72a7-adc2-4aaf-f481-580b2591cc06"
      },
      "source": [
        "# 평균 0, 분산 1을 갖도록 스케일 조정\n",
        "from sklearn.preprocessing import StandardScaler\n",
        "\n",
        "# 주의 : 변환을 위한 기준 정보 설정\n",
        "# 학습 데이터와 테스트 데이터의 스케일링 기준 정보를 동일하게 유지\n",
        "scaler = StandardScaler()\n",
        "scaler.fit(X_train)\n",
        "\n",
        "X_train_scaled = scaler.transform(X_train)\n",
        "X_test_scaled = scaler.transform(X_test)\n",
        "\n",
        "# 조정된 데이터로 SVM 학습\n",
        "# 스케일 조정된 테스트 세트의 정확도\n",
        "model_s = SVC(C=100).fit(X_train_scaled, y_train)\n",
        "model_s.score(X_test_scaled, y_test)"
      ],
      "execution_count": 51,
      "outputs": [
        {
          "output_type": "execute_result",
          "data": {
            "text/plain": [
              "0.958041958041958"
            ]
          },
          "metadata": {},
          "execution_count": 51
        }
      ]
    },
    {
      "cell_type": "code",
      "metadata": {
        "id": "_zoWHqXPYVe7",
        "colab": {
          "base_uri": "https://localhost:8080/"
        },
        "outputId": "8c6bf137-bc46-45ec-f247-c6b76a55e5af"
      },
      "source": [
        "import pandas as pd\n",
        "\n",
        "df= pd.DataFrame(X_train_scaled)\n",
        "print(\"특성들의 평균 값: \\n\", df.mean().max(), df.mean().min() )\n",
        "print(\"특성들의 분산 값: \\n\", df.var().max(), df.var().min() )"
      ],
      "execution_count": 53,
      "outputs": [
        {
          "output_type": "stream",
          "text": [
            "특성들의 평균 값: \n",
            " 4.43864428779936e-15 -4.0890608583025134e-15\n",
            "특성들의 분산 값: \n",
            " 1.0023529411764727 1.002352941176469\n"
          ],
          "name": "stdout"
        }
      ]
    },
    {
      "cell_type": "markdown",
      "metadata": {
        "id": "apQ-Wg86ZVpx"
      },
      "source": [
        "- 특성의 평균이 0에 아주 가까운 값으로, 분산은 1에 아주 가까운 값으로 변환"
      ]
    },
    {
      "cell_type": "markdown",
      "metadata": {
        "id": "lkWYDLm_X8E_"
      },
      "source": [
        "### MinMaxScaler\n",
        "\n",
        "- 정규화를 쉽게 지원하기 위한 클래스\n",
        "- 데이터값을 0과 1사이의 범위 값으로 변환\n"
      ]
    },
    {
      "cell_type": "code",
      "metadata": {
        "id": "-nxLRaxHZdp3",
        "colab": {
          "base_uri": "https://localhost:8080/"
        },
        "outputId": "56b0c372-5a02-4960-d16b-008695768d6c"
      },
      "source": [
        "from sklearn.preprocessing import MinMaxScaler\n",
        "\n",
        "# 0~1 사이로 스케일 조정\n",
        "scaler = MinMaxScaler()\n",
        "scaler.fit(X_train)\n",
        "\n",
        "X_train_mms = scaler.transform(X_train)\n",
        "X_test_mms = scaler.transform(X_test)\n",
        "\n",
        "# 조정된 데이터로 SVM 학습\n",
        "# 스케일 조정된 테스트 세트의 정확도\n",
        "model_mms = SVC(C=100).fit(X_train_mms, y_train)\n",
        "model_mms.score(X_test_mms, y_test)"
      ],
      "execution_count": 56,
      "outputs": [
        {
          "output_type": "execute_result",
          "data": {
            "text/plain": [
              "0.965034965034965"
            ]
          },
          "metadata": {},
          "execution_count": 56
        }
      ]
    },
    {
      "cell_type": "code",
      "metadata": {
        "id": "Pph1_K-FaENi",
        "colab": {
          "base_uri": "https://localhost:8080/"
        },
        "outputId": "af3bd33c-063f-4474-9e68-8626f50fe87b"
      },
      "source": [
        "# 특성들의 최소값\n",
        "# 특성들의 최대값\n",
        "df = pd.DataFrame(X_train_mms)\n",
        "#print(\"특성들의 최대/최소 값: \\n\", df.max(), df.min() )\n",
        "print(\"특성들의 평균 값: \\n\", df.mean().max(), df.mean().min() )\n",
        "print(\"특성들의 분산 값: \\n\", df.var().max(), df.var().min() )"
      ],
      "execution_count": 58,
      "outputs": [
        {
          "output_type": "stream",
          "text": [
            "특성들의 평균 값: \n",
            " 0.47502971560218216 0.06255967360706766\n",
            "특성들의 분산 값: \n",
            " 0.051092898126947874 0.006306855435092131\n"
          ],
          "name": "stdout"
        }
      ]
    },
    {
      "cell_type": "markdown",
      "metadata": {
        "id": "MXsZG6vX1XHI"
      },
      "source": [
        "# 특성 공학(feature engineering)\n",
        "\n",
        "- 특정 애플리케이션에 가장 적합한 데이터 표현을 찾는 것"
      ]
    },
    {
      "cell_type": "markdown",
      "metadata": {
        "id": "ModrI2jr29t1"
      },
      "source": [
        "- 데이터를 가장 잘 표현하는 방법은 데이터가 가진 의미뿐 아니라 어떤 모델을 사용하는지에 따라 다름\n",
        "\n",
        " - 구간분할(bining) : 한 특성을 여러 특성으로 나누는 것 (이산화)\n",
        "\n",
        " - 용량이 매우 크고 고차원 데이터셋이라 선형 모델을 사용해야 한다면 구간 분할이 모델 성능을 높이는데 도움이 됨\n",
        "\n",
        "- 원본 데이터에 상호작용(interaction)과 다항식(polyonmial) 특성을 추가"
      ]
    },
    {
      "cell_type": "markdown",
      "metadata": {
        "id": "d3Uo5Hrb-oLR"
      },
      "source": [
        "## 특성 자동 선택\n",
        "\n",
        "- 특성이 추가되면 모델이 복잡해지고 과대적합 가능성이 올라감\n",
        "\n",
        "- 유용한 특성만 선택하고 나머지는 무시해서 특성의 수를 줄이는 것이 좋음.\n",
        "\n",
        "- 특성 선택 방법 : 일변량 통계, 모델 기반 선택, 반복적 선택\n"
      ]
    },
    {
      "cell_type": "markdown",
      "metadata": {
        "id": "rbOzCsWO_3ZP"
      },
      "source": [
        "### 일변량 통계(univariate statistics)\n",
        "\n",
        "- 특성과 타켓 사이에 중요한 통계적 관계가 있는지 계산하고 깊게 관련된 것만 선택"
      ]
    },
    {
      "cell_type": "code",
      "metadata": {
        "id": "L9UxIvj2AFNF",
        "colab": {
          "base_uri": "https://localhost:8080/"
        },
        "outputId": "e03996ff-d844-42b2-8594-97003d854122"
      },
      "source": [
        "# 의미 없는 노이즈 특성을 추가하고, 식별해서 제거하는지 확인\n",
        "from sklearn.datasets import load_breast_cancer\n",
        "from sklearn.feature_selection import SelectPercentile, f_classif\n",
        "from sklearn.model_selection import train_test_split\n",
        "import numpy as np\n",
        "import matplotlib.pyplot as plt\n",
        "\n",
        "cancer = load_breast_cancer()\n",
        "\n",
        "# 고정된 난수를 발생\n",
        "rng = np.random.RandomState(42)\n",
        "noise = rng.normal( size=(len(cancer.data), 50) )\n",
        "\n",
        "# 데이터에 노이즈 특성을 추가\n",
        "# 처음 30개는 원본 특성이고 다음 50개는 노이즈\n",
        "X_noise = np.hstack([cancer.data, noise])\n",
        "print( X_noise.shape )\n",
        "\n",
        "X_train, X_test, y_train, y_test = train_test_split(X_noise, cancer.target,\n",
        "                                                    test_size=0.5,\n",
        "                                                    random_state=0)\n",
        "\n",
        "print(X_train.shape)\n",
        "# SelectPercentile을 사용하여 특성의 50%를 선택\n",
        "select = SelectPercentile(percentile=50)\n",
        "select.fit(X_train, y_train)"
      ],
      "execution_count": 68,
      "outputs": [
        {
          "output_type": "stream",
          "text": [
            "(569, 80)\n",
            "(284, 80)\n"
          ],
          "name": "stdout"
        },
        {
          "output_type": "execute_result",
          "data": {
            "text/plain": [
              "SelectPercentile(percentile=50,\n",
              "                 score_func=<function f_classif at 0x7f3a95bcb680>)"
            ]
          },
          "metadata": {},
          "execution_count": 68
        }
      ]
    },
    {
      "cell_type": "code",
      "metadata": {
        "colab": {
          "base_uri": "https://localhost:8080/"
        },
        "id": "WIyOujWZk7Z7",
        "outputId": "72f2afeb-d68f-43b3-d966-d33ff22355a0"
      },
      "source": [
        "select.transform(X_train).shape"
      ],
      "execution_count": 67,
      "outputs": [
        {
          "output_type": "execute_result",
          "data": {
            "text/plain": [
              "(284, 40)"
            ]
          },
          "metadata": {},
          "execution_count": 67
        }
      ]
    },
    {
      "cell_type": "code",
      "metadata": {
        "id": "zXqs_SvtAVP8",
        "colab": {
          "base_uri": "https://localhost:8080/",
          "height": 62
        },
        "outputId": "1419a4d2-0c9f-452a-ebc8-47eb4c5cc452"
      },
      "source": [
        "# 선택된 특성을 boolen 값으로 표시\n",
        "# True는 검은색, False는 흰색으로 마스킹\n",
        "mask = select.get_support()\n",
        "plt.matshow(mask.reshape(1,-1), cmap='gray_r')\n",
        "plt.yticks([0])\n",
        "plt.show()"
      ],
      "execution_count": 72,
      "outputs": [
        {
          "output_type": "display_data",
          "data": {
            "image/png": "[encoded data removed]",
            "text/plain": [
              "<Figure size 1152x144 with 1 Axes>"
            ]
          },
          "metadata": {
            "image/png": {
              "width": 920,
              "height": 45
            },
            "needs_background": "light"
          }
        }
      ]
    },
    {
      "cell_type": "markdown",
      "metadata": {
        "id": "q3rkhYCr9178"
      },
      "source": [
        "- 선택된 특성은 대부분 원본 특성이고 노이즈 특성이 거의 모두 제거"
      ]
    },
    {
      "cell_type": "markdown",
      "metadata": {
        "id": "uaglCaRlA4l8"
      },
      "source": [
        "전체 특성을 이용했을 때와 선택된 특성만 사용했을 때의 성능 비교"
      ]
    },
    {
      "cell_type": "code",
      "metadata": {
        "id": "MS27KZzAA1j1"
      },
      "source": [
        "from sklearn.linear_model import LogisticRegression\n",
        "\n",
        "# 테스트 데이터 변환\n",
        "\n",
        "# 전체 특성을 사용한 점수\n",
        "# 선택된 일부 특성을 사용한 점수"
      ],
      "execution_count": null,
      "outputs": []
    },
    {
      "cell_type": "markdown",
      "metadata": {
        "id": "vt-P9FDP-VUk"
      },
      "source": [
        "- 일부 원본 특성이 없더라도 노이즈 특성을 제거한 쪽의 성능이 더 높음\n",
        "- 너무 많은 특성 때문에 모델을 만들기가 현실적으로 어려울 때 사용\n",
        "- 많은 특성들이 확실히 도움이 안 된다고 생각될 때 사용"
      ]
    },
    {
      "cell_type": "markdown",
      "metadata": {
        "id": "kcbT93-nBqJu"
      },
      "source": [
        "### 모델 기반 선택(model-based selection)\n",
        "\n",
        "- 지도 학습 머신러닝 모델을 사용하여 특성의 중요도를 평가해서 가장 중요한 것만 선택\n",
        "\n",
        "- 지도학습 모델은 최종적으로 사용할 학습 모델과 같을 필요는 없음\n",
        "\n",
        "- 특성 선택을 위한 모델은 각 특성의 중요도를 측정하여 순서 매길 수 있어야 함\n",
        "\n",
        "- 결정트리 기반의 모델들은 각 특성의 중요도를 feature_importances_에 저장"
      ]
    },
    {
      "cell_type": "code",
      "metadata": {
        "id": "W1HHTRohCMt1"
      },
      "source": [
        "from sklearn.feature_selection import SelectFromModel\n",
        "from sklearn.ensemble import RandomForestClassifier\n",
        "\n",
        "# (지도 학습 모델로 계산된) 중요도가 지정한 임계치보다 큰 모든 특성 선택\n",
        "# 일변량 분석으로 선택한 특성과 결과를 비교하기 위해 \n",
        "# 절반 가량의 특성이 선택될수 있도록 중간값을 임계치로 사용\n"
      ],
      "execution_count": null,
      "outputs": []
    },
    {
      "cell_type": "code",
      "metadata": {
        "id": "WQDPT5NINZF9"
      },
      "source": [
        "# 선택된 특성을 boolen 값으로 표시\n",
        "# True는 검은색, False는 흰색으로 마스킹\n"
      ],
      "execution_count": null,
      "outputs": []
    },
    {
      "cell_type": "markdown",
      "metadata": {
        "id": "c9RTkuiICtFF"
      },
      "source": [
        "- 두 개를 제외한 모든 원본 특성이 선택 (특성을 40개 선택 -> 일부 노이즈도 선택) \n",
        "\n"
      ]
    },
    {
      "cell_type": "code",
      "metadata": {
        "id": "gksVQhEPDN00"
      },
      "source": [
        "# 예측 성능 확인\n"
      ],
      "execution_count": null,
      "outputs": []
    },
    {
      "cell_type": "markdown",
      "metadata": {
        "id": "C4dwilApAWJc"
      },
      "source": [
        "- 특성 선택이 더 잘 되었으므로 성능도 조금 향상"
      ]
    },
    {
      "cell_type": "markdown",
      "metadata": {
        "id": "IV39Cag1E3ae"
      },
      "source": [
        "### 반복적 특성 선택(iterative selection)\n",
        "\n",
        "- 특성의 수가 각기 다른 모델에서 만들어짐\n",
        "\n",
        "- 방법\n",
        "\n",
        "  1. 특성을 하나도 선택하지 않은 상태로 시작해 어떤 종료 조건을 도달할 때까지 하나씩 추가하는 방법\n",
        "  2. 모든 특성을 가지고 시작해 어떤 종료 조건이 될 때까지 하나씩 제거하는 방법"
      ]
    },
    {
      "cell_type": "code",
      "metadata": {
        "id": "7SfFH6jxFTiV"
      },
      "source": [
        "from sklearn.feature_selection import RFE\n",
        "\n"
      ],
      "execution_count": null,
      "outputs": []
    },
    {
      "cell_type": "markdown",
      "metadata": {
        "id": "_jIwyolOBaDS"
      },
      "source": [
        "- 이전 보다 특성 선택이 나아졌지만, 여전히 특성 한 개를 놓침\n",
        "- 랜덤 포레스트 모델은 특성이 누락될 때마다 다시 학습하므로 40번이나 실행하여 모델 기반 선택보다 오래 걸림"
      ]
    },
    {
      "cell_type": "code",
      "metadata": {
        "id": "3StYMgIFFgu1"
      },
      "source": [
        "# 예측 성능 확인\n"
      ],
      "execution_count": null,
      "outputs": []
    },
    {
      "cell_type": "markdown",
      "metadata": {
        "id": "fIaDUZ0sCG1U"
      },
      "source": [
        "- 특성 선택이 제대로 되면 선형 모델의 성능은 랜덤 포레스트와 견줄만 함"
      ]
    },
    {
      "cell_type": "markdown",
      "metadata": {
        "id": "YFjJAL5vGGom"
      },
      "source": [
        "## 전문가적 지식 활용\n",
        "\n",
        "- 특성 공학은 특정 어플리케이션을 위해 전문가적 지식을 사용할 수 있는 중요한 영역\n",
        "- 분야 전문가는 종종 초기 데이터에서 더 유용한 특성을 선택할 수 있도록 도움을 줄 수 있음\n",
        "\n",
        "- 해당 분야에 내재된 사전 지식이 특성으로 추가될 수 있다면 머신러닝 알고리즘에 도움이 됨"
      ]
    },
    {
      "cell_type": "markdown",
      "metadata": {
        "id": "I7Nt6hKrDgWy"
      },
      "source": [
        "## 특성 공학 실습 01 \n",
        "\n",
        "시티바이크 데이터\n",
        "\n",
        "- http://www.citibikenyc.com/system-data\n",
        "\n",
        "- 문제 : 특정 날짜와 시간에 앤디 집 앞에 있는 자전거를 사람들이 얼마나 대여할 것인지 예측하는 것 \n",
        "- 앤디가 빌릴 자전거가 남아 있을까?"
      ]
    },
    {
      "cell_type": "markdown",
      "metadata": {
        "id": "08EFapn0GRav"
      },
      "source": [
        "차트 한글\n",
        "\n",
        "```\n",
        "# Windows\n",
        "from matplotlib import font_manager, rc\n",
        "\n",
        "font_name = font_manager.FontProperties(fname=\"c:/Windows/Fonts/malgun.ttf\").get_name()\n",
        "rc('font', family=font_name)\n",
        "```\n",
        "```\n",
        "from matplotlib import rc\n",
        "rc('font', family='Malgun Gothic')\n",
        "```"
      ]
    },
    {
      "cell_type": "code",
      "metadata": {
        "id": "cLQLggbKHO4v"
      },
      "source": [
        "# 2015년 8월 데이터 세 시간 간격 일일 주요 경향\n",
        "import mglearn\n",
        "\n",
        "citibike = mglearn.datasets.load_citibike()\n"
      ],
      "execution_count": null,
      "outputs": []
    },
    {
      "cell_type": "code",
      "metadata": {
        "id": "r0eURPMwHnmT"
      },
      "source": [
        "# 8월 한 달 동안의 대여 횟수\n",
        "import pandas as pd\n"
      ],
      "execution_count": null,
      "outputs": []
    },
    {
      "cell_type": "markdown",
      "metadata": {
        "id": "2jx2nXb7GpAb"
      },
      "source": [
        "- 낮과 밤, 주중과 주말의 패턴 차이\n"
      ]
    },
    {
      "cell_type": "markdown",
      "metadata": {
        "id": "n2rceSqrJJIQ"
      },
      "source": [
        "#### 훈련 세트와 테스트 세트로 나누기\n",
        "\n",
        "- 시계열 데이터를 이용한 예측 작업은 과거 데이터에서 학습하여 미래를 예측하는 방식\n",
        "- 어떤 날짜를 기준으로 훈련 세트와 테스트 세트를 나눔"
      ]
    },
    {
      "cell_type": "code",
      "metadata": {
        "id": "cPyVZaBOJPog"
      },
      "source": [
        "# 3시간 누적 카운트 이므로 하루 24/3=8 개씩 23일 치는 184개 8일 치는 64개\n",
        "# 처음 184개 데이터 포인트를 훈련 세트로 사용하고 나머지는 테스트 세트로 사용\n",
        "n_train = 184\n",
        "\n",
        "# 주어진 특성을 사용하여 평가하고 그래프를 만듬\n",
        "def eval_on_features(features, target, regressor):\n",
        "    # 훈련 세트와 테스트 세트로 나눔\n",
        "    X_train, X_test = features[:n_train], features[n_train:]\n",
        "    y_train, y_test = target[:n_train], target[n_train:]\n",
        "    \n",
        "    regressor.fit(X_train, y_train)\n",
        "    print(\"테스트 세트 R^2: {:.2f}\".format(regressor.score(X_test, y_test))) \n",
        "    \n",
        "    y_pred = regressor.predict(X_test)\n",
        "    y_pred_train = regressor.predict(X_train)\n",
        "    plt.figure(figsize=(10, 3))\n",
        "\n",
        "    plt.xticks(range(0, len(X), 8), xticks_name, rotation=90, ha=\"left\")\n",
        "\n",
        "    plt.plot(range(n_train), y_train, label=\"train\")\n",
        "    plt.plot(range(n_train, len(y_test) + n_train), y_test, '-', label=\"test\")\n",
        "    plt.plot(range(n_train), y_pred_train, '--', label=\"train predict\")\n",
        "\n",
        "    plt.plot(range(n_train, len(y_test) + n_train), y_pred, '--', label=\"test predict\")\n",
        "    plt.legend(loc=(1.01, 0))\n",
        "    plt.xlabel(\"date\")\n",
        "    plt.ylabel(\"rental number\")"
      ],
      "execution_count": null,
      "outputs": []
    },
    {
      "cell_type": "markdown",
      "metadata": {
        "id": "GKeIyhfpJs-w"
      },
      "source": [
        "#### 첫 번째 시도는 날짜와 시간을 하나의 숫자로 표현한 특성을 사용"
      ]
    },
    {
      "cell_type": "code",
      "metadata": {
        "id": "2HYQlyqkJOIN"
      },
      "source": [
        "# 타깃값 추출 (대여 횟수)\n",
        "# y = ?\n",
        "\n",
        "# POSIX 시간 : 1970/1/1 00:00:00 부터 초로 나타냄\n",
        "# POSIX 시간을 10**9로 나누어 변환\n",
        "# X = ?"
      ],
      "execution_count": null,
      "outputs": []
    },
    {
      "cell_type": "markdown",
      "metadata": {
        "id": "o-kbtWZbJlz-"
      },
      "source": [
        "RandomForestRegressro 이용\n",
        "\n",
        "- 데이터 전처리가 거의 필요하지 않아 처음 시도해보기 좋은 모델"
      ]
    },
    {
      "cell_type": "code",
      "metadata": {
        "id": "sml2AlzUJrCm"
      },
      "source": [
        "from sklearn.ensemble import RandomForestRegressor\n"
      ],
      "execution_count": null,
      "outputs": []
    },
    {
      "cell_type": "markdown",
      "metadata": {
        "id": "pdrQnM00LFl-"
      },
      "source": [
        "- 랜덤 포레스트는 훈련 세트에 있는 특성의 범위 밖으로 외샵(extrapolation)할 수 있는 능력이 없음\n",
        "- 테스트 세트와 가장 가까이 있는 마지막 훈련 세트 데이터의 타깃값을 예측으로 사용"
      ]
    },
    {
      "cell_type": "markdown",
      "metadata": {
        "id": "SHTJrpBOK0wo"
      },
      "source": [
        "#### 두 번째 시도는 시간과 요일 특성을 추가\n",
        "\n",
        "- 전문가적 지식 : 훈련 데이터의 대여 데이터를 시간과 요일 이라는 두 요소가 중요한 것으로 보임"
      ]
    },
    {
      "cell_type": "code",
      "metadata": {
        "id": "xZA7xWhZLN2k"
      },
      "source": [
        "# 시간 정보 추가\n"
      ],
      "execution_count": null,
      "outputs": []
    },
    {
      "cell_type": "code",
      "metadata": {
        "id": "RgOrH5rZMJUv"
      },
      "source": [
        "# 요일 정보도 추가\n"
      ],
      "execution_count": null,
      "outputs": []
    },
    {
      "cell_type": "code",
      "metadata": {
        "id": "jPZim-hHMn9f"
      },
      "source": [
        "# LinearRegression 을 적용\n",
        "# 굳이 랜덤 포레스트같이 복잡한 모델이 필요하지 않음\n",
        "from sklearn.linear_model import LinearRegression\n"
      ],
      "execution_count": null,
      "outputs": []
    },
    {
      "cell_type": "markdown",
      "metadata": {
        "id": "hPX7uiodM06Q"
      },
      "source": [
        "- 성능 나쁘고 주기 패턴 이상 이유\n",
        " - 요일과 시간이 정수로 인코딩되어 있어서 연속형 변수로 해석되기 때문\n",
        " - 하루에서 시간이 흐를 수록 대여수가 늘어나게 학습되어 있음\n",
        " - 하지만 실제 패턴 이보다 복잡 \n",
        "\n",
        "- 이 패턴을 잡아내기 위해 OneHotEncoder를 사용하여 정수형을 범주형 변수로 해석"
      ]
    },
    {
      "cell_type": "code",
      "metadata": {
        "id": "xv5d2-r8NVZM"
      },
      "source": [
        "from sklearn.preprocessing import OneHotEncoder\n"
      ],
      "execution_count": null,
      "outputs": []
    },
    {
      "cell_type": "markdown",
      "metadata": {
        "id": "mCG04wvaTfN5"
      },
      "source": [
        "Ridge 이용"
      ]
    },
    {
      "cell_type": "code",
      "metadata": {
        "id": "d7vAMB_pNnP8"
      },
      "source": [
        "from sklearn.linear_model import Ridge\n"
      ],
      "execution_count": null,
      "outputs": []
    },
    {
      "cell_type": "markdown",
      "metadata": {
        "id": "bcXZqFGNN4-Y"
      },
      "source": [
        "- 연속형 특성일 때보다 훨씬 좋아짐\n",
        "\n",
        " - 이 선형 모델은 요일에 대해 하나의 계수를 학습\n",
        " - 시간에 대해서도 하나의 계수 학습\n",
        " - 시간 패턴이 모든 날에 걸쳐 공유된다는 뜻\n",
        "\n",
        "- 상호작용 특성을 사용하면 시간과 요일 조합별 계수를 학습 가능"
      ]
    },
    {
      "cell_type": "code",
      "metadata": {
        "id": "yQlFRFjhN-RO"
      },
      "source": [
        "# 상호작용 특성 추가\n",
        "from sklearn.preprocessing import PolynomialFeatures\n"
      ],
      "execution_count": null,
      "outputs": []
    },
    {
      "cell_type": "markdown",
      "metadata": {
        "id": "d_wK2s2EOQTi"
      },
      "source": [
        "- 이 모델 가장 큰 장점 : 무엇이 학습되었는지 명확 \n",
        "\n",
        "- 각 날짜와 시간에 대해 하나의 계수를 학습 \n",
        "\n",
        "- 랜덤 포레스트와는 달리 이 모델이 학습한 계수를 그래프로 나타낼수 있음"
      ]
    },
    {
      "cell_type": "code",
      "metadata": {
        "id": "zqgSRiToRZwW"
      },
      "source": [
        "# 시간과 요일 특성의 이름\n"
      ],
      "execution_count": null,
      "outputs": []
    },
    {
      "cell_type": "code",
      "metadata": {
        "id": "ynk0RyTfRcFr"
      },
      "source": [
        "# 추출한 모든 상호작용 특성에 이름을 부여\n",
        "# 계수가 0이 아닌 특성만 선택\n"
      ],
      "execution_count": null,
      "outputs": []
    },
    {
      "cell_type": "code",
      "metadata": {
        "id": "BSejArpVRdm7"
      },
      "source": [
        "# 시간과 요일의 곱을 사용한 선형 모델의 계수"
      ],
      "execution_count": null,
      "outputs": []
    },
    {
      "cell_type": "markdown",
      "metadata": {
        "id": "wPcM0_3TjkGr"
      },
      "source": [
        "## 특성 공학 실습 02\n",
        "\n",
        "캐글 주택 가격\n",
        "\n",
        "- https://www.kaggle.com/c/house-prices-advanced-regression-techniques/data\n",
        "\n",
        "- 문제 : 주택 판매 가격 예측 \n"
      ]
    },
    {
      "cell_type": "markdown",
      "metadata": {
        "id": "1_2ORByyiuN4"
      },
      "source": [
        "### 데이터 사전 처리(Preprocessing)"
      ]
    },
    {
      "cell_type": "code",
      "metadata": {
        "id": "NresOqhNiuOB"
      },
      "source": [
        "import warnings\n",
        "warnings.filterwarnings('ignore')\n",
        "import pandas as pd\n",
        "import numpy as np\n",
        "import seaborn as sns\n",
        "import matplotlib.pyplot as plt\n",
        "%matplotlib inline\n",
        "\n",
        "house_df_org = pd.read_csv(drive_path + 'house_price.csv')\n"
      ],
      "execution_count": null,
      "outputs": []
    },
    {
      "cell_type": "markdown",
      "metadata": {
        "id": "_MOPAY0IiuOG"
      },
      "source": [
        "### 선형 회귀 모델의 학습/예측/평가"
      ]
    },
    {
      "cell_type": "code",
      "metadata": {
        "id": "OMPFM24diuOH"
      },
      "source": [
        "def get_rmse(model):\n",
        "    pred = model.predict(X_test)\n",
        "    mse = mean_squared_error(y_test , pred)\n",
        "    rmse = np.sqrt(mse)\n",
        "    print('{0} 로그 변환된 RMSE: {1}'.format(model.__class__.__name__,np.round(rmse, 3)))\n",
        "    return rmse\n",
        "\n",
        "def get_rmses(models):\n",
        "    rmses = [ ]\n",
        "    for model in models:\n",
        "        rmse = get_rmse(model)\n",
        "        rmses.append(rmse)\n",
        "    return rmses"
      ],
      "execution_count": null,
      "outputs": []
    },
    {
      "cell_type": "code",
      "metadata": {
        "id": "svSAYi54iuOH"
      },
      "source": [
        "from sklearn.linear_model import LinearRegression, Ridge, Lasso\n",
        "from sklearn.model_selection import train_test_split\n",
        "from sklearn.metrics import mean_squared_error\n",
        "\n"
      ],
      "execution_count": null,
      "outputs": []
    },
    {
      "cell_type": "code",
      "metadata": {
        "id": "gqRdv1hSiuOJ"
      },
      "source": [
        "from sklearn.model_selection import cross_val_score\n",
        "\n",
        "# 분할하지 않고 전체 데이터로 cross_val_score( ) 수행\n",
        "# 모델별 CV RMSE값과 평균 RMSE 출력\n",
        "def get_avg_rmse_cv(models):\n",
        "    pass\n"
      ],
      "execution_count": null,
      "outputs": []
    },
    {
      "cell_type": "code",
      "metadata": {
        "id": "11TZW60OS3n9"
      },
      "source": [
        "# lr_reg, ridge_reg, lasso_reg 모델의 CV RMSE값 출력\n"
      ],
      "execution_count": null,
      "outputs": []
    },
    {
      "cell_type": "markdown",
      "metadata": {
        "id": "NM6zJXXViuOJ"
      },
      "source": [
        "* 하이퍼 파라미터 튜닝"
      ]
    },
    {
      "cell_type": "code",
      "metadata": {
        "id": "8AL5qVlhiuOK"
      },
      "source": [
        "from sklearn.model_selection import GridSearchCV\n",
        "\n"
      ],
      "execution_count": null,
      "outputs": []
    },
    {
      "cell_type": "code",
      "metadata": {
        "id": "PDOKZeD6iuOL"
      },
      "source": [
        "# 최적화 alpha값으로 학습, 예측 및 평가 수행. \n"
      ],
      "execution_count": null,
      "outputs": []
    },
    {
      "cell_type": "markdown",
      "metadata": {
        "id": "bzW0cgY2iuOL"
      },
      "source": [
        "* 데이터 왜곡 로그 변환 후 성능 평가"
      ]
    },
    {
      "cell_type": "code",
      "metadata": {
        "id": "_TLRzySfUWVZ"
      },
      "source": [
        ""
      ],
      "execution_count": null,
      "outputs": []
    },
    {
      "cell_type": "markdown",
      "metadata": {
        "id": "Fk7RClDQiuON"
      },
      "source": [
        "* 이상치 제거"
      ]
    },
    {
      "cell_type": "code",
      "metadata": {
        "id": "ikDOh0jfUY26"
      },
      "source": [
        ""
      ],
      "execution_count": null,
      "outputs": []
    },
    {
      "cell_type": "markdown",
      "metadata": {
        "id": "CPTtYMLoiuOP"
      },
      "source": [
        "### 회귀 트리 학습/예측/평가 "
      ]
    },
    {
      "cell_type": "code",
      "metadata": {
        "id": "x4bPuVptiuOP"
      },
      "source": [
        "from xgboost import XGBRegressor\n"
      ],
      "execution_count": null,
      "outputs": []
    },
    {
      "cell_type": "code",
      "metadata": {
        "id": "fuVeq24yiuOP"
      },
      "source": [
        "from lightgbm import LGBMRegressor\n"
      ],
      "execution_count": null,
      "outputs": []
    },
    {
      "cell_type": "markdown",
      "metadata": {
        "id": "zice4ALeiuOQ"
      },
      "source": [
        "### 회귀 모델들의 예측 결과 혼합을 통한 최종 예측"
      ]
    },
    {
      "cell_type": "code",
      "metadata": {
        "id": "3OBruU-UUptt"
      },
      "source": [
        ""
      ],
      "execution_count": null,
      "outputs": []
    }
  ]
}