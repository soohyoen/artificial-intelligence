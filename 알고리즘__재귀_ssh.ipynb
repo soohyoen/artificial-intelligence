{
  "nbformat": 4,
  "nbformat_minor": 0,
  "metadata": {
    "colab": {
      "name": "알고리즘 _재귀_ssh.ipynb",
      "provenance": [],
      "collapsed_sections": [],
      "authorship_tag": "ABX9TyOZYHrCoDlHRi/+wMhaSOox",
      "include_colab_link": true
    },
    "kernelspec": {
      "name": "python3",
      "display_name": "Python 3"
    },
    "language_info": {
      "name": "python"
    }
  },
  "cells": [
    {
      "cell_type": "markdown",
      "metadata": {
        "id": "view-in-github",
        "colab_type": "text"
      },
      "source": [
        "<a href=\"https://colab.research.google.com/github/soohyoen/artificial-intelligence/blob/main/%EC%95%8C%EA%B3%A0%EB%A6%AC%EC%A6%98__%EC%9E%AC%EA%B7%80_ssh.ipynb\" target=\"_parent\"><img src=\"https://colab.research.google.com/assets/colab-badge.svg\" alt=\"Open In Colab\"/></a>"
      ]
    },
    {
      "cell_type": "code",
      "metadata": {
        "colab": {
          "base_uri": "https://localhost:8080/"
        },
        "id": "Bexz9PmmFJd3",
        "outputId": "0a01696a-38a9-43da-88ae-6809cdeba1f0"
      },
      "source": [
        "n = int(input())\n",
        "\n",
        "def recursion_story(depth, max_depth):\n",
        "    indent_block = \"____\" * depth\n",
        "    \n",
        "    if depth == max_depth:\n",
        "        sentence_list = [\n",
        "            f\"{indent_block}\\\"재귀함수가 뭔가요?\\\"\",\n",
        "            f\"{indent_block}\\\"재귀함수는 자기 자신을 호출하는 함수라네\\\"\",\n",
        "            f\"{indent_block}라고 답변하였지.\"\n",
        "        ]\n",
        "    else:\n",
        "        sentence_list = [\n",
        "            f\"{indent_block}\\\"재귀함수가 뭔가요?\\\"\",\n",
        "            f\"{indent_block}\\\"잘 들어보게. 옛날옛날 한 산 꼭대기에 이세상 모든 지식을 통달한 선인이 있었어.\",\n",
        "            f\"{indent_block}마을 사람들은 모두 그 선인에게 수많은 질문을 했고, 모두 지혜롭게 대답해 주었지.\",\n",
        "            f\"{indent_block}그의 답은 대부분 옳았다고 하네. 그런데 어느 날, 그 선인에게 한 선비가 찾아와서 물었어.\\\"\",\n",
        "            f\"{recursion_story(depth+1, max_depth)}\",\n",
        "            f\"{indent_block}라고 답변하였지.\"\n",
        "        ]\n",
        "    \n",
        "    return \"\\n\".join(sentence_list)\n",
        "\n",
        "print(f\"어느 한 컴퓨터공학과 학생이 유명한 교수님을 찾아가 물었다.\\n{recursion_story(0, n)}\")"
      ],
      "execution_count": null,
      "outputs": [
        {
          "output_type": "stream",
          "text": [
            "5\n",
            "어느 한 컴퓨터공학과 학생이 유명한 교수님을 찾아가 물었다.\n",
            "\"재귀함수가 뭔가요?\"\n",
            "\"잘 들어보게. 옛날옛날 한 산 꼭대기에 이세상 모든 지식을 통달한 선인이 있었어.\n",
            "마을 사람들은 모두 그 선인에게 수많은 질문을 했고, 모두 지혜롭게 대답해 주었지.\n",
            "그의 답은 대부분 옳았다고 하네. 그런데 어느 날, 그 선인에게 한 선비가 찾아와서 물었어.\"\n",
            "____\"재귀함수가 뭔가요?\"\n",
            "____\"잘 들어보게. 옛날옛날 한 산 꼭대기에 이세상 모든 지식을 통달한 선인이 있었어.\n",
            "____마을 사람들은 모두 그 선인에게 수많은 질문을 했고, 모두 지혜롭게 대답해 주었지.\n",
            "____그의 답은 대부분 옳았다고 하네. 그런데 어느 날, 그 선인에게 한 선비가 찾아와서 물었어.\"\n",
            "________\"재귀함수가 뭔가요?\"\n",
            "________\"잘 들어보게. 옛날옛날 한 산 꼭대기에 이세상 모든 지식을 통달한 선인이 있었어.\n",
            "________마을 사람들은 모두 그 선인에게 수많은 질문을 했고, 모두 지혜롭게 대답해 주었지.\n",
            "________그의 답은 대부분 옳았다고 하네. 그런데 어느 날, 그 선인에게 한 선비가 찾아와서 물었어.\"\n",
            "____________\"재귀함수가 뭔가요?\"\n",
            "____________\"잘 들어보게. 옛날옛날 한 산 꼭대기에 이세상 모든 지식을 통달한 선인이 있었어.\n",
            "____________마을 사람들은 모두 그 선인에게 수많은 질문을 했고, 모두 지혜롭게 대답해 주었지.\n",
            "____________그의 답은 대부분 옳았다고 하네. 그런데 어느 날, 그 선인에게 한 선비가 찾아와서 물었어.\"\n",
            "________________\"재귀함수가 뭔가요?\"\n",
            "________________\"잘 들어보게. 옛날옛날 한 산 꼭대기에 이세상 모든 지식을 통달한 선인이 있었어.\n",
            "________________마을 사람들은 모두 그 선인에게 수많은 질문을 했고, 모두 지혜롭게 대답해 주었지.\n",
            "________________그의 답은 대부분 옳았다고 하네. 그런데 어느 날, 그 선인에게 한 선비가 찾아와서 물었어.\"\n",
            "____________________\"재귀함수가 뭔가요?\"\n",
            "____________________\"재귀함수는 자기 자신을 호출하는 함수라네\"\n",
            "____________________라고 답변하였지.\n",
            "________________라고 답변하였지.\n",
            "____________라고 답변하였지.\n",
            "________라고 답변하였지.\n",
            "____라고 답변하였지.\n",
            "라고 답변하였지.\n"
          ],
          "name": "stdout"
        }
      ]
    },
    {
      "cell_type": "code",
      "metadata": {
        "colab": {
          "base_uri": "https://localhost:8080/"
        },
        "id": "ahoeKbr4Sno8",
        "outputId": "42751299-a948-4975-9941-9e73ca06a260"
      },
      "source": [
        "import string\n",
        "dic = {}\n",
        "\n",
        "for i,j in zip(string.ascii_lowercase , range(10,36)):\n",
        "    dic[i] = j\n",
        "\n",
        "dic\n",
        "print(dic['a'])\n",
        "print(dic['i'])"
      ],
      "execution_count": null,
      "outputs": [
        {
          "output_type": "stream",
          "text": [
            "10\n",
            "18\n"
          ],
          "name": "stdout"
        }
      ]
    },
    {
      "cell_type": "code",
      "metadata": {
        "colab": {
          "base_uri": "https://localhost:8080/"
        },
        "id": "Y2SbwuX5Vu3Q",
        "outputId": "0e898a0c-3786-4662-a944-66bb8bd47829"
      },
      "source": [
        "string_1 ,notation = input().split()\n",
        "dic[string_1[0]]"
      ],
      "execution_count": null,
      "outputs": [
        {
          "output_type": "stream",
          "text": [
            "zzzz 12\n"
          ],
          "name": "stdout"
        },
        {
          "output_type": "execute_result",
          "data": {
            "text/plain": [
              "35"
            ]
          },
          "metadata": {
            "tags": []
          },
          "execution_count": 12
        }
      ]
    },
    {
      "cell_type": "markdown",
      "metadata": {
        "id": "B1n5OipGXUzL"
      },
      "source": [
        "#### 재귀 문제(1) - 진법 변환"
      ]
    },
    {
      "cell_type": "code",
      "metadata": {
        "colab": {
          "base_uri": "https://localhost:8080/"
        },
        "id": "aj4hBYD8Kbmz",
        "outputId": "16e527f0-f442-45ee-aa03-0d056f2cd196"
      },
      "source": [
        "import string\n",
        "dic = {}\n",
        "\n",
        "for i,j in zip(string.ascii_lowercase , range(10,36)):\n",
        "    dic[i] = j\n",
        "\n",
        "string_1 ,notation = input().split()\n",
        "\n",
        "total = 0 \n",
        "\n",
        "for i in range(len(string_1)):\n",
        "  string_rotation = string_1[i]\n",
        "  total +=  dic[string_rotation] * (int(notation) ** i)\n",
        "\n",
        "print(total)"
      ],
      "execution_count": null,
      "outputs": [
        {
          "output_type": "stream",
          "text": [
            "zzzzz 36\n",
            "60466175\n"
          ],
          "name": "stdout"
        }
      ]
    },
    {
      "cell_type": "markdown",
      "metadata": {
        "id": "hv0hxKTNXX_Y"
      },
      "source": [
        "#### 재귀 문제(2) - 진법 변환2\n",
        "##### 입력 60466175 36\n",
        "##### 출력 zzzzz"
      ]
    },
    {
      "cell_type": "code",
      "metadata": {
        "colab": {
          "base_uri": "https://localhost:8080/"
        },
        "id": "-FZIT0U8X6fG",
        "outputId": "125d64fa-4f8d-4f7f-efa9-d4d9aa8d4153"
      },
      "source": [
        "import string\n",
        "dic = {}\n",
        "\n",
        "for i,j in zip(string.ascii_lowercase , range(10,36)):\n",
        "    dic[i] = j\n",
        "\n",
        "reverse_dic = dict(map(reversed,dic.items()))\n",
        "\n",
        "sum_ ,notation = map(int,input().split())\n",
        "\n",
        "a = []\n",
        "\n",
        "while True:\n",
        "\n",
        "  remainder = sum_ % notation  \n",
        "  quotient = sum_ // notation\n",
        "  sum_ = quotient \n",
        "  a += reverse_dic[remainder]\n",
        "\n",
        "  if quotient == 0:\n",
        "    a.reverse()\n",
        "    print(''.join(a))\n",
        "    \n",
        "    break"
      ],
      "execution_count": null,
      "outputs": [
        {
          "output_type": "stream",
          "text": [
            "60466175 36\n",
            "zzzzz\n"
          ],
          "name": "stdout"
        }
      ]
    },
    {
      "cell_type": "markdown",
      "metadata": {
        "id": "IQBxVNGgHlmm"
      },
      "source": [
        "강사님 풀이\n",
        "decimal_conversion_recursion"
      ]
    },
    {
      "cell_type": "code",
      "metadata": {
        "id": "9TI4mESgZSzW"
      },
      "source": [
        "# # 1)\n",
        "\n",
        "# def decimal_conv(i, n, b):\n",
        "#     if i == len(n):\n",
        "#         return 0\n",
        "\n",
        "#     pow_num = len(n)-1-i\n",
        "\n",
        "#     if n[i].isnumeric():\n",
        "#         num_val = int(n[i])\n",
        "#     else:\n",
        "#         num_val = (ord(n[i]) - ord('A') + 10)\n",
        "\n",
        "#     return (b ** pow_num) * num_val + decimal_conv(i+1, n, b)\n",
        "\n",
        "# n, b = input().split()\n",
        "# print(decimal_conv(0, n, int(b)))\n",
        "\n",
        "# 2)\n",
        "\n",
        "def decimal_conv_dict(i, n, b, char_dict):\n",
        "    if i == len(n):\n",
        "        return 0\n",
        "\n",
        "    pow_num = len(n)-1-i\n",
        "    num_val = char_dict[n[i]]\n",
        "\n",
        "    return (b ** pow_num) * num_val + decimal_conv_dict(i+1, n, b, char_dict)\n",
        "\n",
        "def make_char_dict():\n",
        "    char_dict = {}\n",
        "\n",
        "    for i in range(36):\n",
        "        if i < 10:\n",
        "            char_dict[str(i)] = i\n",
        "        else:\n",
        "            # ord('A') => 65\n",
        "            # chr(65) => 'A'\n",
        "            # chr(ord('A')) => 'A'\n",
        "\n",
        "            # i => 10 ~ 35\n",
        "            # i-10 => 0 ~ 25\n",
        "            # i-10+ord('A') => ord('A') ~ ord('A') + 25 => ord('A') ~ ord('Z')\n",
        "            # chr(i-10+ord('A')) => chr(ord('A')) ~ chr(ord('Z')) => 'A' ~ 'Z'\n",
        "\n",
        "            char_dict[chr(i-10+ord('A'))] = i\n",
        "\n",
        "    return char_dict\n",
        "\n",
        "n, b = input().split()\n",
        "print(decimal_conv_dict(0, n, int(b), make_char_dict()))"
      ],
      "execution_count": null,
      "outputs": []
    },
    {
      "cell_type": "markdown",
      "metadata": {
        "id": "oHr50FrCHq-9"
      },
      "source": [
        "decimal_conversion_iteration"
      ]
    },
    {
      "cell_type": "code",
      "metadata": {
        "id": "Jlh7Cd9SHqKR"
      },
      "source": [
        "# ZZZZZ 36\n",
        "\n",
        "# 0: 36^4,\n",
        "# 1: 36^3,\n",
        "# 2: 36^2,\n",
        "# 3: 36^1,\n",
        "# 4: 36^0\n",
        "\n",
        "n, b = input().split()\n",
        "decimal_result = 0\n",
        "\n",
        "# char_dict = {'0': 0, '1': 1, ..., '9': 9, 'A': 10, 'B': 11, ... 'Z': 35}\n",
        "# char_map_str = \"0123456789ABCDEFGHIJKLMNOPQRSTUVWXYZ\"\n",
        "\n",
        "for i in range(len(n)):\n",
        "    pow_num = len(n)-1-i\n",
        "\n",
        "    if n[i].isnumeric():\n",
        "        num_val = int(n[i])\n",
        "    else:\n",
        "        num_val = (ord(n[i]) - ord('A') + 10)\n",
        "\n",
        "    decimal_result += int(b) ** pow_num * num_val\n",
        "\n",
        "    # decimal_result += int(b) ** pow_num * char_dict[n[i]]\n",
        "    # decimal_result += int(b) ** pow_num * char_map_str.index(n[i])\n",
        "\n",
        "print(decimal_result)\n",
        "# print(int(n, int(b)))"
      ],
      "execution_count": null,
      "outputs": []
    }
  ]
}