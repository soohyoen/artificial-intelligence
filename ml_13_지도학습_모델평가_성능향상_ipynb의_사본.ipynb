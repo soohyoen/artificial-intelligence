{
  "nbformat": 4,
  "nbformat_minor": 0,
  "metadata": {
    "colab": {
      "name": "ml_13_지도학습_모델평가_성능향상.ipynb의 사본",
      "provenance": [],
      "collapsed_sections": [],
      "include_colab_link": true
    },
    "kernelspec": {
      "name": "python3",
      "display_name": "Python 3"
    }
  },
  "cells": [
    {
      "cell_type": "markdown",
      "metadata": {
        "id": "view-in-github",
        "colab_type": "text"
      },
      "source": [
        "<a href=\"https://colab.research.google.com/github/soohyoen/artificial-intelligence/blob/main/ml_13_%EC%A7%80%EB%8F%84%ED%95%99%EC%8A%B5_%EB%AA%A8%EB%8D%B8%ED%8F%89%EA%B0%80_%EC%84%B1%EB%8A%A5%ED%96%A5%EC%83%81_ipynb%EC%9D%98_%EC%82%AC%EB%B3%B8.ipynb\" target=\"_parent\"><img src=\"https://colab.research.google.com/assets/colab-badge.svg\" alt=\"Open In Colab\"/></a>"
      ]
    },
    {
      "cell_type": "code",
      "metadata": {
        "id": "zKw2mtVdVeZs",
        "colab": {
          "base_uri": "https://localhost:8080/"
        },
        "outputId": "b780e2fa-9973-4278-c81e-2cb4fddbbaf4"
      },
      "source": [
        "!pip install mglearn"
      ],
      "execution_count": null,
      "outputs": [
        {
          "output_type": "stream",
          "text": [
            "Collecting mglearn\n",
            "  Downloading mglearn-0.1.9.tar.gz (540 kB)\n",
            "\u001b[?25l\r\u001b[K     |▋                               | 10 kB 21.1 MB/s eta 0:00:01\r\u001b[K     |█▏                              | 20 kB 23.9 MB/s eta 0:00:01\r\u001b[K     |█▉                              | 30 kB 25.7 MB/s eta 0:00:01\r\u001b[K     |██▍                             | 40 kB 27.6 MB/s eta 0:00:01\r\u001b[K     |███                             | 51 kB 29.5 MB/s eta 0:00:01\r\u001b[K     |███▋                            | 61 kB 31.9 MB/s eta 0:00:01\r\u001b[K     |████▎                           | 71 kB 28.6 MB/s eta 0:00:01\r\u001b[K     |████▉                           | 81 kB 30.3 MB/s eta 0:00:01\r\u001b[K     |█████▌                          | 92 kB 30.5 MB/s eta 0:00:01\r\u001b[K     |██████                          | 102 kB 29.9 MB/s eta 0:00:01\r\u001b[K     |██████▊                         | 112 kB 29.9 MB/s eta 0:00:01\r\u001b[K     |███████▎                        | 122 kB 29.9 MB/s eta 0:00:01\r\u001b[K     |███████▉                        | 133 kB 29.9 MB/s eta 0:00:01\r\u001b[K     |████████▌                       | 143 kB 29.9 MB/s eta 0:00:01\r\u001b[K     |█████████                       | 153 kB 29.9 MB/s eta 0:00:01\r\u001b[K     |█████████▊                      | 163 kB 29.9 MB/s eta 0:00:01\r\u001b[K     |██████████▎                     | 174 kB 29.9 MB/s eta 0:00:01\r\u001b[K     |███████████                     | 184 kB 29.9 MB/s eta 0:00:01\r\u001b[K     |███████████▌                    | 194 kB 29.9 MB/s eta 0:00:01\r\u001b[K     |████████████▏                   | 204 kB 29.9 MB/s eta 0:00:01\r\u001b[K     |████████████▊                   | 215 kB 29.9 MB/s eta 0:00:01\r\u001b[K     |█████████████▍                  | 225 kB 29.9 MB/s eta 0:00:01\r\u001b[K     |██████████████                  | 235 kB 29.9 MB/s eta 0:00:01\r\u001b[K     |██████████████▋                 | 245 kB 29.9 MB/s eta 0:00:01\r\u001b[K     |███████████████▏                | 256 kB 29.9 MB/s eta 0:00:01\r\u001b[K     |███████████████▊                | 266 kB 29.9 MB/s eta 0:00:01\r\u001b[K     |████████████████▍               | 276 kB 29.9 MB/s eta 0:00:01\r\u001b[K     |█████████████████               | 286 kB 29.9 MB/s eta 0:00:01\r\u001b[K     |█████████████████▋              | 296 kB 29.9 MB/s eta 0:00:01\r\u001b[K     |██████████████████▏             | 307 kB 29.9 MB/s eta 0:00:01\r\u001b[K     |██████████████████▉             | 317 kB 29.9 MB/s eta 0:00:01\r\u001b[K     |███████████████████▍            | 327 kB 29.9 MB/s eta 0:00:01\r\u001b[K     |████████████████████            | 337 kB 29.9 MB/s eta 0:00:01\r\u001b[K     |████████████████████▋           | 348 kB 29.9 MB/s eta 0:00:01\r\u001b[K     |█████████████████████▎          | 358 kB 29.9 MB/s eta 0:00:01\r\u001b[K     |█████████████████████▉          | 368 kB 29.9 MB/s eta 0:00:01\r\u001b[K     |██████████████████████▌         | 378 kB 29.9 MB/s eta 0:00:01\r\u001b[K     |███████████████████████         | 389 kB 29.9 MB/s eta 0:00:01\r\u001b[K     |███████████████████████▋        | 399 kB 29.9 MB/s eta 0:00:01\r\u001b[K     |████████████████████████▎       | 409 kB 29.9 MB/s eta 0:00:01\r\u001b[K     |████████████████████████▉       | 419 kB 29.9 MB/s eta 0:00:01\r\u001b[K     |█████████████████████████▌      | 430 kB 29.9 MB/s eta 0:00:01\r\u001b[K     |██████████████████████████      | 440 kB 29.9 MB/s eta 0:00:01\r\u001b[K     |██████████████████████████▊     | 450 kB 29.9 MB/s eta 0:00:01\r\u001b[K     |███████████████████████████▎    | 460 kB 29.9 MB/s eta 0:00:01\r\u001b[K     |████████████████████████████    | 471 kB 29.9 MB/s eta 0:00:01\r\u001b[K     |████████████████████████████▌   | 481 kB 29.9 MB/s eta 0:00:01\r\u001b[K     |█████████████████████████████▏  | 491 kB 29.9 MB/s eta 0:00:01\r\u001b[K     |█████████████████████████████▊  | 501 kB 29.9 MB/s eta 0:00:01\r\u001b[K     |██████████████████████████████▍ | 512 kB 29.9 MB/s eta 0:00:01\r\u001b[K     |███████████████████████████████ | 522 kB 29.9 MB/s eta 0:00:01\r\u001b[K     |███████████████████████████████▌| 532 kB 29.9 MB/s eta 0:00:01\r\u001b[K     |████████████████████████████████| 540 kB 29.9 MB/s \n",
            "\u001b[?25hRequirement already satisfied: numpy in /usr/local/lib/python3.7/dist-packages (from mglearn) (1.19.5)\n",
            "Requirement already satisfied: matplotlib in /usr/local/lib/python3.7/dist-packages (from mglearn) (3.2.2)\n",
            "Requirement already satisfied: scikit-learn in /usr/local/lib/python3.7/dist-packages (from mglearn) (0.22.2.post1)\n",
            "Requirement already satisfied: pandas in /usr/local/lib/python3.7/dist-packages (from mglearn) (1.1.5)\n",
            "Requirement already satisfied: pillow in /usr/local/lib/python3.7/dist-packages (from mglearn) (7.1.2)\n",
            "Requirement already satisfied: cycler in /usr/local/lib/python3.7/dist-packages (from mglearn) (0.10.0)\n",
            "Requirement already satisfied: imageio in /usr/local/lib/python3.7/dist-packages (from mglearn) (2.4.1)\n",
            "Requirement already satisfied: joblib in /usr/local/lib/python3.7/dist-packages (from mglearn) (1.0.1)\n",
            "Requirement already satisfied: six in /usr/local/lib/python3.7/dist-packages (from cycler->mglearn) (1.15.0)\n",
            "Requirement already satisfied: pyparsing!=2.0.4,!=2.1.2,!=2.1.6,>=2.0.1 in /usr/local/lib/python3.7/dist-packages (from matplotlib->mglearn) (2.4.7)\n",
            "Requirement already satisfied: python-dateutil>=2.1 in /usr/local/lib/python3.7/dist-packages (from matplotlib->mglearn) (2.8.2)\n",
            "Requirement already satisfied: kiwisolver>=1.0.1 in /usr/local/lib/python3.7/dist-packages (from matplotlib->mglearn) (1.3.1)\n",
            "Requirement already satisfied: pytz>=2017.2 in /usr/local/lib/python3.7/dist-packages (from pandas->mglearn) (2018.9)\n",
            "Requirement already satisfied: scipy>=0.17.0 in /usr/local/lib/python3.7/dist-packages (from scikit-learn->mglearn) (1.4.1)\n",
            "Building wheels for collected packages: mglearn\n",
            "  Building wheel for mglearn (setup.py) ... \u001b[?25l\u001b[?25hdone\n",
            "  Created wheel for mglearn: filename=mglearn-0.1.9-py2.py3-none-any.whl size=582637 sha256=30097ad0420e35682c4bb1afed2ffa14b63472aeb869bda9becc47bb1a7117de\n",
            "  Stored in directory: /root/.cache/pip/wheels/f1/17/e1/1720d6dcd70187b6b6c3750cb3508798f2b1d57c9d3214b08b\n",
            "Successfully built mglearn\n",
            "Installing collected packages: mglearn\n",
            "Successfully installed mglearn-0.1.9\n"
          ],
          "name": "stdout"
        }
      ]
    },
    {
      "cell_type": "code",
      "metadata": {
        "id": "h2tOMNexVWbP"
      },
      "source": [
        "# 경고메시지 무시\n",
        "import warnings\n",
        "warnings.filterwarnings(\"ignore\")"
      ],
      "execution_count": null,
      "outputs": []
    },
    {
      "cell_type": "markdown",
      "metadata": {
        "id": "6mKrVfIB3ZVe"
      },
      "source": [
        "## 학습목표\n",
        "\n",
        "머신러닝 모델의 성능을 평가하고, 올바른 매개변수를 선택하는 방법을 이해한다."
      ]
    },
    {
      "cell_type": "markdown",
      "metadata": {
        "id": "YFmluV8FL6Mu"
      },
      "source": [
        "1. 모델의 일반화 성능을 평가(측정)하는 법\n",
        "\n",
        "- 교차 검증 : 안정적인 일반화 성능 측정 방법\n",
        "\n",
        "- 평가 지표\n",
        " - 이진/다중 분류의 평가 지표\n",
        " > 정확도, 오차 행렬, 분류 리포트,  <br>\n",
        " > 정밀도, 재현율, f1_score, 정밀도-재현율 곡선(ROC), AUC\n",
        "\n",
        " - 회귀의 평가 지표\n",
        " > \\\\( R^2 \\\\) , 평균제곱오차, 평균절대값오차\n"
      ]
    },
    {
      "cell_type": "markdown",
      "metadata": {
        "id": "41MMOpDSTq7t"
      },
      "source": [
        "2. 매개변수를 튜닝하여 일반화 성능을 개선\n",
        "\n",
        "- 그리드 서치(grid search) : 관심 있는 매개변수들을 대상으로 가능한 모든 조합을 시도\n",
        "- 매개변수를 조정하기 전에 그 매개변수의 의미를 이해하는 것이 중요"
      ]
    },
    {
      "cell_type": "markdown",
      "metadata": {
        "id": "mCwh81V8QfZ5"
      },
      "source": [
        "## 학습/테스트 데이터 세트 분리\n",
        "\n",
        "- 테스트 데이터 세트를 이용하지 않고 학습 데이터 세트로만 학습하고 예측하면 예측 정확도 100% 가 됨\n",
        "= 학습을 위한 데이터의 양을 일정 수준 이상으로 보장하는 것이 중요\n",
        "- 학습된 모델에 대해 다양한 데이터를 기반으로 예측 성능을 평가해 보는 것도 매우 중요"
      ]
    },
    {
      "cell_type": "markdown",
      "metadata": {
        "id": "Hgtf_aQXwQX8"
      },
      "source": [
        "[train_test_split()](https://scikit-learn.org/stable/modules/generated/sklearn.model_selection.train_test_split.html)\n",
        "```\n",
        "train_test_split(arrays, test_size, train_size, random_state, shuffle, stratify)\n",
        "```\n",
        "Parameter\n",
        "\n",
        "- arrays : 분할시킬 데이터를 입력 (Python list, Numpy array, Pandas dataframe 등..)\n",
        "\n",
        "- test_size : 테스트 데이터셋의 비율(float)이나 갯수(int) (default = 0.25) <br>\n",
        "(전체 데이터에서 테스트 데이터 세트 크기를 얼마로 샘플링할 것인가를 결정)\n",
        "\n",
        "- train_size : 학습 데이터셋의 비율(float)이나 갯수(int) (default = test_size의 나머지) <br>\n",
        "(test_size 를 통상적으로 사용하기 때문에 잘 사용되지 않음)\n",
        "\n",
        "- random_state : 데이터 분할시 셔플이 이루어지는데 이를 위한 시드값 (int나 RandomState로 입력) <br>\n",
        "(호출할 때마다 동일한 학습/테스트용 데이터 세트를 생성하기 위해 주어지는 난수 값. 지정하지 않으면 호출 시 무작위로 데이터를 분리하므로 수행할 때마다 다른 학습/테스트용 데이터를 생성)\n",
        "\n",
        "- shuffle : 셔플여부설정 (default = True) <br>\n",
        "(데이터를 분리하기 전에 미리 섞을지를 결정. 데이터를 분산시켜서 좀 더 효율적인 학습 및 테스트 데이터 세트를 만드는 데 사용)\n",
        "\n",
        "- stratify : 지정한 Data의 비율을 유지한다. 예를 들어, Label Set인 Y가 25%의 0과 75%의 1로 이루어진 Binary Set일 때, stratify=Y로 설정하면 나누어진 데이터셋들도 0과 1을 각각 25%, 75%로 유지한 채 분할된다.\n",
        "\n",
        "Return\n",
        "\n",
        "- X_train, X_test, y_train, y_test : arrays에 데이터와 레이블을 둘 다 넣었을 경우의 반환이며, 데이터와 레이블의 순서쌍은 유지된다.\n",
        "- X_train, X_test : arrays에 레이블(y) 없이 데이터만 넣었을 경우의 반환\n"
      ]
    },
    {
      "cell_type": "markdown",
      "metadata": {
        "id": "Da3ujSlIV20l"
      },
      "source": [
        "# 교차 검증 (Cross Validation)\n",
        "\n",
        "- 교차검증 : 일반화 성능 향상을 위해 훈련 세트와 테스트 세트로 한 번 나누는 것보다 더 안정적이고 뛰어난 평가 방법\n",
        " - 데이터 편중을 막기 위함\n",
        " - 별도의 여러 세트로 구성된 학습 데이터 세트와 검증 데이터 세트에서 학습과 평가를 수행\n",
        "\n",
        "- k-겹 교차검증 : 데이터를 폴드(fold)라는 거의 비슷한 크기의 부분집합을 k개로 분리하고 각 부분집합의 정확도를 측정\n",
        "\n",
        "- scikit-learn에서 교차 검증은 model_selection 모듈의 cross_val_score 함수로 구현\n"
      ]
    },
    {
      "cell_type": "markdown",
      "metadata": {
        "id": "BakyK-bGeOf4"
      },
      "source": [
        "[cross_val_score()](https://scikit-learn.org/stable/modules/generated/sklearn.model_selection.cross_val_score.html)\n",
        "\n",
        "```\n",
        "cross_val_score(estimator, X, y=None, *, groups=None, scoring=None, cv=None, n_jobs=None, verbose=0, fit_params=None, pre_dispatch='2*n_jobs', error_score=nan)\n",
        "```\n",
        "Parameter\n",
        "\n",
        "- estimator : 평가하려는 모델\n",
        "- X : 훈련 데이터\n",
        "- y : 타깃 레이블\n",
        "- cv : 교차 검증 분할 수(k)\n",
        "\n",
        "Return\n",
        "- 교차 검증 결과 정확도 점수의 배열"
      ]
    },
    {
      "cell_type": "code",
      "metadata": {
        "id": "HrPZVQh_VvqM",
        "colab": {
          "base_uri": "https://localhost:8080/",
          "height": 187
        },
        "outputId": "661eba85-e102-4bec-ec1a-1a491ef43d24"
      },
      "source": [
        "import mglearn\n",
        "# 5-겹 교차 검증에서의 데이터 분할\n",
        "mglearn.plots.plot_cross_validation()"
      ],
      "execution_count": null,
      "outputs": [
        {
          "output_type": "display_data",
          "data": {
            "image/png": "[encoded data removed]",
            "text/plain": [
              "<Figure size 864x144 with 1 Axes>"
            ]
          },
          "metadata": {
            "needs_background": "light"
          }
        }
      ]
    },
    {
      "cell_type": "code",
      "metadata": {
        "id": "meftj5V8Wpx6",
        "colab": {
          "base_uri": "https://localhost:8080/"
        },
        "outputId": "120a0ec4-61d5-41e8-e365-1fd365c3f9d1"
      },
      "source": [
        "# 교차 검증을 간편하게\n",
        "from sklearn.model_selection import cross_val_score\n",
        "from sklearn.datasets import load_iris\n",
        "from sklearn.linear_model import LogisticRegression\n",
        "from sklearn.tree import DecisionTreeClassifier\n",
        "\n",
        "iris = load_iris()\n",
        "X = iris.data\n",
        "y = iris.target\n",
        "\n",
        "model_lr = LogisticRegression()\n",
        "model_dt = DecisionTreeClassifier(random_state=0)\n",
        "\n",
        "scores = cross_val_score(model_lr,X,y)\n",
        "print(scores)\n",
        "\n",
        "scores = cross_val_score(model_dt,X,y)\n",
        "print(scores)"
      ],
      "execution_count": null,
      "outputs": [
        {
          "output_type": "stream",
          "text": [
            "[0.96666667 1.         0.93333333 0.96666667 1.        ]\n",
            "[0.96666667 0.96666667 0.9        0.96666667 1.        ]\n"
          ],
          "name": "stdout"
        }
      ]
    },
    {
      "cell_type": "markdown",
      "metadata": {
        "id": "0_xf0QxKXVJq"
      },
      "source": [
        "- cross_val_score의 기본값은 5-겹 교차 검증이므로 정확도 값이 5개가 반환 <br>\n",
        "(scikit-learn 0.22 부터 기본값은 5-겹, 기존 기본값 3-겹)\n",
        "\n",
        "- 폴드의 수는 cv 매개변수를 사용해서 바꿀 수 있음\n",
        "\n"
      ]
    },
    {
      "cell_type": "code",
      "metadata": {
        "id": "jVlJqwU_o-uD",
        "colab": {
          "base_uri": "https://localhost:8080/"
        },
        "outputId": "e7343667-328c-4add-e828-e5cd076a275a"
      },
      "source": [
        "scores = cross_val_score(model_lr, X, y, cv=3)\n",
        "print( scores )"
      ],
      "execution_count": null,
      "outputs": [
        {
          "output_type": "stream",
          "text": [
            "[0.98 0.96 0.98]\n"
          ],
          "name": "stdout"
        }
      ]
    },
    {
      "cell_type": "markdown",
      "metadata": {
        "id": "IHLyRRfgXfaR"
      },
      "source": [
        "- 보통 교차 검증의 정확도를 간단하게 나타내려면 평균을 사용"
      ]
    },
    {
      "cell_type": "code",
      "metadata": {
        "id": "OOrkMMh6pA9K",
        "colab": {
          "base_uri": "https://localhost:8080/"
        },
        "outputId": "f579ece7-81ef-4498-ebda-20634f2ad647"
      },
      "source": [
        "scores = cross_val_score(model_lr, X, y, cv=3)\n",
        "print( scores, scores.mean() )\n",
        "\n",
        "scores = cross_val_score(model_dt, X, y)\n",
        "print( scores, scores.mean() )"
      ],
      "execution_count": null,
      "outputs": [
        {
          "output_type": "stream",
          "text": [
            "[0.98 0.96 0.98] 0.9733333333333333\n",
            "[0.96666667 0.96666667 0.9        0.96666667 1.        ] 0.9600000000000002\n"
          ],
          "name": "stdout"
        }
      ]
    },
    {
      "cell_type": "markdown",
      "metadata": {
        "id": "DW_73TV-gPUX"
      },
      "source": [
        "여러 개의 평가 지표 반환 교차 검증 함수\n",
        "\n",
        "[cross_validate()](https://scikit-learn.org/stable/modules/generated/sklearn.model_selection.cross_validate.html)\n",
        "\n",
        "```\n",
        "cross_validate(estimator, X, y=None, *, groups=None, scoring=None, cv=None, n_jobs=None, verbose=0, fit_params=None, pre_dispatch='2*n_jobs', return_train_score=False, return_estimator=False, error_score=nan)\n",
        "```\n",
        "Parameter\n",
        "\n",
        "- estimator : 평가하려는 모델\n",
        "- X : 훈련 데이터\n",
        "- y : 타깃 레이블\n",
        "- cv : 교차 검증 분할 수(k)\n",
        "- return_train_score : 훈련 점수 포함 여부\n",
        "\n",
        "Return\n",
        "- 교차 검증 결과 정확도 점수의 배열"
      ]
    },
    {
      "cell_type": "code",
      "metadata": {
        "id": "jTVdwdfpY-70",
        "colab": {
          "base_uri": "https://localhost:8080/"
        },
        "outputId": "fe5517ff-503e-46e7-c364-f5b74ecfc275"
      },
      "source": [
        "# 분할마다 훈련과 테스트에 걸린 시간을 담은 여러 개의 평가 지표 딕셔너리를 반환\n",
        "from sklearn.model_selection import cross_validate\n",
        "\n",
        "res = cross_validate(model_lr, X, y, return_train_score=True)\n",
        "res"
      ],
      "execution_count": null,
      "outputs": [
        {
          "output_type": "execute_result",
          "data": {
            "text/plain": [
              "{'fit_time': array([0.03548121, 0.04496455, 0.04150605, 0.03977394, 0.04227281]),\n",
              " 'score_time': array([0.00054884, 0.00051141, 0.00063682, 0.00052285, 0.00065374]),\n",
              " 'test_score': array([0.96666667, 1.        , 0.93333333, 0.96666667, 1.        ]),\n",
              " 'train_score': array([0.96666667, 0.96666667, 0.98333333, 0.98333333, 0.975     ])}"
            ]
          },
          "metadata": {},
          "execution_count": 7
        }
      ]
    },
    {
      "cell_type": "code",
      "metadata": {
        "id": "3nWxzuoIb8NY",
        "colab": {
          "base_uri": "https://localhost:8080/",
          "height": 291
        },
        "outputId": "d2108dd0-54c7-49d7-f1ce-d0e2ab57f514"
      },
      "source": [
        "# 판다스를 사용하여 결과값을 출력하고 평균을 계산\n",
        "import pandas as pd\n",
        "\n",
        "df = pd.DataFrame(res)\n",
        "display( df )\n",
        "df.mean()"
      ],
      "execution_count": null,
      "outputs": [
        {
          "output_type": "display_data",
          "data": {
            "text/html": [
              "<div>\n",
              "<style scoped>\n",
              "    .dataframe tbody tr th:only-of-type {\n",
              "        vertical-align: middle;\n",
              "    }\n",
              "\n",
              "    .dataframe tbody tr th {\n",
              "        vertical-align: top;\n",
              "    }\n",
              "\n",
              "    .dataframe thead th {\n",
              "        text-align: right;\n",
              "    }\n",
              "</style>\n",
              "<table border=\"1\" class=\"dataframe\">\n",
              "  <thead>\n",
              "    <tr style=\"text-align: right;\">\n",
              "      <th></th>\n",
              "      <th>fit_time</th>\n",
              "      <th>score_time</th>\n",
              "      <th>test_score</th>\n",
              "      <th>train_score</th>\n",
              "    </tr>\n",
              "  </thead>\n",
              "  <tbody>\n",
              "    <tr>\n",
              "      <th>0</th>\n",
              "      <td>0.035481</td>\n",
              "      <td>0.000549</td>\n",
              "      <td>0.966667</td>\n",
              "      <td>0.966667</td>\n",
              "    </tr>\n",
              "    <tr>\n",
              "      <th>1</th>\n",
              "      <td>0.044965</td>\n",
              "      <td>0.000511</td>\n",
              "      <td>1.000000</td>\n",
              "      <td>0.966667</td>\n",
              "    </tr>\n",
              "    <tr>\n",
              "      <th>2</th>\n",
              "      <td>0.041506</td>\n",
              "      <td>0.000637</td>\n",
              "      <td>0.933333</td>\n",
              "      <td>0.983333</td>\n",
              "    </tr>\n",
              "    <tr>\n",
              "      <th>3</th>\n",
              "      <td>0.039774</td>\n",
              "      <td>0.000523</td>\n",
              "      <td>0.966667</td>\n",
              "      <td>0.983333</td>\n",
              "    </tr>\n",
              "    <tr>\n",
              "      <th>4</th>\n",
              "      <td>0.042273</td>\n",
              "      <td>0.000654</td>\n",
              "      <td>1.000000</td>\n",
              "      <td>0.975000</td>\n",
              "    </tr>\n",
              "  </tbody>\n",
              "</table>\n",
              "</div>"
            ],
            "text/plain": [
              "   fit_time  score_time  test_score  train_score\n",
              "0  0.035481    0.000549    0.966667     0.966667\n",
              "1  0.044965    0.000511    1.000000     0.966667\n",
              "2  0.041506    0.000637    0.933333     0.983333\n",
              "3  0.039774    0.000523    0.966667     0.983333\n",
              "4  0.042273    0.000654    1.000000     0.975000"
            ]
          },
          "metadata": {}
        },
        {
          "output_type": "execute_result",
          "data": {
            "text/plain": [
              "fit_time       0.040800\n",
              "score_time     0.000575\n",
              "test_score     0.973333\n",
              "train_score    0.975000\n",
              "dtype: float64"
            ]
          },
          "metadata": {},
          "execution_count": 8
        }
      ]
    },
    {
      "cell_type": "markdown",
      "metadata": {
        "id": "QoibUnddho-0"
      },
      "source": [
        "#### 교차 검증 장단점\n",
        "\n",
        "- 테스트 세트에 골고루 각 샘플이 정확하게 한 번씩 들어감\n",
        "- 교차 검증의 점수가 높으면 데이터셋에 있는 모든 샘플에 대해 모델이 잘 일반화됨\n",
        "- 모델이 훈련 데이터에 얼마나 민감한지 알 수 있음\n",
        "- 분할을 한 번 했을 때보다 데이터를 더 효과적으로 사용\n",
        "> 5-겹의 경우 매 반복에서 4/5 (80%)의 데이터를 모델 학습에 사용. <br> \n",
        "> 10-겹의 경우 90%를 사용\n",
        "\n",
        "- 연산 비용이 늘어나는 단점이 있음 (k배 더 느림)\n"
      ]
    },
    {
      "cell_type": "markdown",
      "metadata": {
        "id": "S-6iOBaqXlIj"
      },
      "source": [
        "### 계층별 k-겹 교차 검증 \n",
        "\n",
        "- 데이터셋을 나열 순서대로 k개의 폴드로 나누는 것은 항상 좋지는 않음"
      ]
    },
    {
      "cell_type": "code",
      "metadata": {
        "id": "27rZg8vyX2-U",
        "colab": {
          "base_uri": "https://localhost:8080/"
        },
        "outputId": "7af730d7-f27c-43df-cdb0-1f20b6067235"
      },
      "source": [
        "from sklearn.datasets import load_iris\n",
        "\n",
        "iris = load_iris()\n",
        "iris.target"
      ],
      "execution_count": null,
      "outputs": [
        {
          "output_type": "execute_result",
          "data": {
            "text/plain": [
              "array([0, 0, 0, 0, 0, 0, 0, 0, 0, 0, 0, 0, 0, 0, 0, 0, 0, 0, 0, 0, 0, 0,\n",
              "       0, 0, 0, 0, 0, 0, 0, 0, 0, 0, 0, 0, 0, 0, 0, 0, 0, 0, 0, 0, 0, 0,\n",
              "       0, 0, 0, 0, 0, 0, 1, 1, 1, 1, 1, 1, 1, 1, 1, 1, 1, 1, 1, 1, 1, 1,\n",
              "       1, 1, 1, 1, 1, 1, 1, 1, 1, 1, 1, 1, 1, 1, 1, 1, 1, 1, 1, 1, 1, 1,\n",
              "       1, 1, 1, 1, 1, 1, 1, 1, 1, 1, 1, 1, 2, 2, 2, 2, 2, 2, 2, 2, 2, 2,\n",
              "       2, 2, 2, 2, 2, 2, 2, 2, 2, 2, 2, 2, 2, 2, 2, 2, 2, 2, 2, 2, 2, 2,\n",
              "       2, 2, 2, 2, 2, 2, 2, 2, 2, 2, 2, 2, 2, 2, 2, 2, 2, 2])"
            ]
          },
          "metadata": {},
          "execution_count": 9
        }
      ]
    },
    {
      "cell_type": "markdown",
      "metadata": {
        "id": "Olu7hbugX5uG"
      },
      "source": [
        "- 결과에서 볼 수 있듯이 1/3은 클래스 0, 1/3은 클래스 1, 1/3은 클래스 2이다.\n",
        "\n",
        "- 이 데이터에 3-겹 교차 검증을 적용한다면 첫 번째 폴드는 클래스 0만 가지고 있으므로 정확도는 0이 됨\n",
        "\n",
        "- 두 번째, 세 번째도 같은 방법으로 정확도는 0이 됨 \n",
        "\n",
        "- 단순한 k-겹 교차 검증에는 문제가 있으니, scikit-learn은 분류일 경우 이 방법 대신 계층별 k-겹 교차 검증을 사용"
      ]
    },
    {
      "cell_type": "code",
      "metadata": {
        "id": "rdjIRp9IjOfG",
        "colab": {
          "base_uri": "https://localhost:8080/",
          "height": 369
        },
        "outputId": "330a3ea0-03ba-4e15-b4f4-e2a118876e27"
      },
      "source": [
        "# 폴드 안의 클래스 비율이 전체 데이터셋의 클래스 비율과 같도록 데이터를 나눔\n",
        "mglearn.plots.plot_stratified_cross_validation()"
      ],
      "execution_count": null,
      "outputs": [
        {
          "output_type": "display_data",
          "data": {
            "image/png": "[encoded data removed]",
            "text/plain": [
              "<Figure size 864x360 with 2 Axes>"
            ]
          },
          "metadata": {
            "needs_background": "light"
          }
        }
      ]
    },
    {
      "cell_type": "markdown",
      "metadata": {
        "id": "RsifPnh4j2-b"
      },
      "source": [
        "- 대부분 회귀에서는 k-겹 교차 검증\n",
        "- 분류에서는 계층별 k-겹 교차 검증의 기본값이 잘 작동"
      ]
    },
    {
      "cell_type": "code",
      "metadata": {
        "id": "DgebXberkhGM",
        "colab": {
          "base_uri": "https://localhost:8080/"
        },
        "outputId": "489b6453-920e-4213-b7b7-6ce4673bb85c"
      },
      "source": [
        "# cv 매개변수에 교차 검증 분할기 cross-validation splitter를 사용하여 \n",
        "# 데이터를 분할할 때 세밀하게 제어\n",
        "from sklearn.model_selection import KFold\n",
        "\n",
        "kfold = KFold(n_splits=3)\n",
        "scores = cross_val_score(model_lr, X, y, cv=kfold)\n",
        "scores"
      ],
      "execution_count": null,
      "outputs": [
        {
          "output_type": "execute_result",
          "data": {
            "text/plain": [
              "array([0., 0., 0.])"
            ]
          },
          "metadata": {},
          "execution_count": 11
        }
      ]
    },
    {
      "cell_type": "code",
      "metadata": {
        "id": "sJ3S1RPqm7Ua",
        "colab": {
          "base_uri": "https://localhost:8080/"
        },
        "outputId": "87f889f6-b87c-48ff-dab5-ab979822e989"
      },
      "source": [
        "# 데이터를 분할하기 전에 섞어주면 결과가 향상\n",
        "kfold = KFold(n_splits=3, shuffle=True, random_state=0)\n",
        "scores = cross_val_score(model_lr, X, y, cv=kfold)\n",
        "scores"
      ],
      "execution_count": null,
      "outputs": [
        {
          "output_type": "execute_result",
          "data": {
            "text/plain": [
              "array([0.98, 0.96, 0.96])"
            ]
          },
          "metadata": {},
          "execution_count": 12
        }
      ]
    },
    {
      "cell_type": "markdown",
      "metadata": {
        "id": "K_jtX_Rvn-A1"
      },
      "source": [
        "### 임의 분할 교차 검증 (shuffle-split cross-validation)\n",
        "\n",
        "- 반복 횟수를 훈련 세트나 테스트 세트의 크기와 독립적으로 조절해야 할 때 유용\n",
        "- train_size와 test_size의 합을 전체와 다르게 함으로써 전체 데이터의 일부만 사용 가능\n",
        "- 데이터 부분 샘플링(subsampling)하는 방식은 대규모 데이터셋으로 작업할 때 도움이 됨\n",
        "\n"
      ]
    },
    {
      "cell_type": "markdown",
      "metadata": {
        "id": "ZYVty6J4ooo2"
      },
      "source": [
        "[ShuffleSplit()](https://scikit-learn.org/stable/modules/generated/sklearn.model_selection.ShuffleSplit.html)\n",
        "\n",
        "```\n",
        "ShuffleSplit(n_splits=10, *, test_size=None, train_size=None, random_state=None)\n",
        "```\n",
        "- train_size 만큼의 포인트로 훈련 세트를 만들고, test_size만큼의 (훈련 세트와 중첩되지 않은) 포인트로 테스트 세트를 만들도록 분할\n",
        "\n",
        "- n_splits 횟수만큼 반복"
      ]
    },
    {
      "cell_type": "code",
      "metadata": {
        "id": "uggw5EEFpEKS",
        "colab": {
          "base_uri": "https://localhost:8080/",
          "height": 153
        },
        "outputId": "966cc1b2-c4ab-45bf-ce90-4ab181a1eebb"
      },
      "source": [
        "# 10개의 데이터 포인트에 train_size=0.5, test_size=0.2, n_splits=4를 적용한 ShuffleSplit\n",
        "mglearn.plots.plot_shuffle_split()"
      ],
      "execution_count": null,
      "outputs": [
        {
          "output_type": "display_data",
          "data": {
            "image/png": "[encoded data removed]",
            "text/plain": [
              "<Figure size 720x144 with 1 Axes>"
            ]
          },
          "metadata": {
            "needs_background": "light"
          }
        }
      ]
    },
    {
      "cell_type": "code",
      "metadata": {
        "id": "voONNTbdpNFx",
        "colab": {
          "base_uri": "https://localhost:8080/"
        },
        "outputId": "b6030fc1-ccaf-412e-b67a-f9bed7ef747b"
      },
      "source": [
        "from sklearn.model_selection import ShuffleSplit\n",
        "ss = ShuffleSplit(n_splits=10, train_size=0.5, test_size=0.2)\n",
        "scores = cross_val_score(model_lr, X, y, cv=ss)\n",
        "scores.mean(), scores "
      ],
      "execution_count": null,
      "outputs": [
        {
          "output_type": "execute_result",
          "data": {
            "text/plain": [
              "(0.9466666666666667,\n",
              " array([0.9       , 0.93333333, 0.93333333, 0.96666667, 0.96666667,\n",
              "        1.        , 0.93333333, 0.96666667, 0.9       , 0.96666667]))"
            ]
          },
          "metadata": {},
          "execution_count": 14
        }
      ]
    },
    {
      "cell_type": "markdown",
      "metadata": {
        "id": "iBOIaQfws4Fj"
      },
      "source": [
        "### 그룹별 교차 검증 (groups cross-validation)\n",
        "\n",
        "- 데이터 안에 매우 연관된 그룹이 있을 때\n",
        "- 예: 같은 환자로부터 얻은 여러 샘플을 가지고 새로운 환자에게 일반화하는 의료 애플리케이션\n",
        "\n",
        "- groups 배열은 훈련 세트와 테스트 세트를 만들 때 분리되지 않아야 할 그룹을 지정하는 것으로 클래스 레이블과 혼동해서는 안됨"
      ]
    },
    {
      "cell_type": "markdown",
      "metadata": {
        "id": "e_4sivXeuFm6"
      },
      "source": [
        "[GroupKFold()](https://scikit-learn.org/stable/modules/generated/sklearn.model_selection.GroupKFold.html)\n",
        "\n",
        "```\n",
        "GroupKFold(n_splits=5)\n",
        "```\n",
        "- n_splits : 폴드 수 (2 이상)\n"
      ]
    },
    {
      "cell_type": "code",
      "metadata": {
        "id": "q41m10w1vCgM",
        "colab": {
          "base_uri": "https://localhost:8080/",
          "height": 153
        },
        "outputId": "0c033e56-127c-4f98-b074-0dfa2eeb31ad"
      },
      "source": [
        "# 레이블에 기반한 GroupKFold 분할\n",
        "mglearn.plots.plot_group_kfold()"
      ],
      "execution_count": null,
      "outputs": [
        {
          "output_type": "display_data",
          "data": {
            "image/png": "[encoded data removed]",
            "text/plain": [
              "<Figure size 720x144 with 1 Axes>"
            ]
          },
          "metadata": {
            "needs_background": "light"
          }
        }
      ]
    },
    {
      "cell_type": "code",
      "metadata": {
        "id": "mAgpEA_YuGWp",
        "colab": {
          "base_uri": "https://localhost:8080/"
        },
        "outputId": "dc2ed406-21b9-4903-b891-572d87c57d66"
      },
      "source": [
        "from sklearn.model_selection import GroupKFold\n",
        "from sklearn.datasets import make_blobs\n",
        "\n",
        "# 인위적 데이터셋 생성\n",
        "X, y = make_blobs(n_samples=12, random_state=0)\n",
        "# 처음 세 개의 샘플은 같은 그룹에 속하고\n",
        "# 다음은 네 개의 샘플이 같음\n",
        "groups = [0,0,0,1,1,1,1,2,2,3,3,3]\n",
        "\n",
        "gkf = GroupKFold(n_splits=3)\n",
        "scores = cross_val_score(model_lr, X, y, groups=groups, cv=gkf)\n",
        "scores.mean(), scores"
      ],
      "execution_count": null,
      "outputs": [
        {
          "output_type": "execute_result",
          "data": {
            "text/plain": [
              "(0.6722222222222222, array([0.75      , 0.6       , 0.66666667]))"
            ]
          },
          "metadata": {},
          "execution_count": 16
        }
      ]
    },
    {
      "cell_type": "markdown",
      "metadata": {
        "id": "uAWePMURwRtK"
      },
      "source": [
        "### 반복 교차 검증\n",
        "\n",
        "- 데이터셋의 크기가 크지 않을 경우 안정된 검증 점수를 얻기 위해 교차 검증을 반복하여 여러 번 수행\n",
        "\n",
        "- RepeatedKFold : 회귀에 사용\n",
        "- RepeatedStratifiedKFold : 분류에 사용"
      ]
    },
    {
      "cell_type": "code",
      "metadata": {
        "id": "rD3_YWpbwyZ2",
        "colab": {
          "base_uri": "https://localhost:8080/"
        },
        "outputId": "f03ed50b-74f6-4766-b576-01ff443f0b51"
      },
      "source": [
        "from sklearn.model_selection import RepeatedStratifiedKFold\n",
        "\n",
        "X = iris.data\n",
        "y = iris.target\n",
        "rskfold = RepeatedStratifiedKFold(n_splits=5, n_repeats=10, random_state=0)\n",
        "scores = cross_val_score(model_lr, X, y, cv=rskfold)\n",
        "scores.mean(), scores"
      ],
      "execution_count": null,
      "outputs": [
        {
          "output_type": "execute_result",
          "data": {
            "text/plain": [
              "(0.9640000000000001,\n",
              " array([0.96666667, 0.96666667, 0.96666667, 0.96666667, 0.93333333,\n",
              "        1.        , 0.9       , 0.96666667, 1.        , 1.        ,\n",
              "        0.93333333, 1.        , 1.        , 0.93333333, 0.96666667,\n",
              "        1.        , 0.9       , 1.        , 0.9       , 1.        ,\n",
              "        1.        , 0.93333333, 0.96666667, 0.96666667, 0.93333333,\n",
              "        0.9       , 1.        , 1.        , 1.        , 0.96666667,\n",
              "        0.93333333, 0.96666667, 1.        , 0.96666667, 0.93333333,\n",
              "        1.        , 0.96666667, 0.9       , 0.96666667, 1.        ,\n",
              "        0.96666667, 1.        , 0.9       , 0.96666667, 0.96666667,\n",
              "        0.96666667, 0.96666667, 0.9       , 0.96666667, 1.        ]))"
            ]
          },
          "metadata": {},
          "execution_count": 17
        }
      ]
    },
    {
      "cell_type": "markdown",
      "metadata": {
        "id": "2D-Ti8MPxqx3"
      },
      "source": [
        "- 전체 검증 점수는 n_splits * n_repeats 개수만큼 만들어짐"
      ]
    },
    {
      "cell_type": "markdown",
      "metadata": {
        "id": "NSNLVJVzY2iC"
      },
      "source": [
        "# 그리드 서치 (Grid Search)\n",
        "\n",
        "- 매개변수을 선택하는 것은 머신러닝에서 중요한 일\n",
        "\n",
        "- GRID_SEARCH : 관심 있는 매개변수들을 대상으로 가능한 모든 조합 시도하는 것"
      ]
    },
    {
      "cell_type": "markdown",
      "metadata": {
        "id": "5ptTkiFJ0GU3"
      },
      "source": [
        "### 검증 세트\n",
        "\n",
        "- 매개변수를 조정하기 위해 테스트 세트를 사용하면 모델이 얼마나 좋은지 평가하는 것에 더 이상 사용할 수 없음\n",
        "- 평가를 위해 모델을 만들 때 사용하지 않은 독립된 데이터셋이 필요\n",
        "\n",
        "- 데이터를 세 개의 세트로 만들어 이 문제를 해결\n",
        " - 훈련 세트로는 모델을 작성\n",
        " - 검증 (또는 개발) 세트로는 모델의 매개변수를 선택\n",
        " - 테스트 세트로는 선택된 매개변수의 성능을 평가"
      ]
    },
    {
      "cell_type": "code",
      "metadata": {
        "id": "oaVHmNlRzo3i",
        "colab": {
          "base_uri": "https://localhost:8080/",
          "height": 123
        },
        "outputId": "bbe9ae8c-0116-4aa7-ea82-1362f3b90e70"
      },
      "source": [
        "mglearn.plots.plot_threefold_split()"
      ],
      "execution_count": null,
      "outputs": [
        {
          "output_type": "display_data",
          "data": {
            "image/png": "[encoded data removed]",
            "text/plain": [
              "<Figure size 1080x72 with 1 Axes>"
            ]
          },
          "metadata": {
            "needs_background": "light"
          }
        }
      ]
    },
    {
      "cell_type": "code",
      "metadata": {
        "id": "x6b_77z6Zecj",
        "colab": {
          "base_uri": "https://localhost:8080/"
        },
        "outputId": "f2454515-c8b0-4191-cd28-2cb780f89820"
      },
      "source": [
        "from sklearn.model_selection import train_test_split\n",
        "from sklearn.svm import SVC\n",
        "\n",
        "# 데이터를 훈련+검증 세트 그리고 테스트 세트로 분할\n",
        "X_trainval, X_test, y_trainval, y_test = train_test_split(X, y,\n",
        "                                                          random_state=0)\n",
        "print( X_trainval.shape )\n",
        "\n",
        "# 훈련+검증 세트를 훈련 세트와 검증 세트로 분할\n",
        "X_train, X_valid, y_train, y_valid = train_test_split(X_trainval, y_trainval,\n",
        "                                                      random_state=0)\n",
        "print( X_train.shape, X_valid.shape )\n",
        "\n",
        "best_score = 0\n",
        "# 그리드 서치\n",
        "for gamma in [0.001, 0.01, 0.1, 1, 10, 100]:\n",
        "  for C in [0.001, 0.01, 0.1, 1, 10, 100]:\n",
        "    # 매개변수의 각 조합에 대한 SVC 학습\n",
        "    model = SVC(gamma=gamma, C=C).fit(X_train, y_train)\n",
        "    # 검증 데이터셋으로 SVC 평가\n",
        "    score = model.score(X_valid, y_valid)\n",
        "    # 점수가 더 높으면 매개변수와 함께 기록\n",
        "    if score > best_score:\n",
        "      best_score = score\n",
        "      best_parameters = {'C':C, 'gamma':gamma}\n",
        "\n",
        "best_score, best_parameters"
      ],
      "execution_count": null,
      "outputs": [
        {
          "output_type": "stream",
          "text": [
            "(112, 4)\n",
            "(84, 4) (28, 4)\n"
          ],
          "name": "stdout"
        },
        {
          "output_type": "execute_result",
          "data": {
            "text/plain": [
              "(1.0, {'C': 100, 'gamma': 0.001})"
            ]
          },
          "metadata": {},
          "execution_count": 19
        }
      ]
    },
    {
      "cell_type": "markdown",
      "metadata": {
        "id": "gWBnbgZtZ298"
      },
      "source": [
        "## 교차 검증을 사용한 그리드 서치"
      ]
    },
    {
      "cell_type": "code",
      "metadata": {
        "id": "JwbeAekiZ5uj",
        "colab": {
          "base_uri": "https://localhost:8080/"
        },
        "outputId": "e78bb7e4-3d58-45d8-886e-cfff004d5e67"
      },
      "source": [
        "# 훈련 세트와 검증 세트를 합쳐 모델을 다시 만듬\n",
        "best_score = 0\n",
        "# 그리드 서치\n",
        "for gamma in [0.001, 0.01, 0.1, 1, 10, 100]:\n",
        "  for C in [0.001, 0.01, 0.1, 1, 10, 100]:\n",
        "    # 매개변수의 각 조합에 대한 SVC 학습\n",
        "    model = SVC(gamma=gamma, C=C)\n",
        "    # 검증 데이터셋으로 SVC 평가\n",
        "    score = cross_val_score(model, X_trainval, y_trainval, cv=5).mean()\n",
        "    # 점수가 더 높으면 매개변수와 함께 기록\n",
        "    if score > best_score:\n",
        "      best_score = score\n",
        "      best_parameters = {'C':C, 'gamma':gamma}\n",
        "\n",
        "best_score, best_parameters"
      ],
      "execution_count": null,
      "outputs": [
        {
          "output_type": "execute_result",
          "data": {
            "text/plain": [
              "(0.9731225296442687, {'C': 10, 'gamma': 0.1})"
            ]
          },
          "metadata": {},
          "execution_count": 20
        }
      ]
    },
    {
      "cell_type": "code",
      "metadata": {
        "colab": {
          "base_uri": "https://localhost:8080/"
        },
        "id": "TnK0hU0LhPHe",
        "outputId": "fdd16a3a-28cf-49c2-b685-b9b801bbb0f0"
      },
      "source": [
        "# 훈련 세트와 검증 세트를 합쳐 모델을 다시 만든 후\n",
        "# 테스트 세트를 사용해 평가\n",
        "svm = SVC(**best_parameters).fit(X_trainval, y_trainval)\n",
        "svm.score(X_test, y_test)"
      ],
      "execution_count": null,
      "outputs": [
        {
          "output_type": "execute_result",
          "data": {
            "text/plain": [
              "0.9736842105263158"
            ]
          },
          "metadata": {},
          "execution_count": 21
        }
      ]
    },
    {
      "cell_type": "markdown",
      "metadata": {
        "id": "o6HYJoZ51fZd"
      },
      "source": [
        "- 5-겹 교차 검증으로 C와 gamma 설정에 대한 SVM 정확도를 평가하려면 36 x 5 = 180 개의 모델이 필요"
      ]
    },
    {
      "cell_type": "code",
      "metadata": {
        "id": "glEPjgEh1uJH",
        "colab": {
          "base_uri": "https://localhost:8080/",
          "height": 335
        },
        "outputId": "00867731-69dc-4324-d7e2-d4ddafc8bed0"
      },
      "source": [
        "# 최적의 매개변수를 선택하는 방법\n",
        "# 교차 검증 정확도 평균이 가장 높은 매개변수를 동그라미로 표시\n",
        "mglearn.plots.plot_cross_val_selection()"
      ],
      "execution_count": null,
      "outputs": [
        {
          "output_type": "display_data",
          "data": {
            "image/png": "[encoded data removed]",
            "text/plain": [
              "<Figure size 720x216 with 1 Axes>"
            ]
          },
          "metadata": {
            "needs_background": "light"
          }
        }
      ]
    },
    {
      "cell_type": "code",
      "metadata": {
        "id": "YD10RXP-2Kcc",
        "colab": {
          "base_uri": "https://localhost:8080/",
          "height": 440
        },
        "outputId": "49287467-3539-4c68-9e1f-0f9eef999bb7"
      },
      "source": [
        "# 교차 검증과 그리드 서치를 사용한 매개변수 선택과 모델 평가의 작업 흐름\n",
        "mglearn.plots.plot_grid_search_overview()"
      ],
      "execution_count": null,
      "outputs": [
        {
          "output_type": "display_data",
          "data": {
            "image/png": "[encoded data removed]",
            "text/plain": [
              "<Figure size 700x210 with 1 Axes>"
            ]
          },
          "metadata": {
            "needs_background": "light"
          }
        }
      ]
    },
    {
      "cell_type": "markdown",
      "metadata": {
        "id": "CQhNYEqHaRcU"
      },
      "source": [
        "## GridSearchCV 메소드를 이용한 그리드서치"
      ]
    },
    {
      "cell_type": "code",
      "metadata": {
        "id": "8alJXc2jaQvk",
        "colab": {
          "base_uri": "https://localhost:8080/"
        },
        "outputId": "b5264a51-8ce1-456f-bda1-99111b22c082"
      },
      "source": [
        "# param_grid\n",
        "param_grid = {'C':[0.001,0.01,0.1,1,10,100],\n",
        "              'gamma':[0.001,0.01,0.1,1,10,100]}\n",
        "\n",
        "param_grid"
      ],
      "execution_count": null,
      "outputs": [
        {
          "output_type": "execute_result",
          "data": {
            "text/plain": [
              "{'C': [0.001, 0.01, 0.1, 1, 10, 100], 'gamma': [0.001, 0.01, 0.1, 1, 10, 100]}"
            ]
          },
          "metadata": {},
          "execution_count": 24
        }
      ]
    },
    {
      "cell_type": "code",
      "metadata": {
        "id": "Hk8otxS9ab0c"
      },
      "source": [
        "from sklearn.model_selection import GridSearchCV\n",
        "from sklearn.svm import SVC\n",
        "\n",
        "grid_search = GridSearchCV(SVC(), param_grid =param_grid, cv=5, return_train_score=True)"
      ],
      "execution_count": null,
      "outputs": []
    },
    {
      "cell_type": "code",
      "metadata": {
        "colab": {
          "base_uri": "https://localhost:8080/"
        },
        "id": "GgHdWnhhkU8y",
        "outputId": "b71841b0-e5d4-43ab-df4e-a5833c58b2c8"
      },
      "source": [
        "X_train, X_test, y_train, y_test = train_test_split(X,y,random_state=0)\n",
        "\n",
        "grid_search.fit(X_train,y_train)"
      ],
      "execution_count": null,
      "outputs": [
        {
          "output_type": "execute_result",
          "data": {
            "text/plain": [
              "GridSearchCV(cv=5, error_score=nan,\n",
              "             estimator=SVC(C=1.0, break_ties=False, cache_size=200,\n",
              "                           class_weight=None, coef0=0.0,\n",
              "                           decision_function_shape='ovr', degree=3,\n",
              "                           gamma='scale', kernel='rbf', max_iter=-1,\n",
              "                           probability=False, random_state=None, shrinking=True,\n",
              "                           tol=0.001, verbose=False),\n",
              "             iid='deprecated', n_jobs=None,\n",
              "             param_grid={'C': [0.001, 0.01, 0.1, 1, 10, 100],\n",
              "                         'gamma': [0.001, 0.01, 0.1, 1, 10, 100]},\n",
              "             pre_dispatch='2*n_jobs', refit=True, return_train_score=True,\n",
              "             scoring=None, verbose=0)"
            ]
          },
          "metadata": {},
          "execution_count": 26
        }
      ]
    },
    {
      "cell_type": "markdown",
      "metadata": {
        "id": "tIAo7oxEatkV"
      },
      "source": [
        "- GridSearchCV 객체에 fit() 매서드는 최적의 매개변수를 찾는 일 뿐만 아니라 교차 검증 성능이 가장 좋은 매개변수로 전체 훈련 데이터 세트에 대해 새로운 모델을 자동을 만듬\n",
        "\n",
        "- GridSearchCV는 전체 데이터로 학습한 모델에 접근할 수 있도록 predict()와 score() 메서드 제공\n",
        "\n",
        "- GridSearchCV 분류 : StratifiedKFold 회귀 : KFold\n",
        "\n",
        "- 사용에 따라서는 predict_proba, decision_function도 제공"
      ]
    },
    {
      "cell_type": "code",
      "metadata": {
        "id": "TPOnpDujqmbW",
        "colab": {
          "base_uri": "https://localhost:8080/"
        },
        "outputId": "c3f1bac7-1f90-4d9e-af37-96b7716b6819"
      },
      "source": [
        "grid_search.score(X_test,y_test)"
      ],
      "execution_count": null,
      "outputs": [
        {
          "output_type": "execute_result",
          "data": {
            "text/plain": [
              "0.9736842105263158"
            ]
          },
          "metadata": {},
          "execution_count": 27
        }
      ]
    },
    {
      "cell_type": "code",
      "metadata": {
        "id": "fEK3IoWkqyLv",
        "colab": {
          "base_uri": "https://localhost:8080/"
        },
        "outputId": "e6a43551-64cc-436a-c791-20db3841a95b"
      },
      "source": [
        "grid_search.best_score_,grid_search.best_params_"
      ],
      "execution_count": null,
      "outputs": [
        {
          "output_type": "execute_result",
          "data": {
            "text/plain": [
              "(0.9731225296442687, {'C': 10, 'gamma': 0.1})"
            ]
          },
          "metadata": {},
          "execution_count": 28
        }
      ]
    },
    {
      "cell_type": "markdown",
      "metadata": {
        "id": "U3LXIYJNbV02"
      },
      "source": [
        "- bast_score_ 속성에는 훈련 세트에서 수행한 교차 검증의 평균 정확도가 저장\n",
        "\n",
        "- 최적 매개 변수에서 전체 훈련 세트를 사용하여 학습한 모델은 best_estimator_\n",
        "\n",
        "- grid_search 객체가 predict와 score 메서드를 가지고 있으므로 예측이나 모델을 평가하기 위해 best_estimator_ 속성을 사용할 필요가 없음\n"
      ]
    },
    {
      "cell_type": "code",
      "metadata": {
        "colab": {
          "base_uri": "https://localhost:8080/"
        },
        "id": "reeytNNDleEY",
        "outputId": "74df85d6-e83c-47c9-ed7e-1cd7c2fcdc55"
      },
      "source": [
        "grid_search.best_estimator_"
      ],
      "execution_count": null,
      "outputs": [
        {
          "output_type": "execute_result",
          "data": {
            "text/plain": [
              "SVC(C=10, break_ties=False, cache_size=200, class_weight=None, coef0=0.0,\n",
              "    decision_function_shape='ovr', degree=3, gamma=0.1, kernel='rbf',\n",
              "    max_iter=-1, probability=False, random_state=None, shrinking=True,\n",
              "    tol=0.001, verbose=False)"
            ]
          },
          "metadata": {},
          "execution_count": 29
        }
      ]
    },
    {
      "cell_type": "markdown",
      "metadata": {
        "id": "JWUU8nFabk5O"
      },
      "source": [
        "## 교차 검증 결과 분석\n",
        "\n",
        "- 교차 검증의 결과를 시각화하면 검색 대상 매개변수가 모델의 일반화에 영향을 얼마나 주는지 이해하는 데 도움이 됨"
      ]
    },
    {
      "cell_type": "code",
      "metadata": {
        "id": "xzSs_HdicV5q",
        "colab": {
          "base_uri": "https://localhost:8080/",
          "height": 726
        },
        "outputId": "7baf4dd3-36eb-4f48-a788-4fd01e90157a"
      },
      "source": [
        "import pandas as pd\n",
        "import numpy as np\n",
        "\n",
        "results = pd.DataFrame(grid_search.cv_results_)\n",
        "results.head(5).T"
      ],
      "execution_count": null,
      "outputs": [
        {
          "output_type": "execute_result",
          "data": {
            "text/html": [
              "<div>\n",
              "<style scoped>\n",
              "    .dataframe tbody tr th:only-of-type {\n",
              "        vertical-align: middle;\n",
              "    }\n",
              "\n",
              "    .dataframe tbody tr th {\n",
              "        vertical-align: top;\n",
              "    }\n",
              "\n",
              "    .dataframe thead th {\n",
              "        text-align: right;\n",
              "    }\n",
              "</style>\n",
              "<table border=\"1\" class=\"dataframe\">\n",
              "  <thead>\n",
              "    <tr style=\"text-align: right;\">\n",
              "      <th></th>\n",
              "      <th>0</th>\n",
              "      <th>1</th>\n",
              "      <th>2</th>\n",
              "      <th>3</th>\n",
              "      <th>4</th>\n",
              "    </tr>\n",
              "  </thead>\n",
              "  <tbody>\n",
              "    <tr>\n",
              "      <th>mean_fit_time</th>\n",
              "      <td>0.00147514</td>\n",
              "      <td>0.00142169</td>\n",
              "      <td>0.00107136</td>\n",
              "      <td>0.000886965</td>\n",
              "      <td>0.000810194</td>\n",
              "    </tr>\n",
              "    <tr>\n",
              "      <th>std_fit_time</th>\n",
              "      <td>9.98148e-05</td>\n",
              "      <td>7.66724e-05</td>\n",
              "      <td>0.000217098</td>\n",
              "      <td>3.56499e-05</td>\n",
              "      <td>2.40505e-05</td>\n",
              "    </tr>\n",
              "    <tr>\n",
              "      <th>mean_score_time</th>\n",
              "      <td>0.000704527</td>\n",
              "      <td>0.000641489</td>\n",
              "      <td>0.000425577</td>\n",
              "      <td>0.000364256</td>\n",
              "      <td>0.000393534</td>\n",
              "    </tr>\n",
              "    <tr>\n",
              "      <th>std_score_time</th>\n",
              "      <td>8.53215e-05</td>\n",
              "      <td>5.15043e-05</td>\n",
              "      <td>9.01785e-05</td>\n",
              "      <td>1.23605e-05</td>\n",
              "      <td>1.36475e-05</td>\n",
              "    </tr>\n",
              "    <tr>\n",
              "      <th>param_C</th>\n",
              "      <td>0.001</td>\n",
              "      <td>0.001</td>\n",
              "      <td>0.001</td>\n",
              "      <td>0.001</td>\n",
              "      <td>0.001</td>\n",
              "    </tr>\n",
              "    <tr>\n",
              "      <th>param_gamma</th>\n",
              "      <td>0.001</td>\n",
              "      <td>0.01</td>\n",
              "      <td>0.1</td>\n",
              "      <td>1</td>\n",
              "      <td>10</td>\n",
              "    </tr>\n",
              "    <tr>\n",
              "      <th>params</th>\n",
              "      <td>{'C': 0.001, 'gamma': 0.001}</td>\n",
              "      <td>{'C': 0.001, 'gamma': 0.01}</td>\n",
              "      <td>{'C': 0.001, 'gamma': 0.1}</td>\n",
              "      <td>{'C': 0.001, 'gamma': 1}</td>\n",
              "      <td>{'C': 0.001, 'gamma': 10}</td>\n",
              "    </tr>\n",
              "    <tr>\n",
              "      <th>split0_test_score</th>\n",
              "      <td>0.347826</td>\n",
              "      <td>0.347826</td>\n",
              "      <td>0.347826</td>\n",
              "      <td>0.347826</td>\n",
              "      <td>0.347826</td>\n",
              "    </tr>\n",
              "    <tr>\n",
              "      <th>split1_test_score</th>\n",
              "      <td>0.347826</td>\n",
              "      <td>0.347826</td>\n",
              "      <td>0.347826</td>\n",
              "      <td>0.347826</td>\n",
              "      <td>0.347826</td>\n",
              "    </tr>\n",
              "    <tr>\n",
              "      <th>split2_test_score</th>\n",
              "      <td>0.363636</td>\n",
              "      <td>0.363636</td>\n",
              "      <td>0.363636</td>\n",
              "      <td>0.363636</td>\n",
              "      <td>0.363636</td>\n",
              "    </tr>\n",
              "    <tr>\n",
              "      <th>split3_test_score</th>\n",
              "      <td>0.363636</td>\n",
              "      <td>0.363636</td>\n",
              "      <td>0.363636</td>\n",
              "      <td>0.363636</td>\n",
              "      <td>0.363636</td>\n",
              "    </tr>\n",
              "    <tr>\n",
              "      <th>split4_test_score</th>\n",
              "      <td>0.409091</td>\n",
              "      <td>0.409091</td>\n",
              "      <td>0.409091</td>\n",
              "      <td>0.409091</td>\n",
              "      <td>0.409091</td>\n",
              "    </tr>\n",
              "    <tr>\n",
              "      <th>mean_test_score</th>\n",
              "      <td>0.366403</td>\n",
              "      <td>0.366403</td>\n",
              "      <td>0.366403</td>\n",
              "      <td>0.366403</td>\n",
              "      <td>0.366403</td>\n",
              "    </tr>\n",
              "    <tr>\n",
              "      <th>std_test_score</th>\n",
              "      <td>0.0224845</td>\n",
              "      <td>0.0224845</td>\n",
              "      <td>0.0224845</td>\n",
              "      <td>0.0224845</td>\n",
              "      <td>0.0224845</td>\n",
              "    </tr>\n",
              "    <tr>\n",
              "      <th>rank_test_score</th>\n",
              "      <td>22</td>\n",
              "      <td>22</td>\n",
              "      <td>22</td>\n",
              "      <td>22</td>\n",
              "      <td>22</td>\n",
              "    </tr>\n",
              "    <tr>\n",
              "      <th>split0_train_score</th>\n",
              "      <td>0.370787</td>\n",
              "      <td>0.370787</td>\n",
              "      <td>0.370787</td>\n",
              "      <td>0.370787</td>\n",
              "      <td>0.370787</td>\n",
              "    </tr>\n",
              "    <tr>\n",
              "      <th>split1_train_score</th>\n",
              "      <td>0.370787</td>\n",
              "      <td>0.370787</td>\n",
              "      <td>0.370787</td>\n",
              "      <td>0.370787</td>\n",
              "      <td>0.370787</td>\n",
              "    </tr>\n",
              "    <tr>\n",
              "      <th>split2_train_score</th>\n",
              "      <td>0.366667</td>\n",
              "      <td>0.366667</td>\n",
              "      <td>0.366667</td>\n",
              "      <td>0.366667</td>\n",
              "      <td>0.366667</td>\n",
              "    </tr>\n",
              "    <tr>\n",
              "      <th>split3_train_score</th>\n",
              "      <td>0.366667</td>\n",
              "      <td>0.366667</td>\n",
              "      <td>0.366667</td>\n",
              "      <td>0.366667</td>\n",
              "      <td>0.366667</td>\n",
              "    </tr>\n",
              "    <tr>\n",
              "      <th>split4_train_score</th>\n",
              "      <td>0.355556</td>\n",
              "      <td>0.355556</td>\n",
              "      <td>0.355556</td>\n",
              "      <td>0.355556</td>\n",
              "      <td>0.355556</td>\n",
              "    </tr>\n",
              "    <tr>\n",
              "      <th>mean_train_score</th>\n",
              "      <td>0.366092</td>\n",
              "      <td>0.366092</td>\n",
              "      <td>0.366092</td>\n",
              "      <td>0.366092</td>\n",
              "      <td>0.366092</td>\n",
              "    </tr>\n",
              "    <tr>\n",
              "      <th>std_train_score</th>\n",
              "      <td>0.00558129</td>\n",
              "      <td>0.00558129</td>\n",
              "      <td>0.00558129</td>\n",
              "      <td>0.00558129</td>\n",
              "      <td>0.00558129</td>\n",
              "    </tr>\n",
              "  </tbody>\n",
              "</table>\n",
              "</div>"
            ],
            "text/plain": [
              "                                               0  ...                          4\n",
              "mean_fit_time                         0.00147514  ...                0.000810194\n",
              "std_fit_time                         9.98148e-05  ...                2.40505e-05\n",
              "mean_score_time                      0.000704527  ...                0.000393534\n",
              "std_score_time                       8.53215e-05  ...                1.36475e-05\n",
              "param_C                                    0.001  ...                      0.001\n",
              "param_gamma                                0.001  ...                         10\n",
              "params              {'C': 0.001, 'gamma': 0.001}  ...  {'C': 0.001, 'gamma': 10}\n",
              "split0_test_score                       0.347826  ...                   0.347826\n",
              "split1_test_score                       0.347826  ...                   0.347826\n",
              "split2_test_score                       0.363636  ...                   0.363636\n",
              "split3_test_score                       0.363636  ...                   0.363636\n",
              "split4_test_score                       0.409091  ...                   0.409091\n",
              "mean_test_score                         0.366403  ...                   0.366403\n",
              "std_test_score                         0.0224845  ...                  0.0224845\n",
              "rank_test_score                               22  ...                         22\n",
              "split0_train_score                      0.370787  ...                   0.370787\n",
              "split1_train_score                      0.370787  ...                   0.370787\n",
              "split2_train_score                      0.366667  ...                   0.366667\n",
              "split3_train_score                      0.366667  ...                   0.366667\n",
              "split4_train_score                      0.355556  ...                   0.355556\n",
              "mean_train_score                        0.366092  ...                   0.366092\n",
              "std_train_score                       0.00558129  ...                 0.00558129\n",
              "\n",
              "[22 rows x 5 columns]"
            ]
          },
          "metadata": {},
          "execution_count": 30
        }
      ]
    },
    {
      "cell_type": "markdown",
      "metadata": {
        "id": "yqNbSStBck4V"
      },
      "source": [
        "### C와 gamma 시각화\n",
        "\n",
        " "
      ]
    },
    {
      "cell_type": "code",
      "metadata": {
        "id": "1n1od7iJcmcG",
        "colab": {
          "base_uri": "https://localhost:8080/",
          "height": 297
        },
        "outputId": "2f07f65c-544e-4bc8-9314-95ed8e6ce652"
      },
      "source": [
        "import mglearn\n",
        "\n",
        "# 교차 검증 평균 점수 히트맵 그래프\n",
        "\n",
        "scores = np.array(results.mean_test_score).reshape(6,6)\n",
        "mglearn.tools.heatmap(scores, xlabel='gamma', xticklabels=param_grid['gamma'],\n",
        "                      ylabel='C',yticklabels=param_grid['C'])"
      ],
      "execution_count": null,
      "outputs": [
        {
          "output_type": "execute_result",
          "data": {
            "text/plain": [
              "<matplotlib.collections.PolyCollection at 0x7f13cbcee210>"
            ]
          },
          "metadata": {},
          "execution_count": 31
        },
        {
          "output_type": "display_data",
          "data": {
            "image/png": "[encoded data removed]",
            "text/plain": [
              "<Figure size 432x288 with 1 Axes>"
            ]
          },
          "metadata": {
            "needs_background": "light"
          }
        }
      ]
    },
    {
      "cell_type": "markdown",
      "metadata": {
        "id": "wpfsIdDXdMbP"
      },
      "source": [
        "### 바람직하지 못한 예\n",
        "\n",
        "- 검색 범위가 적절하게 선택되지 않은 경우"
      ]
    },
    {
      "cell_type": "code",
      "metadata": {
        "id": "33StzRe8dKNl",
        "colab": {
          "base_uri": "https://localhost:8080/",
          "height": 225
        },
        "outputId": "586ce3e5-34da-43bd-8502-9da688cb82b6"
      },
      "source": [
        "import matplotlib.pyplot as plt\n",
        "\n",
        "fig, axes = plt.subplots(1, 3, figsize=(15, 3))\n",
        "\n",
        "pg_linear = {'C': np.linspace(1, 2, 6), 'gamma': np.linspace(1, 2, 6)}\n",
        "pg_log = {'C': np.linspace(1, 2, 6), 'gamma': np.logspace(-3, 2, 6)}\n",
        "pg_range = {'C': np.logspace(-3, 2, 6), 'gamma': np.logspace(-7, -2, 6)}\n",
        "\n",
        "for pg, ax in zip([pg_linear, pg_log, pg_range], axes ):\n",
        "  grid_search = GridSearchCV(SVC(), param_grid=pg, cv=5).fit(X_train, y_train)\n",
        "  scores = grid_search.cv_results_['mean_test_score'].reshape(6, 6)\n",
        "  mglearn.tools.heatmap(scores, xlabel='gamma', xticklabels=pg['gamma'],\n",
        "                      ylabel='C', yticklabels=pg['C'] , ax=ax)"
      ],
      "execution_count": null,
      "outputs": [
        {
          "output_type": "display_data",
          "data": {
            "image/png": "[encoded data removed]",
            "text/plain": [
              "<Figure size 1080x216 with 3 Axes>"
            ]
          },
          "metadata": {
            "needs_background": "light"
          }
        }
      ]
    },
    {
      "cell_type": "markdown",
      "metadata": {
        "id": "7CJVo-SFPKa5"
      },
      "source": [
        "# 모델 평가"
      ]
    },
    {
      "cell_type": "markdown",
      "metadata": {
        "id": "0s854FoWqV1Q"
      },
      "source": [
        "분류의 평가 지표\n",
        "\n",
        "정확도, 오차 행렬, 분류 리포트,\n",
        "정밀도, 재현율, f1_score, 정밀도-재현율 곡선(ROC), AUC"
      ]
    },
    {
      "cell_type": "markdown",
      "metadata": {
        "id": "nR-y7KSxrUf2"
      },
      "source": [
        "## 정확도 (Accuracy)\n",
        "\n",
        "- 실제 데이터에서 에측 데이터가 얼마나 같은지를 판단하는 지표\n",
        "\n",
        " > \\begin{equation}\n",
        "\\text{정확도(Accuracy)} = \\frac{\\text{예측결과가동일한데이터건수}}{\\text{전체예측데이터건수}}\n",
        "\\end{equation}\n",
        "\n",
        "- 직관적으로 모델 예측 성능을 나타내는 평가 지표"
      ]
    },
    {
      "cell_type": "markdown",
      "metadata": {
        "id": "iOLN1FZSshZ8"
      },
      "source": [
        "## 오차행렬 (Confusion Matrix)\n",
        "\n",
        "- 학습된 분류 모델이 예측을 수행하면서 얼마나 혼란스러워(confused) 하고 있는지 함께 보여주는 지표\n",
        "- 예측 오류가 얼마인지와 더불어 어떠한 유형의 예측 오류가 발생하고 있는지를 함께 나타내는 지표\n"
      ]
    },
    {
      "cell_type": "code",
      "metadata": {
        "id": "AP6k09m2yVcZ",
        "colab": {
          "base_uri": "https://localhost:8080/",
          "height": 270
        },
        "outputId": "6e4d3477-ab83-47ee-e1c8-175f0b6be114"
      },
      "source": [
        "mglearn.plots.plot_binary_confusion_matrix()"
      ],
      "execution_count": null,
      "outputs": [
        {
          "output_type": "display_data",
          "data": {
            "image/png": "[encoded data removed]",
            "text/plain": [
              "<Figure size 432x288 with 1 Axes>"
            ]
          },
          "metadata": {
            "needs_background": "light"
          }
        }
      ]
    },
    {
      "cell_type": "markdown",
      "metadata": {
        "id": "f2jC8ie3yb5s"
      },
      "source": [
        "- True / False : 예측값과 실제값이 같은가 /틀린가\n",
        "- Negative / Positive : 예측 결과 값이 부정(0) / 긍정(1)\n",
        "\n",
        "- TN : 예측값을 Negative 값 0으로 예측했고 실제 값은 역시 Negative 값 0\n",
        "- FP : 예측값을 Positive 값 1로 예측 했는데 실제 값은 Negative 값 0\n",
        "- FN : 예측값을 Negative 값 0으로 예측했는데, 실제 값은 Positive 값 1\n",
        "- TP : 예측값을 Positive 값 1로 예측했는데 실제 값 역시 Positive 값 1"
      ]
    },
    {
      "cell_type": "markdown",
      "metadata": {
        "id": "Xiuk4OEhywPg"
      },
      "source": [
        "[confusion_matrix()](https://scikit-learn.org/stable/modules/generated/sklearn.metrics.confusion_matrix.html)\n",
        "```\n",
        "confusion_matrix(y_true, y_pred, *, labels=None, sample_weight=None, normalize=None)\n",
        "```\n",
        "- y_true : 정답\n",
        "- y_pred : 예측 결과"
      ]
    },
    {
      "cell_type": "code",
      "metadata": {
        "id": "G8ld4MrGvLlL"
      },
      "source": [
        "from sklearn.datasets import load_digits\n",
        "\n",
        "# 손글씨 데이터\n",
        "digits = load_digits()\n",
        "digits.keys()\n",
        "digits.target_names\n",
        "\n",
        "# 불균형 데이터셋 생성\n",
        "y = digits.target == 9\n",
        "X = digits.data \n",
        "\n",
        "X_train, X_test , y_train, y_test = train_test_split(X,y,random_state=0)"
      ],
      "execution_count": null,
      "outputs": []
    },
    {
      "cell_type": "code",
      "metadata": {
        "id": "uQg40Exjrznw",
        "colab": {
          "base_uri": "https://localhost:8080/"
        },
        "outputId": "ce6dd7bd-8d92-4966-9d07-51d04d77bb9f"
      },
      "source": [
        "model_lr = LogisticRegression(C=0.1).fit(X_train,y_train)\n",
        "model_lr.score(X_test,y_test)"
      ],
      "execution_count": null,
      "outputs": [
        {
          "output_type": "execute_result",
          "data": {
            "text/plain": [
              "0.9844444444444445"
            ]
          },
          "metadata": {},
          "execution_count": 35
        }
      ]
    },
    {
      "cell_type": "code",
      "metadata": {
        "colab": {
          "base_uri": "https://localhost:8080/"
        },
        "id": "Y7lshmVPvruj",
        "outputId": "f4e5582c-adab-445a-b1ce-cc7dd553c23f"
      },
      "source": [
        "from sklearn.metrics import confusion_matrix\n",
        "\n",
        "pred_lr = model_lr.predict(X_test)\n",
        "confusion_matrix(y_test, pred_lr)"
      ],
      "execution_count": null,
      "outputs": [
        {
          "output_type": "execute_result",
          "data": {
            "text/plain": [
              "array([[402,   1],\n",
              "       [  6,  41]])"
            ]
          },
          "metadata": {},
          "execution_count": 37
        }
      ]
    },
    {
      "cell_type": "markdown",
      "metadata": {
        "id": "yQE1th1b1Oli"
      },
      "source": [
        "- TN FP\n",
        "- FN TP\n"
      ]
    },
    {
      "cell_type": "code",
      "metadata": {
        "colab": {
          "base_uri": "https://localhost:8080/"
        },
        "id": "ycFdlp13wrSy",
        "outputId": "f421defb-c871-4db1-df58-053bfff31414"
      },
      "source": [
        "from sklearn.tree import DecisionTreeClassifier\n",
        "\n",
        "model_dt = DecisionTreeClassifier(random_state=0).fit(X_train,y_train)\n",
        "model_dt.score(X_test,y_test)"
      ],
      "execution_count": null,
      "outputs": [
        {
          "output_type": "execute_result",
          "data": {
            "text/plain": [
              "0.9533333333333334"
            ]
          },
          "metadata": {},
          "execution_count": 38
        }
      ]
    },
    {
      "cell_type": "code",
      "metadata": {
        "colab": {
          "base_uri": "https://localhost:8080/"
        },
        "id": "47Tg9WGAw5QP",
        "outputId": "bd756e9e-5676-40ca-a92d-4096735b824f"
      },
      "source": [
        "pred_tree = model_dt.predict(X_test)\n",
        "confusion_matrix(y_test, pred_tree)"
      ],
      "execution_count": null,
      "outputs": [
        {
          "output_type": "execute_result",
          "data": {
            "text/plain": [
              "array([[394,   9],\n",
              "       [ 12,  35]])"
            ]
          },
          "metadata": {},
          "execution_count": 39
        }
      ]
    },
    {
      "cell_type": "markdown",
      "metadata": {
        "id": "Ev8bnJYx-enD"
      },
      "source": [
        "오차 행렬에서 정확도 재정의\n",
        "\n",
        "> \\begin{equation}\n",
        "\\text{Accuracy} = \\frac{\\text{예측결과가동일한데이터건수}}{\\text{전체예측데이터건수}}\n",
        "= \\frac{\\text{TP} + \\text{TN}}{\\text{TP} + \\text{TN} + \\text{FP} + \\text{FN}}\n",
        "\\end{equation}"
      ]
    },
    {
      "cell_type": "markdown",
      "metadata": {
        "id": "kj7okP2w2m3T"
      },
      "source": [
        "## 정밀도(Precision)와 재현율(Recall)\n",
        "\n",
        " > \\begin{equation}\n",
        "\\text{정밀도} = \\frac{\\text{TP}}{\\text{TP} + \\text{FP}}\n",
        "\\end{equation} <br>\n",
        " > \\begin{equation}\n",
        "\\text{재현율} = \\frac{\\text{TP}}{\\text{TP} + \\text{FN}}\n",
        "\\end{equation}\n",
        "\n",
        "정밀도\n",
        " - 예측을 Positive로 한 대상 중에 예측과 실제 값이 Positive로 일치한 데이터의 비율\n",
        " - 거짓양성(FP)의 수를 줄이는 것이 목표일 때 성능 지표로 사용\n",
        " - 양성 예측도(PPV) 라고도 함\n",
        "\n",
        "재현율\n",
        " - 실제 값이 Positive인 대상 중에 예측과 실제 값이 Positive로 일치한 데이터의 비율\n",
        " - 모든 양성 샘플을 식별해야 할 때 성능 지표로 사용\n",
        " - 거짓 음성(FN)을 피하는 것이 중요할 때\n",
        " - 민감도(sensitivity), 적중률(hit rate), 진짜 양성 비율(TPR) 이라고도 함"
      ]
    },
    {
      "cell_type": "markdown",
      "metadata": {
        "id": "E71Qd5lu5M7v"
      },
      "source": [
        "- 정밀도가 상대적으로 더 중요한 지표인 경우\n",
        " - 실제 Negative 음성인 데이터 예측을 Positive 양성으로 잘못 판단하게 되면 업무상 큰 영향이 발생하는 경우\n",
        " - 스팸 메일 판단 모델 : 실제 Negative인 일반 메일을 Positive인 스팸 메일로 분류하면 메일을 아예 받지 못하게 됨\n",
        "\n",
        "- 재현율이 상대적으로 더 중요한 지표인 경우\n",
        " - 실제 Positive 양성인 데이터 예측을 Negative로 잘못 판단하게 되면 업무상 큰 영향이 발생하는 경우\n",
        " - 암 판단 모델 : 실제 Positive인 암 환자를 Negative 음성으로 잘못 판단했을 경우 생명이 위험\n",
        " - 보험/금융 사기 적발 모델 : 실제 사기인 Positive 건을 Negative로 잘못 판단하면 회사에 손해가 큼"
      ]
    },
    {
      "cell_type": "markdown",
      "metadata": {
        "id": "Tq9rK6mk73yu"
      },
      "source": [
        "## F1 스코어\n",
        "\n",
        "> \\begin{equation}\n",
        "\\text{F} = 2 \\cdot \\frac{\\text{정밀도} \\cdot \\text{재현율}}{\\text{정밀도} + \\text{재현율}}\n",
        "\\end{equation}\n",
        "\n",
        "- 정밀도와 재현율을 결합한 지표\n",
        "- 어느 한 쪽으로 치우치지 않는 수치를 나타낼 때 높은 값을 갖음"
      ]
    },
    {
      "cell_type": "code",
      "metadata": {
        "id": "w8sySVn6_qs-",
        "colab": {
          "base_uri": "https://localhost:8080/"
        },
        "outputId": "83ae19f0-a5b1-469e-91bf-814dfe61a0c3"
      },
      "source": [
        "from sklearn.metrics import f1_score\n",
        "\n",
        "f1_score(y_test, pred_lr), f1_score(y_test,pred_tree)"
      ],
      "execution_count": null,
      "outputs": [
        {
          "output_type": "execute_result",
          "data": {
            "text/plain": [
              "(0.9213483146067415, 0.7692307692307692)"
            ]
          },
          "metadata": {},
          "execution_count": 40
        }
      ]
    },
    {
      "cell_type": "markdown",
      "metadata": {
        "id": "icXJcKFi9ZBh"
      },
      "source": [
        "## 분류 리포트\n",
        "\n",
        "[classification_report()](https://scikit-learn.org/stable/modules/generated/sklearn.metrics.classification_report.html)\n",
        "\n",
        "- 정밀도, 재현율, f1-스코어 모두를 한 번에 깔끔하게 출력"
      ]
    },
    {
      "cell_type": "code",
      "metadata": {
        "id": "fvQT1MjtAIry",
        "colab": {
          "base_uri": "https://localhost:8080/"
        },
        "outputId": "4f915e2d-5c4e-4110-b4f8-7a6f3e599be3"
      },
      "source": [
        "from sklearn.metrics import classification_report\n",
        "print(classification_report(y_test,pred_lr,target_names=['9가 아님','9']) )"
      ],
      "execution_count": null,
      "outputs": [
        {
          "output_type": "stream",
          "text": [
            "              precision    recall  f1-score   support\n",
            "\n",
            "       9가 아님       0.99      1.00      0.99       403\n",
            "           9       0.98      0.87      0.92        47\n",
            "\n",
            "    accuracy                           0.98       450\n",
            "   macro avg       0.98      0.93      0.96       450\n",
            "weighted avg       0.98      0.98      0.98       450\n",
            "\n"
          ],
          "name": "stdout"
        }
      ]
    },
    {
      "cell_type": "code",
      "metadata": {
        "colab": {
          "base_uri": "https://localhost:8080/"
        },
        "id": "umrjDHJU1gbL",
        "outputId": "737945e4-a944-43a7-eb6a-18488f040764"
      },
      "source": [
        "print(classification_report(y_test,pred_tree,target_names=['9가 아님','9']) )"
      ],
      "execution_count": null,
      "outputs": [
        {
          "output_type": "stream",
          "text": [
            "              precision    recall  f1-score   support\n",
            "\n",
            "       9가 아님       0.97      0.98      0.97       403\n",
            "           9       0.80      0.74      0.77        47\n",
            "\n",
            "    accuracy                           0.95       450\n",
            "   macro avg       0.88      0.86      0.87       450\n",
            "weighted avg       0.95      0.95      0.95       450\n",
            "\n"
          ],
          "name": "stdout"
        }
      ]
    },
    {
      "cell_type": "markdown",
      "metadata": {
        "id": "6ARordl6Q3Rv"
      },
      "source": [
        "## ROC, AUC\n",
        "\n",
        "\n",
        "ROC(Receiver Operating Characteristic) : 여러 임계값에서 분류기의 특성을 분석하는데 널리 사용되는 도구\n",
        "- ROC 곡선은 분류기의 모든 임계값을 고려하지만 정밀도와 재현율 대신에 거짓 양성 비율 (FPR)이 변할 때 진짜 양성 비율 (TPR)이 어떻게 변하는지를 나타내는 곡선\n",
        "\n",
        "> \\begin{equation}\n",
        "\\text{FPR} = \\frac{\\text{FP}}{\\text{FP} + \\text{TN}}\n",
        "\\end{equation}\n",
        "\n",
        "- 진짜 양성비율 : 재현율\n",
        "- 가짜 양성비율 : 전체 음성 샘플 중에서 거짓 양성으로 잘못 분류한 비율\n",
        "\n",
        "AUC(Area Under the Curve) : ROC 곡선 아래의 면적값\n",
        "\n"
      ]
    },
    {
      "cell_type": "markdown",
      "metadata": {
        "id": "u1X-FFgvIKF4"
      },
      "source": [
        "[roc_curve()](https://scikit-learn.org/stable/modules/generated/sklearn.metrics.roc_curve.html) : ROC 곡선을 그리는 메소드\n",
        "\n",
        "Parameters\n",
        "- y_true : 실재 클래스 값 array (array shape = [데이터 건수])\n",
        "- y_score : predict_proba()의 반환 값 array에서 Positive 컬럼의 예측 확뉼이 보통 사용됨. array, shape = [n_samples]\n",
        "\n",
        "Returns\n",
        "- fpr : FPR (거짓 양성 비율)\n",
        "- tpr : TPR (진짜 양성 비율, 재현율, 민감도)\n",
        "- thresholds : fpr 및 tpr을 계산하는 데 사용되는 결정 함수의 임계값\n"
      ]
    },
    {
      "cell_type": "markdown",
      "metadata": {
        "id": "04eGdyKVMt4p"
      },
      "source": [
        "- [roc_auc_score()](https://scikit-learn.org/stable/modules/generated/sklearn.metrics.roc_auc_score.html) : AUC 계산 메소드"
      ]
    },
    {
      "cell_type": "markdown",
      "metadata": {
        "id": "HI30qrGX85wj"
      },
      "source": [
        "decision_function\n",
        "\n",
        "분류모델 예측의 불확실성을 추정할 수 있는 기능으로 결정함수(decision_function)와 예측확률(predict_proba)이 있습니다. 보통 2가지를 제공하는데 모델에 따라 1가지만 제공하는 경우가 있습니다.\n",
        "\n",
        "결정함수(decision_function)의 값은 1차원으로 데이터 포인트가 양성 클래인 클래스 1에 속한다고 믿는 정도를 나타냅니다.\n",
        "양수 값은 양성 클래스를 의미하며 음수 값은 음성 클래스를 의미합니다."
      ]
    },
    {
      "cell_type": "code",
      "metadata": {
        "id": "QNYU-MDcGOOw",
        "colab": {
          "base_uri": "https://localhost:8080/",
          "height": 285
        },
        "outputId": "17c90826-2413-41ad-a4c8-81667899b3a3"
      },
      "source": [
        "# 데이터 포인트\n",
        "X,y = make_blobs(n_samples=(4000,500), random_state=0 , cluster_std=[7.0,2.0])\n",
        "mglearn.discrete_scatter(X[:,0], X[:,1], y)\n",
        "X_train,X_test,y_train,y_test = train_test_split(X,y,random_state=0)\n",
        "X_train.shape"
      ],
      "execution_count": null,
      "outputs": [
        {
          "output_type": "execute_result",
          "data": {
            "text/plain": [
              "(3375, 2)"
            ]
          },
          "metadata": {},
          "execution_count": 44
        },
        {
          "output_type": "display_data",
          "data": {
            "image/png": "[encoded data removed]",
            "text/plain": [
              "<Figure size 432x288 with 1 Axes>"
            ]
          },
          "metadata": {
            "needs_background": "light"
          }
        }
      ]
    },
    {
      "cell_type": "code",
      "metadata": {
        "id": "YC7citrsBLoJ"
      },
      "source": [
        "model_svc = SVC(gamma=0.5).fit(X_train,y_train)"
      ],
      "execution_count": null,
      "outputs": []
    },
    {
      "cell_type": "code",
      "metadata": {
        "id": "kEN6GSnnFzua",
        "colab": {
          "base_uri": "https://localhost:8080/",
          "height": 279
        },
        "outputId": "f6f343d1-5f9c-4907-9046-a804609a0134"
      },
      "source": [
        "# ROC 곡선 그리기\n",
        "from sklearn.metrics import roc_curve\n",
        "\n",
        "fpr, tpr, thresholds = roc_curve(y_test, model_svc.decision_function(X_test))\n",
        "plt.plot(fpr, tpr)\n",
        "plt.xlabel('FPR')\n",
        "plt.ylabel('TPR')\n",
        "plt.show()"
      ],
      "execution_count": null,
      "outputs": [
        {
          "output_type": "display_data",
          "data": {
            "image/png": "[encoded data removed]",
            "text/plain": [
              "<Figure size 432x288 with 1 Axes>"
            ]
          },
          "metadata": {
            "needs_background": "light"
          }
        }
      ]
    },
    {
      "cell_type": "markdown",
      "metadata": {
        "id": "1Q90hwSzGVAY"
      },
      "source": [
        "- ROC 곡선은 왼쪽 위에 가까울수록 이상적\n",
        "- 거짓 양성 비율(FPR)이 낮게 유지되면서 재현율이 높은 분류기가 좋은 것"
      ]
    },
    {
      "cell_type": "code",
      "metadata": {
        "id": "plLziCUkGsHg",
        "colab": {
          "base_uri": "https://localhost:8080/",
          "height": 279
        },
        "outputId": "acc9edf5-777f-410e-9476-7973ca879e74"
      },
      "source": [
        "# 랜덤 포레스트와 SVM의 ROC 곡선 비교\n",
        "from sklearn.ensemble import RandomForestClassifier\n",
        "\n",
        "model_rf = RandomForestClassifier(random_state=0).fit(X_train, y_train)\n",
        "\n",
        "fpr_rf, tpr_rf, th_rf = roc_curve(y_test, model_rf.predict_proba(X_test)[:, 1])\n",
        "plt.plot(fpr_rf, tpr_rf, label='RandomForest')\n",
        "plt.plot(fpr, tpr, label='SVC')\n",
        "plt.xlabel('FPR')\n",
        "plt.ylabel('TPR')\n",
        "plt.legend()\n",
        "plt.show()"
      ],
      "execution_count": null,
      "outputs": [
        {
          "output_type": "display_data",
          "data": {
            "image/png": "[encoded data removed]",
            "text/plain": [
              "<Figure size 432x288 with 1 Axes>"
            ]
          },
          "metadata": {
            "needs_background": "light"
          }
        }
      ]
    },
    {
      "cell_type": "code",
      "metadata": {
        "id": "f-Uf9VQnR6A6",
        "colab": {
          "base_uri": "https://localhost:8080/"
        },
        "outputId": "e50e1f3c-aadc-4ee6-c973-ff4b0625332c"
      },
      "source": [
        "# AUC\n",
        "from sklearn.metrics import roc_auc_score\n",
        "rf_auc = roc_auc_score(y_test, model_rf.predict_proba(X_test)[:, 1])\n",
        "svc_auc = roc_auc_score(y_test, model_svc.decision_function(X_test))\n",
        "rf_auc, svc_auc"
      ],
      "execution_count": null,
      "outputs": [
        {
          "output_type": "execute_result",
          "data": {
            "text/plain": [
              "(0.8956257845146735, 0.7527765861099195)"
            ]
          },
          "metadata": {},
          "execution_count": 50
        }
      ]
    },
    {
      "cell_type": "markdown",
      "metadata": {
        "id": "uPq7XiUtI8qw"
      },
      "source": [
        "## 모델평가 실습 01\n"
      ]
    },
    {
      "cell_type": "code",
      "metadata": {
        "id": "4MnlHPw0PJyc",
        "colab": {
          "base_uri": "https://localhost:8080/"
        },
        "outputId": "529a77d5-425f-48b4-cd06-d433cb708b25"
      },
      "source": [
        "from sklearn.datasets import load_breast_cancer\n",
        "\n",
        "cancer = load_breast_cancer()\n",
        "X = cancer.data\n",
        "y = cancer.target\n",
        "\n",
        "cancer.target_names "
      ],
      "execution_count": null,
      "outputs": [
        {
          "output_type": "execute_result",
          "data": {
            "text/plain": [
              "array(['malignant', 'benign'], dtype='<U9')"
            ]
          },
          "metadata": {},
          "execution_count": 51
        }
      ]
    },
    {
      "cell_type": "code",
      "metadata": {
        "id": "DUF90O47RHUR",
        "colab": {
          "base_uri": "https://localhost:8080/"
        },
        "outputId": "54b85f5f-187e-4fe8-e68f-36fb837e63ab"
      },
      "source": [
        "from sklearn.linear_model import LogisticRegression\n",
        "from sklearn.model_selection import train_test_split\n",
        "\n",
        "X_train,X_test,y_train,y_test = train_test_split(X,y,stratify=y,\n",
        "                                                 random_state=0)\n",
        "\n",
        "model_lr = LogisticRegression().fit(X_train,y_train)\n",
        "model_lr.score(X_train,y_train), model_lr.score(X_test,y_test)"
      ],
      "execution_count": null,
      "outputs": [
        {
          "output_type": "execute_result",
          "data": {
            "text/plain": [
              "(0.9577464788732394, 0.9300699300699301)"
            ]
          },
          "metadata": {},
          "execution_count": 53
        }
      ]
    },
    {
      "cell_type": "markdown",
      "metadata": {
        "id": "Gr5CiplMRSrq"
      },
      "source": [
        "### confusion matrix\n",
        "\n",
        "- 0,0 진짜 악성, 예측 악성\n",
        "- 0,1 진짜 악성, 예측 양성\n",
        "- 1,0 진짜 양성, 예측 악성\n",
        "- 1,1 진짜 양성, 예측 양성"
      ]
    },
    {
      "cell_type": "code",
      "metadata": {
        "id": "aCfF9ehTRVNZ",
        "colab": {
          "base_uri": "https://localhost:8080/"
        },
        "outputId": "c9560dc7-6d7c-4f14-f4e0-9d086a0e67d4"
      },
      "source": [
        "from sklearn import metrics\n",
        "pred_lr = model_lr.predict(X_test)\n",
        "print(metrics.classification_report(y_test,pred_lr))"
      ],
      "execution_count": null,
      "outputs": [
        {
          "output_type": "stream",
          "text": [
            "              precision    recall  f1-score   support\n",
            "\n",
            "           0       0.92      0.89      0.90        53\n",
            "           1       0.93      0.96      0.95        90\n",
            "\n",
            "    accuracy                           0.93       143\n",
            "   macro avg       0.93      0.92      0.92       143\n",
            "weighted avg       0.93      0.93      0.93       143\n",
            "\n"
          ],
          "name": "stdout"
        }
      ]
    },
    {
      "cell_type": "code",
      "metadata": {
        "colab": {
          "base_uri": "https://localhost:8080/"
        },
        "id": "y_CYqpU3IMml",
        "outputId": "71d68a9a-d151-4a4a-bd93-e56b4c2da322"
      },
      "source": [
        "metrics.confusion_matrix(y_test,pred_lr)"
      ],
      "execution_count": null,
      "outputs": [
        {
          "output_type": "execute_result",
          "data": {
            "text/plain": [
              "array([[47,  6],\n",
              "       [ 4, 86]])"
            ]
          },
          "metadata": {},
          "execution_count": 55
        }
      ]
    },
    {
      "cell_type": "markdown",
      "metadata": {
        "id": "1eBhOnUfRsMq"
      },
      "source": [
        "### ROC 곡선 그리기"
      ]
    },
    {
      "cell_type": "code",
      "metadata": {
        "id": "ThHpsHbHRuHf",
        "colab": {
          "base_uri": "https://localhost:8080/",
          "height": 282
        },
        "outputId": "caae8633-2c43-4a62-b156-d9054e583475"
      },
      "source": [
        "from sklearn.metrics import roc_curve\n",
        "import matplotlib.pyplot as plt\n",
        "\n",
        "# 결정함수\n",
        "fpr_lr,tpr_lr,th_kr = roc_curve(y_test,model_lr.decision_function(X_test))\n",
        "plt.plot(fpr_lr, tpr_lr)"
      ],
      "execution_count": null,
      "outputs": [
        {
          "output_type": "execute_result",
          "data": {
            "text/plain": [
              "[<matplotlib.lines.Line2D at 0x7f13c59fb190>]"
            ]
          },
          "metadata": {},
          "execution_count": 56
        },
        {
          "output_type": "display_data",
          "data": {
            "image/png": "[encoded data removed]",
            "text/plain": [
              "<Figure size 432x288 with 1 Axes>"
            ]
          },
          "metadata": {
            "needs_background": "light"
          }
        }
      ]
    },
    {
      "cell_type": "markdown",
      "metadata": {
        "id": "EWD8H1OFRz3L"
      },
      "source": [
        "### C값 조정"
      ]
    },
    {
      "cell_type": "code",
      "metadata": {
        "id": "9nnvdjH_Tqbh",
        "colab": {
          "base_uri": "https://localhost:8080/"
        },
        "outputId": "5c32681d-491c-43f5-cd21-92e96d2ea5c6"
      },
      "source": [
        "from  sklearn.model_selection import GridSearchCV\n",
        "# GridSearchCV\n",
        "# param_grid = {'C': [0.0001, 0.001, 0.01, 0.1, 1, 10, 100, 1000] }\n",
        "# 분류리포트 1의 경우 f1-score 는? \n",
        "param_grid = {'C': [0.0001, 0.001, 0.01, 0.1, 1, 10, 100, 1000] }\n",
        "grid_search = GridSearchCV(LogisticRegression(), param_grid=param_grid, \n",
        "                           cv=5, return_train_score=True)\n",
        "grid_search.fit(X_train, y_train)\n",
        "\n",
        "pred_gs = grid_search.predict(X_test)\n",
        "print( metrics.classification_report(y_test, pred_gs) )\n",
        "confusion_matrix(y_test, pred_gs)"
      ],
      "execution_count": null,
      "outputs": [
        {
          "output_type": "stream",
          "text": [
            "              precision    recall  f1-score   support\n",
            "\n",
            "           0       0.93      0.94      0.93        53\n",
            "           1       0.97      0.96      0.96        90\n",
            "\n",
            "    accuracy                           0.95       143\n",
            "   macro avg       0.95      0.95      0.95       143\n",
            "weighted avg       0.95      0.95      0.95       143\n",
            "\n"
          ],
          "name": "stdout"
        },
        {
          "output_type": "execute_result",
          "data": {
            "text/plain": [
              "array([[50,  3],\n",
              "       [ 4, 86]])"
            ]
          },
          "metadata": {},
          "execution_count": 59
        }
      ]
    },
    {
      "cell_type": "markdown",
      "metadata": {
        "id": "b5q0IERaR9q6"
      },
      "source": [
        "### ROC 곡선 비교"
      ]
    },
    {
      "cell_type": "code",
      "metadata": {
        "id": "iRLZwwpts4hl",
        "colab": {
          "base_uri": "https://localhost:8080/",
          "height": 282
        },
        "outputId": "61b4e6e3-ece3-4d06-8add-ce6f3e1141ed"
      },
      "source": [
        "fpr_gs,tpr_gs, tg_gs = roc_curve(y_test, grid_search.decision_function(X_test))\n",
        "\n",
        "plt.plot(fpr_gs,tpr_gs, label='grid search')\n",
        "plt.plot(fpr_lr, tpr_lr, label='lr')\n",
        "plt.legend()\n",
        "\n",
        "gs_auc = roc_auc_score(y_test, grid_search.decision_function(X_test))\n",
        "lr_auc = roc_auc_score(y_test, model_lr.decision_function(X_test))\n",
        "gs_auc, lr_auc"
      ],
      "execution_count": null,
      "outputs": [
        {
          "output_type": "execute_result",
          "data": {
            "text/plain": [
              "(0.9865828092243187, 0.9907756813417191)"
            ]
          },
          "metadata": {},
          "execution_count": 62
        },
        {
          "output_type": "display_data",
          "data": {
            "image/png": "[encoded data removed]",
            "text/plain": [
              "<Figure size 432x288 with 1 Axes>"
            ]
          },
          "metadata": {
            "needs_background": "light"
          }
        }
      ]
    },
    {
      "cell_type": "markdown",
      "metadata": {
        "id": "mWmyGYzISG7Q"
      },
      "source": [
        "### scoring을 이용한 ROC 교차검증\n",
        "\n",
        "- scoring은 성능검증에 사용할 함수이름"
      ]
    },
    {
      "cell_type": "code",
      "metadata": {
        "id": "qVrkhNEos88n",
        "colab": {
          "base_uri": "https://localhost:8080/"
        },
        "outputId": "42b75679-8e98-4c62-932d-3d01e15b9dd0"
      },
      "source": [
        "param_grid = {'C': [0.0001, 0.001, 0.01, 0.1, 1, 10, 100, 1000] }\n",
        "grid_search = GridSearchCV(LogisticRegression(), param_grid=param_grid, scoring='roc_auc',\n",
        "                           cv=5, return_train_score=True)\n",
        "grid_search.fit(X_train, y_train)\n",
        "\n",
        "pred_gs = grid_search.predict(X_test)\n",
        "print( metrics.classification_report(y_test, pred_gs) )\n",
        "confusion_matrix(y_test, pred_gs)"
      ],
      "execution_count": null,
      "outputs": [
        {
          "output_type": "stream",
          "text": [
            "              precision    recall  f1-score   support\n",
            "\n",
            "           0       0.93      0.94      0.93        53\n",
            "           1       0.97      0.96      0.96        90\n",
            "\n",
            "    accuracy                           0.95       143\n",
            "   macro avg       0.95      0.95      0.95       143\n",
            "weighted avg       0.95      0.95      0.95       143\n",
            "\n"
          ],
          "name": "stdout"
        },
        {
          "output_type": "execute_result",
          "data": {
            "text/plain": [
              "array([[50,  3],\n",
              "       [ 4, 86]])"
            ]
          },
          "metadata": {},
          "execution_count": 63
        }
      ]
    },
    {
      "cell_type": "code",
      "metadata": {
        "id": "k53STqUXSLAP",
        "colab": {
          "base_uri": "https://localhost:8080/"
        },
        "outputId": "24fbb5f6-f77c-4fa1-b4b1-a71c18c7e427"
      },
      "source": [
        "from sklearn.model_selection import cross_val_score\n",
        "\n",
        "C_list = [0.001,0.01,0.1,1,10,100,1000]\n",
        "\n",
        "for C in C_list:\n",
        "  m = LogisticRegression(C=C)\n",
        "  rs = cross_val_score(m, X_train, y_train, cv =5, scoring='roc_auc')\n",
        "  print(C, ':', rs.mean())"
      ],
      "execution_count": null,
      "outputs": [
        {
          "output_type": "stream",
          "text": [
            "0.001 : 0.9841040694528977\n",
            "0.01 : 0.9800585677734948\n",
            "0.1 : 0.9829086218750703\n",
            "1 : 0.983047045828543\n",
            "10 : 0.9857399376704764\n",
            "100 : 0.9823460500214154\n",
            "1000 : 0.9849335565023332\n"
          ],
          "name": "stdout"
        }
      ]
    },
    {
      "cell_type": "code",
      "metadata": {
        "colab": {
          "base_uri": "https://localhost:8080/"
        },
        "id": "BPRgbjsTOLrY",
        "outputId": "f15c7143-2cbe-4b72-afbc-1dbb8cd60fef"
      },
      "source": [
        "for C in C_list:\n",
        "  m = LogisticRegression(C=C)\n",
        "  rs = cross_val_score(m, X_train, y_train, cv =5)\n",
        "  print(C, ':', rs.mean())"
      ],
      "execution_count": null,
      "outputs": [
        {
          "output_type": "stream",
          "text": [
            "0.001 : 0.93890560875513\n",
            "0.01 : 0.9342270861833105\n",
            "0.1 : 0.9366073871409029\n",
            "1 : 0.9366073871409029\n",
            "10 : 0.9483173734610123\n",
            "100 : 0.9460191518467852\n",
            "1000 : 0.9460191518467852\n"
          ],
          "name": "stdout"
        }
      ]
    },
    {
      "cell_type": "markdown",
      "metadata": {
        "id": "a7U0MMg4SRgh"
      },
      "source": [
        "### ROC 곡선 비교"
      ]
    },
    {
      "cell_type": "code",
      "metadata": {
        "id": "VBXvFCS7ObqO"
      },
      "source": [
        ""
      ],
      "execution_count": null,
      "outputs": []
    },
    {
      "cell_type": "markdown",
      "metadata": {
        "id": "05ELJHZOs9YB"
      },
      "source": [
        "## 회귀의 평가 지표\n",
        "\n",
        " > MSE (평균제곱오차) : 실제 값과 예측값의 차이를 제곱해 평균한 것\n",
        "\n",
        " > MAE (평균절대값오차) : 실제 값과 예측값의 차이를 절댓값으로 변환해 평균한 것\n",
        "\n",
        " > $ \\\\ R^2 \\\\ $ : 실제 값의 분산 대비 예측값의 분산 비율을 지표로 하며, 1에 가까울수록 예측 정확도가 높음\n",
        "\n",
        " > RMSE ( $ \\\\ \\sqrt{ MSE } \\\\ $ ) : MSE에 루트를 씌워 MSE의 실제 오류 평균보다 더 커지는 특성을 줄임\n",
        "\n",
        " > MSLE (Mean Squared Log Error) : MSE에 로그를 적용\n",
        "\n",
        " > RMSLE (Root Mean Squared Log Error) : RMSE에 로그를 적용"
      ]
    },
    {
      "cell_type": "markdown",
      "metadata": {
        "id": "0zY4YFpVvaCK"
      },
      "source": [
        "## 모델평가 실습 02\n",
        "\n",
        "보스턴 주택 가격"
      ]
    },
    {
      "cell_type": "code",
      "metadata": {
        "id": "5dEO8WKvvmhn"
      },
      "source": [
        "from sklearn.datasets import load_boston\n",
        "\n",
        "boston = load_boston()"
      ],
      "execution_count": null,
      "outputs": []
    },
    {
      "cell_type": "code",
      "metadata": {
        "id": "KPCxD6zuv52J",
        "colab": {
          "base_uri": "https://localhost:8080/"
        },
        "outputId": "533ec2a4-f8dc-4896-a9b1-5fe09fda64a3"
      },
      "source": [
        "import numpy as np\n",
        "from sklearn.linear_model import Ridge\n",
        "from sklearn.linear_model import Lasso\n",
        "from sklearn.model_selection import train_test_split\n",
        "from sklearn.metrics import mean_squared_error, r2_score\n",
        "from sklearn.model_selection import cross_val_score\n",
        "from sklearn.model_selection import GridSearchCV\n",
        "\n",
        "X_train, X_test, y_train, y_test = train_test_split(boston.data, \n",
        "                                                    boston.target, \n",
        "                                                    random_state=0)\n",
        "\n",
        "param_grid= {'alpha': np.logspace(-4, 0, 200) }\n",
        "model_gr =  GridSearchCV(Ridge(), param_grid=param_grid, \n",
        "                      scoring='neg_mean_squared_error',cv= 5)\n",
        "\n",
        "model_gr.fit(X_train,y_train)\n",
        "model_gr.best_score_, model_gr.best_params_"
      ],
      "execution_count": null,
      "outputs": [
        {
          "output_type": "execute_result",
          "data": {
            "text/plain": [
              "(-22.337625164158208, {'alpha': 0.0001})"
            ]
          },
          "metadata": {},
          "execution_count": 69
        }
      ]
    },
    {
      "cell_type": "markdown",
      "metadata": {
        "id": "bHqOwZ2A1W88"
      },
      "source": [
        "- 교차검증에서 MSE를 스코어로 사용하고 싶으면  scoring='neg_mean_squared_error' 옵션을 이용\n",
        "\n",
        "- 사이킷런의 scoring 함수를 호출하면 모델에서 계산된 MSE 값에 -1을 곱해서 반환\n",
        "\n",
        "- 반환된 값에 다시 -1을 곱해야 양의 값이 원래 모델에서 계산된 MSE 값이 됨\n",
        "\n",
        "- 일반적으로 회귀는 MSE 값이 낮을수록 좋은 회귀 모델 (오차값이 낮을 수록)"
      ]
    },
    {
      "cell_type": "code",
      "metadata": {
        "id": "EpS1oal2tHEq",
        "colab": {
          "base_uri": "https://localhost:8080/"
        },
        "outputId": "88031993-55bb-4ef9-d6c4-ac7afc90673d"
      },
      "source": [
        "rmse = np.sqrt(-1 * model_gr.best_score_)\n",
        "rmse"
      ],
      "execution_count": null,
      "outputs": [
        {
          "output_type": "execute_result",
          "data": {
            "text/plain": [
              "4.726269688047669"
            ]
          },
          "metadata": {},
          "execution_count": 70
        }
      ]
    },
    {
      "cell_type": "markdown",
      "metadata": {
        "id": "P4Tf6Z0B4Y4r"
      },
      "source": [
        "# 정리\n",
        "\n",
        "1. 교차 검증을 해야 한다.\n",
        "> 데이터를 분리해서 사용. 간단하게 한 번만 분리하는 대신 교차 검증으로 분할을 반복\n",
        " - 모델 학습에는 훈련 데이터\n",
        " - 모델과 매개변수 선택에는 검증 데이터\n",
        " - 모델 평가에는 테스트 데이터\n",
        " \n",
        " > 훈련 세트와 테스트 세트로 분할하고 모델과 모델 매개변수 선택을 위해 훈련 세트에 교차 검증을 적용\n",
        "\n",
        "\n",
        "2. 모델 선택과 평가에 사용하는 평가 지표와 방법이 중요하다.\n",
        "> 모델을 평가하고 선택하기 위한 지표가 이 모델이 실제로 사용되는 상황을 잘 대변해야 함\n",
        " - 실전에서는 분류 문제에 균형 잡힌 클래스를 가진 경우가 거의 없음\n",
        " - 거짓 양성(FP)과 거짓 음성(FN)이 매우 큰 영향을 미침"
      ]
    }
  ]
}